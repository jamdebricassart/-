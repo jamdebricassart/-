{
 "cells": [
  {
   "cell_type": "markdown",
   "metadata": {
    "toc": true
   },
   "source": [
    "<h1>Содержание<span class=\"tocSkip\"></span></h1>\n"
   ]
  },
  {
   "cell_type": "markdown",
   "metadata": {},
   "source": [
    "1.\tПодготовка данных\n",
    "2.\tИсследование задачи\n",
    "3.\tБорьба с дисбалансом\n",
    "4.\tТестирование модели"
   ]
  },
  {
   "cell_type": "markdown",
   "metadata": {},
   "source": [
    "# Отток клиентов"
   ]
  },
  {
   "cell_type": "markdown",
   "metadata": {},
   "source": [
    "Из «Бета-Банка» стали уходить клиенты. Каждый месяц. Немного, но заметно. Банковские маркетологи посчитали: сохранять текущих клиентов дешевле, чем привлекать новых.\n",
    "\n",
    "Нужно спрогнозировать, уйдёт клиент из банка в ближайшее время или нет. Вам предоставлены исторические данные о поведении клиентов и расторжении договоров с банком. \n",
    "\n",
    "Постройте модель с предельно большим значением *F1*-меры. Чтобы сдать проект успешно, нужно довести метрику до 0.59. Проверьте *F1*-меру на тестовой выборке самостоятельно.\n",
    "\n",
    "Дополнительно измеряйте *AUC-ROC*, сравнивайте её значение с *F1*-мерой.\n",
    "\n",
    "Источник данных: [https://www.kaggle.com/barelydedicated/bank-customer-churn-modeling](https://www.kaggle.com/barelydedicated/bank-customer-churn-modeling)"
   ]
  },
  {
   "cell_type": "markdown",
   "metadata": {},
   "source": [
    "## Подготовка данных"
   ]
  },
  {
   "cell_type": "markdown",
   "metadata": {},
   "source": [
    "Импортируем библиотеки, метрики и инструменты, необходимые нам для работы, и изучим данные."
   ]
  },
  {
   "cell_type": "code",
   "execution_count": 309,
   "metadata": {},
   "outputs": [],
   "source": [
    "import pandas as pd\n",
    "import numpy as np\n",
    "from sklearn.metrics import f1_score\n",
    "from sklearn.metrics import auc\n",
    "from sklearn.metrics import roc_curve\n",
    "from sklearn.metrics import accuracy_score\n",
    "from sklearn.metrics import roc_auc_score\n",
    "import matplotlib.pyplot as plt\n",
    "from sklearn.linear_model import LogisticRegression\n",
    "from sklearn.ensemble import RandomForestClassifier\n",
    "from sklearn.tree import DecisionTreeClassifier\n",
    "from sklearn.model_selection import train_test_split\n",
    "from sklearn.utils import shuffle\n",
    "from sklearn.preprocessing import StandardScaler\n",
    "from sklearn.model_selection import GridSearchCV\n",
    "\n",
    "RANDOM = 42\n",
    "from warnings import simplefilter\n",
    "simplefilter(action='ignore', category=FutureWarning)"
   ]
  },
  {
   "cell_type": "code",
   "execution_count": 310,
   "metadata": {},
   "outputs": [],
   "source": [
    "df = pd.read_csv('Churn.csv')"
   ]
  },
  {
   "cell_type": "code",
   "execution_count": 311,
   "metadata": {
    "scrolled": true
   },
   "outputs": [
    {
     "data": {
      "text/html": [
       "<div>\n",
       "<style scoped>\n",
       "    .dataframe tbody tr th:only-of-type {\n",
       "        vertical-align: middle;\n",
       "    }\n",
       "\n",
       "    .dataframe tbody tr th {\n",
       "        vertical-align: top;\n",
       "    }\n",
       "\n",
       "    .dataframe thead th {\n",
       "        text-align: right;\n",
       "    }\n",
       "</style>\n",
       "<table border=\"1\" class=\"dataframe\">\n",
       "  <thead>\n",
       "    <tr style=\"text-align: right;\">\n",
       "      <th></th>\n",
       "      <th>RowNumber</th>\n",
       "      <th>CustomerId</th>\n",
       "      <th>Surname</th>\n",
       "      <th>CreditScore</th>\n",
       "      <th>Geography</th>\n",
       "      <th>Gender</th>\n",
       "      <th>Age</th>\n",
       "      <th>Tenure</th>\n",
       "      <th>Balance</th>\n",
       "      <th>NumOfProducts</th>\n",
       "      <th>HasCrCard</th>\n",
       "      <th>IsActiveMember</th>\n",
       "      <th>EstimatedSalary</th>\n",
       "      <th>Exited</th>\n",
       "    </tr>\n",
       "  </thead>\n",
       "  <tbody>\n",
       "    <tr>\n",
       "      <th>0</th>\n",
       "      <td>1</td>\n",
       "      <td>15634602</td>\n",
       "      <td>Hargrave</td>\n",
       "      <td>619</td>\n",
       "      <td>France</td>\n",
       "      <td>Female</td>\n",
       "      <td>42</td>\n",
       "      <td>2.0</td>\n",
       "      <td>0.00</td>\n",
       "      <td>1</td>\n",
       "      <td>1</td>\n",
       "      <td>1</td>\n",
       "      <td>101348.88</td>\n",
       "      <td>1</td>\n",
       "    </tr>\n",
       "    <tr>\n",
       "      <th>1</th>\n",
       "      <td>2</td>\n",
       "      <td>15647311</td>\n",
       "      <td>Hill</td>\n",
       "      <td>608</td>\n",
       "      <td>Spain</td>\n",
       "      <td>Female</td>\n",
       "      <td>41</td>\n",
       "      <td>1.0</td>\n",
       "      <td>83807.86</td>\n",
       "      <td>1</td>\n",
       "      <td>0</td>\n",
       "      <td>1</td>\n",
       "      <td>112542.58</td>\n",
       "      <td>0</td>\n",
       "    </tr>\n",
       "    <tr>\n",
       "      <th>2</th>\n",
       "      <td>3</td>\n",
       "      <td>15619304</td>\n",
       "      <td>Onio</td>\n",
       "      <td>502</td>\n",
       "      <td>France</td>\n",
       "      <td>Female</td>\n",
       "      <td>42</td>\n",
       "      <td>8.0</td>\n",
       "      <td>159660.80</td>\n",
       "      <td>3</td>\n",
       "      <td>1</td>\n",
       "      <td>0</td>\n",
       "      <td>113931.57</td>\n",
       "      <td>1</td>\n",
       "    </tr>\n",
       "    <tr>\n",
       "      <th>3</th>\n",
       "      <td>4</td>\n",
       "      <td>15701354</td>\n",
       "      <td>Boni</td>\n",
       "      <td>699</td>\n",
       "      <td>France</td>\n",
       "      <td>Female</td>\n",
       "      <td>39</td>\n",
       "      <td>1.0</td>\n",
       "      <td>0.00</td>\n",
       "      <td>2</td>\n",
       "      <td>0</td>\n",
       "      <td>0</td>\n",
       "      <td>93826.63</td>\n",
       "      <td>0</td>\n",
       "    </tr>\n",
       "    <tr>\n",
       "      <th>4</th>\n",
       "      <td>5</td>\n",
       "      <td>15737888</td>\n",
       "      <td>Mitchell</td>\n",
       "      <td>850</td>\n",
       "      <td>Spain</td>\n",
       "      <td>Female</td>\n",
       "      <td>43</td>\n",
       "      <td>2.0</td>\n",
       "      <td>125510.82</td>\n",
       "      <td>1</td>\n",
       "      <td>1</td>\n",
       "      <td>1</td>\n",
       "      <td>79084.10</td>\n",
       "      <td>0</td>\n",
       "    </tr>\n",
       "    <tr>\n",
       "      <th>5</th>\n",
       "      <td>6</td>\n",
       "      <td>15574012</td>\n",
       "      <td>Chu</td>\n",
       "      <td>645</td>\n",
       "      <td>Spain</td>\n",
       "      <td>Male</td>\n",
       "      <td>44</td>\n",
       "      <td>8.0</td>\n",
       "      <td>113755.78</td>\n",
       "      <td>2</td>\n",
       "      <td>1</td>\n",
       "      <td>0</td>\n",
       "      <td>149756.71</td>\n",
       "      <td>1</td>\n",
       "    </tr>\n",
       "    <tr>\n",
       "      <th>6</th>\n",
       "      <td>7</td>\n",
       "      <td>15592531</td>\n",
       "      <td>Bartlett</td>\n",
       "      <td>822</td>\n",
       "      <td>France</td>\n",
       "      <td>Male</td>\n",
       "      <td>50</td>\n",
       "      <td>7.0</td>\n",
       "      <td>0.00</td>\n",
       "      <td>2</td>\n",
       "      <td>1</td>\n",
       "      <td>1</td>\n",
       "      <td>10062.80</td>\n",
       "      <td>0</td>\n",
       "    </tr>\n",
       "    <tr>\n",
       "      <th>7</th>\n",
       "      <td>8</td>\n",
       "      <td>15656148</td>\n",
       "      <td>Obinna</td>\n",
       "      <td>376</td>\n",
       "      <td>Germany</td>\n",
       "      <td>Female</td>\n",
       "      <td>29</td>\n",
       "      <td>4.0</td>\n",
       "      <td>115046.74</td>\n",
       "      <td>4</td>\n",
       "      <td>1</td>\n",
       "      <td>0</td>\n",
       "      <td>119346.88</td>\n",
       "      <td>1</td>\n",
       "    </tr>\n",
       "    <tr>\n",
       "      <th>8</th>\n",
       "      <td>9</td>\n",
       "      <td>15792365</td>\n",
       "      <td>He</td>\n",
       "      <td>501</td>\n",
       "      <td>France</td>\n",
       "      <td>Male</td>\n",
       "      <td>44</td>\n",
       "      <td>4.0</td>\n",
       "      <td>142051.07</td>\n",
       "      <td>2</td>\n",
       "      <td>0</td>\n",
       "      <td>1</td>\n",
       "      <td>74940.50</td>\n",
       "      <td>0</td>\n",
       "    </tr>\n",
       "    <tr>\n",
       "      <th>9</th>\n",
       "      <td>10</td>\n",
       "      <td>15592389</td>\n",
       "      <td>H?</td>\n",
       "      <td>684</td>\n",
       "      <td>France</td>\n",
       "      <td>Male</td>\n",
       "      <td>27</td>\n",
       "      <td>2.0</td>\n",
       "      <td>134603.88</td>\n",
       "      <td>1</td>\n",
       "      <td>1</td>\n",
       "      <td>1</td>\n",
       "      <td>71725.73</td>\n",
       "      <td>0</td>\n",
       "    </tr>\n",
       "  </tbody>\n",
       "</table>\n",
       "</div>"
      ],
      "text/plain": [
       "   RowNumber  CustomerId   Surname  CreditScore Geography  Gender  Age  \\\n",
       "0          1    15634602  Hargrave          619    France  Female   42   \n",
       "1          2    15647311      Hill          608     Spain  Female   41   \n",
       "2          3    15619304      Onio          502    France  Female   42   \n",
       "3          4    15701354      Boni          699    France  Female   39   \n",
       "4          5    15737888  Mitchell          850     Spain  Female   43   \n",
       "5          6    15574012       Chu          645     Spain    Male   44   \n",
       "6          7    15592531  Bartlett          822    France    Male   50   \n",
       "7          8    15656148    Obinna          376   Germany  Female   29   \n",
       "8          9    15792365        He          501    France    Male   44   \n",
       "9         10    15592389        H?          684    France    Male   27   \n",
       "\n",
       "   Tenure    Balance  NumOfProducts  HasCrCard  IsActiveMember  \\\n",
       "0     2.0       0.00              1          1               1   \n",
       "1     1.0   83807.86              1          0               1   \n",
       "2     8.0  159660.80              3          1               0   \n",
       "3     1.0       0.00              2          0               0   \n",
       "4     2.0  125510.82              1          1               1   \n",
       "5     8.0  113755.78              2          1               0   \n",
       "6     7.0       0.00              2          1               1   \n",
       "7     4.0  115046.74              4          1               0   \n",
       "8     4.0  142051.07              2          0               1   \n",
       "9     2.0  134603.88              1          1               1   \n",
       "\n",
       "   EstimatedSalary  Exited  \n",
       "0        101348.88       1  \n",
       "1        112542.58       0  \n",
       "2        113931.57       1  \n",
       "3         93826.63       0  \n",
       "4         79084.10       0  \n",
       "5        149756.71       1  \n",
       "6         10062.80       0  \n",
       "7        119346.88       1  \n",
       "8         74940.50       0  \n",
       "9         71725.73       0  "
      ]
     },
     "execution_count": 311,
     "metadata": {},
     "output_type": "execute_result"
    }
   ],
   "source": [
    "df.head(10)"
   ]
  },
  {
   "cell_type": "code",
   "execution_count": 312,
   "metadata": {
    "scrolled": false
   },
   "outputs": [
    {
     "data": {
      "text/html": [
       "<div>\n",
       "<style scoped>\n",
       "    .dataframe tbody tr th:only-of-type {\n",
       "        vertical-align: middle;\n",
       "    }\n",
       "\n",
       "    .dataframe tbody tr th {\n",
       "        vertical-align: top;\n",
       "    }\n",
       "\n",
       "    .dataframe thead th {\n",
       "        text-align: right;\n",
       "    }\n",
       "</style>\n",
       "<table border=\"1\" class=\"dataframe\">\n",
       "  <thead>\n",
       "    <tr style=\"text-align: right;\">\n",
       "      <th></th>\n",
       "      <th>RowNumber</th>\n",
       "      <th>CustomerId</th>\n",
       "      <th>CreditScore</th>\n",
       "      <th>Age</th>\n",
       "      <th>Tenure</th>\n",
       "      <th>Balance</th>\n",
       "      <th>NumOfProducts</th>\n",
       "      <th>HasCrCard</th>\n",
       "      <th>IsActiveMember</th>\n",
       "      <th>EstimatedSalary</th>\n",
       "      <th>Exited</th>\n",
       "    </tr>\n",
       "  </thead>\n",
       "  <tbody>\n",
       "    <tr>\n",
       "      <th>count</th>\n",
       "      <td>10000.00000</td>\n",
       "      <td>1.000000e+04</td>\n",
       "      <td>10000.000000</td>\n",
       "      <td>10000.000000</td>\n",
       "      <td>9091.000000</td>\n",
       "      <td>10000.000000</td>\n",
       "      <td>10000.000000</td>\n",
       "      <td>10000.00000</td>\n",
       "      <td>10000.000000</td>\n",
       "      <td>10000.000000</td>\n",
       "      <td>10000.000000</td>\n",
       "    </tr>\n",
       "    <tr>\n",
       "      <th>mean</th>\n",
       "      <td>5000.50000</td>\n",
       "      <td>1.569094e+07</td>\n",
       "      <td>650.528800</td>\n",
       "      <td>38.921800</td>\n",
       "      <td>4.997690</td>\n",
       "      <td>76485.889288</td>\n",
       "      <td>1.530200</td>\n",
       "      <td>0.70550</td>\n",
       "      <td>0.515100</td>\n",
       "      <td>100090.239881</td>\n",
       "      <td>0.203700</td>\n",
       "    </tr>\n",
       "    <tr>\n",
       "      <th>std</th>\n",
       "      <td>2886.89568</td>\n",
       "      <td>7.193619e+04</td>\n",
       "      <td>96.653299</td>\n",
       "      <td>10.487806</td>\n",
       "      <td>2.894723</td>\n",
       "      <td>62397.405202</td>\n",
       "      <td>0.581654</td>\n",
       "      <td>0.45584</td>\n",
       "      <td>0.499797</td>\n",
       "      <td>57510.492818</td>\n",
       "      <td>0.402769</td>\n",
       "    </tr>\n",
       "    <tr>\n",
       "      <th>min</th>\n",
       "      <td>1.00000</td>\n",
       "      <td>1.556570e+07</td>\n",
       "      <td>350.000000</td>\n",
       "      <td>18.000000</td>\n",
       "      <td>0.000000</td>\n",
       "      <td>0.000000</td>\n",
       "      <td>1.000000</td>\n",
       "      <td>0.00000</td>\n",
       "      <td>0.000000</td>\n",
       "      <td>11.580000</td>\n",
       "      <td>0.000000</td>\n",
       "    </tr>\n",
       "    <tr>\n",
       "      <th>25%</th>\n",
       "      <td>2500.75000</td>\n",
       "      <td>1.562853e+07</td>\n",
       "      <td>584.000000</td>\n",
       "      <td>32.000000</td>\n",
       "      <td>2.000000</td>\n",
       "      <td>0.000000</td>\n",
       "      <td>1.000000</td>\n",
       "      <td>0.00000</td>\n",
       "      <td>0.000000</td>\n",
       "      <td>51002.110000</td>\n",
       "      <td>0.000000</td>\n",
       "    </tr>\n",
       "    <tr>\n",
       "      <th>50%</th>\n",
       "      <td>5000.50000</td>\n",
       "      <td>1.569074e+07</td>\n",
       "      <td>652.000000</td>\n",
       "      <td>37.000000</td>\n",
       "      <td>5.000000</td>\n",
       "      <td>97198.540000</td>\n",
       "      <td>1.000000</td>\n",
       "      <td>1.00000</td>\n",
       "      <td>1.000000</td>\n",
       "      <td>100193.915000</td>\n",
       "      <td>0.000000</td>\n",
       "    </tr>\n",
       "    <tr>\n",
       "      <th>75%</th>\n",
       "      <td>7500.25000</td>\n",
       "      <td>1.575323e+07</td>\n",
       "      <td>718.000000</td>\n",
       "      <td>44.000000</td>\n",
       "      <td>7.000000</td>\n",
       "      <td>127644.240000</td>\n",
       "      <td>2.000000</td>\n",
       "      <td>1.00000</td>\n",
       "      <td>1.000000</td>\n",
       "      <td>149388.247500</td>\n",
       "      <td>0.000000</td>\n",
       "    </tr>\n",
       "    <tr>\n",
       "      <th>max</th>\n",
       "      <td>10000.00000</td>\n",
       "      <td>1.581569e+07</td>\n",
       "      <td>850.000000</td>\n",
       "      <td>92.000000</td>\n",
       "      <td>10.000000</td>\n",
       "      <td>250898.090000</td>\n",
       "      <td>4.000000</td>\n",
       "      <td>1.00000</td>\n",
       "      <td>1.000000</td>\n",
       "      <td>199992.480000</td>\n",
       "      <td>1.000000</td>\n",
       "    </tr>\n",
       "  </tbody>\n",
       "</table>\n",
       "</div>"
      ],
      "text/plain": [
       "         RowNumber    CustomerId   CreditScore           Age       Tenure  \\\n",
       "count  10000.00000  1.000000e+04  10000.000000  10000.000000  9091.000000   \n",
       "mean    5000.50000  1.569094e+07    650.528800     38.921800     4.997690   \n",
       "std     2886.89568  7.193619e+04     96.653299     10.487806     2.894723   \n",
       "min        1.00000  1.556570e+07    350.000000     18.000000     0.000000   \n",
       "25%     2500.75000  1.562853e+07    584.000000     32.000000     2.000000   \n",
       "50%     5000.50000  1.569074e+07    652.000000     37.000000     5.000000   \n",
       "75%     7500.25000  1.575323e+07    718.000000     44.000000     7.000000   \n",
       "max    10000.00000  1.581569e+07    850.000000     92.000000    10.000000   \n",
       "\n",
       "             Balance  NumOfProducts    HasCrCard  IsActiveMember  \\\n",
       "count   10000.000000   10000.000000  10000.00000    10000.000000   \n",
       "mean    76485.889288       1.530200      0.70550        0.515100   \n",
       "std     62397.405202       0.581654      0.45584        0.499797   \n",
       "min         0.000000       1.000000      0.00000        0.000000   \n",
       "25%         0.000000       1.000000      0.00000        0.000000   \n",
       "50%     97198.540000       1.000000      1.00000        1.000000   \n",
       "75%    127644.240000       2.000000      1.00000        1.000000   \n",
       "max    250898.090000       4.000000      1.00000        1.000000   \n",
       "\n",
       "       EstimatedSalary        Exited  \n",
       "count     10000.000000  10000.000000  \n",
       "mean     100090.239881      0.203700  \n",
       "std       57510.492818      0.402769  \n",
       "min          11.580000      0.000000  \n",
       "25%       51002.110000      0.000000  \n",
       "50%      100193.915000      0.000000  \n",
       "75%      149388.247500      0.000000  \n",
       "max      199992.480000      1.000000  "
      ]
     },
     "execution_count": 312,
     "metadata": {},
     "output_type": "execute_result"
    }
   ],
   "source": [
    "df.describe()"
   ]
  },
  {
   "cell_type": "code",
   "execution_count": 313,
   "metadata": {
    "scrolled": false
   },
   "outputs": [
    {
     "name": "stdout",
     "output_type": "stream",
     "text": [
      "<class 'pandas.core.frame.DataFrame'>\n",
      "RangeIndex: 10000 entries, 0 to 9999\n",
      "Data columns (total 14 columns):\n",
      " #   Column           Non-Null Count  Dtype  \n",
      "---  ------           --------------  -----  \n",
      " 0   RowNumber        10000 non-null  int64  \n",
      " 1   CustomerId       10000 non-null  int64  \n",
      " 2   Surname          10000 non-null  object \n",
      " 3   CreditScore      10000 non-null  int64  \n",
      " 4   Geography        10000 non-null  object \n",
      " 5   Gender           10000 non-null  object \n",
      " 6   Age              10000 non-null  int64  \n",
      " 7   Tenure           9091 non-null   float64\n",
      " 8   Balance          10000 non-null  float64\n",
      " 9   NumOfProducts    10000 non-null  int64  \n",
      " 10  HasCrCard        10000 non-null  int64  \n",
      " 11  IsActiveMember   10000 non-null  int64  \n",
      " 12  EstimatedSalary  10000 non-null  float64\n",
      " 13  Exited           10000 non-null  int64  \n",
      "dtypes: float64(3), int64(8), object(3)\n",
      "memory usage: 1.1+ MB\n"
     ]
    }
   ],
   "source": [
    "df.info()"
   ]
  },
  {
   "cell_type": "markdown",
   "metadata": {},
   "source": [
    "Каждый объект в наборе данных — это информация о поведении одного пользователя за месяц.\n",
    "\n",
    "Описание данных:\n",
    "RowNumber — индекс строки в данных,\n",
    "CustomerId — уникальный идентификатор клиента,\n",
    "Surname — фамилия,\n",
    "CreditScore — кредитный рейтинг,\n",
    "Geography — страна проживания,\n",
    "Gender — пол,\n",
    "Age — возраст,\n",
    "Tenure — сколько лет человек является клиентом банка,\n",
    "Balance — баланс на счёте,\n",
    "NumOfProducts — количество продуктов банка, используемых клиентом,\n",
    "HasCrCard — наличие кредитной карты,\n",
    "IsActiveMember — активность клиента,\n",
    "EstimatedSalary — предполагаемая зарплата,\n",
    "\n",
    "Целевой признак Exited — факт ухода клиента"
   ]
  },
  {
   "cell_type": "code",
   "execution_count": 314,
   "metadata": {
    "scrolled": true
   },
   "outputs": [
    {
     "name": "stdout",
     "output_type": "stream",
     "text": [
      "Количесвто дубликатов: 0\n",
      "Количесвто пропусков: RowNumber            0\n",
      "CustomerId           0\n",
      "Surname              0\n",
      "CreditScore          0\n",
      "Geography            0\n",
      "Gender               0\n",
      "Age                  0\n",
      "Tenure             909\n",
      "Balance              0\n",
      "NumOfProducts        0\n",
      "HasCrCard            0\n",
      "IsActiveMember       0\n",
      "EstimatedSalary      0\n",
      "Exited               0\n",
      "dtype: int64\n"
     ]
    }
   ],
   "source": [
    "print(\"Количесвто дубликатов:\", df.duplicated().sum())\n",
    "print(\"Количесвто пропусков:\", df.isna().sum())"
   ]
  },
  {
   "cell_type": "markdown",
   "metadata": {},
   "source": [
    "Мы видим пропуски в столбце Tenure, где хранятся данные о том, скольо лет человек является клиентом банка. Заполним пропуски рандомными значениями от 1 до 10, именно столько составляет самый долгий срок использования банка клиентом."
   ]
  },
  {
   "cell_type": "code",
   "execution_count": 315,
   "metadata": {
    "scrolled": true
   },
   "outputs": [
    {
     "name": "stdout",
     "output_type": "stream",
     "text": [
      "Максимальное значение Tenure: 10.0\n"
     ]
    }
   ],
   "source": [
    "#проверим, так ли это\n",
    "print('Максимальное значение Tenure:', df['Tenure'].max())"
   ]
  },
  {
   "cell_type": "code",
   "execution_count": 316,
   "metadata": {},
   "outputs": [],
   "source": [
    "#заменим пропуски рандомными числами от 1 до 10\n",
    "data = (np.random.randint(0,10,size=df['Tenure'].isna().sum()))\n",
    "df.loc[df['Tenure'].isna(),'Tenure']=data"
   ]
  },
  {
   "cell_type": "code",
   "execution_count": 317,
   "metadata": {
    "scrolled": true
   },
   "outputs": [
    {
     "name": "stdout",
     "output_type": "stream",
     "text": [
      "Количесвто пропусков: RowNumber          0\n",
      "CustomerId         0\n",
      "Surname            0\n",
      "CreditScore        0\n",
      "Geography          0\n",
      "Gender             0\n",
      "Age                0\n",
      "Tenure             0\n",
      "Balance            0\n",
      "NumOfProducts      0\n",
      "HasCrCard          0\n",
      "IsActiveMember     0\n",
      "EstimatedSalary    0\n",
      "Exited             0\n",
      "dtype: int64\n"
     ]
    }
   ],
   "source": [
    "print(\"Количесвто пропусков:\", df.isna().sum())"
   ]
  },
  {
   "cell_type": "code",
   "execution_count": 318,
   "metadata": {},
   "outputs": [
    {
     "data": {
      "text/html": [
       "<div>\n",
       "<style scoped>\n",
       "    .dataframe tbody tr th:only-of-type {\n",
       "        vertical-align: middle;\n",
       "    }\n",
       "\n",
       "    .dataframe tbody tr th {\n",
       "        vertical-align: top;\n",
       "    }\n",
       "\n",
       "    .dataframe thead th {\n",
       "        text-align: right;\n",
       "    }\n",
       "</style>\n",
       "<table border=\"1\" class=\"dataframe\">\n",
       "  <thead>\n",
       "    <tr style=\"text-align: right;\">\n",
       "      <th></th>\n",
       "      <th>CreditScore</th>\n",
       "      <th>Geography</th>\n",
       "      <th>Gender</th>\n",
       "      <th>Age</th>\n",
       "      <th>Tenure</th>\n",
       "      <th>Balance</th>\n",
       "      <th>NumOfProducts</th>\n",
       "      <th>HasCrCard</th>\n",
       "      <th>IsActiveMember</th>\n",
       "      <th>EstimatedSalary</th>\n",
       "      <th>Exited</th>\n",
       "    </tr>\n",
       "  </thead>\n",
       "  <tbody>\n",
       "    <tr>\n",
       "      <th>0</th>\n",
       "      <td>619</td>\n",
       "      <td>France</td>\n",
       "      <td>Female</td>\n",
       "      <td>42</td>\n",
       "      <td>2.0</td>\n",
       "      <td>0.00</td>\n",
       "      <td>1</td>\n",
       "      <td>1</td>\n",
       "      <td>1</td>\n",
       "      <td>101348.88</td>\n",
       "      <td>1</td>\n",
       "    </tr>\n",
       "    <tr>\n",
       "      <th>1</th>\n",
       "      <td>608</td>\n",
       "      <td>Spain</td>\n",
       "      <td>Female</td>\n",
       "      <td>41</td>\n",
       "      <td>1.0</td>\n",
       "      <td>83807.86</td>\n",
       "      <td>1</td>\n",
       "      <td>0</td>\n",
       "      <td>1</td>\n",
       "      <td>112542.58</td>\n",
       "      <td>0</td>\n",
       "    </tr>\n",
       "    <tr>\n",
       "      <th>2</th>\n",
       "      <td>502</td>\n",
       "      <td>France</td>\n",
       "      <td>Female</td>\n",
       "      <td>42</td>\n",
       "      <td>8.0</td>\n",
       "      <td>159660.80</td>\n",
       "      <td>3</td>\n",
       "      <td>1</td>\n",
       "      <td>0</td>\n",
       "      <td>113931.57</td>\n",
       "      <td>1</td>\n",
       "    </tr>\n",
       "    <tr>\n",
       "      <th>3</th>\n",
       "      <td>699</td>\n",
       "      <td>France</td>\n",
       "      <td>Female</td>\n",
       "      <td>39</td>\n",
       "      <td>1.0</td>\n",
       "      <td>0.00</td>\n",
       "      <td>2</td>\n",
       "      <td>0</td>\n",
       "      <td>0</td>\n",
       "      <td>93826.63</td>\n",
       "      <td>0</td>\n",
       "    </tr>\n",
       "    <tr>\n",
       "      <th>4</th>\n",
       "      <td>850</td>\n",
       "      <td>Spain</td>\n",
       "      <td>Female</td>\n",
       "      <td>43</td>\n",
       "      <td>2.0</td>\n",
       "      <td>125510.82</td>\n",
       "      <td>1</td>\n",
       "      <td>1</td>\n",
       "      <td>1</td>\n",
       "      <td>79084.10</td>\n",
       "      <td>0</td>\n",
       "    </tr>\n",
       "  </tbody>\n",
       "</table>\n",
       "</div>"
      ],
      "text/plain": [
       "   CreditScore Geography  Gender  Age  Tenure    Balance  NumOfProducts  \\\n",
       "0          619    France  Female   42     2.0       0.00              1   \n",
       "1          608     Spain  Female   41     1.0   83807.86              1   \n",
       "2          502    France  Female   42     8.0  159660.80              3   \n",
       "3          699    France  Female   39     1.0       0.00              2   \n",
       "4          850     Spain  Female   43     2.0  125510.82              1   \n",
       "\n",
       "   HasCrCard  IsActiveMember  EstimatedSalary  Exited  \n",
       "0          1               1        101348.88       1  \n",
       "1          0               1        112542.58       0  \n",
       "2          1               0        113931.57       1  \n",
       "3          0               0         93826.63       0  \n",
       "4          1               1         79084.10       0  "
      ]
     },
     "execution_count": 318,
     "metadata": {},
     "output_type": "execute_result"
    }
   ],
   "source": [
    "#удалим столбцы-идентификаторы, не представляющие ценностия для алгоритма \n",
    "for_drop = ['RowNumber','CustomerId', 'Surname']\n",
    "df = df.drop(for_drop, axis=1)\n",
    "df.head()"
   ]
  },
  {
   "cell_type": "code",
   "execution_count": 319,
   "metadata": {
    "scrolled": true
   },
   "outputs": [
    {
     "data": {
      "text/html": [
       "<div>\n",
       "<style scoped>\n",
       "    .dataframe tbody tr th:only-of-type {\n",
       "        vertical-align: middle;\n",
       "    }\n",
       "\n",
       "    .dataframe tbody tr th {\n",
       "        vertical-align: top;\n",
       "    }\n",
       "\n",
       "    .dataframe thead th {\n",
       "        text-align: right;\n",
       "    }\n",
       "</style>\n",
       "<table border=\"1\" class=\"dataframe\">\n",
       "  <thead>\n",
       "    <tr style=\"text-align: right;\">\n",
       "      <th></th>\n",
       "      <th>CreditScore</th>\n",
       "      <th>Age</th>\n",
       "      <th>Tenure</th>\n",
       "      <th>Balance</th>\n",
       "      <th>NumOfProducts</th>\n",
       "      <th>HasCrCard</th>\n",
       "      <th>IsActiveMember</th>\n",
       "      <th>EstimatedSalary</th>\n",
       "      <th>Exited</th>\n",
       "      <th>Geography_Germany</th>\n",
       "      <th>Geography_Spain</th>\n",
       "      <th>Gender_Male</th>\n",
       "    </tr>\n",
       "  </thead>\n",
       "  <tbody>\n",
       "    <tr>\n",
       "      <th>0</th>\n",
       "      <td>619</td>\n",
       "      <td>42</td>\n",
       "      <td>2.0</td>\n",
       "      <td>0.00</td>\n",
       "      <td>1</td>\n",
       "      <td>1</td>\n",
       "      <td>1</td>\n",
       "      <td>101348.88</td>\n",
       "      <td>1</td>\n",
       "      <td>0</td>\n",
       "      <td>0</td>\n",
       "      <td>0</td>\n",
       "    </tr>\n",
       "    <tr>\n",
       "      <th>1</th>\n",
       "      <td>608</td>\n",
       "      <td>41</td>\n",
       "      <td>1.0</td>\n",
       "      <td>83807.86</td>\n",
       "      <td>1</td>\n",
       "      <td>0</td>\n",
       "      <td>1</td>\n",
       "      <td>112542.58</td>\n",
       "      <td>0</td>\n",
       "      <td>0</td>\n",
       "      <td>1</td>\n",
       "      <td>0</td>\n",
       "    </tr>\n",
       "    <tr>\n",
       "      <th>2</th>\n",
       "      <td>502</td>\n",
       "      <td>42</td>\n",
       "      <td>8.0</td>\n",
       "      <td>159660.80</td>\n",
       "      <td>3</td>\n",
       "      <td>1</td>\n",
       "      <td>0</td>\n",
       "      <td>113931.57</td>\n",
       "      <td>1</td>\n",
       "      <td>0</td>\n",
       "      <td>0</td>\n",
       "      <td>0</td>\n",
       "    </tr>\n",
       "    <tr>\n",
       "      <th>3</th>\n",
       "      <td>699</td>\n",
       "      <td>39</td>\n",
       "      <td>1.0</td>\n",
       "      <td>0.00</td>\n",
       "      <td>2</td>\n",
       "      <td>0</td>\n",
       "      <td>0</td>\n",
       "      <td>93826.63</td>\n",
       "      <td>0</td>\n",
       "      <td>0</td>\n",
       "      <td>0</td>\n",
       "      <td>0</td>\n",
       "    </tr>\n",
       "    <tr>\n",
       "      <th>4</th>\n",
       "      <td>850</td>\n",
       "      <td>43</td>\n",
       "      <td>2.0</td>\n",
       "      <td>125510.82</td>\n",
       "      <td>1</td>\n",
       "      <td>1</td>\n",
       "      <td>1</td>\n",
       "      <td>79084.10</td>\n",
       "      <td>0</td>\n",
       "      <td>0</td>\n",
       "      <td>1</td>\n",
       "      <td>0</td>\n",
       "    </tr>\n",
       "  </tbody>\n",
       "</table>\n",
       "</div>"
      ],
      "text/plain": [
       "   CreditScore  Age  Tenure    Balance  NumOfProducts  HasCrCard  \\\n",
       "0          619   42     2.0       0.00              1          1   \n",
       "1          608   41     1.0   83807.86              1          0   \n",
       "2          502   42     8.0  159660.80              3          1   \n",
       "3          699   39     1.0       0.00              2          0   \n",
       "4          850   43     2.0  125510.82              1          1   \n",
       "\n",
       "   IsActiveMember  EstimatedSalary  Exited  Geography_Germany  \\\n",
       "0               1        101348.88       1                  0   \n",
       "1               1        112542.58       0                  0   \n",
       "2               0        113931.57       1                  0   \n",
       "3               0         93826.63       0                  0   \n",
       "4               1         79084.10       0                  0   \n",
       "\n",
       "   Geography_Spain  Gender_Male  \n",
       "0                0            0  \n",
       "1                1            0  \n",
       "2                0            0  \n",
       "3                0            0  \n",
       "4                1            0  "
      ]
     },
     "execution_count": 319,
     "metadata": {},
     "output_type": "execute_result"
    }
   ],
   "source": [
    "#применим one hot encoding к датафрейму, избежав ловушку фиктивных признаков\n",
    "df_ohe=pd.get_dummies(df, drop_first=True)\n",
    "df_ohe.head()"
   ]
  },
  {
   "cell_type": "code",
   "execution_count": 320,
   "metadata": {},
   "outputs": [],
   "source": [
    "gender_ohe = pd.get_dummies(df['Gender'], drop_first=True)\n",
    "country_ohe = pd.get_dummies(df['Geography'], drop_first=True)\n",
    "df.drop(['Gender', 'Geography'], axis=1, inplace=True)\n",
    "df = pd.concat([df, gender_ohe, country_ohe], axis=1)"
   ]
  },
  {
   "cell_type": "markdown",
   "metadata": {},
   "source": [
    "После того, как мы изучили и подготовили данные, восстановив пропущенные значения и применили OHE к датасету, приступаем к исследованию задачи."
   ]
  },
  {
   "cell_type": "markdown",
   "metadata": {},
   "source": [
    "## Исследование задачи"
   ]
  },
  {
   "cell_type": "markdown",
   "metadata": {},
   "source": [
    "Разобьем данные на три выборки: обучающую, тестовую, валидационную с помощью train_test_split()."
   ]
  },
  {
   "cell_type": "code",
   "execution_count": 321,
   "metadata": {},
   "outputs": [],
   "source": [
    "# получим обучающую выборку и выборку df_1\n",
    "df_train, df_1 = train_test_split(df, test_size=0.4, random_state=12345)"
   ]
  },
  {
   "cell_type": "code",
   "execution_count": 322,
   "metadata": {},
   "outputs": [],
   "source": [
    "#теперь разделим выборку df_1 на валидационную и тестовую\n",
    "df_valid, df_test = train_test_split(df_1, test_size=0.5, random_state=12345)"
   ]
  },
  {
   "cell_type": "markdown",
   "metadata": {},
   "source": [
    "Выделим целевой признак, который нам необходимо предсказать, и признаки, которые нам в этом помогут."
   ]
  },
  {
   "cell_type": "code",
   "execution_count": 323,
   "metadata": {},
   "outputs": [],
   "source": [
    "#разделим обучающий датафрейм на features и target\n",
    "features_train = df_train.drop(['Exited'], axis=1)\n",
    "target_train = df_train['Exited']"
   ]
  },
  {
   "cell_type": "code",
   "execution_count": 324,
   "metadata": {},
   "outputs": [],
   "source": [
    "#разделим тестовый датафрейм на features и target\n",
    "features_test = df_test.drop(['Exited'], axis=1)  \n",
    "target_test = df_test['Exited']"
   ]
  },
  {
   "cell_type": "code",
   "execution_count": 325,
   "metadata": {},
   "outputs": [],
   "source": [
    "#разделим валидационный датафрейм на features и target\n",
    "features_valid = df_valid.drop(['Exited'], axis=1)  \n",
    "target_valid = df_valid['Exited']"
   ]
  },
  {
   "cell_type": "markdown",
   "metadata": {},
   "source": [
    "После того, как мы разделили датасет на обучающую, тестовую и валидационную выборки, приступим к их масштабированию методом scaler."
   ]
  },
  {
   "cell_type": "code",
   "execution_count": 326,
   "metadata": {},
   "outputs": [],
   "source": [
    "#Для масштабирования методом scaler зафиксируем численные признаки\n",
    "numeric = ['CreditScore', 'Age', 'Tenure', 'Balance', 'NumOfProducts', 'EstimatedSalary']"
   ]
  },
  {
   "cell_type": "code",
   "execution_count": 327,
   "metadata": {
    "scrolled": true
   },
   "outputs": [
    {
     "data": {
      "text/html": [
       "<style>#sk-container-id-9 {color: black;background-color: white;}#sk-container-id-9 pre{padding: 0;}#sk-container-id-9 div.sk-toggleable {background-color: white;}#sk-container-id-9 label.sk-toggleable__label {cursor: pointer;display: block;width: 100%;margin-bottom: 0;padding: 0.3em;box-sizing: border-box;text-align: center;}#sk-container-id-9 label.sk-toggleable__label-arrow:before {content: \"▸\";float: left;margin-right: 0.25em;color: #696969;}#sk-container-id-9 label.sk-toggleable__label-arrow:hover:before {color: black;}#sk-container-id-9 div.sk-estimator:hover label.sk-toggleable__label-arrow:before {color: black;}#sk-container-id-9 div.sk-toggleable__content {max-height: 0;max-width: 0;overflow: hidden;text-align: left;background-color: #f0f8ff;}#sk-container-id-9 div.sk-toggleable__content pre {margin: 0.2em;color: black;border-radius: 0.25em;background-color: #f0f8ff;}#sk-container-id-9 input.sk-toggleable__control:checked~div.sk-toggleable__content {max-height: 200px;max-width: 100%;overflow: auto;}#sk-container-id-9 input.sk-toggleable__control:checked~label.sk-toggleable__label-arrow:before {content: \"▾\";}#sk-container-id-9 div.sk-estimator input.sk-toggleable__control:checked~label.sk-toggleable__label {background-color: #d4ebff;}#sk-container-id-9 div.sk-label input.sk-toggleable__control:checked~label.sk-toggleable__label {background-color: #d4ebff;}#sk-container-id-9 input.sk-hidden--visually {border: 0;clip: rect(1px 1px 1px 1px);clip: rect(1px, 1px, 1px, 1px);height: 1px;margin: -1px;overflow: hidden;padding: 0;position: absolute;width: 1px;}#sk-container-id-9 div.sk-estimator {font-family: monospace;background-color: #f0f8ff;border: 1px dotted black;border-radius: 0.25em;box-sizing: border-box;margin-bottom: 0.5em;}#sk-container-id-9 div.sk-estimator:hover {background-color: #d4ebff;}#sk-container-id-9 div.sk-parallel-item::after {content: \"\";width: 100%;border-bottom: 1px solid gray;flex-grow: 1;}#sk-container-id-9 div.sk-label:hover label.sk-toggleable__label {background-color: #d4ebff;}#sk-container-id-9 div.sk-serial::before {content: \"\";position: absolute;border-left: 1px solid gray;box-sizing: border-box;top: 0;bottom: 0;left: 50%;z-index: 0;}#sk-container-id-9 div.sk-serial {display: flex;flex-direction: column;align-items: center;background-color: white;padding-right: 0.2em;padding-left: 0.2em;position: relative;}#sk-container-id-9 div.sk-item {position: relative;z-index: 1;}#sk-container-id-9 div.sk-parallel {display: flex;align-items: stretch;justify-content: center;background-color: white;position: relative;}#sk-container-id-9 div.sk-item::before, #sk-container-id-9 div.sk-parallel-item::before {content: \"\";position: absolute;border-left: 1px solid gray;box-sizing: border-box;top: 0;bottom: 0;left: 50%;z-index: -1;}#sk-container-id-9 div.sk-parallel-item {display: flex;flex-direction: column;z-index: 1;position: relative;background-color: white;}#sk-container-id-9 div.sk-parallel-item:first-child::after {align-self: flex-end;width: 50%;}#sk-container-id-9 div.sk-parallel-item:last-child::after {align-self: flex-start;width: 50%;}#sk-container-id-9 div.sk-parallel-item:only-child::after {width: 0;}#sk-container-id-9 div.sk-dashed-wrapped {border: 1px dashed gray;margin: 0 0.4em 0.5em 0.4em;box-sizing: border-box;padding-bottom: 0.4em;background-color: white;}#sk-container-id-9 div.sk-label label {font-family: monospace;font-weight: bold;display: inline-block;line-height: 1.2em;}#sk-container-id-9 div.sk-label-container {text-align: center;}#sk-container-id-9 div.sk-container {/* jupyter's `normalize.less` sets `[hidden] { display: none; }` but bootstrap.min.css set `[hidden] { display: none !important; }` so we also need the `!important` here to be able to override the default hidden behavior on the sphinx rendered scikit-learn.org. See: https://github.com/scikit-learn/scikit-learn/issues/21755 */display: inline-block !important;position: relative;}#sk-container-id-9 div.sk-text-repr-fallback {display: none;}</style><div id=\"sk-container-id-9\" class=\"sk-top-container\"><div class=\"sk-text-repr-fallback\"><pre>StandardScaler()</pre><b>In a Jupyter environment, please rerun this cell to show the HTML representation or trust the notebook. <br />On GitHub, the HTML representation is unable to render, please try loading this page with nbviewer.org.</b></div><div class=\"sk-container\" hidden><div class=\"sk-item\"><div class=\"sk-estimator sk-toggleable\"><input class=\"sk-toggleable__control sk-hidden--visually\" id=\"sk-estimator-id-9\" type=\"checkbox\" checked><label for=\"sk-estimator-id-9\" class=\"sk-toggleable__label sk-toggleable__label-arrow\">StandardScaler</label><div class=\"sk-toggleable__content\"><pre>StandardScaler()</pre></div></div></div></div></div>"
      ],
      "text/plain": [
       "StandardScaler()"
      ]
     },
     "execution_count": 327,
     "metadata": {},
     "output_type": "execute_result"
    }
   ],
   "source": [
    "scaler = StandardScaler()\n",
    "scaler.fit(features_train[numeric])"
   ]
  },
  {
   "cell_type": "code",
   "execution_count": 328,
   "metadata": {},
   "outputs": [
    {
     "data": {
      "text/html": [
       "<div>\n",
       "<style scoped>\n",
       "    .dataframe tbody tr th:only-of-type {\n",
       "        vertical-align: middle;\n",
       "    }\n",
       "\n",
       "    .dataframe tbody tr th {\n",
       "        vertical-align: top;\n",
       "    }\n",
       "\n",
       "    .dataframe thead th {\n",
       "        text-align: right;\n",
       "    }\n",
       "</style>\n",
       "<table border=\"1\" class=\"dataframe\">\n",
       "  <thead>\n",
       "    <tr style=\"text-align: right;\">\n",
       "      <th></th>\n",
       "      <th>CreditScore</th>\n",
       "      <th>Age</th>\n",
       "      <th>Tenure</th>\n",
       "      <th>Balance</th>\n",
       "      <th>NumOfProducts</th>\n",
       "      <th>HasCrCard</th>\n",
       "      <th>IsActiveMember</th>\n",
       "      <th>EstimatedSalary</th>\n",
       "      <th>Male</th>\n",
       "      <th>Germany</th>\n",
       "      <th>Spain</th>\n",
       "    </tr>\n",
       "  </thead>\n",
       "  <tbody>\n",
       "    <tr>\n",
       "      <th>7479</th>\n",
       "      <td>567</td>\n",
       "      <td>35</td>\n",
       "      <td>8.0</td>\n",
       "      <td>153137.74</td>\n",
       "      <td>1</td>\n",
       "      <td>1</td>\n",
       "      <td>0</td>\n",
       "      <td>88659.07</td>\n",
       "      <td>1</td>\n",
       "      <td>0</td>\n",
       "      <td>1</td>\n",
       "    </tr>\n",
       "    <tr>\n",
       "      <th>3411</th>\n",
       "      <td>711</td>\n",
       "      <td>37</td>\n",
       "      <td>8.0</td>\n",
       "      <td>113899.92</td>\n",
       "      <td>1</td>\n",
       "      <td>0</td>\n",
       "      <td>0</td>\n",
       "      <td>80215.20</td>\n",
       "      <td>0</td>\n",
       "      <td>0</td>\n",
       "      <td>0</td>\n",
       "    </tr>\n",
       "    <tr>\n",
       "      <th>6027</th>\n",
       "      <td>850</td>\n",
       "      <td>44</td>\n",
       "      <td>3.0</td>\n",
       "      <td>140393.65</td>\n",
       "      <td>2</td>\n",
       "      <td>0</td>\n",
       "      <td>1</td>\n",
       "      <td>186285.52</td>\n",
       "      <td>1</td>\n",
       "      <td>1</td>\n",
       "      <td>0</td>\n",
       "    </tr>\n",
       "    <tr>\n",
       "      <th>1247</th>\n",
       "      <td>512</td>\n",
       "      <td>24</td>\n",
       "      <td>6.0</td>\n",
       "      <td>0.00</td>\n",
       "      <td>2</td>\n",
       "      <td>1</td>\n",
       "      <td>0</td>\n",
       "      <td>37654.31</td>\n",
       "      <td>1</td>\n",
       "      <td>0</td>\n",
       "      <td>0</td>\n",
       "    </tr>\n",
       "    <tr>\n",
       "      <th>3716</th>\n",
       "      <td>665</td>\n",
       "      <td>27</td>\n",
       "      <td>2.0</td>\n",
       "      <td>147435.96</td>\n",
       "      <td>1</td>\n",
       "      <td>0</td>\n",
       "      <td>0</td>\n",
       "      <td>187508.06</td>\n",
       "      <td>0</td>\n",
       "      <td>1</td>\n",
       "      <td>0</td>\n",
       "    </tr>\n",
       "  </tbody>\n",
       "</table>\n",
       "</div>"
      ],
      "text/plain": [
       "      CreditScore  Age  Tenure    Balance  NumOfProducts  HasCrCard  \\\n",
       "7479          567   35     8.0  153137.74              1          1   \n",
       "3411          711   37     8.0  113899.92              1          0   \n",
       "6027          850   44     3.0  140393.65              2          0   \n",
       "1247          512   24     6.0       0.00              2          1   \n",
       "3716          665   27     2.0  147435.96              1          0   \n",
       "\n",
       "      IsActiveMember  EstimatedSalary  Male  Germany  Spain  \n",
       "7479               0         88659.07     1        0      1  \n",
       "3411               0         80215.20     0        0      0  \n",
       "6027               1        186285.52     1        1      0  \n",
       "1247               0         37654.31     1        0      0  \n",
       "3716               0        187508.06     0        1      0  "
      ]
     },
     "execution_count": 328,
     "metadata": {},
     "output_type": "execute_result"
    }
   ],
   "source": [
    "features_train.head()"
   ]
  },
  {
   "cell_type": "code",
   "execution_count": 329,
   "metadata": {
    "scrolled": true
   },
   "outputs": [
    {
     "data": {
      "text/html": [
       "<div>\n",
       "<style scoped>\n",
       "    .dataframe tbody tr th:only-of-type {\n",
       "        vertical-align: middle;\n",
       "    }\n",
       "\n",
       "    .dataframe tbody tr th {\n",
       "        vertical-align: top;\n",
       "    }\n",
       "\n",
       "    .dataframe thead th {\n",
       "        text-align: right;\n",
       "    }\n",
       "</style>\n",
       "<table border=\"1\" class=\"dataframe\">\n",
       "  <thead>\n",
       "    <tr style=\"text-align: right;\">\n",
       "      <th></th>\n",
       "      <th>CreditScore</th>\n",
       "      <th>Age</th>\n",
       "      <th>Tenure</th>\n",
       "      <th>Balance</th>\n",
       "      <th>NumOfProducts</th>\n",
       "      <th>HasCrCard</th>\n",
       "      <th>IsActiveMember</th>\n",
       "      <th>EstimatedSalary</th>\n",
       "      <th>Male</th>\n",
       "      <th>Germany</th>\n",
       "      <th>Spain</th>\n",
       "    </tr>\n",
       "  </thead>\n",
       "  <tbody>\n",
       "    <tr>\n",
       "      <th>7479</th>\n",
       "      <td>-0.886751</td>\n",
       "      <td>-0.373192</td>\n",
       "      <td>1.048854</td>\n",
       "      <td>1.232271</td>\n",
       "      <td>-0.891560</td>\n",
       "      <td>1</td>\n",
       "      <td>0</td>\n",
       "      <td>-0.187705</td>\n",
       "      <td>1</td>\n",
       "      <td>0</td>\n",
       "      <td>1</td>\n",
       "    </tr>\n",
       "    <tr>\n",
       "      <th>3411</th>\n",
       "      <td>0.608663</td>\n",
       "      <td>-0.183385</td>\n",
       "      <td>1.048854</td>\n",
       "      <td>0.600563</td>\n",
       "      <td>-0.891560</td>\n",
       "      <td>0</td>\n",
       "      <td>0</td>\n",
       "      <td>-0.333945</td>\n",
       "      <td>0</td>\n",
       "      <td>0</td>\n",
       "      <td>0</td>\n",
       "    </tr>\n",
       "    <tr>\n",
       "      <th>6027</th>\n",
       "      <td>2.052152</td>\n",
       "      <td>0.480939</td>\n",
       "      <td>-0.688714</td>\n",
       "      <td>1.027098</td>\n",
       "      <td>0.830152</td>\n",
       "      <td>0</td>\n",
       "      <td>1</td>\n",
       "      <td>1.503095</td>\n",
       "      <td>1</td>\n",
       "      <td>1</td>\n",
       "      <td>0</td>\n",
       "    </tr>\n",
       "    <tr>\n",
       "      <th>1247</th>\n",
       "      <td>-1.457915</td>\n",
       "      <td>-1.417129</td>\n",
       "      <td>0.353827</td>\n",
       "      <td>-1.233163</td>\n",
       "      <td>0.830152</td>\n",
       "      <td>1</td>\n",
       "      <td>0</td>\n",
       "      <td>-1.071061</td>\n",
       "      <td>1</td>\n",
       "      <td>0</td>\n",
       "      <td>0</td>\n",
       "    </tr>\n",
       "    <tr>\n",
       "      <th>3716</th>\n",
       "      <td>0.130961</td>\n",
       "      <td>-1.132419</td>\n",
       "      <td>-1.036227</td>\n",
       "      <td>1.140475</td>\n",
       "      <td>-0.891560</td>\n",
       "      <td>0</td>\n",
       "      <td>0</td>\n",
       "      <td>1.524268</td>\n",
       "      <td>0</td>\n",
       "      <td>1</td>\n",
       "      <td>0</td>\n",
       "    </tr>\n",
       "  </tbody>\n",
       "</table>\n",
       "</div>"
      ],
      "text/plain": [
       "      CreditScore       Age    Tenure   Balance  NumOfProducts  HasCrCard  \\\n",
       "7479    -0.886751 -0.373192  1.048854  1.232271      -0.891560          1   \n",
       "3411     0.608663 -0.183385  1.048854  0.600563      -0.891560          0   \n",
       "6027     2.052152  0.480939 -0.688714  1.027098       0.830152          0   \n",
       "1247    -1.457915 -1.417129  0.353827 -1.233163       0.830152          1   \n",
       "3716     0.130961 -1.132419 -1.036227  1.140475      -0.891560          0   \n",
       "\n",
       "      IsActiveMember  EstimatedSalary  Male  Germany  Spain  \n",
       "7479               0        -0.187705     1        0      1  \n",
       "3411               0        -0.333945     0        0      0  \n",
       "6027               1         1.503095     1        1      0  \n",
       "1247               0        -1.071061     1        0      0  \n",
       "3716               0         1.524268     0        1      0  "
      ]
     },
     "execution_count": 329,
     "metadata": {},
     "output_type": "execute_result"
    }
   ],
   "source": [
    "#масштабируем обучающую выборку\n",
    "features_train[numeric] = scaler.transform(features_train[numeric])\n",
    "features_train.head()"
   ]
  },
  {
   "cell_type": "code",
   "execution_count": 330,
   "metadata": {},
   "outputs": [
    {
     "data": {
      "text/html": [
       "<div>\n",
       "<style scoped>\n",
       "    .dataframe tbody tr th:only-of-type {\n",
       "        vertical-align: middle;\n",
       "    }\n",
       "\n",
       "    .dataframe tbody tr th {\n",
       "        vertical-align: top;\n",
       "    }\n",
       "\n",
       "    .dataframe thead th {\n",
       "        text-align: right;\n",
       "    }\n",
       "</style>\n",
       "<table border=\"1\" class=\"dataframe\">\n",
       "  <thead>\n",
       "    <tr style=\"text-align: right;\">\n",
       "      <th></th>\n",
       "      <th>CreditScore</th>\n",
       "      <th>Age</th>\n",
       "      <th>Tenure</th>\n",
       "      <th>Balance</th>\n",
       "      <th>NumOfProducts</th>\n",
       "      <th>HasCrCard</th>\n",
       "      <th>IsActiveMember</th>\n",
       "      <th>EstimatedSalary</th>\n",
       "      <th>Male</th>\n",
       "      <th>Germany</th>\n",
       "      <th>Spain</th>\n",
       "    </tr>\n",
       "  </thead>\n",
       "  <tbody>\n",
       "    <tr>\n",
       "      <th>7041</th>\n",
       "      <td>438</td>\n",
       "      <td>38</td>\n",
       "      <td>2.0</td>\n",
       "      <td>0.00</td>\n",
       "      <td>2</td>\n",
       "      <td>1</td>\n",
       "      <td>0</td>\n",
       "      <td>136859.55</td>\n",
       "      <td>1</td>\n",
       "      <td>0</td>\n",
       "      <td>0</td>\n",
       "    </tr>\n",
       "    <tr>\n",
       "      <th>5709</th>\n",
       "      <td>644</td>\n",
       "      <td>39</td>\n",
       "      <td>9.0</td>\n",
       "      <td>0.00</td>\n",
       "      <td>1</td>\n",
       "      <td>1</td>\n",
       "      <td>0</td>\n",
       "      <td>3740.93</td>\n",
       "      <td>0</td>\n",
       "      <td>0</td>\n",
       "      <td>0</td>\n",
       "    </tr>\n",
       "    <tr>\n",
       "      <th>7117</th>\n",
       "      <td>564</td>\n",
       "      <td>31</td>\n",
       "      <td>5.0</td>\n",
       "      <td>121461.87</td>\n",
       "      <td>1</td>\n",
       "      <td>1</td>\n",
       "      <td>1</td>\n",
       "      <td>20432.09</td>\n",
       "      <td>1</td>\n",
       "      <td>0</td>\n",
       "      <td>1</td>\n",
       "    </tr>\n",
       "    <tr>\n",
       "      <th>7775</th>\n",
       "      <td>628</td>\n",
       "      <td>40</td>\n",
       "      <td>10.0</td>\n",
       "      <td>0.00</td>\n",
       "      <td>2</td>\n",
       "      <td>1</td>\n",
       "      <td>0</td>\n",
       "      <td>103832.58</td>\n",
       "      <td>1</td>\n",
       "      <td>0</td>\n",
       "      <td>1</td>\n",
       "    </tr>\n",
       "    <tr>\n",
       "      <th>8735</th>\n",
       "      <td>728</td>\n",
       "      <td>30</td>\n",
       "      <td>10.0</td>\n",
       "      <td>114835.43</td>\n",
       "      <td>1</td>\n",
       "      <td>0</td>\n",
       "      <td>1</td>\n",
       "      <td>37662.49</td>\n",
       "      <td>1</td>\n",
       "      <td>0</td>\n",
       "      <td>0</td>\n",
       "    </tr>\n",
       "  </tbody>\n",
       "</table>\n",
       "</div>"
      ],
      "text/plain": [
       "      CreditScore  Age  Tenure    Balance  NumOfProducts  HasCrCard  \\\n",
       "7041          438   38     2.0       0.00              2          1   \n",
       "5709          644   39     9.0       0.00              1          1   \n",
       "7117          564   31     5.0  121461.87              1          1   \n",
       "7775          628   40    10.0       0.00              2          1   \n",
       "8735          728   30    10.0  114835.43              1          0   \n",
       "\n",
       "      IsActiveMember  EstimatedSalary  Male  Germany  Spain  \n",
       "7041               0        136859.55     1        0      0  \n",
       "5709               0          3740.93     0        0      0  \n",
       "7117               1         20432.09     1        0      1  \n",
       "7775               0        103832.58     1        0      1  \n",
       "8735               1         37662.49     1        0      0  "
      ]
     },
     "execution_count": 330,
     "metadata": {},
     "output_type": "execute_result"
    }
   ],
   "source": [
    "features_test.head()"
   ]
  },
  {
   "cell_type": "code",
   "execution_count": 331,
   "metadata": {
    "scrolled": true
   },
   "outputs": [
    {
     "data": {
      "text/html": [
       "<div>\n",
       "<style scoped>\n",
       "    .dataframe tbody tr th:only-of-type {\n",
       "        vertical-align: middle;\n",
       "    }\n",
       "\n",
       "    .dataframe tbody tr th {\n",
       "        vertical-align: top;\n",
       "    }\n",
       "\n",
       "    .dataframe thead th {\n",
       "        text-align: right;\n",
       "    }\n",
       "</style>\n",
       "<table border=\"1\" class=\"dataframe\">\n",
       "  <thead>\n",
       "    <tr style=\"text-align: right;\">\n",
       "      <th></th>\n",
       "      <th>CreditScore</th>\n",
       "      <th>Age</th>\n",
       "      <th>Tenure</th>\n",
       "      <th>Balance</th>\n",
       "      <th>NumOfProducts</th>\n",
       "      <th>HasCrCard</th>\n",
       "      <th>IsActiveMember</th>\n",
       "      <th>EstimatedSalary</th>\n",
       "      <th>Male</th>\n",
       "      <th>Germany</th>\n",
       "      <th>Spain</th>\n",
       "    </tr>\n",
       "  </thead>\n",
       "  <tbody>\n",
       "    <tr>\n",
       "      <th>7041</th>\n",
       "      <td>-2.226392</td>\n",
       "      <td>-0.088482</td>\n",
       "      <td>-1.036227</td>\n",
       "      <td>-1.233163</td>\n",
       "      <td>0.830152</td>\n",
       "      <td>1</td>\n",
       "      <td>0</td>\n",
       "      <td>0.647083</td>\n",
       "      <td>1</td>\n",
       "      <td>0</td>\n",
       "      <td>0</td>\n",
       "    </tr>\n",
       "    <tr>\n",
       "      <th>5709</th>\n",
       "      <td>-0.087120</td>\n",
       "      <td>0.006422</td>\n",
       "      <td>1.396367</td>\n",
       "      <td>-1.233163</td>\n",
       "      <td>-0.891560</td>\n",
       "      <td>1</td>\n",
       "      <td>0</td>\n",
       "      <td>-1.658410</td>\n",
       "      <td>0</td>\n",
       "      <td>0</td>\n",
       "      <td>0</td>\n",
       "    </tr>\n",
       "    <tr>\n",
       "      <th>7117</th>\n",
       "      <td>-0.917905</td>\n",
       "      <td>-0.752805</td>\n",
       "      <td>0.006313</td>\n",
       "      <td>0.722307</td>\n",
       "      <td>-0.891560</td>\n",
       "      <td>1</td>\n",
       "      <td>1</td>\n",
       "      <td>-1.369334</td>\n",
       "      <td>1</td>\n",
       "      <td>0</td>\n",
       "      <td>1</td>\n",
       "    </tr>\n",
       "    <tr>\n",
       "      <th>7775</th>\n",
       "      <td>-0.253277</td>\n",
       "      <td>0.101325</td>\n",
       "      <td>1.743880</td>\n",
       "      <td>-1.233163</td>\n",
       "      <td>0.830152</td>\n",
       "      <td>1</td>\n",
       "      <td>0</td>\n",
       "      <td>0.075086</td>\n",
       "      <td>1</td>\n",
       "      <td>0</td>\n",
       "      <td>1</td>\n",
       "    </tr>\n",
       "    <tr>\n",
       "      <th>8735</th>\n",
       "      <td>0.785204</td>\n",
       "      <td>-0.847708</td>\n",
       "      <td>1.743880</td>\n",
       "      <td>0.615625</td>\n",
       "      <td>-0.891560</td>\n",
       "      <td>0</td>\n",
       "      <td>1</td>\n",
       "      <td>-1.070919</td>\n",
       "      <td>1</td>\n",
       "      <td>0</td>\n",
       "      <td>0</td>\n",
       "    </tr>\n",
       "  </tbody>\n",
       "</table>\n",
       "</div>"
      ],
      "text/plain": [
       "      CreditScore       Age    Tenure   Balance  NumOfProducts  HasCrCard  \\\n",
       "7041    -2.226392 -0.088482 -1.036227 -1.233163       0.830152          1   \n",
       "5709    -0.087120  0.006422  1.396367 -1.233163      -0.891560          1   \n",
       "7117    -0.917905 -0.752805  0.006313  0.722307      -0.891560          1   \n",
       "7775    -0.253277  0.101325  1.743880 -1.233163       0.830152          1   \n",
       "8735     0.785204 -0.847708  1.743880  0.615625      -0.891560          0   \n",
       "\n",
       "      IsActiveMember  EstimatedSalary  Male  Germany  Spain  \n",
       "7041               0         0.647083     1        0      0  \n",
       "5709               0        -1.658410     0        0      0  \n",
       "7117               1        -1.369334     1        0      1  \n",
       "7775               0         0.075086     1        0      1  \n",
       "8735               1        -1.070919     1        0      0  "
      ]
     },
     "execution_count": 331,
     "metadata": {},
     "output_type": "execute_result"
    }
   ],
   "source": [
    "#масштабируем тестовую выборку\n",
    "features_test[numeric] = scaler.transform(features_test[numeric])\n",
    "features_test.head()"
   ]
  },
  {
   "cell_type": "code",
   "execution_count": 332,
   "metadata": {},
   "outputs": [
    {
     "data": {
      "text/html": [
       "<div>\n",
       "<style scoped>\n",
       "    .dataframe tbody tr th:only-of-type {\n",
       "        vertical-align: middle;\n",
       "    }\n",
       "\n",
       "    .dataframe tbody tr th {\n",
       "        vertical-align: top;\n",
       "    }\n",
       "\n",
       "    .dataframe thead th {\n",
       "        text-align: right;\n",
       "    }\n",
       "</style>\n",
       "<table border=\"1\" class=\"dataframe\">\n",
       "  <thead>\n",
       "    <tr style=\"text-align: right;\">\n",
       "      <th></th>\n",
       "      <th>CreditScore</th>\n",
       "      <th>Age</th>\n",
       "      <th>Tenure</th>\n",
       "      <th>Balance</th>\n",
       "      <th>NumOfProducts</th>\n",
       "      <th>HasCrCard</th>\n",
       "      <th>IsActiveMember</th>\n",
       "      <th>EstimatedSalary</th>\n",
       "      <th>Male</th>\n",
       "      <th>Germany</th>\n",
       "      <th>Spain</th>\n",
       "    </tr>\n",
       "  </thead>\n",
       "  <tbody>\n",
       "    <tr>\n",
       "      <th>8532</th>\n",
       "      <td>585</td>\n",
       "      <td>35</td>\n",
       "      <td>2.0</td>\n",
       "      <td>0.00</td>\n",
       "      <td>2</td>\n",
       "      <td>1</td>\n",
       "      <td>0</td>\n",
       "      <td>98621.04</td>\n",
       "      <td>0</td>\n",
       "      <td>0</td>\n",
       "      <td>0</td>\n",
       "    </tr>\n",
       "    <tr>\n",
       "      <th>5799</th>\n",
       "      <td>625</td>\n",
       "      <td>45</td>\n",
       "      <td>3.0</td>\n",
       "      <td>0.00</td>\n",
       "      <td>1</td>\n",
       "      <td>1</td>\n",
       "      <td>1</td>\n",
       "      <td>184474.15</td>\n",
       "      <td>0</td>\n",
       "      <td>0</td>\n",
       "      <td>0</td>\n",
       "    </tr>\n",
       "    <tr>\n",
       "      <th>5511</th>\n",
       "      <td>667</td>\n",
       "      <td>32</td>\n",
       "      <td>0.0</td>\n",
       "      <td>103846.65</td>\n",
       "      <td>1</td>\n",
       "      <td>1</td>\n",
       "      <td>0</td>\n",
       "      <td>20560.69</td>\n",
       "      <td>1</td>\n",
       "      <td>1</td>\n",
       "      <td>0</td>\n",
       "    </tr>\n",
       "    <tr>\n",
       "      <th>7365</th>\n",
       "      <td>568</td>\n",
       "      <td>36</td>\n",
       "      <td>10.0</td>\n",
       "      <td>153610.61</td>\n",
       "      <td>1</td>\n",
       "      <td>1</td>\n",
       "      <td>1</td>\n",
       "      <td>54083.80</td>\n",
       "      <td>0</td>\n",
       "      <td>0</td>\n",
       "      <td>1</td>\n",
       "    </tr>\n",
       "    <tr>\n",
       "      <th>7367</th>\n",
       "      <td>606</td>\n",
       "      <td>42</td>\n",
       "      <td>10.0</td>\n",
       "      <td>0.00</td>\n",
       "      <td>2</td>\n",
       "      <td>1</td>\n",
       "      <td>0</td>\n",
       "      <td>177938.52</td>\n",
       "      <td>1</td>\n",
       "      <td>0</td>\n",
       "      <td>1</td>\n",
       "    </tr>\n",
       "  </tbody>\n",
       "</table>\n",
       "</div>"
      ],
      "text/plain": [
       "      CreditScore  Age  Tenure    Balance  NumOfProducts  HasCrCard  \\\n",
       "8532          585   35     2.0       0.00              2          1   \n",
       "5799          625   45     3.0       0.00              1          1   \n",
       "5511          667   32     0.0  103846.65              1          1   \n",
       "7365          568   36    10.0  153610.61              1          1   \n",
       "7367          606   42    10.0       0.00              2          1   \n",
       "\n",
       "      IsActiveMember  EstimatedSalary  Male  Germany  Spain  \n",
       "8532               0         98621.04     0        0      0  \n",
       "5799               1        184474.15     0        0      0  \n",
       "5511               0         20560.69     1        1      0  \n",
       "7365               1         54083.80     0        0      1  \n",
       "7367               0        177938.52     1        0      1  "
      ]
     },
     "execution_count": 332,
     "metadata": {},
     "output_type": "execute_result"
    }
   ],
   "source": [
    "features_valid.head()"
   ]
  },
  {
   "cell_type": "code",
   "execution_count": 333,
   "metadata": {
    "scrolled": false
   },
   "outputs": [
    {
     "data": {
      "text/html": [
       "<div>\n",
       "<style scoped>\n",
       "    .dataframe tbody tr th:only-of-type {\n",
       "        vertical-align: middle;\n",
       "    }\n",
       "\n",
       "    .dataframe tbody tr th {\n",
       "        vertical-align: top;\n",
       "    }\n",
       "\n",
       "    .dataframe thead th {\n",
       "        text-align: right;\n",
       "    }\n",
       "</style>\n",
       "<table border=\"1\" class=\"dataframe\">\n",
       "  <thead>\n",
       "    <tr style=\"text-align: right;\">\n",
       "      <th></th>\n",
       "      <th>CreditScore</th>\n",
       "      <th>Age</th>\n",
       "      <th>Tenure</th>\n",
       "      <th>Balance</th>\n",
       "      <th>NumOfProducts</th>\n",
       "      <th>HasCrCard</th>\n",
       "      <th>IsActiveMember</th>\n",
       "      <th>EstimatedSalary</th>\n",
       "      <th>Male</th>\n",
       "      <th>Germany</th>\n",
       "      <th>Spain</th>\n",
       "    </tr>\n",
       "  </thead>\n",
       "  <tbody>\n",
       "    <tr>\n",
       "      <th>8532</th>\n",
       "      <td>-0.699824</td>\n",
       "      <td>-0.373192</td>\n",
       "      <td>-1.036227</td>\n",
       "      <td>-1.233163</td>\n",
       "      <td>0.830152</td>\n",
       "      <td>1</td>\n",
       "      <td>0</td>\n",
       "      <td>-0.015173</td>\n",
       "      <td>0</td>\n",
       "      <td>0</td>\n",
       "      <td>0</td>\n",
       "    </tr>\n",
       "    <tr>\n",
       "      <th>5799</th>\n",
       "      <td>-0.284431</td>\n",
       "      <td>0.575842</td>\n",
       "      <td>-0.688714</td>\n",
       "      <td>-1.233163</td>\n",
       "      <td>-0.891560</td>\n",
       "      <td>1</td>\n",
       "      <td>1</td>\n",
       "      <td>1.471724</td>\n",
       "      <td>0</td>\n",
       "      <td>0</td>\n",
       "      <td>0</td>\n",
       "    </tr>\n",
       "    <tr>\n",
       "      <th>5511</th>\n",
       "      <td>0.151731</td>\n",
       "      <td>-0.657902</td>\n",
       "      <td>-1.731254</td>\n",
       "      <td>0.438711</td>\n",
       "      <td>-0.891560</td>\n",
       "      <td>1</td>\n",
       "      <td>0</td>\n",
       "      <td>-1.367107</td>\n",
       "      <td>1</td>\n",
       "      <td>1</td>\n",
       "      <td>0</td>\n",
       "    </tr>\n",
       "    <tr>\n",
       "      <th>7365</th>\n",
       "      <td>-0.876366</td>\n",
       "      <td>-0.278288</td>\n",
       "      <td>1.743880</td>\n",
       "      <td>1.239884</td>\n",
       "      <td>-0.891560</td>\n",
       "      <td>1</td>\n",
       "      <td>1</td>\n",
       "      <td>-0.786517</td>\n",
       "      <td>0</td>\n",
       "      <td>0</td>\n",
       "      <td>1</td>\n",
       "    </tr>\n",
       "    <tr>\n",
       "      <th>7367</th>\n",
       "      <td>-0.481743</td>\n",
       "      <td>0.291132</td>\n",
       "      <td>1.743880</td>\n",
       "      <td>-1.233163</td>\n",
       "      <td>0.830152</td>\n",
       "      <td>1</td>\n",
       "      <td>0</td>\n",
       "      <td>1.358533</td>\n",
       "      <td>1</td>\n",
       "      <td>0</td>\n",
       "      <td>1</td>\n",
       "    </tr>\n",
       "  </tbody>\n",
       "</table>\n",
       "</div>"
      ],
      "text/plain": [
       "      CreditScore       Age    Tenure   Balance  NumOfProducts  HasCrCard  \\\n",
       "8532    -0.699824 -0.373192 -1.036227 -1.233163       0.830152          1   \n",
       "5799    -0.284431  0.575842 -0.688714 -1.233163      -0.891560          1   \n",
       "5511     0.151731 -0.657902 -1.731254  0.438711      -0.891560          1   \n",
       "7365    -0.876366 -0.278288  1.743880  1.239884      -0.891560          1   \n",
       "7367    -0.481743  0.291132  1.743880 -1.233163       0.830152          1   \n",
       "\n",
       "      IsActiveMember  EstimatedSalary  Male  Germany  Spain  \n",
       "8532               0        -0.015173     0        0      0  \n",
       "5799               1         1.471724     0        0      0  \n",
       "5511               0        -1.367107     1        1      0  \n",
       "7365               1        -0.786517     0        0      1  \n",
       "7367               0         1.358533     1        0      1  "
      ]
     },
     "execution_count": 333,
     "metadata": {},
     "output_type": "execute_result"
    }
   ],
   "source": [
    "#масштабируем валидационную выборку\n",
    "features_valid[numeric] = scaler.transform(features_valid[numeric])\n",
    "features_valid.head()"
   ]
  },
  {
   "cell_type": "markdown",
   "metadata": {},
   "source": [
    "Дерево решений"
   ]
  },
  {
   "cell_type": "code",
   "execution_count": 334,
   "metadata": {},
   "outputs": [],
   "source": [
    "DT = DecisionTreeClassifier()\n",
    "param_grid = { \n",
    "    'max_features': ['log2'],\n",
    "    'max_depth' : [5,7,9,11,13,15],\n",
    "    'criterion' : ['gini']\n",
    "}\n",
    "CV_DT = GridSearchCV(estimator=DT, param_grid=param_grid, scoring='f1', cv=5)\n",
    "CV_DT.fit(features_train, target_train)\n",
    "prediction_valid_DT = CV_DT.best_estimator_.predict(features_valid)\n",
    "score_DT = accuracy_score(prediction_valid_DT, target_valid)\n",
    "F1_DT = f1_score(prediction_valid_DT, target_valid)"
   ]
  },
  {
   "cell_type": "markdown",
   "metadata": {},
   "source": [
    "Случайный лес"
   ]
  },
  {
   "cell_type": "code",
   "execution_count": 335,
   "metadata": {},
   "outputs": [],
   "source": [
    "RF = RandomForestClassifier()\n",
    "param_grid = { \n",
    "    'n_estimators': [10, 13, 15, 18, 20, 25, 30, 33, 45, 50, 56],\n",
    "    'max_depth' : [5, 7, 9, 10, 11, 13, 15],\n",
    "    'criterion' : ['gini']\n",
    "}\n",
    "CV_RF = GridSearchCV(estimator=RF, param_grid=param_grid, scoring='f1', cv=5)\n",
    "CV_RF.fit(features_train,target_train)\n",
    "prediction_valid_RF = CV_RF.predict(features_valid)\n",
    "score_RF = accuracy_score(prediction_valid_RF, target_valid)\n",
    "F1_RF = f1_score(prediction_valid_RF, target_valid)"
   ]
  },
  {
   "cell_type": "markdown",
   "metadata": {},
   "source": [
    "Логистическая регрессия"
   ]
  },
  {
   "cell_type": "code",
   "execution_count": 336,
   "metadata": {},
   "outputs": [],
   "source": [
    "LR = LogisticRegression(random_state = 12345)\n",
    "LR.fit(features_train, target_train)\n",
    "prediction_valid_LR = LR.predict(features_valid)\n",
    "score_LR = accuracy_score(prediction_valid_LR, target_valid)\n",
    "F1_LR = f1_score(prediction_valid_LR, target_valid)"
   ]
  },
  {
   "cell_type": "markdown",
   "metadata": {},
   "source": [
    "Дополнительно измерим AUC-ROC для каждой модели"
   ]
  },
  {
   "cell_type": "code",
   "execution_count": 337,
   "metadata": {},
   "outputs": [
    {
     "data": {
      "text/plain": [
       "0.695961293015322"
      ]
     },
     "execution_count": 337,
     "metadata": {},
     "output_type": "execute_result"
    }
   ],
   "source": [
    "DT_proba_valid = CV_DT.predict_proba(features_valid)[:, 1]\n",
    "\n",
    "auc_roc_DT = roc_auc_score(target_valid, DT_proba_valid)\n",
    "\n",
    "auc_roc_DT"
   ]
  },
  {
   "cell_type": "code",
   "execution_count": 338,
   "metadata": {},
   "outputs": [
    {
     "data": {
      "text/plain": [
       "0.8345395871013012"
      ]
     },
     "execution_count": 338,
     "metadata": {},
     "output_type": "execute_result"
    }
   ],
   "source": [
    "RF_proba_valid = CV_RF.predict_proba(features_valid)[:, 1]\n",
    "\n",
    "auc_roc_RF = roc_auc_score(target_valid, RF_proba_valid)\n",
    "\n",
    "auc_roc_RF"
   ]
  },
  {
   "cell_type": "code",
   "execution_count": 339,
   "metadata": {},
   "outputs": [
    {
     "data": {
      "text/plain": [
       "0.7586091132900634"
      ]
     },
     "execution_count": 339,
     "metadata": {},
     "output_type": "execute_result"
    }
   ],
   "source": [
    "LR_proba_valid = LR.predict_proba(features_valid)[:, 1]\n",
    "\n",
    "auc_roc_LR = roc_auc_score(target_valid, LR_proba_valid)\n",
    "\n",
    "auc_roc_LR"
   ]
  },
  {
   "cell_type": "code",
   "execution_count": 340,
   "metadata": {
    "scrolled": false
   },
   "outputs": [
    {
     "name": "stdout",
     "output_type": "stream",
     "text": [
      "Дерево решений Accuracy: 0.8035\n",
      "Дерево решений F1: 0.49936305732484076\n",
      "Дерево решений AUC-ROC: 0.695961293015322\n",
      "Случайный лес Accuracy: 0.8655\n",
      "Случайный лес F1: 0.6038291605301914\n",
      "Случайный лес AUC-ROC: 0.8345395871013012\n",
      "Логистическая регрессия Accuracy: 0.802\n",
      "Логистическая регрессия  лес F1: 0.33108108108108103\n",
      "Логистическая регрессия  AUC-ROC: 0.7586091132900634\n"
     ]
    }
   ],
   "source": [
    "print(f'Дерево решений Accuracy: {score_DT}')\n",
    "print(f'Дерево решений F1: {F1_DT}')\n",
    "print(f'Дерево решений AUC-ROC: {auc_roc_DT}')\n",
    "print(f'Случайный лес Accuracy: {score_RF}')\n",
    "print(f'Случайный лес F1: {F1_RF}')\n",
    "print(f'Случайный лес AUC-ROC: {auc_roc_RF}')\n",
    "print(f'Логистическая регрессия Accuracy: {score_LR}')\n",
    "print(f'Логистическая регрессия  лес F1: {F1_LR}')\n",
    "print(f'Логистическая регрессия  AUC-ROC: {auc_roc_LR}')"
   ]
  },
  {
   "cell_type": "markdown",
   "metadata": {},
   "source": [
    "Наиболее качественные результаты прогнозирует модель случайного леса (Random Forest), худшие – логистическая регрессия (Logistic Regression). F1 для всех выборок пока что ниже 0,55.  Наше целевое значение F1 меры = 0,6."
   ]
  },
  {
   "cell_type": "markdown",
   "metadata": {},
   "source": [
    "Исследуем баланс классов в выборках."
   ]
  },
  {
   "cell_type": "code",
   "execution_count": 341,
   "metadata": {
    "scrolled": true
   },
   "outputs": [
    {
     "data": {
      "text/plain": [
       "0    0.800667\n",
       "1    0.199333\n",
       "Name: Exited, dtype: float64"
      ]
     },
     "execution_count": 341,
     "metadata": {},
     "output_type": "execute_result"
    }
   ],
   "source": [
    "target_train.value_counts(normalize = 1)"
   ]
  },
  {
   "cell_type": "code",
   "execution_count": 342,
   "metadata": {},
   "outputs": [
    {
     "data": {
      "text/plain": [
       "<AxesSubplot:ylabel='Frequency'>"
      ]
     },
     "execution_count": 342,
     "metadata": {},
     "output_type": "execute_result"
    },
    {
     "data": {
      "image/png": "[encoded data removed]",
      "text/plain": [
       "<Figure size 144x144 with 1 Axes>"
      ]
     },
     "metadata": {
      "needs_background": "light"
     },
     "output_type": "display_data"
    }
   ],
   "source": [
    "target_train.plot(kind ='hist', bins=3, figsize=(2,2))"
   ]
  },
  {
   "cell_type": "code",
   "execution_count": 343,
   "metadata": {
    "scrolled": true
   },
   "outputs": [
    {
     "data": {
      "text/plain": [
       "0    0.7885\n",
       "1    0.2115\n",
       "Name: Exited, dtype: float64"
      ]
     },
     "execution_count": 343,
     "metadata": {},
     "output_type": "execute_result"
    }
   ],
   "source": [
    "target_test.value_counts(normalize = 1)"
   ]
  },
  {
   "cell_type": "code",
   "execution_count": 344,
   "metadata": {
    "scrolled": false
   },
   "outputs": [
    {
     "data": {
      "text/plain": [
       "<AxesSubplot:ylabel='Frequency'>"
      ]
     },
     "execution_count": 344,
     "metadata": {},
     "output_type": "execute_result"
    },
    {
     "data": {
      "image/png": "[encoded data removed]",
      "text/plain": [
       "<Figure size 144x144 with 1 Axes>"
      ]
     },
     "metadata": {
      "needs_background": "light"
     },
     "output_type": "display_data"
    }
   ],
   "source": [
    "target_test.plot(kind ='hist', bins=3, figsize=(2,2))"
   ]
  },
  {
   "cell_type": "code",
   "execution_count": 345,
   "metadata": {},
   "outputs": [
    {
     "data": {
      "text/plain": [
       "0    0.791\n",
       "1    0.209\n",
       "Name: Exited, dtype: float64"
      ]
     },
     "execution_count": 345,
     "metadata": {},
     "output_type": "execute_result"
    }
   ],
   "source": [
    "target_valid.value_counts(normalize = 1)"
   ]
  },
  {
   "cell_type": "code",
   "execution_count": 346,
   "metadata": {},
   "outputs": [
    {
     "data": {
      "text/plain": [
       "<AxesSubplot:ylabel='Frequency'>"
      ]
     },
     "execution_count": 346,
     "metadata": {},
     "output_type": "execute_result"
    },
    {
     "data": {
      "image/png": "[encoded data removed]",
      "text/plain": [
       "<Figure size 144x144 with 1 Axes>"
      ]
     },
     "metadata": {
      "needs_background": "light"
     },
     "output_type": "display_data"
    }
   ],
   "source": [
    "target_valid.plot(kind ='hist', bins=3, figsize=(2,2))"
   ]
  },
  {
   "cell_type": "markdown",
   "metadata": {},
   "source": [
    "В наших выборках отрицательных ответов ≈80% , положительных ≈ 20%. Здесь очевиден дисбаланс, от которого нам предстоит избавиться дальше."
   ]
  },
  {
   "cell_type": "markdown",
   "metadata": {},
   "source": [
    "## Борьба с дисбалансом"
   ]
  },
  {
   "cell_type": "markdown",
   "metadata": {},
   "source": [
    "Upsampling"
   ]
  },
  {
   "cell_type": "code",
   "execution_count": 347,
   "metadata": {},
   "outputs": [],
   "source": [
    "#создадим функцию для увеличения положительного класса в выборке \n",
    "def upsample(features, target, repeat, upsampled_сlass):\n",
    "    features_zeros = features[target == 0]\n",
    "    features_ones = features[target == 1]\n",
    "    target_zeros = target[target == 0]\n",
    "    target_ones = target[target == 1]\n",
    "    \n",
    "    if upsampled_сlass == 0:\n",
    "        features_upsampled = pd.concat([features_zeros]* repeat + [features_ones] )\n",
    "        target_upsampled = pd.concat([target_zeros]* repeat + [target_ones] )\n",
    "        features_upsampled, target_upsampled = shuffle(\n",
    "        features_upsampled, target_upsampled, random_state=12345)\n",
    "        \n",
    "    elif upsampled_сlass == 1:\n",
    "        features_upsampled = pd.concat([features_zeros] + [features_ones] * repeat)\n",
    "        target_upsampled = pd.concat([target_zeros] + [target_ones] * repeat)\n",
    "        features_upsampled, target_upsampled = shuffle(\n",
    "        features_upsampled, target_upsampled, random_state=12345)\n",
    "    else:\n",
    "        features_upsampled = 0\n",
    "        target_upsampled = 0  \n",
    "        \n",
    "        \n",
    "       \n",
    "    return features_upsampled, target_upsampled"
   ]
  },
  {
   "cell_type": "markdown",
   "metadata": {},
   "source": [
    "Downsampling"
   ]
  },
  {
   "cell_type": "code",
   "execution_count": 348,
   "metadata": {},
   "outputs": [],
   "source": [
    "#уменьшаем число отрицательного класса в выборке \n",
    "def downsample(features, target, fraction):\n",
    "    features_zeros = features[target == 0]\n",
    "    features_ones = features[target == 1]\n",
    "    target_zeros = target[target == 0]\n",
    "    target_ones = target[target == 1]\n",
    "\n",
    "    features_downsampled = pd.concat(\n",
    "        [features_zeros.sample(frac=fraction, random_state=12345)] + [features_ones])\n",
    "    target_downsampled = pd.concat(\n",
    "        [target_zeros.sample(frac=fraction, random_state=12345)] + [target_ones])\n",
    "    \n",
    "    features_downsampled, target_downsampled = shuffle(\n",
    "        features_downsampled, target_downsampled, random_state=12345)\n",
    "    \n",
    "    return features_downsampled, target_downsampled"
   ]
  },
  {
   "cell_type": "code",
   "execution_count": 349,
   "metadata": {},
   "outputs": [
    {
     "name": "stdout",
     "output_type": "stream",
     "text": [
      "0    1201\n",
      "1    1196\n",
      "Name: Exited, dtype: int64\n",
      "(2397,)\n"
     ]
    }
   ],
   "source": [
    "features_downsampled_train, target_downsampled_train = downsample(features_train, target_train, fraction=0.25)\n",
    "print(target_downsampled_train.value_counts(normalize = 0))\n",
    "print(target_downsampled_train.shape)"
   ]
  },
  {
   "cell_type": "code",
   "execution_count": 350,
   "metadata": {
    "scrolled": true
   },
   "outputs": [
    {
     "name": "stdout",
     "output_type": "stream",
     "text": [
      "0    0.941407\n",
      "1    0.058593\n",
      "Name: Exited, dtype: float64\n",
      "(20412,)\n"
     ]
    }
   ],
   "source": [
    "features_train_upsampled, target_train_upsampled = upsample(features_train, target_train, 4, 0)\n",
    "print(target_train_upsampled.value_counts(normalize = 1))\n",
    "print(target_train_upsampled.shape)"
   ]
  },
  {
   "cell_type": "code",
   "execution_count": 351,
   "metadata": {},
   "outputs": [
    {
     "data": {
      "text/plain": [
       "0"
      ]
     },
     "execution_count": 351,
     "metadata": {},
     "output_type": "execute_result"
    }
   ],
   "source": [
    "features_train_upsampled, target_train_upsampled = upsample(features_train, target_train, 4, 3)\n",
    "features_train_upsampled"
   ]
  },
  {
   "cell_type": "code",
   "execution_count": 352,
   "metadata": {},
   "outputs": [
    {
     "name": "stdout",
     "output_type": "stream",
     "text": [
      "0    0.501043\n",
      "1    0.498957\n",
      "Name: Exited, dtype: float64\n",
      "(9588,)\n"
     ]
    }
   ],
   "source": [
    "#Применим функцию upsample и увеличим количество положительных ответов в 4 раза\n",
    "features_train_upsampled, target_train_upsampled = upsample(features_train, target_train, 4, 1)\n",
    "print(target_train_upsampled.value_counts(normalize = 1))\n",
    "print(target_train_upsampled.shape)"
   ]
  },
  {
   "cell_type": "code",
   "execution_count": 353,
   "metadata": {
    "scrolled": true
   },
   "outputs": [
    {
     "data": {
      "text/plain": [
       "<AxesSubplot:ylabel='Frequency'>"
      ]
     },
     "execution_count": 353,
     "metadata": {},
     "output_type": "execute_result"
    },
    {
     "data": {
      "image/png": "[encoded data removed]",
      "text/plain": [
       "<Figure size 144x144 with 1 Axes>"
      ]
     },
     "metadata": {
      "needs_background": "light"
     },
     "output_type": "display_data"
    }
   ],
   "source": [
    "target_train_upsampled.plot(kind ='hist', bins=3, figsize=(2,2))"
   ]
  },
  {
   "cell_type": "code",
   "execution_count": 354,
   "metadata": {
    "scrolled": true
   },
   "outputs": [
    {
     "data": {
      "text/plain": [
       "<AxesSubplot:ylabel='Frequency'>"
      ]
     },
     "execution_count": 354,
     "metadata": {},
     "output_type": "execute_result"
    },
    {
     "data": {
      "image/png": "[encoded data removed]",
      "text/plain": [
       "<Figure size 144x144 with 1 Axes>"
      ]
     },
     "metadata": {
      "needs_background": "light"
     },
     "output_type": "display_data"
    }
   ],
   "source": [
    "target_downsampled_train.plot(kind ='hist', bins=3, figsize=(2,2))"
   ]
  },
  {
   "cell_type": "markdown",
   "metadata": {},
   "source": [
    "Upsample и downsample дает практически идеальное соотношение. Проверим F1 моделей на выборках с дисбалансом и без дисбаланса."
   ]
  },
  {
   "cell_type": "code",
   "execution_count": 355,
   "metadata": {},
   "outputs": [],
   "source": [
    "DT_upsampled = DecisionTreeClassifier()\n",
    "param_grid = { \n",
    "    'max_features': ['log2'],\n",
    "    'max_depth' : [5, 7, 10, 13, 15, 20],\n",
    "    'min_samples_leaf': [3, 4, 5, 7],\n",
    "    'criterion' : ['gini']\n",
    "}\n",
    "CV_DT_upsampled = GridSearchCV(estimator=DT_upsampled, param_grid=param_grid, scoring='f1', cv=5)\n",
    "CV_DT_upsampled.fit(features_train_upsampled, target_train_upsampled)\n",
    "prediction_DT_upsampled = CV_DT_upsampled.best_estimator_.predict(features_valid)\n",
    "F1_DT_upsampled = f1_score(prediction_DT_upsampled, target_valid)"
   ]
  },
  {
   "cell_type": "code",
   "execution_count": 356,
   "metadata": {
    "scrolled": false
   },
   "outputs": [
    {
     "name": "stdout",
     "output_type": "stream",
     "text": [
      "Дерево решений c дисбалансом: 0.49936305732484076\n",
      "Дерево решений без дисбаланса: 0.4934804413239719\n"
     ]
    }
   ],
   "source": [
    "print(f'Дерево решений c дисбалансом: {F1_DT}')\n",
    "print(f'Дерево решений без дисбаланса: {F1_DT_upsampled}')"
   ]
  },
  {
   "cell_type": "code",
   "execution_count": 357,
   "metadata": {},
   "outputs": [
    {
     "data": {
      "text/plain": [
       "0.70879859544275"
      ]
     },
     "execution_count": 357,
     "metadata": {},
     "output_type": "execute_result"
    }
   ],
   "source": [
    "DT_upsampled_valid = CV_DT_upsampled.predict_proba(features_valid)[:, 1]\n",
    "\n",
    "auc_roc_DT_upsampled = roc_auc_score(target_valid, DT_upsampled_valid)\n",
    "\n",
    "auc_roc_DT_upsampled"
   ]
  },
  {
   "cell_type": "code",
   "execution_count": 358,
   "metadata": {},
   "outputs": [],
   "source": [
    "RF_upsampled = RandomForestClassifier()\n",
    "param_grid = { \n",
    "    'n_estimators': [10, 13, 15, 18, 20, 25, 30, 33, 45, 50, 56],\n",
    "    'max_depth' : [5, 7, 9, 10, 11, 13, 15],\n",
    "    'criterion' : ['gini']\n",
    "}\n",
    "CV_RF_upsampled = GridSearchCV(estimator=RF_upsampled, param_grid=param_grid, scoring='f1', cv=5)\n",
    "CV_RF_upsampled.fit(features_train_upsampled, target_train_upsampled)\n",
    "prediction_RF_upsampled = CV_RF_upsampled.predict(features_valid)\n",
    "F1_RF_upsampled = f1_score(prediction_RF_upsampled, target_valid)"
   ]
  },
  {
   "cell_type": "code",
   "execution_count": 359,
   "metadata": {},
   "outputs": [
    {
     "name": "stdout",
     "output_type": "stream",
     "text": [
      "Случайный лес c дисбалансом: 0.6038291605301914\n",
      "Случайный лес без дисбаланса: 0.6053639846743295\n"
     ]
    }
   ],
   "source": [
    "print(f'Случайный лес c дисбалансом: {F1_RF}')\n",
    "print(f'Случайный лес без дисбаланса: {F1_RF_upsampled}')"
   ]
  },
  {
   "cell_type": "code",
   "execution_count": 360,
   "metadata": {},
   "outputs": [
    {
     "data": {
      "text/plain": [
       "0.8402505156697053"
      ]
     },
     "execution_count": 360,
     "metadata": {},
     "output_type": "execute_result"
    }
   ],
   "source": [
    "RF_upsampled_valid = CV_RF_upsampled.predict_proba(features_valid)[:, 1]\n",
    "\n",
    "auc_roc_RF_upsampled = roc_auc_score(target_valid, RF_upsampled_valid)\n",
    "\n",
    "auc_roc_RF_upsampled"
   ]
  },
  {
   "cell_type": "code",
   "execution_count": 361,
   "metadata": {},
   "outputs": [],
   "source": [
    "LR_upsampled = LogisticRegression()\n",
    "LR_upsampled.fit(features_train_upsampled, target_train_upsampled)\n",
    "prediction_LR_upsampled = LR_upsampled.predict(features_valid)\n",
    "F1_LR_upsampled = f1_score(prediction_LR_upsampled, target_valid)"
   ]
  },
  {
   "cell_type": "code",
   "execution_count": 362,
   "metadata": {},
   "outputs": [
    {
     "data": {
      "text/plain": [
       "0.763437656893642"
      ]
     },
     "execution_count": 362,
     "metadata": {},
     "output_type": "execute_result"
    }
   ],
   "source": [
    "LR_upsampled_valid = LR_upsampled.predict_proba(features_valid)[:, 1]\n",
    "\n",
    "auc_roc_LR_upsampled = roc_auc_score(target_valid, LR_upsampled_valid)\n",
    "\n",
    "auc_roc_LR_upsampled"
   ]
  },
  {
   "cell_type": "code",
   "execution_count": 363,
   "metadata": {
    "scrolled": false
   },
   "outputs": [
    {
     "name": "stdout",
     "output_type": "stream",
     "text": [
      "Логистическая регрессия c дисбалансом: 0.33108108108108103\n",
      "Логистическая регрессия без дисбаланса: 0.48843187660668386\n"
     ]
    }
   ],
   "source": [
    "print(f'Логистическая регрессия c дисбалансом: {F1_LR}')\n",
    "print(f'Логистическая регрессия без дисбаланса: {F1_LR_upsampled }')"
   ]
  },
  {
   "cell_type": "markdown",
   "metadata": {},
   "source": [
    " Теперь проверим Downsample"
   ]
  },
  {
   "cell_type": "code",
   "execution_count": 364,
   "metadata": {},
   "outputs": [],
   "source": [
    "DT_downsampled = DecisionTreeClassifier()\n",
    "param_grid = { \n",
    "    'max_features': ['log2'],\n",
    "    'max_depth' : [5, 7, 9, 10, 15],\n",
    "    'min_samples_leaf': [3, 4, 5, 7],\n",
    "    'criterion' : ['gini']\n",
    "}\n",
    "CV_DT_downsampled = GridSearchCV(estimator=DT_downsampled, param_grid=param_grid, scoring='f1', cv=5)\n",
    "CV_DT_downsampled.fit(features_downsampled_train, target_downsampled_train)\n",
    "prediction_DT_downsampled = CV_DT_downsampled.best_estimator_.predict(features_valid)\n",
    "F1_DT_downsampled = f1_score(prediction_DT_downsampled, target_valid)"
   ]
  },
  {
   "cell_type": "code",
   "execution_count": 365,
   "metadata": {
    "scrolled": true
   },
   "outputs": [
    {
     "name": "stdout",
     "output_type": "stream",
     "text": [
      "Дерево решений c дисбалансом: 0.49936305732484076\n",
      "Дерево решений без дисбаланса: 0.5124250214224507\n"
     ]
    }
   ],
   "source": [
    "print(f'Дерево решений c дисбалансом: {F1_DT}')\n",
    "print(f'Дерево решений без дисбаланса: {F1_DT_downsampled }')"
   ]
  },
  {
   "cell_type": "code",
   "execution_count": 366,
   "metadata": {},
   "outputs": [
    {
     "data": {
      "text/plain": [
       "0.764214185907246"
      ]
     },
     "execution_count": 366,
     "metadata": {},
     "output_type": "execute_result"
    }
   ],
   "source": [
    "DT_downsampled_valid = CV_DT_downsampled.predict_proba(features_valid)[:, 1]\n",
    "\n",
    "auc_roc_DT_downsampled = roc_auc_score(target_valid, DT_downsampled_valid)\n",
    "\n",
    "auc_roc_DT_downsampled"
   ]
  },
  {
   "cell_type": "code",
   "execution_count": 367,
   "metadata": {},
   "outputs": [],
   "source": [
    "RF_downsampled = RandomForestClassifier()\n",
    "param_grid = { \n",
    "    'n_estimators': [10, 13, 15, 18, 20, 25, 30, 33, 45, 50, 56],\n",
    "    'max_depth' : [5, 7, 9, 10, 11, 13, 15],\n",
    "    'criterion' : ['gini']\n",
    "}\n",
    "CV_RF_downsampled = GridSearchCV(estimator=RF_downsampled, param_grid=param_grid, scoring='f1', cv=5)\n",
    "CV_RF_downsampled.fit(features_downsampled_train, target_downsampled_train)\n",
    "prediction_RF_downsampled = CV_RF_downsampled.predict(features_valid)\n",
    "F1_RF_downsampled = f1_score(prediction_RF_downsampled, target_valid)"
   ]
  },
  {
   "cell_type": "code",
   "execution_count": 368,
   "metadata": {},
   "outputs": [
    {
     "name": "stdout",
     "output_type": "stream",
     "text": [
      "Случайный лес c дисбалансом: 0.6038291605301914\n",
      "Случайный лес без дисбаланса: 0.6057692307692308\n"
     ]
    }
   ],
   "source": [
    "print(f'Случайный лес c дисбалансом: {F1_RF}')\n",
    "print(f'Случайный лес без дисбаланса: {F1_RF_downsampled}')"
   ]
  },
  {
   "cell_type": "code",
   "execution_count": 369,
   "metadata": {},
   "outputs": [
    {
     "data": {
      "text/plain": [
       "0.8488104815538444"
      ]
     },
     "execution_count": 369,
     "metadata": {},
     "output_type": "execute_result"
    }
   ],
   "source": [
    "RF_downsampled_valid = CV_RF_downsampled.predict_proba(features_valid)[:, 1]\n",
    "\n",
    "auc_roc_RF_downsampled = roc_auc_score(target_valid, RF_downsampled_valid)\n",
    "\n",
    "auc_roc_RF_downsampled"
   ]
  },
  {
   "cell_type": "code",
   "execution_count": 370,
   "metadata": {},
   "outputs": [],
   "source": [
    "LR_downsampled = LogisticRegression(random_state=12345)\n",
    "LR_downsampled.fit(features_downsampled_train, target_downsampled_train)\n",
    "prediction_LR_downsampled = LR_downsampled.predict(features_valid)\n",
    "F1_LR_downsampled = f1_score(prediction_LR_downsampled, target_valid)"
   ]
  },
  {
   "cell_type": "code",
   "execution_count": 371,
   "metadata": {},
   "outputs": [
    {
     "data": {
      "text/plain": [
       "0.7626815429563449"
      ]
     },
     "execution_count": 371,
     "metadata": {},
     "output_type": "execute_result"
    }
   ],
   "source": [
    "LR_downsampled_valid = LR_downsampled.predict_proba(features_valid)[:, 1]\n",
    "\n",
    "auc_roc_LR_downsampled = roc_auc_score(target_valid, LR_downsampled_valid)\n",
    "\n",
    "auc_roc_LR_downsampled"
   ]
  },
  {
   "cell_type": "code",
   "execution_count": 372,
   "metadata": {
    "scrolled": false
   },
   "outputs": [
    {
     "name": "stdout",
     "output_type": "stream",
     "text": [
      "Логистическая регрессия c дисбалансом: 0.33108108108108103\n",
      "Логистическая регрессия без дисбаланса: 0.4896907216494845\n"
     ]
    }
   ],
   "source": [
    "print(f'Логистическая регрессия c дисбалансом: {F1_LR}')\n",
    "print(f'Логистическая регрессия без дисбаланса: {F1_LR_downsampled }')"
   ]
  },
  {
   "cell_type": "code",
   "execution_count": 373,
   "metadata": {
    "scrolled": true
   },
   "outputs": [
    {
     "name": "stdout",
     "output_type": "stream",
     "text": [
      "Дерево решений c дисбалансом: 0.49936305732484076\n",
      "Дерево решений без дисбаланса upsample: 0.4934804413239719\n",
      "Дерево решений без дисбаланса downsample: 0.5124250214224507\n",
      " \n",
      "Случайный лес c дисбалансом: 0.6038291605301914\n",
      "Случайный лес без дисбаланса upsample: 0.6053639846743295\n",
      "Случайный лес без дисбаланса downsample: 0.6057692307692308\n",
      " \n",
      "Логистическая регрессия c дисбалансом: 0.33108108108108103\n",
      "Логистическая регрессия без дисбаланса upsample: 0.48843187660668386\n",
      "Логистическая регрессия без дисбаланса downsample: 0.4896907216494845\n"
     ]
    }
   ],
   "source": [
    "print(f'Дерево решений c дисбалансом: {F1_DT}')\n",
    "print(f'Дерево решений без дисбаланса upsample: {F1_DT_upsampled }')\n",
    "print(f'Дерево решений без дисбаланса downsample: {F1_DT_downsampled }')\n",
    "print(' ')\n",
    "print(f'Случайный лес c дисбалансом: {F1_RF}')\n",
    "print(f'Случайный лес без дисбаланса upsample: {F1_RF_upsampled}')\n",
    "print(f'Случайный лес без дисбаланса downsample: {F1_RF_downsampled}')\n",
    "print(' ')\n",
    "print(f'Логистическая регрессия c дисбалансом: {F1_LR}')\n",
    "print(f'Логистическая регрессия без дисбаланса upsample: {F1_LR_upsampled }')\n",
    "print(f'Логистическая регрессия без дисбаланса downsample: {F1_LR_downsampled }')"
   ]
  },
  {
   "cell_type": "code",
   "execution_count": 374,
   "metadata": {
    "scrolled": false
   },
   "outputs": [
    {
     "name": "stdout",
     "output_type": "stream",
     "text": [
      "AUC-ROC дерева решений с дисбалансом: 0.695961293015322\n",
      "AUC-ROC дерева решений без дисбаланса upsamle: 0.70879859544275\n",
      "AUC-ROC дерева решений без дисбаланса downsample: 0.764214185907246\n",
      " \n",
      "AUC-ROC случайного леса с дисбалансом: 0.8345395871013012\n",
      "AUC-ROC случайного леса без дисбаланса upsample: 0.8402505156697053\n",
      "AUC-ROC случайного леса без дисбаланса downsample: 0.8488104815538444\n",
      " \n",
      "AUC-ROC логистической регрессии с дисбалансом: 0.7586091132900634\n",
      "AUC-ROC логистической регрессии без дисбаланса upsample: 0.763437656893642\n",
      "AUC-ROC логистической регрессии без дисбаланса downsample: 0.7626815429563449\n"
     ]
    }
   ],
   "source": [
    "print(f'AUC-ROC дерева решений с дисбалансом: {auc_roc_DT}')\n",
    "print(f'AUC-ROC дерева решений без дисбаланса upsamle: {auc_roc_DT_upsampled}')\n",
    "print(f'AUC-ROC дерева решений без дисбаланса downsample: {auc_roc_DT_downsampled}')\n",
    "print(' ')\n",
    "print(f'AUC-ROC случайного леса с дисбалансом: {auc_roc_RF}')\n",
    "print(f'AUC-ROC случайного леса без дисбаланса upsample: {auc_roc_RF_upsampled}')\n",
    "print(f'AUC-ROC случайного леса без дисбаланса downsample: {auc_roc_RF_downsampled}')\n",
    "print(' ')\n",
    "print(f'AUC-ROC логистической регрессии с дисбалансом: {auc_roc_LR}')\n",
    "print(f'AUC-ROC логистической регрессии без дисбаланса upsample: {auc_roc_LR_upsampled}')\n",
    "print(f'AUC-ROC логистической регрессии без дисбаланса downsample: {auc_roc_LR_downsampled}')"
   ]
  },
  {
   "cell_type": "markdown",
   "metadata": {},
   "source": [
    "Показатели всех моделей улучшились, лучшие результаты и при устранении дисбаланса через upsampling, и через downsampling показывает случаный лес (Random Forest). Большее улучшение показывает увеличенная выборка upsampling, соответсвенное далее проверять мы будем именно ее. F1 случайного леса у upsampling = 0.6 , что уже равно целевому значению 0,59. "
   ]
  },
  {
   "cell_type": "markdown",
   "metadata": {},
   "source": [
    "## Тестирование модели"
   ]
  },
  {
   "cell_type": "markdown",
   "metadata": {},
   "source": [
    "Объединим обучающую и валидационную выборку, чтобы получить больше данных и проверим увеличенную выборку случайного леса."
   ]
  },
  {
   "cell_type": "code",
   "execution_count": 375,
   "metadata": {},
   "outputs": [],
   "source": [
    "features_full_train = pd.concat([features_train, features_valid])\n",
    "target_full_train = pd.concat([target_train, target_valid])\n",
    "\n",
    "features_upsampled_full, target_upsampled_full = upsample(features_full_train, target_full_train, 4, 1)"
   ]
  },
  {
   "cell_type": "code",
   "execution_count": 376,
   "metadata": {},
   "outputs": [
    {
     "data": {
      "text/html": [
       "<style>#sk-container-id-10 {color: black;background-color: white;}#sk-container-id-10 pre{padding: 0;}#sk-container-id-10 div.sk-toggleable {background-color: white;}#sk-container-id-10 label.sk-toggleable__label {cursor: pointer;display: block;width: 100%;margin-bottom: 0;padding: 0.3em;box-sizing: border-box;text-align: center;}#sk-container-id-10 label.sk-toggleable__label-arrow:before {content: \"▸\";float: left;margin-right: 0.25em;color: #696969;}#sk-container-id-10 label.sk-toggleable__label-arrow:hover:before {color: black;}#sk-container-id-10 div.sk-estimator:hover label.sk-toggleable__label-arrow:before {color: black;}#sk-container-id-10 div.sk-toggleable__content {max-height: 0;max-width: 0;overflow: hidden;text-align: left;background-color: #f0f8ff;}#sk-container-id-10 div.sk-toggleable__content pre {margin: 0.2em;color: black;border-radius: 0.25em;background-color: #f0f8ff;}#sk-container-id-10 input.sk-toggleable__control:checked~div.sk-toggleable__content {max-height: 200px;max-width: 100%;overflow: auto;}#sk-container-id-10 input.sk-toggleable__control:checked~label.sk-toggleable__label-arrow:before {content: \"▾\";}#sk-container-id-10 div.sk-estimator input.sk-toggleable__control:checked~label.sk-toggleable__label {background-color: #d4ebff;}#sk-container-id-10 div.sk-label input.sk-toggleable__control:checked~label.sk-toggleable__label {background-color: #d4ebff;}#sk-container-id-10 input.sk-hidden--visually {border: 0;clip: rect(1px 1px 1px 1px);clip: rect(1px, 1px, 1px, 1px);height: 1px;margin: -1px;overflow: hidden;padding: 0;position: absolute;width: 1px;}#sk-container-id-10 div.sk-estimator {font-family: monospace;background-color: #f0f8ff;border: 1px dotted black;border-radius: 0.25em;box-sizing: border-box;margin-bottom: 0.5em;}#sk-container-id-10 div.sk-estimator:hover {background-color: #d4ebff;}#sk-container-id-10 div.sk-parallel-item::after {content: \"\";width: 100%;border-bottom: 1px solid gray;flex-grow: 1;}#sk-container-id-10 div.sk-label:hover label.sk-toggleable__label {background-color: #d4ebff;}#sk-container-id-10 div.sk-serial::before {content: \"\";position: absolute;border-left: 1px solid gray;box-sizing: border-box;top: 0;bottom: 0;left: 50%;z-index: 0;}#sk-container-id-10 div.sk-serial {display: flex;flex-direction: column;align-items: center;background-color: white;padding-right: 0.2em;padding-left: 0.2em;position: relative;}#sk-container-id-10 div.sk-item {position: relative;z-index: 1;}#sk-container-id-10 div.sk-parallel {display: flex;align-items: stretch;justify-content: center;background-color: white;position: relative;}#sk-container-id-10 div.sk-item::before, #sk-container-id-10 div.sk-parallel-item::before {content: \"\";position: absolute;border-left: 1px solid gray;box-sizing: border-box;top: 0;bottom: 0;left: 50%;z-index: -1;}#sk-container-id-10 div.sk-parallel-item {display: flex;flex-direction: column;z-index: 1;position: relative;background-color: white;}#sk-container-id-10 div.sk-parallel-item:first-child::after {align-self: flex-end;width: 50%;}#sk-container-id-10 div.sk-parallel-item:last-child::after {align-self: flex-start;width: 50%;}#sk-container-id-10 div.sk-parallel-item:only-child::after {width: 0;}#sk-container-id-10 div.sk-dashed-wrapped {border: 1px dashed gray;margin: 0 0.4em 0.5em 0.4em;box-sizing: border-box;padding-bottom: 0.4em;background-color: white;}#sk-container-id-10 div.sk-label label {font-family: monospace;font-weight: bold;display: inline-block;line-height: 1.2em;}#sk-container-id-10 div.sk-label-container {text-align: center;}#sk-container-id-10 div.sk-container {/* jupyter's `normalize.less` sets `[hidden] { display: none; }` but bootstrap.min.css set `[hidden] { display: none !important; }` so we also need the `!important` here to be able to override the default hidden behavior on the sphinx rendered scikit-learn.org. See: https://github.com/scikit-learn/scikit-learn/issues/21755 */display: inline-block !important;position: relative;}#sk-container-id-10 div.sk-text-repr-fallback {display: none;}</style><div id=\"sk-container-id-10\" class=\"sk-top-container\"><div class=\"sk-text-repr-fallback\"><pre>RandomForestClassifier(max_depth=15, n_estimators=45)</pre><b>In a Jupyter environment, please rerun this cell to show the HTML representation or trust the notebook. <br />On GitHub, the HTML representation is unable to render, please try loading this page with nbviewer.org.</b></div><div class=\"sk-container\" hidden><div class=\"sk-item\"><div class=\"sk-estimator sk-toggleable\"><input class=\"sk-toggleable__control sk-hidden--visually\" id=\"sk-estimator-id-10\" type=\"checkbox\" checked><label for=\"sk-estimator-id-10\" class=\"sk-toggleable__label sk-toggleable__label-arrow\">RandomForestClassifier</label><div class=\"sk-toggleable__content\"><pre>RandomForestClassifier(max_depth=15, n_estimators=45)</pre></div></div></div></div></div>"
      ],
      "text/plain": [
       "RandomForestClassifier(max_depth=15, n_estimators=45)"
      ]
     },
     "execution_count": 376,
     "metadata": {},
     "output_type": "execute_result"
    }
   ],
   "source": [
    "#Достанем лучшие гиперпараметры\n",
    "CV_RF_upsampled.best_estimator_ "
   ]
  },
  {
   "cell_type": "code",
   "execution_count": 377,
   "metadata": {},
   "outputs": [],
   "source": [
    "RF_full_upsampled = RandomForestClassifier(max_depth=15, n_estimators=50)\n",
    "RF_full_upsampled.fit(features_upsampled_full, target_upsampled_full)\n",
    "prediction_RF_full_upsampled = RF_full_upsampled.predict(features_valid)\n",
    "F1_RF_full_upsampled = f1_score(prediction_RF_full_upsampled, target_valid)"
   ]
  },
  {
   "cell_type": "code",
   "execution_count": 378,
   "metadata": {},
   "outputs": [
    {
     "name": "stdout",
     "output_type": "stream",
     "text": [
      "Случайный лес на объединенной выборке: 0.9812206572769953\n"
     ]
    }
   ],
   "source": [
    "print(f'Случайный лес на объединенной выборке: {F1_RF_full_upsampled}')"
   ]
  },
  {
   "cell_type": "code",
   "execution_count": 379,
   "metadata": {},
   "outputs": [
    {
     "data": {
      "text/plain": [
       "0.8504372098322369"
      ]
     },
     "execution_count": 379,
     "metadata": {},
     "output_type": "execute_result"
    }
   ],
   "source": [
    "RF_full_upsampled_test = RF_full_upsampled.predict_proba(features_test)[:, 1]\n",
    "\n",
    "auc_roc_RF_full_upsampled = roc_auc_score(target_test, RF_full_upsampled_test)\n",
    "\n",
    "auc_roc_RF_full_upsampled"
   ]
  },
  {
   "cell_type": "markdown",
   "metadata": {},
   "source": [
    " Проверим случайный лес, показавший лучший результат, на тестовой выборке"
   ]
  },
  {
   "cell_type": "code",
   "execution_count": 380,
   "metadata": {},
   "outputs": [
    {
     "data": {
      "text/plain": [
       "0.5909090909090909"
      ]
     },
     "execution_count": 380,
     "metadata": {},
     "output_type": "execute_result"
    }
   ],
   "source": [
    "final_model_RF = RandomForestClassifier(max_depth=15, n_estimators=50)\n",
    "final_model_RF.fit(features_train_upsampled, target_train_upsampled)\n",
    "final_model_RF_prediction = final_model_RF.predict(features_test)\n",
    "final_F1_RF = f1_score(final_model_RF_prediction, target_test)\n",
    "final_F1_RF"
   ]
  },
  {
   "cell_type": "code",
   "execution_count": 381,
   "metadata": {
    "scrolled": true
   },
   "outputs": [
    {
     "data": {
      "text/plain": [
       "0.8472254077901753"
      ]
     },
     "execution_count": 381,
     "metadata": {},
     "output_type": "execute_result"
    }
   ],
   "source": [
    "RF_final = final_model_RF.predict_proba(features_test)[:, 1]\n",
    "\n",
    "auc_roc_RF_final = roc_auc_score(target_test, RF_final)\n",
    "\n",
    "auc_roc_RF_final"
   ]
  },
  {
   "cell_type": "code",
   "execution_count": 382,
   "metadata": {
    "scrolled": true
   },
   "outputs": [
    {
     "name": "stdout",
     "output_type": "stream",
     "text": [
      "F1 случайного леса финальной модели: 0.5909090909090909\n",
      "AUC-ROC случайного леса финальной модели: 0.8472254077901753\n"
     ]
    }
   ],
   "source": [
    "print(f'F1 случайного леса финальной модели: {final_F1_RF}')\n",
    "print(f'AUC-ROC случайного леса финальной модели: {auc_roc_RF_final}')"
   ]
  },
  {
   "cell_type": "markdown",
   "metadata": {},
   "source": [
    " Проверим случайный лес, показавший лучший результат, на тестовой выборке, используя данные объединенной увеличенной выборки."
   ]
  },
  {
   "cell_type": "code",
   "execution_count": 383,
   "metadata": {},
   "outputs": [
    {
     "data": {
      "text/plain": [
       "0.5909090909090909"
      ]
     },
     "execution_count": 383,
     "metadata": {},
     "output_type": "execute_result"
    }
   ],
   "source": [
    "final_model_RF_full = RandomForestClassifier(max_depth=15, n_estimators=50)\n",
    "final_model_RF_full.fit(features_upsampled_full, target_upsampled_full)\n",
    "final_model_RF_prediction_full = final_model_RF_full.predict(features_test)\n",
    "final_F1_RF_full = f1_score(final_model_RF_prediction, target_test)\n",
    "final_F1_RF_full"
   ]
  },
  {
   "cell_type": "code",
   "execution_count": 384,
   "metadata": {},
   "outputs": [
    {
     "data": {
      "text/plain": [
       "0.8517714006455086"
      ]
     },
     "execution_count": 384,
     "metadata": {},
     "output_type": "execute_result"
    }
   ],
   "source": [
    "RF_final_full = final_model_RF_full.predict_proba(features_test)[:, 1]\n",
    "\n",
    "auc_roc_RF_final_full = roc_auc_score(target_test, RF_final_full)\n",
    "\n",
    "auc_roc_RF_final_full"
   ]
  },
  {
   "cell_type": "code",
   "execution_count": 385,
   "metadata": {},
   "outputs": [
    {
     "name": "stdout",
     "output_type": "stream",
     "text": [
      "F1 случайного леса финальной модели на объединенных данных: 0.5909090909090909\n",
      "AUC-ROC случайного леса финальной модели на объединенных данных: 0.8517714006455086\n"
     ]
    }
   ],
   "source": [
    "print(f'F1 случайного леса финальной модели на объединенных данных: {final_F1_RF_full}')\n",
    "print(f'AUC-ROC случайного леса финальной модели на объединенных данных: {auc_roc_RF_final_full}')"
   ]
  },
  {
   "cell_type": "markdown",
   "metadata": {},
   "source": [
    "Объединенная выборка показала результат выше, он F1 = 0.98."
   ]
  },
  {
   "cell_type": "markdown",
   "metadata": {},
   "source": [
    "# Выводы"
   ]
  },
  {
   "cell_type": "markdown",
   "metadata": {},
   "source": [
    "Нами был проведен первичный анализ данных, предобработка данных, в ходе которой мы заполнили пропуски, применили OHE, чтобы избежать ловушку фиктивных признаков.\n",
    " \n",
    "Далее мы разделили данные на три выборки: обучающую, тестовую, валидационную с помощью train_test_split() и масштабировали их методом scaler и обучили моделиб подобрав гиперпараметры через GridSearchCV. До устранения дисбаланса модели показали следующие результаты:\n",
    "\n",
    "Дерево решений \n",
    "- F1: 0.49936305732484076\n",
    "- AUC-ROC: 0.695961293015322\n",
    "\n",
    "Случайный лес\n",
    "- F1: 0.6038291605301914\n",
    "- AUC-ROC: 0.8345395871013012\n",
    "\n",
    "Логистическая регрессия\n",
    "- F1: 0.33108108108108103\n",
    "- AUC-ROC: 0.7586091132900634\n",
    "\n",
    "В ходе исследования данных нами был выявлен явный дисбаланс классов: отрицательные значения = 80%, положитльные – 20%. Для борьбы с дисбалансом использовали upsampling и downsampling, более эффективным оказался upsampling (увеличение положительного класса в выборке). Благодаря этому все показатели увеличились, наиболее высокие результаты показал Random Forest.\n",
    "\n",
    "Результаты моделей после устранения дисбаланса с помощью upsampling:\n",
    "\n",
    "Дерево решений\n",
    "\n",
    "- F1: 0.4934804413239719\n",
    "- AUC-ROC: 0.70879859544275\n",
    "\n",
    "Случайный лес\n",
    "\n",
    "- F1: 0.6053639846743295\n",
    "- AUC-ROC: 0.8402505156697053\n",
    "\n",
    "Логистическая регрессия\n",
    "\n",
    "- F1: 0.48843187660668386\n",
    "- AUC-ROC: 0.763437656893642\n",
    "\n",
    "F1 случайного леса = 0.6053639846743295 после устранения дисбаланса, что выше целевого показателя. F1 случайного леса на объединенной выборке = 0.9812206572769953. Целевое значение достигнуто в обоих случаях.\n",
    "\n",
    "После проверки на тестовой выборке результат финальной модели на обучающей увеличенной выборке:\n",
    "\n",
    "- F1 =  0.5909090909090909\n",
    "- AUC-ROC случайного леса финальной модели: 0.8517714006455086.\n"
   ]
  }
 ],
 "metadata": {
  "ExecuteTimeLog": [
   {
    "duration": 1649,
    "start_time": "2022-11-23T15:11:56.770Z"
   },
   {
    "duration": 155,
    "start_time": "2022-11-23T15:12:45.440Z"
   },
   {
    "duration": 47,
    "start_time": "2022-11-23T15:14:17.074Z"
   },
   {
    "duration": 47,
    "start_time": "2022-11-23T15:14:20.371Z"
   },
   {
    "duration": 48,
    "start_time": "2022-11-23T15:15:18.123Z"
   },
   {
    "duration": 50,
    "start_time": "2022-11-23T15:22:13.586Z"
   },
   {
    "duration": 82,
    "start_time": "2022-11-23T15:41:24.640Z"
   },
   {
    "duration": 5,
    "start_time": "2022-11-23T15:42:23.672Z"
   },
   {
    "duration": 42,
    "start_time": "2022-11-23T15:42:24.417Z"
   },
   {
    "duration": 18,
    "start_time": "2022-11-23T16:17:37.473Z"
   },
   {
    "duration": 14,
    "start_time": "2022-11-23T16:17:51.404Z"
   },
   {
    "duration": 40,
    "start_time": "2022-11-23T16:18:12.740Z"
   },
   {
    "duration": 10,
    "start_time": "2022-11-23T16:20:44.498Z"
   },
   {
    "duration": 21,
    "start_time": "2022-11-23T16:24:20.655Z"
   },
   {
    "duration": 19,
    "start_time": "2022-11-23T16:25:04.386Z"
   },
   {
    "duration": 12,
    "start_time": "2022-11-23T16:28:24.764Z"
   },
   {
    "duration": 20,
    "start_time": "2022-11-23T16:34:26.223Z"
   },
   {
    "duration": 11,
    "start_time": "2022-11-23T16:35:17.273Z"
   },
   {
    "duration": 5,
    "start_time": "2022-11-23T16:35:23.241Z"
   },
   {
    "duration": 4,
    "start_time": "2022-11-23T16:35:26.603Z"
   },
   {
    "duration": 14,
    "start_time": "2022-11-23T16:35:45.089Z"
   },
   {
    "duration": 7,
    "start_time": "2022-11-23T16:35:58.820Z"
   },
   {
    "duration": 4,
    "start_time": "2022-11-23T16:36:02.297Z"
   },
   {
    "duration": 83,
    "start_time": "2022-11-23T16:36:02.304Z"
   },
   {
    "duration": 22,
    "start_time": "2022-11-23T16:36:02.389Z"
   },
   {
    "duration": 59,
    "start_time": "2022-11-23T16:36:02.413Z"
   },
   {
    "duration": 15,
    "start_time": "2022-11-23T16:36:02.475Z"
   },
   {
    "duration": 47,
    "start_time": "2022-11-23T16:36:02.493Z"
   },
   {
    "duration": 27,
    "start_time": "2022-11-23T16:36:02.543Z"
   },
   {
    "duration": 62,
    "start_time": "2022-11-23T16:36:02.572Z"
   },
   {
    "duration": 4,
    "start_time": "2022-11-23T16:42:36.578Z"
   },
   {
    "duration": 47,
    "start_time": "2022-11-23T16:42:36.585Z"
   },
   {
    "duration": 19,
    "start_time": "2022-11-23T16:42:36.633Z"
   },
   {
    "duration": 61,
    "start_time": "2022-11-23T16:42:36.655Z"
   },
   {
    "duration": 21,
    "start_time": "2022-11-23T16:42:36.718Z"
   },
   {
    "duration": 23,
    "start_time": "2022-11-23T16:42:36.741Z"
   },
   {
    "duration": 32,
    "start_time": "2022-11-23T16:42:36.766Z"
   },
   {
    "duration": 19,
    "start_time": "2022-11-23T16:42:36.800Z"
   },
   {
    "duration": 14,
    "start_time": "2022-11-23T16:42:50.921Z"
   },
   {
    "duration": 6,
    "start_time": "2022-11-23T16:43:32.204Z"
   },
   {
    "duration": 5,
    "start_time": "2022-11-23T16:44:52.107Z"
   },
   {
    "duration": 4,
    "start_time": "2022-11-23T16:45:44.168Z"
   },
   {
    "duration": 4,
    "start_time": "2022-11-23T16:46:10.175Z"
   },
   {
    "duration": 4,
    "start_time": "2022-11-23T16:46:23.733Z"
   },
   {
    "duration": 223,
    "start_time": "2022-11-23T16:48:05.846Z"
   },
   {
    "duration": 1546,
    "start_time": "2022-11-26T10:47:52.651Z"
   },
   {
    "duration": 76,
    "start_time": "2022-11-26T10:47:54.199Z"
   },
   {
    "duration": 17,
    "start_time": "2022-11-26T10:47:54.277Z"
   },
   {
    "duration": 46,
    "start_time": "2022-11-26T10:47:54.296Z"
   },
   {
    "duration": 12,
    "start_time": "2022-11-26T10:47:54.344Z"
   },
   {
    "duration": 19,
    "start_time": "2022-11-26T10:47:54.358Z"
   },
   {
    "duration": 19,
    "start_time": "2022-11-26T10:47:54.379Z"
   },
   {
    "duration": 10,
    "start_time": "2022-11-26T10:47:54.400Z"
   },
   {
    "duration": 19,
    "start_time": "2022-11-26T10:47:54.411Z"
   },
   {
    "duration": 205,
    "start_time": "2022-11-26T10:47:54.432Z"
   },
   {
    "duration": 4,
    "start_time": "2022-11-26T10:54:01.084Z"
   },
   {
    "duration": 7,
    "start_time": "2022-11-26T10:54:03.179Z"
   },
   {
    "duration": 8,
    "start_time": "2022-11-26T10:54:05.847Z"
   },
   {
    "duration": 226,
    "start_time": "2022-11-26T10:54:06.693Z"
   },
   {
    "duration": 53,
    "start_time": "2022-11-26T10:59:14.201Z"
   },
   {
    "duration": 7,
    "start_time": "2022-11-26T10:59:42.550Z"
   },
   {
    "duration": 7,
    "start_time": "2022-11-26T10:59:54.335Z"
   },
   {
    "duration": 5,
    "start_time": "2022-11-26T11:06:28.615Z"
   },
   {
    "duration": 4,
    "start_time": "2022-11-26T11:06:55.134Z"
   },
   {
    "duration": 6,
    "start_time": "2022-11-26T11:09:13.552Z"
   },
   {
    "duration": 5,
    "start_time": "2022-11-26T11:09:14.390Z"
   },
   {
    "duration": 5,
    "start_time": "2022-11-26T11:09:15.561Z"
   },
   {
    "duration": 4,
    "start_time": "2022-11-26T11:09:16.140Z"
   },
   {
    "duration": 12,
    "start_time": "2022-11-26T11:10:59.582Z"
   },
   {
    "duration": 12,
    "start_time": "2022-11-26T11:11:15.389Z"
   },
   {
    "duration": 3,
    "start_time": "2022-11-26T11:14:41.858Z"
   },
   {
    "duration": 9,
    "start_time": "2022-11-26T11:14:57.768Z"
   },
   {
    "duration": 22,
    "start_time": "2022-11-26T11:15:34.212Z"
   },
   {
    "duration": 19,
    "start_time": "2022-11-26T11:16:06.849Z"
   },
   {
    "duration": 118,
    "start_time": "2022-11-26T11:16:33.477Z"
   },
   {
    "duration": 4,
    "start_time": "2022-11-26T11:18:26.877Z"
   },
   {
    "duration": 5,
    "start_time": "2022-11-26T11:18:29.999Z"
   },
   {
    "duration": 48,
    "start_time": "2022-11-26T11:18:30.006Z"
   },
   {
    "duration": 12,
    "start_time": "2022-11-26T11:18:30.056Z"
   },
   {
    "duration": 50,
    "start_time": "2022-11-26T11:18:30.069Z"
   },
   {
    "duration": 11,
    "start_time": "2022-11-26T11:18:30.121Z"
   },
   {
    "duration": 31,
    "start_time": "2022-11-26T11:18:30.133Z"
   },
   {
    "duration": 4,
    "start_time": "2022-11-26T11:18:30.165Z"
   },
   {
    "duration": 31,
    "start_time": "2022-11-26T11:18:30.170Z"
   },
   {
    "duration": 23,
    "start_time": "2022-11-26T11:18:30.202Z"
   },
   {
    "duration": 211,
    "start_time": "2022-11-26T11:18:30.227Z"
   },
   {
    "duration": 6,
    "start_time": "2022-11-26T11:18:30.440Z"
   },
   {
    "duration": 34,
    "start_time": "2022-11-26T11:18:30.447Z"
   },
   {
    "duration": 63,
    "start_time": "2022-11-26T11:18:30.483Z"
   },
   {
    "duration": 33,
    "start_time": "2022-11-26T11:18:30.547Z"
   },
   {
    "duration": 35,
    "start_time": "2022-11-26T11:18:30.582Z"
   },
   {
    "duration": 39,
    "start_time": "2022-11-26T11:18:30.618Z"
   },
   {
    "duration": 45,
    "start_time": "2022-11-26T11:18:30.659Z"
   },
   {
    "duration": 67,
    "start_time": "2022-11-26T11:18:30.706Z"
   },
   {
    "duration": 48,
    "start_time": "2022-11-26T11:18:30.774Z"
   },
   {
    "duration": 45,
    "start_time": "2022-11-26T11:18:30.824Z"
   },
   {
    "duration": 17,
    "start_time": "2022-11-26T11:21:02.558Z"
   },
   {
    "duration": 21,
    "start_time": "2022-11-26T11:21:05.209Z"
   },
   {
    "duration": 4,
    "start_time": "2022-11-26T11:21:08.514Z"
   },
   {
    "duration": 44,
    "start_time": "2022-11-26T11:21:08.520Z"
   },
   {
    "duration": 14,
    "start_time": "2022-11-26T11:21:08.566Z"
   },
   {
    "duration": 44,
    "start_time": "2022-11-26T11:21:08.582Z"
   },
   {
    "duration": 15,
    "start_time": "2022-11-26T11:21:08.628Z"
   },
   {
    "duration": 16,
    "start_time": "2022-11-26T11:21:08.645Z"
   },
   {
    "duration": 14,
    "start_time": "2022-11-26T11:21:08.663Z"
   },
   {
    "duration": 16,
    "start_time": "2022-11-26T11:21:08.679Z"
   },
   {
    "duration": 31,
    "start_time": "2022-11-26T11:21:08.697Z"
   },
   {
    "duration": 206,
    "start_time": "2022-11-26T11:21:08.730Z"
   },
   {
    "duration": 4,
    "start_time": "2022-11-26T11:21:08.939Z"
   },
   {
    "duration": 18,
    "start_time": "2022-11-26T11:21:08.945Z"
   },
   {
    "duration": 14,
    "start_time": "2022-11-26T11:21:08.965Z"
   },
   {
    "duration": 16,
    "start_time": "2022-11-26T11:21:08.981Z"
   },
   {
    "duration": 27,
    "start_time": "2022-11-26T11:21:08.999Z"
   },
   {
    "duration": 9,
    "start_time": "2022-11-26T11:21:09.027Z"
   },
   {
    "duration": 24,
    "start_time": "2022-11-26T11:21:09.037Z"
   },
   {
    "duration": 21,
    "start_time": "2022-11-26T11:21:09.062Z"
   },
   {
    "duration": 40,
    "start_time": "2022-11-26T11:21:09.085Z"
   },
   {
    "duration": 17,
    "start_time": "2022-11-26T11:21:09.126Z"
   },
   {
    "duration": 20,
    "start_time": "2022-11-26T11:21:09.145Z"
   },
   {
    "duration": 4,
    "start_time": "2022-11-26T11:22:22.349Z"
   },
   {
    "duration": 63,
    "start_time": "2022-11-26T11:22:22.354Z"
   },
   {
    "duration": 18,
    "start_time": "2022-11-26T11:22:22.418Z"
   },
   {
    "duration": 66,
    "start_time": "2022-11-26T11:22:22.437Z"
   },
   {
    "duration": 13,
    "start_time": "2022-11-26T11:22:22.506Z"
   },
   {
    "duration": 16,
    "start_time": "2022-11-26T11:22:22.521Z"
   },
   {
    "duration": 3,
    "start_time": "2022-11-26T11:22:22.539Z"
   },
   {
    "duration": 18,
    "start_time": "2022-11-26T11:22:22.545Z"
   },
   {
    "duration": 14,
    "start_time": "2022-11-26T11:22:22.565Z"
   },
   {
    "duration": 209,
    "start_time": "2022-11-26T11:22:22.581Z"
   },
   {
    "duration": 5,
    "start_time": "2022-11-26T11:22:22.792Z"
   },
   {
    "duration": 13,
    "start_time": "2022-11-26T11:22:22.799Z"
   },
   {
    "duration": 12,
    "start_time": "2022-11-26T11:22:22.814Z"
   },
   {
    "duration": 12,
    "start_time": "2022-11-26T11:22:22.829Z"
   },
   {
    "duration": 14,
    "start_time": "2022-11-26T11:22:22.842Z"
   },
   {
    "duration": 19,
    "start_time": "2022-11-26T11:22:22.858Z"
   },
   {
    "duration": 16,
    "start_time": "2022-11-26T11:22:22.879Z"
   },
   {
    "duration": 21,
    "start_time": "2022-11-26T11:22:22.897Z"
   },
   {
    "duration": 58,
    "start_time": "2022-11-26T11:22:22.919Z"
   },
   {
    "duration": 14,
    "start_time": "2022-11-26T11:22:22.979Z"
   },
   {
    "duration": 35,
    "start_time": "2022-11-26T11:22:22.995Z"
   },
   {
    "duration": 25,
    "start_time": "2022-11-26T11:22:23.031Z"
   },
   {
    "duration": 30,
    "start_time": "2022-11-26T11:22:23.058Z"
   },
   {
    "duration": 4,
    "start_time": "2022-11-26T11:35:25.357Z"
   },
   {
    "duration": 24,
    "start_time": "2022-11-26T11:35:26.264Z"
   },
   {
    "duration": 4,
    "start_time": "2022-11-26T11:35:41.661Z"
   },
   {
    "duration": 5,
    "start_time": "2022-11-26T11:35:46.527Z"
   },
   {
    "duration": 5,
    "start_time": "2022-11-26T11:35:51.872Z"
   },
   {
    "duration": 9,
    "start_time": "2022-11-26T11:36:20.985Z"
   },
   {
    "duration": 4,
    "start_time": "2022-11-26T11:38:54.635Z"
   },
   {
    "duration": 10,
    "start_time": "2022-11-26T11:38:55.605Z"
   },
   {
    "duration": 4,
    "start_time": "2022-11-26T11:39:05.932Z"
   },
   {
    "duration": 10,
    "start_time": "2022-11-26T11:39:06.931Z"
   },
   {
    "duration": 5,
    "start_time": "2022-11-26T11:39:27.965Z"
   },
   {
    "duration": 58,
    "start_time": "2022-11-26T11:42:12.795Z"
   },
   {
    "duration": 10,
    "start_time": "2022-11-26T11:43:41.865Z"
   },
   {
    "duration": 21,
    "start_time": "2022-11-26T11:44:09.583Z"
   },
   {
    "duration": 21,
    "start_time": "2022-11-26T11:45:35.924Z"
   },
   {
    "duration": 5,
    "start_time": "2022-11-26T11:46:20.529Z"
   },
   {
    "duration": 60,
    "start_time": "2022-11-26T11:46:20.537Z"
   },
   {
    "duration": 20,
    "start_time": "2022-11-26T11:46:20.599Z"
   },
   {
    "duration": 55,
    "start_time": "2022-11-26T11:46:20.621Z"
   },
   {
    "duration": 21,
    "start_time": "2022-11-26T11:46:20.678Z"
   },
   {
    "duration": 15,
    "start_time": "2022-11-26T11:46:20.701Z"
   },
   {
    "duration": 4,
    "start_time": "2022-11-26T11:46:20.718Z"
   },
   {
    "duration": 14,
    "start_time": "2022-11-26T11:46:20.724Z"
   },
   {
    "duration": 15,
    "start_time": "2022-11-26T11:46:20.740Z"
   },
   {
    "duration": 222,
    "start_time": "2022-11-26T11:46:20.758Z"
   },
   {
    "duration": 5,
    "start_time": "2022-11-26T11:46:20.982Z"
   },
   {
    "duration": 8,
    "start_time": "2022-11-26T11:46:20.989Z"
   },
   {
    "duration": 5,
    "start_time": "2022-11-26T11:46:21.000Z"
   },
   {
    "duration": 8,
    "start_time": "2022-11-26T11:46:21.006Z"
   },
   {
    "duration": 20,
    "start_time": "2022-11-26T11:46:21.016Z"
   },
   {
    "duration": 3,
    "start_time": "2022-11-26T11:46:21.037Z"
   },
   {
    "duration": 10,
    "start_time": "2022-11-26T11:46:21.042Z"
   },
   {
    "duration": 14,
    "start_time": "2022-11-26T11:46:21.054Z"
   },
   {
    "duration": 25,
    "start_time": "2022-11-26T11:46:21.069Z"
   },
   {
    "duration": 12,
    "start_time": "2022-11-26T11:46:21.095Z"
   },
   {
    "duration": 18,
    "start_time": "2022-11-26T11:46:21.136Z"
   },
   {
    "duration": 19,
    "start_time": "2022-11-26T11:46:21.156Z"
   },
   {
    "duration": 27,
    "start_time": "2022-11-26T11:46:21.177Z"
   },
   {
    "duration": 36,
    "start_time": "2022-11-26T11:46:21.206Z"
   },
   {
    "duration": 0,
    "start_time": "2022-11-26T11:46:21.244Z"
   },
   {
    "duration": 0,
    "start_time": "2022-11-26T11:46:21.245Z"
   },
   {
    "duration": 15,
    "start_time": "2022-11-26T11:51:30.746Z"
   },
   {
    "duration": 83,
    "start_time": "2022-11-26T11:51:56.348Z"
   },
   {
    "duration": 16,
    "start_time": "2022-11-26T11:52:48.989Z"
   },
   {
    "duration": 193,
    "start_time": "2022-11-26T11:52:49.800Z"
   },
   {
    "duration": 4,
    "start_time": "2022-11-26T11:52:52.789Z"
   },
   {
    "duration": 44,
    "start_time": "2022-11-26T11:52:52.795Z"
   },
   {
    "duration": 17,
    "start_time": "2022-11-26T11:52:52.841Z"
   },
   {
    "duration": 50,
    "start_time": "2022-11-26T11:52:52.860Z"
   },
   {
    "duration": 26,
    "start_time": "2022-11-26T11:52:52.912Z"
   },
   {
    "duration": 13,
    "start_time": "2022-11-26T11:52:52.940Z"
   },
   {
    "duration": 5,
    "start_time": "2022-11-26T11:52:52.954Z"
   },
   {
    "duration": 21,
    "start_time": "2022-11-26T11:52:52.960Z"
   },
   {
    "duration": 12,
    "start_time": "2022-11-26T11:52:52.982Z"
   },
   {
    "duration": 15,
    "start_time": "2022-11-26T11:52:52.995Z"
   },
   {
    "duration": 1,
    "start_time": "2022-11-26T11:52:53.011Z"
   },
   {
    "duration": 0,
    "start_time": "2022-11-26T11:52:53.035Z"
   },
   {
    "duration": 0,
    "start_time": "2022-11-26T11:52:53.037Z"
   },
   {
    "duration": 0,
    "start_time": "2022-11-26T11:52:53.038Z"
   },
   {
    "duration": 0,
    "start_time": "2022-11-26T11:52:53.039Z"
   },
   {
    "duration": 0,
    "start_time": "2022-11-26T11:52:53.040Z"
   },
   {
    "duration": 0,
    "start_time": "2022-11-26T11:52:53.041Z"
   },
   {
    "duration": 0,
    "start_time": "2022-11-26T11:52:53.042Z"
   },
   {
    "duration": 0,
    "start_time": "2022-11-26T11:52:53.045Z"
   },
   {
    "duration": 0,
    "start_time": "2022-11-26T11:52:53.046Z"
   },
   {
    "duration": 0,
    "start_time": "2022-11-26T11:52:53.047Z"
   },
   {
    "duration": 0,
    "start_time": "2022-11-26T11:52:53.048Z"
   },
   {
    "duration": 0,
    "start_time": "2022-11-26T11:52:53.049Z"
   },
   {
    "duration": 0,
    "start_time": "2022-11-26T11:52:53.050Z"
   },
   {
    "duration": 0,
    "start_time": "2022-11-26T11:52:53.051Z"
   },
   {
    "duration": 0,
    "start_time": "2022-11-26T11:52:53.052Z"
   },
   {
    "duration": 0,
    "start_time": "2022-11-26T11:52:53.053Z"
   },
   {
    "duration": 20,
    "start_time": "2022-11-26T11:53:09.803Z"
   },
   {
    "duration": 5,
    "start_time": "2022-11-26T11:53:13.472Z"
   },
   {
    "duration": 52,
    "start_time": "2022-11-26T11:53:13.480Z"
   },
   {
    "duration": 23,
    "start_time": "2022-11-26T11:53:13.534Z"
   },
   {
    "duration": 51,
    "start_time": "2022-11-26T11:53:13.559Z"
   },
   {
    "duration": 32,
    "start_time": "2022-11-26T11:53:13.612Z"
   },
   {
    "duration": 20,
    "start_time": "2022-11-26T11:53:13.645Z"
   },
   {
    "duration": 4,
    "start_time": "2022-11-26T11:53:13.667Z"
   },
   {
    "duration": 13,
    "start_time": "2022-11-26T11:53:13.673Z"
   },
   {
    "duration": 10,
    "start_time": "2022-11-26T11:53:13.688Z"
   },
   {
    "duration": 39,
    "start_time": "2022-11-26T11:53:13.699Z"
   },
   {
    "duration": 22,
    "start_time": "2022-11-26T11:53:13.740Z"
   },
   {
    "duration": 5,
    "start_time": "2022-11-26T11:53:13.764Z"
   },
   {
    "duration": 8,
    "start_time": "2022-11-26T11:53:13.773Z"
   },
   {
    "duration": 9,
    "start_time": "2022-11-26T11:53:13.782Z"
   },
   {
    "duration": 14,
    "start_time": "2022-11-26T11:53:13.794Z"
   },
   {
    "duration": 8,
    "start_time": "2022-11-26T11:53:13.809Z"
   },
   {
    "duration": 17,
    "start_time": "2022-11-26T11:53:13.818Z"
   },
   {
    "duration": 8,
    "start_time": "2022-11-26T11:53:13.837Z"
   },
   {
    "duration": 12,
    "start_time": "2022-11-26T11:53:13.846Z"
   },
   {
    "duration": 27,
    "start_time": "2022-11-26T11:53:13.859Z"
   },
   {
    "duration": 10,
    "start_time": "2022-11-26T11:53:13.888Z"
   },
   {
    "duration": 49,
    "start_time": "2022-11-26T11:53:13.899Z"
   },
   {
    "duration": 14,
    "start_time": "2022-11-26T11:53:13.949Z"
   },
   {
    "duration": 29,
    "start_time": "2022-11-26T11:53:13.965Z"
   },
   {
    "duration": 20,
    "start_time": "2022-11-26T11:53:13.996Z"
   },
   {
    "duration": 0,
    "start_time": "2022-11-26T11:53:14.036Z"
   },
   {
    "duration": 0,
    "start_time": "2022-11-26T11:53:14.037Z"
   },
   {
    "duration": 9,
    "start_time": "2022-11-26T11:57:59.720Z"
   },
   {
    "duration": 20,
    "start_time": "2022-11-26T11:58:00.810Z"
   },
   {
    "duration": 720,
    "start_time": "2022-11-26T11:58:49.205Z"
   },
   {
    "duration": 15,
    "start_time": "2022-11-26T11:58:49.935Z"
   },
   {
    "duration": 4,
    "start_time": "2022-11-26T11:58:57.635Z"
   },
   {
    "duration": 44,
    "start_time": "2022-11-26T11:58:57.641Z"
   },
   {
    "duration": 14,
    "start_time": "2022-11-26T11:58:57.686Z"
   },
   {
    "duration": 51,
    "start_time": "2022-11-26T11:58:57.701Z"
   },
   {
    "duration": 17,
    "start_time": "2022-11-26T11:58:57.756Z"
   },
   {
    "duration": 12,
    "start_time": "2022-11-26T11:58:57.774Z"
   },
   {
    "duration": 4,
    "start_time": "2022-11-26T11:58:57.788Z"
   },
   {
    "duration": 9,
    "start_time": "2022-11-26T11:58:57.794Z"
   },
   {
    "duration": 30,
    "start_time": "2022-11-26T11:58:57.805Z"
   },
   {
    "duration": 17,
    "start_time": "2022-11-26T11:58:57.837Z"
   },
   {
    "duration": 11,
    "start_time": "2022-11-26T11:58:57.856Z"
   },
   {
    "duration": 14,
    "start_time": "2022-11-26T11:58:57.869Z"
   },
   {
    "duration": 6,
    "start_time": "2022-11-26T11:58:57.885Z"
   },
   {
    "duration": 8,
    "start_time": "2022-11-26T11:58:57.893Z"
   },
   {
    "duration": 33,
    "start_time": "2022-11-26T11:58:57.902Z"
   },
   {
    "duration": 7,
    "start_time": "2022-11-26T11:58:57.937Z"
   },
   {
    "duration": 9,
    "start_time": "2022-11-26T11:58:57.945Z"
   },
   {
    "duration": 6,
    "start_time": "2022-11-26T11:58:57.956Z"
   },
   {
    "duration": 13,
    "start_time": "2022-11-26T11:58:57.963Z"
   },
   {
    "duration": 20,
    "start_time": "2022-11-26T11:58:57.978Z"
   },
   {
    "duration": 45,
    "start_time": "2022-11-26T11:58:58.000Z"
   },
   {
    "duration": 17,
    "start_time": "2022-11-26T11:58:58.047Z"
   },
   {
    "duration": 23,
    "start_time": "2022-11-26T11:58:58.068Z"
   },
   {
    "duration": 19,
    "start_time": "2022-11-26T11:58:58.092Z"
   },
   {
    "duration": 40,
    "start_time": "2022-11-26T11:58:58.113Z"
   },
   {
    "duration": 201,
    "start_time": "2022-11-26T11:58:58.154Z"
   },
   {
    "duration": 182,
    "start_time": "2022-11-26T11:58:58.356Z"
   },
   {
    "duration": 0,
    "start_time": "2022-11-26T11:58:58.540Z"
   },
   {
    "duration": 5,
    "start_time": "2022-11-26T11:59:30.461Z"
   },
   {
    "duration": 6,
    "start_time": "2022-11-26T11:59:39.956Z"
   },
   {
    "duration": 12,
    "start_time": "2022-11-26T11:59:40.947Z"
   },
   {
    "duration": 6,
    "start_time": "2022-11-26T11:59:53.530Z"
   },
   {
    "duration": 9,
    "start_time": "2022-11-26T11:59:54.723Z"
   },
   {
    "duration": 1870,
    "start_time": "2022-11-26T12:00:56.078Z"
   },
   {
    "duration": 125,
    "start_time": "2022-11-26T12:01:04.619Z"
   },
   {
    "duration": 34,
    "start_time": "2022-11-26T12:01:46.513Z"
   },
   {
    "duration": 9,
    "start_time": "2022-11-26T12:04:09.348Z"
   },
   {
    "duration": 42,
    "start_time": "2022-11-26T12:04:33.113Z"
   },
   {
    "duration": 9,
    "start_time": "2022-11-26T12:05:10.643Z"
   },
   {
    "duration": 847,
    "start_time": "2022-11-26T12:05:34.312Z"
   },
   {
    "duration": 275,
    "start_time": "2022-11-26T12:05:35.161Z"
   },
   {
    "duration": 4,
    "start_time": "2022-11-26T12:05:36.667Z"
   },
   {
    "duration": 7,
    "start_time": "2022-11-26T12:19:47.548Z"
   },
   {
    "duration": 89,
    "start_time": "2022-11-26T12:22:07.887Z"
   },
   {
    "duration": 72,
    "start_time": "2022-11-26T12:23:54.179Z"
   },
   {
    "duration": 7,
    "start_time": "2022-11-26T12:24:35.944Z"
   },
   {
    "duration": 172,
    "start_time": "2022-11-26T12:24:42.329Z"
   },
   {
    "duration": 7,
    "start_time": "2022-11-26T12:24:47.896Z"
   },
   {
    "duration": 5,
    "start_time": "2022-11-26T12:25:10.524Z"
   },
   {
    "duration": 77,
    "start_time": "2022-11-26T12:25:17.815Z"
   },
   {
    "duration": 6,
    "start_time": "2022-11-26T12:25:39.881Z"
   },
   {
    "duration": 68,
    "start_time": "2022-11-26T12:25:55.842Z"
   },
   {
    "duration": 42,
    "start_time": "2022-11-26T12:28:09.102Z"
   },
   {
    "duration": 812,
    "start_time": "2022-11-26T12:28:40.177Z"
   },
   {
    "duration": 231,
    "start_time": "2022-11-26T12:29:03.705Z"
   },
   {
    "duration": 141,
    "start_time": "2022-11-26T12:29:27.507Z"
   },
   {
    "duration": 258,
    "start_time": "2022-11-26T12:29:54.287Z"
   },
   {
    "duration": 4,
    "start_time": "2022-11-26T12:29:55.369Z"
   },
   {
    "duration": 4,
    "start_time": "2022-11-26T12:31:04.710Z"
   },
   {
    "duration": 11,
    "start_time": "2022-11-26T12:31:36.136Z"
   },
   {
    "duration": 4,
    "start_time": "2022-11-26T12:31:54.614Z"
   },
   {
    "duration": 47,
    "start_time": "2022-11-26T12:31:54.620Z"
   },
   {
    "duration": 15,
    "start_time": "2022-11-26T12:31:54.669Z"
   },
   {
    "duration": 40,
    "start_time": "2022-11-26T12:31:54.685Z"
   },
   {
    "duration": 11,
    "start_time": "2022-11-26T12:31:54.727Z"
   },
   {
    "duration": 13,
    "start_time": "2022-11-26T12:31:54.739Z"
   },
   {
    "duration": 4,
    "start_time": "2022-11-26T12:31:54.754Z"
   },
   {
    "duration": 17,
    "start_time": "2022-11-26T12:31:54.759Z"
   },
   {
    "duration": 20,
    "start_time": "2022-11-26T12:31:54.777Z"
   },
   {
    "duration": 14,
    "start_time": "2022-11-26T12:31:54.799Z"
   },
   {
    "duration": 14,
    "start_time": "2022-11-26T12:31:54.815Z"
   },
   {
    "duration": 23,
    "start_time": "2022-11-26T12:31:54.830Z"
   },
   {
    "duration": 6,
    "start_time": "2022-11-26T12:31:54.856Z"
   },
   {
    "duration": 28,
    "start_time": "2022-11-26T12:31:54.863Z"
   },
   {
    "duration": 11,
    "start_time": "2022-11-26T12:31:54.893Z"
   },
   {
    "duration": 6,
    "start_time": "2022-11-26T12:31:54.905Z"
   },
   {
    "duration": 8,
    "start_time": "2022-11-26T12:31:54.913Z"
   },
   {
    "duration": 8,
    "start_time": "2022-11-26T12:31:54.923Z"
   },
   {
    "duration": 17,
    "start_time": "2022-11-26T12:31:54.932Z"
   },
   {
    "duration": 18,
    "start_time": "2022-11-26T12:31:54.950Z"
   },
   {
    "duration": 32,
    "start_time": "2022-11-26T12:31:54.970Z"
   },
   {
    "duration": 9,
    "start_time": "2022-11-26T12:31:55.004Z"
   },
   {
    "duration": 20,
    "start_time": "2022-11-26T12:31:55.014Z"
   },
   {
    "duration": 9,
    "start_time": "2022-11-26T12:31:55.036Z"
   },
   {
    "duration": 21,
    "start_time": "2022-11-26T12:31:55.046Z"
   },
   {
    "duration": 41,
    "start_time": "2022-11-26T12:31:55.068Z"
   },
   {
    "duration": 816,
    "start_time": "2022-11-26T12:31:55.111Z"
   },
   {
    "duration": 306,
    "start_time": "2022-11-26T12:31:55.929Z"
   },
   {
    "duration": 11,
    "start_time": "2022-11-26T12:31:56.238Z"
   },
   {
    "duration": 6,
    "start_time": "2022-11-26T12:31:56.336Z"
   },
   {
    "duration": 95,
    "start_time": "2022-11-26T12:31:56.343Z"
   },
   {
    "duration": 6,
    "start_time": "2022-11-26T12:31:56.441Z"
   },
   {
    "duration": 93,
    "start_time": "2022-11-26T12:31:56.449Z"
   },
   {
    "duration": 7,
    "start_time": "2022-11-26T12:31:56.544Z"
   },
   {
    "duration": 91,
    "start_time": "2022-11-26T12:31:56.553Z"
   },
   {
    "duration": 4,
    "start_time": "2022-11-26T12:49:09.235Z"
   },
   {
    "duration": 10,
    "start_time": "2022-11-26T12:49:47.134Z"
   },
   {
    "duration": 4,
    "start_time": "2022-11-26T12:54:42.103Z"
   },
   {
    "duration": 7,
    "start_time": "2022-11-26T12:55:53.516Z"
   },
   {
    "duration": 10,
    "start_time": "2022-11-26T12:56:46.866Z"
   },
   {
    "duration": 13,
    "start_time": "2022-11-26T12:57:18.562Z"
   },
   {
    "duration": 10,
    "start_time": "2022-11-26T12:57:31.518Z"
   },
   {
    "duration": 13,
    "start_time": "2022-11-26T12:58:10.152Z"
   },
   {
    "duration": 12,
    "start_time": "2022-11-26T12:58:33.433Z"
   },
   {
    "duration": 9,
    "start_time": "2022-11-26T12:59:10.850Z"
   },
   {
    "duration": 9,
    "start_time": "2022-11-26T12:59:11.443Z"
   },
   {
    "duration": 8,
    "start_time": "2022-11-26T13:00:27.349Z"
   },
   {
    "duration": 5,
    "start_time": "2022-11-26T13:00:28.581Z"
   },
   {
    "duration": 9,
    "start_time": "2022-11-26T13:00:30.913Z"
   },
   {
    "duration": 6,
    "start_time": "2022-11-26T13:00:31.910Z"
   },
   {
    "duration": 13,
    "start_time": "2022-11-26T13:00:59.829Z"
   },
   {
    "duration": 6,
    "start_time": "2022-11-26T13:01:16.615Z"
   },
   {
    "duration": 12,
    "start_time": "2022-11-26T13:01:32.948Z"
   },
   {
    "duration": 11,
    "start_time": "2022-11-26T13:01:51.844Z"
   },
   {
    "duration": 94,
    "start_time": "2022-11-26T13:02:15.863Z"
   },
   {
    "duration": 319,
    "start_time": "2022-11-26T13:08:35.475Z"
   },
   {
    "duration": 5,
    "start_time": "2022-11-26T13:09:04.380Z"
   },
   {
    "duration": 6,
    "start_time": "2022-11-26T13:09:05.133Z"
   },
   {
    "duration": 13,
    "start_time": "2022-11-26T13:09:05.873Z"
   },
   {
    "duration": 17,
    "start_time": "2022-11-26T13:09:06.983Z"
   },
   {
    "duration": 9,
    "start_time": "2022-11-26T13:09:07.548Z"
   },
   {
    "duration": 16,
    "start_time": "2022-11-26T13:09:08.166Z"
   },
   {
    "duration": 15,
    "start_time": "2022-11-26T13:09:08.871Z"
   },
   {
    "duration": 89,
    "start_time": "2022-11-26T13:09:11.644Z"
   },
   {
    "duration": 54,
    "start_time": "2022-11-26T13:14:30.457Z"
   },
   {
    "duration": 49,
    "start_time": "2022-11-26T13:15:12.140Z"
   },
   {
    "duration": 3,
    "start_time": "2022-11-26T13:15:56.440Z"
   },
   {
    "duration": 4,
    "start_time": "2022-11-26T13:16:50.044Z"
   },
   {
    "duration": 5,
    "start_time": "2022-11-26T13:17:12.411Z"
   },
   {
    "duration": 9,
    "start_time": "2022-11-26T13:18:04.484Z"
   },
   {
    "duration": 101,
    "start_time": "2022-11-26T13:18:27.794Z"
   },
   {
    "duration": 3,
    "start_time": "2022-11-26T13:21:38.537Z"
   },
   {
    "duration": 266,
    "start_time": "2022-11-26T13:22:31.799Z"
   },
   {
    "duration": 3,
    "start_time": "2022-11-26T13:22:33.164Z"
   },
   {
    "duration": 261,
    "start_time": "2022-11-26T13:24:04.426Z"
   },
   {
    "duration": 4,
    "start_time": "2022-11-26T13:24:06.017Z"
   },
   {
    "duration": 4,
    "start_time": "2022-11-26T13:24:10.153Z"
   },
   {
    "duration": 60,
    "start_time": "2022-11-26T13:24:10.159Z"
   },
   {
    "duration": 13,
    "start_time": "2022-11-26T13:24:10.221Z"
   },
   {
    "duration": 55,
    "start_time": "2022-11-26T13:24:10.236Z"
   },
   {
    "duration": 11,
    "start_time": "2022-11-26T13:24:10.294Z"
   },
   {
    "duration": 14,
    "start_time": "2022-11-26T13:24:10.307Z"
   },
   {
    "duration": 4,
    "start_time": "2022-11-26T13:24:10.322Z"
   },
   {
    "duration": 5,
    "start_time": "2022-11-26T13:24:10.335Z"
   },
   {
    "duration": 10,
    "start_time": "2022-11-26T13:24:10.341Z"
   },
   {
    "duration": 12,
    "start_time": "2022-11-26T13:24:10.352Z"
   },
   {
    "duration": 13,
    "start_time": "2022-11-26T13:24:10.365Z"
   },
   {
    "duration": 25,
    "start_time": "2022-11-26T13:24:10.380Z"
   },
   {
    "duration": 50,
    "start_time": "2022-11-26T13:24:10.407Z"
   },
   {
    "duration": 17,
    "start_time": "2022-11-26T13:24:10.460Z"
   },
   {
    "duration": 16,
    "start_time": "2022-11-26T13:24:10.479Z"
   },
   {
    "duration": 31,
    "start_time": "2022-11-26T13:24:10.497Z"
   },
   {
    "duration": 14,
    "start_time": "2022-11-26T13:24:10.530Z"
   },
   {
    "duration": 14,
    "start_time": "2022-11-26T13:24:10.545Z"
   },
   {
    "duration": 23,
    "start_time": "2022-11-26T13:24:10.561Z"
   },
   {
    "duration": 18,
    "start_time": "2022-11-26T13:24:10.586Z"
   },
   {
    "duration": 32,
    "start_time": "2022-11-26T13:24:10.605Z"
   },
   {
    "duration": 12,
    "start_time": "2022-11-26T13:24:10.638Z"
   },
   {
    "duration": 26,
    "start_time": "2022-11-26T13:24:10.652Z"
   },
   {
    "duration": 24,
    "start_time": "2022-11-26T13:24:10.680Z"
   },
   {
    "duration": 40,
    "start_time": "2022-11-26T13:24:10.706Z"
   },
   {
    "duration": 52,
    "start_time": "2022-11-26T13:24:10.747Z"
   },
   {
    "duration": 781,
    "start_time": "2022-11-26T13:24:10.801Z"
   },
   {
    "duration": 157,
    "start_time": "2022-11-26T13:24:11.584Z"
   },
   {
    "duration": 5,
    "start_time": "2022-11-26T13:24:11.742Z"
   },
   {
    "duration": 187,
    "start_time": "2022-11-26T13:24:11.749Z"
   },
   {
    "duration": 78,
    "start_time": "2022-11-26T13:24:11.938Z"
   },
   {
    "duration": 23,
    "start_time": "2022-11-26T13:24:12.017Z"
   },
   {
    "duration": 94,
    "start_time": "2022-11-26T13:24:12.042Z"
   },
   {
    "duration": 6,
    "start_time": "2022-11-26T13:24:12.138Z"
   },
   {
    "duration": 93,
    "start_time": "2022-11-26T13:24:12.145Z"
   },
   {
    "duration": 5,
    "start_time": "2022-11-26T13:24:12.240Z"
   },
   {
    "duration": 45,
    "start_time": "2022-11-26T13:24:12.246Z"
   },
   {
    "duration": 27,
    "start_time": "2022-11-26T13:24:12.293Z"
   },
   {
    "duration": 34,
    "start_time": "2022-11-26T13:24:12.322Z"
   },
   {
    "duration": 13,
    "start_time": "2022-11-26T13:24:12.358Z"
   },
   {
    "duration": 50,
    "start_time": "2022-11-26T13:24:12.378Z"
   },
   {
    "duration": 22,
    "start_time": "2022-11-26T13:24:12.430Z"
   },
   {
    "duration": 146,
    "start_time": "2022-11-26T13:24:12.454Z"
   },
   {
    "duration": 127,
    "start_time": "2022-11-26T13:24:12.602Z"
   },
   {
    "duration": 52,
    "start_time": "2022-11-26T13:24:12.735Z"
   },
   {
    "duration": 3,
    "start_time": "2022-11-26T13:24:12.789Z"
   },
   {
    "duration": 290,
    "start_time": "2022-11-26T13:24:12.794Z"
   },
   {
    "duration": 4,
    "start_time": "2022-11-26T13:24:13.085Z"
   },
   {
    "duration": 4,
    "start_time": "2022-11-26T13:24:50.612Z"
   },
   {
    "duration": 345,
    "start_time": "2022-11-26T13:26:07.381Z"
   },
   {
    "duration": 4,
    "start_time": "2022-11-26T13:26:08.377Z"
   },
   {
    "duration": 4,
    "start_time": "2022-11-26T13:26:13.264Z"
   },
   {
    "duration": 47,
    "start_time": "2022-11-26T13:26:13.270Z"
   },
   {
    "duration": 13,
    "start_time": "2022-11-26T13:26:13.318Z"
   },
   {
    "duration": 45,
    "start_time": "2022-11-26T13:26:13.333Z"
   },
   {
    "duration": 11,
    "start_time": "2022-11-26T13:26:13.380Z"
   },
   {
    "duration": 13,
    "start_time": "2022-11-26T13:26:13.392Z"
   },
   {
    "duration": 32,
    "start_time": "2022-11-26T13:26:13.406Z"
   },
   {
    "duration": 12,
    "start_time": "2022-11-26T13:26:13.439Z"
   },
   {
    "duration": 10,
    "start_time": "2022-11-26T13:26:13.452Z"
   },
   {
    "duration": 13,
    "start_time": "2022-11-26T13:26:13.464Z"
   },
   {
    "duration": 8,
    "start_time": "2022-11-26T13:26:13.480Z"
   },
   {
    "duration": 14,
    "start_time": "2022-11-26T13:26:13.489Z"
   },
   {
    "duration": 30,
    "start_time": "2022-11-26T13:26:13.505Z"
   },
   {
    "duration": 6,
    "start_time": "2022-11-26T13:26:13.538Z"
   },
   {
    "duration": 10,
    "start_time": "2022-11-26T13:26:13.545Z"
   },
   {
    "duration": 11,
    "start_time": "2022-11-26T13:26:13.557Z"
   },
   {
    "duration": 8,
    "start_time": "2022-11-26T13:26:13.570Z"
   },
   {
    "duration": 7,
    "start_time": "2022-11-26T13:26:13.579Z"
   },
   {
    "duration": 18,
    "start_time": "2022-11-26T13:26:13.587Z"
   },
   {
    "duration": 17,
    "start_time": "2022-11-26T13:26:13.607Z"
   },
   {
    "duration": 35,
    "start_time": "2022-11-26T13:26:13.626Z"
   },
   {
    "duration": 10,
    "start_time": "2022-11-26T13:26:13.663Z"
   },
   {
    "duration": 20,
    "start_time": "2022-11-26T13:26:13.674Z"
   },
   {
    "duration": 10,
    "start_time": "2022-11-26T13:26:13.695Z"
   },
   {
    "duration": 21,
    "start_time": "2022-11-26T13:26:13.707Z"
   },
   {
    "duration": 39,
    "start_time": "2022-11-26T13:26:13.736Z"
   },
   {
    "duration": 807,
    "start_time": "2022-11-26T13:26:13.777Z"
   },
   {
    "duration": 257,
    "start_time": "2022-11-26T13:26:14.586Z"
   },
   {
    "duration": 7,
    "start_time": "2022-11-26T13:26:14.935Z"
   },
   {
    "duration": 109,
    "start_time": "2022-11-26T13:26:14.944Z"
   },
   {
    "duration": 76,
    "start_time": "2022-11-26T13:26:15.055Z"
   },
   {
    "duration": 5,
    "start_time": "2022-11-26T13:26:15.133Z"
   },
   {
    "duration": 166,
    "start_time": "2022-11-26T13:26:15.140Z"
   },
   {
    "duration": 6,
    "start_time": "2022-11-26T13:26:15.307Z"
   },
   {
    "duration": 87,
    "start_time": "2022-11-26T13:26:15.314Z"
   },
   {
    "duration": 5,
    "start_time": "2022-11-26T13:26:15.403Z"
   },
   {
    "duration": 18,
    "start_time": "2022-11-26T13:26:15.410Z"
   },
   {
    "duration": 26,
    "start_time": "2022-11-26T13:26:15.430Z"
   },
   {
    "duration": 20,
    "start_time": "2022-11-26T13:26:15.458Z"
   },
   {
    "duration": 12,
    "start_time": "2022-11-26T13:26:15.480Z"
   },
   {
    "duration": 16,
    "start_time": "2022-11-26T13:26:15.494Z"
   },
   {
    "duration": 10,
    "start_time": "2022-11-26T13:26:15.512Z"
   },
   {
    "duration": 92,
    "start_time": "2022-11-26T13:26:15.523Z"
   },
   {
    "duration": 97,
    "start_time": "2022-11-26T13:26:15.617Z"
   },
   {
    "duration": 61,
    "start_time": "2022-11-26T13:26:15.716Z"
   },
   {
    "duration": 4,
    "start_time": "2022-11-26T13:26:15.778Z"
   },
   {
    "duration": 379,
    "start_time": "2022-11-26T13:26:15.783Z"
   },
   {
    "duration": 3,
    "start_time": "2022-11-26T13:26:16.164Z"
   },
   {
    "duration": 163,
    "start_time": "2022-11-26T13:28:26.772Z"
   },
   {
    "duration": 4,
    "start_time": "2022-11-26T13:29:36.604Z"
   },
   {
    "duration": 47,
    "start_time": "2022-11-26T13:29:36.611Z"
   },
   {
    "duration": 17,
    "start_time": "2022-11-26T13:29:36.660Z"
   },
   {
    "duration": 69,
    "start_time": "2022-11-26T13:29:36.679Z"
   },
   {
    "duration": 15,
    "start_time": "2022-11-26T13:29:36.750Z"
   },
   {
    "duration": 19,
    "start_time": "2022-11-26T13:29:36.767Z"
   },
   {
    "duration": 4,
    "start_time": "2022-11-26T13:29:36.788Z"
   },
   {
    "duration": 11,
    "start_time": "2022-11-26T13:29:36.793Z"
   },
   {
    "duration": 8,
    "start_time": "2022-11-26T13:29:36.837Z"
   },
   {
    "duration": 13,
    "start_time": "2022-11-26T13:29:36.847Z"
   },
   {
    "duration": 13,
    "start_time": "2022-11-26T13:29:36.862Z"
   },
   {
    "duration": 17,
    "start_time": "2022-11-26T13:29:36.877Z"
   },
   {
    "duration": 7,
    "start_time": "2022-11-26T13:29:36.896Z"
   },
   {
    "duration": 37,
    "start_time": "2022-11-26T13:29:36.905Z"
   },
   {
    "duration": 6,
    "start_time": "2022-11-26T13:29:36.944Z"
   },
   {
    "duration": 7,
    "start_time": "2022-11-26T13:29:36.952Z"
   },
   {
    "duration": 8,
    "start_time": "2022-11-26T13:29:36.961Z"
   },
   {
    "duration": 5,
    "start_time": "2022-11-26T13:29:36.971Z"
   },
   {
    "duration": 11,
    "start_time": "2022-11-26T13:29:36.978Z"
   },
   {
    "duration": 11,
    "start_time": "2022-11-26T13:29:36.991Z"
   },
   {
    "duration": 43,
    "start_time": "2022-11-26T13:29:37.004Z"
   },
   {
    "duration": 13,
    "start_time": "2022-11-26T13:29:37.049Z"
   },
   {
    "duration": 21,
    "start_time": "2022-11-26T13:29:37.064Z"
   },
   {
    "duration": 11,
    "start_time": "2022-11-26T13:29:37.089Z"
   },
   {
    "duration": 43,
    "start_time": "2022-11-26T13:29:37.102Z"
   },
   {
    "duration": 43,
    "start_time": "2022-11-26T13:29:37.146Z"
   },
   {
    "duration": 824,
    "start_time": "2022-11-26T13:29:37.190Z"
   },
   {
    "duration": 220,
    "start_time": "2022-11-26T13:29:38.016Z"
   },
   {
    "duration": 5,
    "start_time": "2022-11-26T13:29:38.238Z"
   },
   {
    "duration": 104,
    "start_time": "2022-11-26T13:29:38.245Z"
   },
   {
    "duration": 76,
    "start_time": "2022-11-26T13:29:38.351Z"
   },
   {
    "duration": 7,
    "start_time": "2022-11-26T13:29:38.429Z"
   },
   {
    "duration": 75,
    "start_time": "2022-11-26T13:29:38.437Z"
   },
   {
    "duration": 22,
    "start_time": "2022-11-26T13:29:38.513Z"
   },
   {
    "duration": 75,
    "start_time": "2022-11-26T13:29:38.537Z"
   },
   {
    "duration": 6,
    "start_time": "2022-11-26T13:29:38.613Z"
   },
   {
    "duration": 5,
    "start_time": "2022-11-26T13:29:38.636Z"
   },
   {
    "duration": 11,
    "start_time": "2022-11-26T13:29:38.643Z"
   },
   {
    "duration": 17,
    "start_time": "2022-11-26T13:29:38.656Z"
   },
   {
    "duration": 8,
    "start_time": "2022-11-26T13:29:38.675Z"
   },
   {
    "duration": 16,
    "start_time": "2022-11-26T13:29:38.685Z"
   },
   {
    "duration": 13,
    "start_time": "2022-11-26T13:29:38.735Z"
   },
   {
    "duration": 104,
    "start_time": "2022-11-26T13:29:38.750Z"
   },
   {
    "duration": 101,
    "start_time": "2022-11-26T13:29:38.856Z"
   },
   {
    "duration": 50,
    "start_time": "2022-11-26T13:29:38.958Z"
   },
   {
    "duration": 4,
    "start_time": "2022-11-26T13:29:39.009Z"
   },
   {
    "duration": 389,
    "start_time": "2022-11-26T13:29:39.015Z"
   },
   {
    "duration": 3,
    "start_time": "2022-11-26T13:29:39.406Z"
   },
   {
    "duration": 12,
    "start_time": "2022-11-26T13:29:39.411Z"
   },
   {
    "duration": 0,
    "start_time": "2022-11-26T13:29:39.435Z"
   },
   {
    "duration": 527,
    "start_time": "2022-11-26T13:30:18.911Z"
   },
   {
    "duration": 4,
    "start_time": "2022-11-26T13:30:19.870Z"
   },
   {
    "duration": 336,
    "start_time": "2022-11-26T13:30:50.285Z"
   },
   {
    "duration": 3,
    "start_time": "2022-11-26T13:30:51.084Z"
   },
   {
    "duration": 255,
    "start_time": "2022-11-26T13:30:58.089Z"
   },
   {
    "duration": 4,
    "start_time": "2022-11-26T13:30:59.842Z"
   },
   {
    "duration": 11,
    "start_time": "2022-11-26T13:40:11.023Z"
   },
   {
    "duration": 4,
    "start_time": "2022-11-26T13:41:09.401Z"
   },
   {
    "duration": 5,
    "start_time": "2022-11-26T13:41:12.292Z"
   },
   {
    "duration": 49,
    "start_time": "2022-11-26T13:41:12.299Z"
   },
   {
    "duration": 15,
    "start_time": "2022-11-26T13:41:12.350Z"
   },
   {
    "duration": 75,
    "start_time": "2022-11-26T13:41:12.366Z"
   },
   {
    "duration": 15,
    "start_time": "2022-11-26T13:41:12.444Z"
   },
   {
    "duration": 23,
    "start_time": "2022-11-26T13:41:12.461Z"
   },
   {
    "duration": 5,
    "start_time": "2022-11-26T13:41:12.486Z"
   },
   {
    "duration": 19,
    "start_time": "2022-11-26T13:41:12.493Z"
   },
   {
    "duration": 18,
    "start_time": "2022-11-26T13:41:12.537Z"
   },
   {
    "duration": 27,
    "start_time": "2022-11-26T13:41:12.557Z"
   },
   {
    "duration": 21,
    "start_time": "2022-11-26T13:41:12.587Z"
   },
   {
    "duration": 25,
    "start_time": "2022-11-26T13:41:12.610Z"
   },
   {
    "duration": 7,
    "start_time": "2022-11-26T13:41:12.637Z"
   },
   {
    "duration": 8,
    "start_time": "2022-11-26T13:41:12.646Z"
   },
   {
    "duration": 13,
    "start_time": "2022-11-26T13:41:12.655Z"
   },
   {
    "duration": 8,
    "start_time": "2022-11-26T13:41:12.670Z"
   },
   {
    "duration": 16,
    "start_time": "2022-11-26T13:41:12.679Z"
   },
   {
    "duration": 8,
    "start_time": "2022-11-26T13:41:12.697Z"
   },
   {
    "duration": 28,
    "start_time": "2022-11-26T13:41:12.707Z"
   },
   {
    "duration": 12,
    "start_time": "2022-11-26T13:41:12.737Z"
   },
   {
    "duration": 30,
    "start_time": "2022-11-26T13:41:12.751Z"
   },
   {
    "duration": 11,
    "start_time": "2022-11-26T13:41:12.783Z"
   },
   {
    "duration": 18,
    "start_time": "2022-11-26T13:41:12.796Z"
   },
   {
    "duration": 28,
    "start_time": "2022-11-26T13:41:12.816Z"
   },
   {
    "duration": 29,
    "start_time": "2022-11-26T13:41:12.846Z"
   },
   {
    "duration": 44,
    "start_time": "2022-11-26T13:41:12.878Z"
   },
   {
    "duration": 830,
    "start_time": "2022-11-26T13:41:12.935Z"
   },
   {
    "duration": 179,
    "start_time": "2022-11-26T13:41:13.767Z"
   },
   {
    "duration": 99,
    "start_time": "2022-11-26T13:41:14.039Z"
   },
   {
    "duration": 17,
    "start_time": "2022-11-26T13:41:14.140Z"
   },
   {
    "duration": 75,
    "start_time": "2022-11-26T13:41:14.159Z"
   },
   {
    "duration": 5,
    "start_time": "2022-11-26T13:41:14.236Z"
   },
   {
    "duration": 83,
    "start_time": "2022-11-26T13:41:14.242Z"
   },
   {
    "duration": 12,
    "start_time": "2022-11-26T13:41:14.327Z"
   },
   {
    "duration": 74,
    "start_time": "2022-11-26T13:41:14.341Z"
   },
   {
    "duration": 4,
    "start_time": "2022-11-26T13:41:14.417Z"
   },
   {
    "duration": 5,
    "start_time": "2022-11-26T13:41:14.436Z"
   },
   {
    "duration": 16,
    "start_time": "2022-11-26T13:41:14.443Z"
   },
   {
    "duration": 14,
    "start_time": "2022-11-26T13:41:14.461Z"
   },
   {
    "duration": 8,
    "start_time": "2022-11-26T13:41:14.476Z"
   },
   {
    "duration": 13,
    "start_time": "2022-11-26T13:41:14.485Z"
   },
   {
    "duration": 34,
    "start_time": "2022-11-26T13:41:14.500Z"
   },
   {
    "duration": 86,
    "start_time": "2022-11-26T13:41:14.536Z"
   },
   {
    "duration": 85,
    "start_time": "2022-11-26T13:41:14.635Z"
   },
   {
    "duration": 60,
    "start_time": "2022-11-26T13:41:14.721Z"
   },
   {
    "duration": 4,
    "start_time": "2022-11-26T13:41:14.782Z"
   },
   {
    "duration": 18,
    "start_time": "2022-11-26T13:41:14.788Z"
   },
   {
    "duration": 0,
    "start_time": "2022-11-26T13:41:14.808Z"
   },
   {
    "duration": 1,
    "start_time": "2022-11-26T13:41:14.808Z"
   },
   {
    "duration": 0,
    "start_time": "2022-11-26T13:41:14.809Z"
   },
   {
    "duration": 0,
    "start_time": "2022-11-26T13:41:14.811Z"
   },
   {
    "duration": 13,
    "start_time": "2022-11-26T13:41:51.259Z"
   },
   {
    "duration": 8,
    "start_time": "2022-11-26T13:41:54.452Z"
   },
   {
    "duration": 8,
    "start_time": "2022-11-26T13:42:03.199Z"
   },
   {
    "duration": 21,
    "start_time": "2022-11-26T13:42:40.340Z"
   },
   {
    "duration": 13,
    "start_time": "2022-11-26T13:43:09.958Z"
   },
   {
    "duration": 9,
    "start_time": "2022-11-26T13:44:31.765Z"
   },
   {
    "duration": 9,
    "start_time": "2022-11-26T13:44:38.784Z"
   },
   {
    "duration": 56,
    "start_time": "2022-11-26T13:45:13.286Z"
   },
   {
    "duration": 8,
    "start_time": "2022-11-26T13:45:36.241Z"
   },
   {
    "duration": 60,
    "start_time": "2022-11-26T13:45:51.968Z"
   },
   {
    "duration": 54,
    "start_time": "2022-11-26T13:46:19.780Z"
   },
   {
    "duration": 5,
    "start_time": "2022-11-26T13:49:00.129Z"
   },
   {
    "duration": 4,
    "start_time": "2022-11-26T13:49:11.536Z"
   },
   {
    "duration": 62,
    "start_time": "2022-11-26T13:49:11.542Z"
   },
   {
    "duration": 15,
    "start_time": "2022-11-26T13:49:11.607Z"
   },
   {
    "duration": 43,
    "start_time": "2022-11-26T13:49:11.624Z"
   },
   {
    "duration": 13,
    "start_time": "2022-11-26T13:49:11.669Z"
   },
   {
    "duration": 18,
    "start_time": "2022-11-26T13:49:11.683Z"
   },
   {
    "duration": 4,
    "start_time": "2022-11-26T13:49:11.703Z"
   },
   {
    "duration": 29,
    "start_time": "2022-11-26T13:49:11.709Z"
   },
   {
    "duration": 15,
    "start_time": "2022-11-26T13:49:11.740Z"
   },
   {
    "duration": 19,
    "start_time": "2022-11-26T13:49:11.757Z"
   },
   {
    "duration": 14,
    "start_time": "2022-11-26T13:49:11.778Z"
   },
   {
    "duration": 21,
    "start_time": "2022-11-26T13:49:11.793Z"
   },
   {
    "duration": 19,
    "start_time": "2022-11-26T13:49:11.817Z"
   },
   {
    "duration": 11,
    "start_time": "2022-11-26T13:49:11.837Z"
   },
   {
    "duration": 16,
    "start_time": "2022-11-26T13:49:11.849Z"
   },
   {
    "duration": 8,
    "start_time": "2022-11-26T13:49:11.867Z"
   },
   {
    "duration": 10,
    "start_time": "2022-11-26T13:49:11.876Z"
   },
   {
    "duration": 10,
    "start_time": "2022-11-26T13:49:11.888Z"
   },
   {
    "duration": 14,
    "start_time": "2022-11-26T13:49:11.899Z"
   },
   {
    "duration": 13,
    "start_time": "2022-11-26T13:49:11.914Z"
   },
   {
    "duration": 35,
    "start_time": "2022-11-26T13:49:11.928Z"
   },
   {
    "duration": 11,
    "start_time": "2022-11-26T13:49:11.965Z"
   },
   {
    "duration": 39,
    "start_time": "2022-11-26T13:49:11.978Z"
   },
   {
    "duration": 12,
    "start_time": "2022-11-26T13:49:12.018Z"
   },
   {
    "duration": 31,
    "start_time": "2022-11-26T13:49:12.032Z"
   },
   {
    "duration": 47,
    "start_time": "2022-11-26T13:49:12.065Z"
   },
   {
    "duration": 882,
    "start_time": "2022-11-26T13:49:12.114Z"
   },
   {
    "duration": 354,
    "start_time": "2022-11-26T13:49:12.997Z"
   },
   {
    "duration": 183,
    "start_time": "2022-11-26T13:49:13.353Z"
   },
   {
    "duration": 62,
    "start_time": "2022-11-26T13:49:13.538Z"
   },
   {
    "duration": 38,
    "start_time": "2022-11-26T13:49:13.602Z"
   },
   {
    "duration": 94,
    "start_time": "2022-11-26T13:49:13.642Z"
   },
   {
    "duration": 8,
    "start_time": "2022-11-26T13:49:13.738Z"
   },
   {
    "duration": 110,
    "start_time": "2022-11-26T13:49:13.748Z"
   },
   {
    "duration": 6,
    "start_time": "2022-11-26T13:49:13.860Z"
   },
   {
    "duration": 104,
    "start_time": "2022-11-26T13:49:13.868Z"
   },
   {
    "duration": 7,
    "start_time": "2022-11-26T13:49:13.975Z"
   },
   {
    "duration": 93,
    "start_time": "2022-11-26T13:49:13.984Z"
   },
   {
    "duration": 5,
    "start_time": "2022-11-26T13:49:14.079Z"
   },
   {
    "duration": 8,
    "start_time": "2022-11-26T13:49:14.085Z"
   },
   {
    "duration": 12,
    "start_time": "2022-11-26T13:49:14.094Z"
   },
   {
    "duration": 34,
    "start_time": "2022-11-26T13:49:14.108Z"
   },
   {
    "duration": 7,
    "start_time": "2022-11-26T13:49:14.144Z"
   },
   {
    "duration": 16,
    "start_time": "2022-11-26T13:49:14.153Z"
   },
   {
    "duration": 14,
    "start_time": "2022-11-26T13:49:14.171Z"
   },
   {
    "duration": 117,
    "start_time": "2022-11-26T13:49:14.187Z"
   },
   {
    "duration": 232,
    "start_time": "2022-11-26T13:49:14.305Z"
   },
   {
    "duration": 51,
    "start_time": "2022-11-26T13:49:14.539Z"
   },
   {
    "duration": 4,
    "start_time": "2022-11-26T13:49:14.592Z"
   },
   {
    "duration": 33,
    "start_time": "2022-11-26T13:49:14.597Z"
   },
   {
    "duration": 322,
    "start_time": "2022-11-26T13:49:14.632Z"
   },
   {
    "duration": 4,
    "start_time": "2022-11-26T13:49:14.956Z"
   },
   {
    "duration": 27,
    "start_time": "2022-11-26T13:49:14.962Z"
   },
   {
    "duration": 1853,
    "start_time": "2022-11-26T13:49:14.991Z"
   },
   {
    "duration": 89,
    "start_time": "2022-11-26T13:49:16.845Z"
   },
   {
    "duration": 119,
    "start_time": "2022-11-26T13:49:16.937Z"
   },
   {
    "duration": 8,
    "start_time": "2022-11-26T13:51:27.877Z"
   },
   {
    "duration": 18,
    "start_time": "2022-11-26T13:52:09.131Z"
   },
   {
    "duration": 5,
    "start_time": "2022-11-26T13:52:11.628Z"
   },
   {
    "duration": 46,
    "start_time": "2022-11-26T13:52:11.635Z"
   },
   {
    "duration": 15,
    "start_time": "2022-11-26T13:52:11.682Z"
   },
   {
    "duration": 40,
    "start_time": "2022-11-26T13:52:11.699Z"
   },
   {
    "duration": 11,
    "start_time": "2022-11-26T13:52:11.742Z"
   },
   {
    "duration": 15,
    "start_time": "2022-11-26T13:52:11.754Z"
   },
   {
    "duration": 4,
    "start_time": "2022-11-26T13:52:11.771Z"
   },
   {
    "duration": 8,
    "start_time": "2022-11-26T13:52:11.777Z"
   },
   {
    "duration": 9,
    "start_time": "2022-11-26T13:52:11.786Z"
   },
   {
    "duration": 13,
    "start_time": "2022-11-26T13:52:11.797Z"
   },
   {
    "duration": 32,
    "start_time": "2022-11-26T13:52:11.812Z"
   },
   {
    "duration": 27,
    "start_time": "2022-11-26T13:52:11.846Z"
   },
   {
    "duration": 6,
    "start_time": "2022-11-26T13:52:11.874Z"
   },
   {
    "duration": 23,
    "start_time": "2022-11-26T13:52:11.883Z"
   },
   {
    "duration": 33,
    "start_time": "2022-11-26T13:52:11.908Z"
   },
   {
    "duration": 12,
    "start_time": "2022-11-26T13:52:11.942Z"
   },
   {
    "duration": 10,
    "start_time": "2022-11-26T13:52:11.956Z"
   },
   {
    "duration": 7,
    "start_time": "2022-11-26T13:52:11.967Z"
   },
   {
    "duration": 10,
    "start_time": "2022-11-26T13:52:11.976Z"
   },
   {
    "duration": 15,
    "start_time": "2022-11-26T13:52:11.987Z"
   },
   {
    "duration": 42,
    "start_time": "2022-11-26T13:52:12.004Z"
   },
   {
    "duration": 12,
    "start_time": "2022-11-26T13:52:12.048Z"
   },
   {
    "duration": 29,
    "start_time": "2022-11-26T13:52:12.062Z"
   },
   {
    "duration": 12,
    "start_time": "2022-11-26T13:52:12.093Z"
   },
   {
    "duration": 32,
    "start_time": "2022-11-26T13:52:12.107Z"
   },
   {
    "duration": 51,
    "start_time": "2022-11-26T13:52:12.141Z"
   },
   {
    "duration": 875,
    "start_time": "2022-11-26T13:52:12.194Z"
   },
   {
    "duration": 265,
    "start_time": "2022-11-26T13:52:13.071Z"
   },
   {
    "duration": 11,
    "start_time": "2022-11-26T13:52:13.338Z"
   },
   {
    "duration": 52,
    "start_time": "2022-11-26T13:52:13.436Z"
   },
   {
    "duration": 49,
    "start_time": "2022-11-26T13:52:13.490Z"
   },
   {
    "duration": 96,
    "start_time": "2022-11-26T13:52:13.542Z"
   },
   {
    "duration": 15,
    "start_time": "2022-11-26T13:52:13.640Z"
   },
   {
    "duration": 95,
    "start_time": "2022-11-26T13:52:13.657Z"
   },
   {
    "duration": 6,
    "start_time": "2022-11-26T13:52:13.753Z"
   },
   {
    "duration": 89,
    "start_time": "2022-11-26T13:52:13.761Z"
   },
   {
    "duration": 5,
    "start_time": "2022-11-26T13:52:13.852Z"
   },
   {
    "duration": 87,
    "start_time": "2022-11-26T13:52:13.859Z"
   },
   {
    "duration": 8,
    "start_time": "2022-11-26T13:52:13.948Z"
   },
   {
    "duration": 17,
    "start_time": "2022-11-26T13:52:13.957Z"
   },
   {
    "duration": 15,
    "start_time": "2022-11-26T13:52:13.977Z"
   },
   {
    "duration": 23,
    "start_time": "2022-11-26T13:52:13.993Z"
   },
   {
    "duration": 11,
    "start_time": "2022-11-26T13:52:14.017Z"
   },
   {
    "duration": 22,
    "start_time": "2022-11-26T13:52:14.030Z"
   },
   {
    "duration": 10,
    "start_time": "2022-11-26T13:52:14.054Z"
   },
   {
    "duration": 92,
    "start_time": "2022-11-26T13:52:14.066Z"
   },
   {
    "duration": 92,
    "start_time": "2022-11-26T13:52:14.159Z"
   },
   {
    "duration": 49,
    "start_time": "2022-11-26T13:52:14.252Z"
   },
   {
    "duration": 3,
    "start_time": "2022-11-26T13:52:14.302Z"
   },
   {
    "duration": 33,
    "start_time": "2022-11-26T13:52:14.306Z"
   },
   {
    "duration": 305,
    "start_time": "2022-11-26T13:52:14.340Z"
   },
   {
    "duration": 3,
    "start_time": "2022-11-26T13:52:14.647Z"
   },
   {
    "duration": 24,
    "start_time": "2022-11-26T13:52:14.651Z"
   },
   {
    "duration": 463,
    "start_time": "2022-11-26T13:52:14.677Z"
   },
   {
    "duration": 99,
    "start_time": "2022-11-26T13:52:15.142Z"
   },
   {
    "duration": 90,
    "start_time": "2022-11-26T13:52:15.245Z"
   },
   {
    "duration": 6,
    "start_time": "2022-11-26T13:53:41.959Z"
   },
   {
    "duration": 75,
    "start_time": "2022-11-26T13:53:41.967Z"
   },
   {
    "duration": 15,
    "start_time": "2022-11-26T13:53:42.043Z"
   },
   {
    "duration": 40,
    "start_time": "2022-11-26T13:53:42.060Z"
   },
   {
    "duration": 41,
    "start_time": "2022-11-26T13:53:42.102Z"
   },
   {
    "duration": 14,
    "start_time": "2022-11-26T13:53:42.144Z"
   },
   {
    "duration": 4,
    "start_time": "2022-11-26T13:53:42.160Z"
   },
   {
    "duration": 8,
    "start_time": "2022-11-26T13:53:42.165Z"
   },
   {
    "duration": 15,
    "start_time": "2022-11-26T13:53:42.174Z"
   },
   {
    "duration": 15,
    "start_time": "2022-11-26T13:53:42.190Z"
   },
   {
    "duration": 34,
    "start_time": "2022-11-26T13:53:42.207Z"
   },
   {
    "duration": 19,
    "start_time": "2022-11-26T13:53:42.243Z"
   },
   {
    "duration": 6,
    "start_time": "2022-11-26T13:53:42.264Z"
   },
   {
    "duration": 10,
    "start_time": "2022-11-26T13:53:42.274Z"
   },
   {
    "duration": 10,
    "start_time": "2022-11-26T13:53:42.285Z"
   },
   {
    "duration": 6,
    "start_time": "2022-11-26T13:53:42.296Z"
   },
   {
    "duration": 10,
    "start_time": "2022-11-26T13:53:42.303Z"
   },
   {
    "duration": 8,
    "start_time": "2022-11-26T13:53:42.315Z"
   },
   {
    "duration": 22,
    "start_time": "2022-11-26T13:53:42.325Z"
   },
   {
    "duration": 19,
    "start_time": "2022-11-26T13:53:42.349Z"
   },
   {
    "duration": 34,
    "start_time": "2022-11-26T13:53:42.371Z"
   },
   {
    "duration": 19,
    "start_time": "2022-11-26T13:53:42.408Z"
   },
   {
    "duration": 23,
    "start_time": "2022-11-26T13:53:42.429Z"
   },
   {
    "duration": 27,
    "start_time": "2022-11-26T13:53:42.454Z"
   },
   {
    "duration": 38,
    "start_time": "2022-11-26T13:53:42.483Z"
   },
   {
    "duration": 56,
    "start_time": "2022-11-26T13:53:42.524Z"
   },
   {
    "duration": 866,
    "start_time": "2022-11-26T13:53:42.582Z"
   },
   {
    "duration": 196,
    "start_time": "2022-11-26T13:53:43.450Z"
   },
   {
    "duration": 98,
    "start_time": "2022-11-26T13:53:43.741Z"
   },
   {
    "duration": 68,
    "start_time": "2022-11-26T13:53:43.841Z"
   },
   {
    "duration": 29,
    "start_time": "2022-11-26T13:53:43.911Z"
   },
   {
    "duration": 113,
    "start_time": "2022-11-26T13:53:43.942Z"
   },
   {
    "duration": 21,
    "start_time": "2022-11-26T13:53:44.057Z"
   },
   {
    "duration": 102,
    "start_time": "2022-11-26T13:53:44.080Z"
   },
   {
    "duration": 6,
    "start_time": "2022-11-26T13:53:44.184Z"
   },
   {
    "duration": 84,
    "start_time": "2022-11-26T13:53:44.191Z"
   },
   {
    "duration": 6,
    "start_time": "2022-11-26T13:53:44.276Z"
   },
   {
    "duration": 83,
    "start_time": "2022-11-26T13:53:44.283Z"
   },
   {
    "duration": 5,
    "start_time": "2022-11-26T13:53:44.368Z"
   },
   {
    "duration": 12,
    "start_time": "2022-11-26T13:53:44.375Z"
   },
   {
    "duration": 16,
    "start_time": "2022-11-26T13:53:44.390Z"
   },
   {
    "duration": 15,
    "start_time": "2022-11-26T13:53:44.408Z"
   },
   {
    "duration": 15,
    "start_time": "2022-11-26T13:53:44.425Z"
   },
   {
    "duration": 12,
    "start_time": "2022-11-26T13:53:44.441Z"
   },
   {
    "duration": 10,
    "start_time": "2022-11-26T13:53:44.454Z"
   },
   {
    "duration": 107,
    "start_time": "2022-11-26T13:53:44.465Z"
   },
   {
    "duration": 96,
    "start_time": "2022-11-26T13:53:44.574Z"
   },
   {
    "duration": 49,
    "start_time": "2022-11-26T13:53:44.672Z"
   },
   {
    "duration": 13,
    "start_time": "2022-11-26T13:53:44.723Z"
   },
   {
    "duration": 28,
    "start_time": "2022-11-26T13:53:44.738Z"
   },
   {
    "duration": 342,
    "start_time": "2022-11-26T13:53:44.768Z"
   },
   {
    "duration": 3,
    "start_time": "2022-11-26T13:53:45.112Z"
   },
   {
    "duration": 39,
    "start_time": "2022-11-26T13:53:45.117Z"
   },
   {
    "duration": 178,
    "start_time": "2022-11-26T13:53:45.158Z"
   },
   {
    "duration": 102,
    "start_time": "2022-11-26T13:53:45.339Z"
   },
   {
    "duration": 98,
    "start_time": "2022-11-26T13:53:45.443Z"
   },
   {
    "duration": 37,
    "start_time": "2022-11-26T13:53:45.543Z"
   },
   {
    "duration": 5,
    "start_time": "2022-11-26T13:56:19.105Z"
   },
   {
    "duration": 1544,
    "start_time": "2022-11-27T15:23:18.566Z"
   },
   {
    "duration": 84,
    "start_time": "2022-11-27T15:23:20.112Z"
   },
   {
    "duration": 20,
    "start_time": "2022-11-27T15:23:20.198Z"
   },
   {
    "duration": 52,
    "start_time": "2022-11-27T15:23:20.221Z"
   },
   {
    "duration": 13,
    "start_time": "2022-11-27T15:23:20.275Z"
   },
   {
    "duration": 28,
    "start_time": "2022-11-27T15:23:20.289Z"
   },
   {
    "duration": 4,
    "start_time": "2022-11-27T15:23:20.319Z"
   },
   {
    "duration": 9,
    "start_time": "2022-11-27T15:23:20.325Z"
   },
   {
    "duration": 8,
    "start_time": "2022-11-27T15:23:20.336Z"
   },
   {
    "duration": 16,
    "start_time": "2022-11-27T15:23:20.346Z"
   },
   {
    "duration": 144,
    "start_time": "2022-11-27T15:23:20.364Z"
   },
   {
    "duration": 0,
    "start_time": "2022-11-27T15:23:20.513Z"
   },
   {
    "duration": 0,
    "start_time": "2022-11-27T15:23:20.515Z"
   },
   {
    "duration": 0,
    "start_time": "2022-11-27T15:23:20.516Z"
   },
   {
    "duration": 0,
    "start_time": "2022-11-27T15:23:20.517Z"
   },
   {
    "duration": 1,
    "start_time": "2022-11-27T15:23:20.518Z"
   },
   {
    "duration": 0,
    "start_time": "2022-11-27T15:23:20.520Z"
   },
   {
    "duration": 0,
    "start_time": "2022-11-27T15:23:20.521Z"
   },
   {
    "duration": 0,
    "start_time": "2022-11-27T15:23:20.523Z"
   },
   {
    "duration": 0,
    "start_time": "2022-11-27T15:23:20.524Z"
   },
   {
    "duration": 0,
    "start_time": "2022-11-27T15:23:20.525Z"
   },
   {
    "duration": 0,
    "start_time": "2022-11-27T15:23:20.526Z"
   },
   {
    "duration": 0,
    "start_time": "2022-11-27T15:23:20.527Z"
   },
   {
    "duration": 0,
    "start_time": "2022-11-27T15:23:20.528Z"
   },
   {
    "duration": 0,
    "start_time": "2022-11-27T15:23:20.529Z"
   },
   {
    "duration": 0,
    "start_time": "2022-11-27T15:23:20.531Z"
   },
   {
    "duration": 0,
    "start_time": "2022-11-27T15:23:20.532Z"
   },
   {
    "duration": 0,
    "start_time": "2022-11-27T15:23:20.535Z"
   },
   {
    "duration": 0,
    "start_time": "2022-11-27T15:23:20.536Z"
   },
   {
    "duration": 0,
    "start_time": "2022-11-27T15:23:20.537Z"
   },
   {
    "duration": 0,
    "start_time": "2022-11-27T15:23:20.538Z"
   },
   {
    "duration": 0,
    "start_time": "2022-11-27T15:23:20.539Z"
   },
   {
    "duration": 0,
    "start_time": "2022-11-27T15:23:20.540Z"
   },
   {
    "duration": 0,
    "start_time": "2022-11-27T15:23:20.541Z"
   },
   {
    "duration": 0,
    "start_time": "2022-11-27T15:23:20.543Z"
   },
   {
    "duration": 0,
    "start_time": "2022-11-27T15:23:20.543Z"
   },
   {
    "duration": 0,
    "start_time": "2022-11-27T15:23:20.544Z"
   },
   {
    "duration": 0,
    "start_time": "2022-11-27T15:23:20.545Z"
   },
   {
    "duration": 0,
    "start_time": "2022-11-27T15:23:20.547Z"
   },
   {
    "duration": 0,
    "start_time": "2022-11-27T15:23:20.548Z"
   },
   {
    "duration": 0,
    "start_time": "2022-11-27T15:23:20.549Z"
   },
   {
    "duration": 0,
    "start_time": "2022-11-27T15:23:20.612Z"
   },
   {
    "duration": 0,
    "start_time": "2022-11-27T15:23:20.614Z"
   },
   {
    "duration": 0,
    "start_time": "2022-11-27T15:23:20.615Z"
   },
   {
    "duration": 0,
    "start_time": "2022-11-27T15:23:20.616Z"
   },
   {
    "duration": 0,
    "start_time": "2022-11-27T15:23:20.617Z"
   },
   {
    "duration": 0,
    "start_time": "2022-11-27T15:23:20.618Z"
   },
   {
    "duration": 0,
    "start_time": "2022-11-27T15:23:20.620Z"
   },
   {
    "duration": 0,
    "start_time": "2022-11-27T15:23:20.621Z"
   },
   {
    "duration": 0,
    "start_time": "2022-11-27T15:23:20.622Z"
   },
   {
    "duration": 0,
    "start_time": "2022-11-27T15:23:20.623Z"
   },
   {
    "duration": 0,
    "start_time": "2022-11-27T15:23:20.624Z"
   },
   {
    "duration": 0,
    "start_time": "2022-11-27T15:23:20.625Z"
   },
   {
    "duration": 0,
    "start_time": "2022-11-27T15:23:20.626Z"
   },
   {
    "duration": 0,
    "start_time": "2022-11-27T15:23:20.627Z"
   },
   {
    "duration": 0,
    "start_time": "2022-11-27T15:23:20.629Z"
   },
   {
    "duration": 0,
    "start_time": "2022-11-27T15:23:20.630Z"
   },
   {
    "duration": 7,
    "start_time": "2022-11-27T15:28:36.541Z"
   },
   {
    "duration": 4,
    "start_time": "2022-11-27T15:28:47.810Z"
   },
   {
    "duration": 46,
    "start_time": "2022-11-27T15:28:47.816Z"
   },
   {
    "duration": 14,
    "start_time": "2022-11-27T15:28:47.864Z"
   },
   {
    "duration": 51,
    "start_time": "2022-11-27T15:28:47.879Z"
   },
   {
    "duration": 12,
    "start_time": "2022-11-27T15:28:47.932Z"
   },
   {
    "duration": 15,
    "start_time": "2022-11-27T15:28:47.945Z"
   },
   {
    "duration": 4,
    "start_time": "2022-11-27T15:28:47.961Z"
   },
   {
    "duration": 7,
    "start_time": "2022-11-27T15:28:47.966Z"
   },
   {
    "duration": 38,
    "start_time": "2022-11-27T15:28:47.975Z"
   },
   {
    "duration": 15,
    "start_time": "2022-11-27T15:28:48.015Z"
   },
   {
    "duration": 15,
    "start_time": "2022-11-27T15:28:48.032Z"
   },
   {
    "duration": 0,
    "start_time": "2022-11-27T15:28:48.050Z"
   },
   {
    "duration": 0,
    "start_time": "2022-11-27T15:28:48.051Z"
   },
   {
    "duration": 0,
    "start_time": "2022-11-27T15:28:48.052Z"
   },
   {
    "duration": 0,
    "start_time": "2022-11-27T15:28:48.054Z"
   },
   {
    "duration": 0,
    "start_time": "2022-11-27T15:28:48.055Z"
   },
   {
    "duration": 0,
    "start_time": "2022-11-27T15:28:48.056Z"
   },
   {
    "duration": 0,
    "start_time": "2022-11-27T15:28:48.057Z"
   },
   {
    "duration": 0,
    "start_time": "2022-11-27T15:28:48.058Z"
   },
   {
    "duration": 0,
    "start_time": "2022-11-27T15:28:48.060Z"
   },
   {
    "duration": 0,
    "start_time": "2022-11-27T15:28:48.061Z"
   },
   {
    "duration": 0,
    "start_time": "2022-11-27T15:28:48.063Z"
   },
   {
    "duration": 0,
    "start_time": "2022-11-27T15:28:48.064Z"
   },
   {
    "duration": 0,
    "start_time": "2022-11-27T15:28:48.065Z"
   },
   {
    "duration": 0,
    "start_time": "2022-11-27T15:28:48.112Z"
   },
   {
    "duration": 0,
    "start_time": "2022-11-27T15:28:48.113Z"
   },
   {
    "duration": 0,
    "start_time": "2022-11-27T15:28:48.115Z"
   },
   {
    "duration": 0,
    "start_time": "2022-11-27T15:28:48.116Z"
   },
   {
    "duration": 0,
    "start_time": "2022-11-27T15:28:48.117Z"
   },
   {
    "duration": 0,
    "start_time": "2022-11-27T15:28:48.118Z"
   },
   {
    "duration": 0,
    "start_time": "2022-11-27T15:28:48.119Z"
   },
   {
    "duration": 0,
    "start_time": "2022-11-27T15:28:48.120Z"
   },
   {
    "duration": 0,
    "start_time": "2022-11-27T15:28:48.121Z"
   },
   {
    "duration": 0,
    "start_time": "2022-11-27T15:28:48.123Z"
   },
   {
    "duration": 0,
    "start_time": "2022-11-27T15:28:48.124Z"
   },
   {
    "duration": 0,
    "start_time": "2022-11-27T15:28:48.125Z"
   },
   {
    "duration": 0,
    "start_time": "2022-11-27T15:28:48.126Z"
   },
   {
    "duration": 0,
    "start_time": "2022-11-27T15:28:48.126Z"
   },
   {
    "duration": 0,
    "start_time": "2022-11-27T15:28:48.128Z"
   },
   {
    "duration": 0,
    "start_time": "2022-11-27T15:28:48.129Z"
   },
   {
    "duration": 0,
    "start_time": "2022-11-27T15:28:48.130Z"
   },
   {
    "duration": 0,
    "start_time": "2022-11-27T15:28:48.130Z"
   },
   {
    "duration": 0,
    "start_time": "2022-11-27T15:28:48.132Z"
   },
   {
    "duration": 0,
    "start_time": "2022-11-27T15:28:48.132Z"
   },
   {
    "duration": 0,
    "start_time": "2022-11-27T15:28:48.133Z"
   },
   {
    "duration": 0,
    "start_time": "2022-11-27T15:28:48.134Z"
   },
   {
    "duration": 0,
    "start_time": "2022-11-27T15:28:48.135Z"
   },
   {
    "duration": 0,
    "start_time": "2022-11-27T15:28:48.136Z"
   },
   {
    "duration": 0,
    "start_time": "2022-11-27T15:28:48.137Z"
   },
   {
    "duration": 0,
    "start_time": "2022-11-27T15:28:48.138Z"
   },
   {
    "duration": 0,
    "start_time": "2022-11-27T15:28:48.139Z"
   },
   {
    "duration": 0,
    "start_time": "2022-11-27T15:28:48.140Z"
   },
   {
    "duration": 0,
    "start_time": "2022-11-27T15:28:48.141Z"
   },
   {
    "duration": 0,
    "start_time": "2022-11-27T15:28:48.142Z"
   },
   {
    "duration": 0,
    "start_time": "2022-11-27T15:28:48.144Z"
   },
   {
    "duration": 1,
    "start_time": "2022-11-27T15:28:48.144Z"
   },
   {
    "duration": 0,
    "start_time": "2022-11-27T15:28:48.145Z"
   },
   {
    "duration": 788,
    "start_time": "2022-11-27T15:29:15.548Z"
   },
   {
    "duration": 7,
    "start_time": "2022-11-27T15:30:15.266Z"
   },
   {
    "duration": 50,
    "start_time": "2022-11-27T15:30:15.276Z"
   },
   {
    "duration": 16,
    "start_time": "2022-11-27T15:30:15.329Z"
   },
   {
    "duration": 79,
    "start_time": "2022-11-27T15:30:15.347Z"
   },
   {
    "duration": 17,
    "start_time": "2022-11-27T15:30:15.428Z"
   },
   {
    "duration": 17,
    "start_time": "2022-11-27T15:30:15.447Z"
   },
   {
    "duration": 4,
    "start_time": "2022-11-27T15:30:15.467Z"
   },
   {
    "duration": 42,
    "start_time": "2022-11-27T15:30:15.474Z"
   },
   {
    "duration": 10,
    "start_time": "2022-11-27T15:30:15.518Z"
   },
   {
    "duration": 17,
    "start_time": "2022-11-27T15:30:15.531Z"
   },
   {
    "duration": 30,
    "start_time": "2022-11-27T15:30:15.550Z"
   },
   {
    "duration": 34,
    "start_time": "2022-11-27T15:30:15.583Z"
   },
   {
    "duration": 8,
    "start_time": "2022-11-27T15:30:15.620Z"
   },
   {
    "duration": 7,
    "start_time": "2022-11-27T15:30:15.633Z"
   },
   {
    "duration": 10,
    "start_time": "2022-11-27T15:30:15.642Z"
   },
   {
    "duration": 16,
    "start_time": "2022-11-27T15:30:15.655Z"
   },
   {
    "duration": 8,
    "start_time": "2022-11-27T15:30:15.673Z"
   },
   {
    "duration": 39,
    "start_time": "2022-11-27T15:30:15.683Z"
   },
   {
    "duration": 18,
    "start_time": "2022-11-27T15:30:15.725Z"
   },
   {
    "duration": 38,
    "start_time": "2022-11-27T15:30:15.745Z"
   },
   {
    "duration": 40,
    "start_time": "2022-11-27T15:30:15.785Z"
   },
   {
    "duration": 29,
    "start_time": "2022-11-27T15:30:15.828Z"
   },
   {
    "duration": 18,
    "start_time": "2022-11-27T15:30:15.860Z"
   },
   {
    "duration": 50,
    "start_time": "2022-11-27T15:30:15.879Z"
   },
   {
    "duration": 34,
    "start_time": "2022-11-27T15:30:15.931Z"
   },
   {
    "duration": 0,
    "start_time": "2022-11-27T15:30:15.969Z"
   },
   {
    "duration": 0,
    "start_time": "2022-11-27T15:30:15.971Z"
   },
   {
    "duration": 0,
    "start_time": "2022-11-27T15:30:15.972Z"
   },
   {
    "duration": 0,
    "start_time": "2022-11-27T15:30:15.974Z"
   },
   {
    "duration": 0,
    "start_time": "2022-11-27T15:30:15.975Z"
   },
   {
    "duration": 0,
    "start_time": "2022-11-27T15:30:15.979Z"
   },
   {
    "duration": 0,
    "start_time": "2022-11-27T15:30:15.980Z"
   },
   {
    "duration": 0,
    "start_time": "2022-11-27T15:30:15.981Z"
   },
   {
    "duration": 0,
    "start_time": "2022-11-27T15:30:15.982Z"
   },
   {
    "duration": 0,
    "start_time": "2022-11-27T15:30:15.983Z"
   },
   {
    "duration": 0,
    "start_time": "2022-11-27T15:30:15.983Z"
   },
   {
    "duration": 1,
    "start_time": "2022-11-27T15:30:15.983Z"
   },
   {
    "duration": 0,
    "start_time": "2022-11-27T15:30:15.984Z"
   },
   {
    "duration": 0,
    "start_time": "2022-11-27T15:30:15.985Z"
   },
   {
    "duration": 0,
    "start_time": "2022-11-27T15:30:15.985Z"
   },
   {
    "duration": 0,
    "start_time": "2022-11-27T15:30:16.012Z"
   },
   {
    "duration": 0,
    "start_time": "2022-11-27T15:30:16.014Z"
   },
   {
    "duration": 0,
    "start_time": "2022-11-27T15:30:16.016Z"
   },
   {
    "duration": 0,
    "start_time": "2022-11-27T15:30:16.017Z"
   },
   {
    "duration": 0,
    "start_time": "2022-11-27T15:30:16.018Z"
   },
   {
    "duration": 0,
    "start_time": "2022-11-27T15:30:16.020Z"
   },
   {
    "duration": 0,
    "start_time": "2022-11-27T15:30:16.021Z"
   },
   {
    "duration": 0,
    "start_time": "2022-11-27T15:30:16.022Z"
   },
   {
    "duration": 0,
    "start_time": "2022-11-27T15:30:16.023Z"
   },
   {
    "duration": 0,
    "start_time": "2022-11-27T15:30:16.025Z"
   },
   {
    "duration": 0,
    "start_time": "2022-11-27T15:30:16.026Z"
   },
   {
    "duration": 0,
    "start_time": "2022-11-27T15:30:16.028Z"
   },
   {
    "duration": 0,
    "start_time": "2022-11-27T15:30:16.029Z"
   },
   {
    "duration": 0,
    "start_time": "2022-11-27T15:30:16.030Z"
   },
   {
    "duration": 0,
    "start_time": "2022-11-27T15:30:16.032Z"
   },
   {
    "duration": 0,
    "start_time": "2022-11-27T15:30:16.033Z"
   },
   {
    "duration": 11,
    "start_time": "2022-11-27T15:30:49.622Z"
   },
   {
    "duration": 7,
    "start_time": "2022-11-27T15:30:52.738Z"
   },
   {
    "duration": 57,
    "start_time": "2022-11-27T15:30:52.750Z"
   },
   {
    "duration": 17,
    "start_time": "2022-11-27T15:30:52.809Z"
   },
   {
    "duration": 47,
    "start_time": "2022-11-27T15:30:52.828Z"
   },
   {
    "duration": 40,
    "start_time": "2022-11-27T15:30:52.878Z"
   },
   {
    "duration": 15,
    "start_time": "2022-11-27T15:30:52.920Z"
   },
   {
    "duration": 5,
    "start_time": "2022-11-27T15:30:52.938Z"
   },
   {
    "duration": 8,
    "start_time": "2022-11-27T15:30:52.945Z"
   },
   {
    "duration": 13,
    "start_time": "2022-11-27T15:30:52.954Z"
   },
   {
    "duration": 64,
    "start_time": "2022-11-27T15:30:52.969Z"
   },
   {
    "duration": 28,
    "start_time": "2022-11-27T15:30:53.035Z"
   },
   {
    "duration": 14,
    "start_time": "2022-11-27T15:30:53.065Z"
   },
   {
    "duration": 31,
    "start_time": "2022-11-27T15:30:53.081Z"
   },
   {
    "duration": 6,
    "start_time": "2022-11-27T15:30:53.117Z"
   },
   {
    "duration": 13,
    "start_time": "2022-11-27T15:30:53.125Z"
   },
   {
    "duration": 9,
    "start_time": "2022-11-27T15:30:53.141Z"
   },
   {
    "duration": 10,
    "start_time": "2022-11-27T15:30:53.152Z"
   },
   {
    "duration": 10,
    "start_time": "2022-11-27T15:30:53.164Z"
   },
   {
    "duration": 11,
    "start_time": "2022-11-27T15:30:53.176Z"
   },
   {
    "duration": 32,
    "start_time": "2022-11-27T15:30:53.189Z"
   },
   {
    "duration": 30,
    "start_time": "2022-11-27T15:30:53.223Z"
   },
   {
    "duration": 12,
    "start_time": "2022-11-27T15:30:53.255Z"
   },
   {
    "duration": 48,
    "start_time": "2022-11-27T15:30:53.269Z"
   },
   {
    "duration": 18,
    "start_time": "2022-11-27T15:30:53.320Z"
   },
   {
    "duration": 39,
    "start_time": "2022-11-27T15:30:53.341Z"
   },
   {
    "duration": 61,
    "start_time": "2022-11-27T15:30:53.382Z"
   },
   {
    "duration": 900,
    "start_time": "2022-11-27T15:30:53.446Z"
   },
   {
    "duration": 179,
    "start_time": "2022-11-27T15:30:54.347Z"
   },
   {
    "duration": 0,
    "start_time": "2022-11-27T15:30:54.613Z"
   },
   {
    "duration": 0,
    "start_time": "2022-11-27T15:30:54.615Z"
   },
   {
    "duration": 0,
    "start_time": "2022-11-27T15:30:54.616Z"
   },
   {
    "duration": 0,
    "start_time": "2022-11-27T15:30:54.616Z"
   },
   {
    "duration": 0,
    "start_time": "2022-11-27T15:30:54.618Z"
   },
   {
    "duration": 0,
    "start_time": "2022-11-27T15:30:54.619Z"
   },
   {
    "duration": 0,
    "start_time": "2022-11-27T15:30:54.620Z"
   },
   {
    "duration": 0,
    "start_time": "2022-11-27T15:30:54.621Z"
   },
   {
    "duration": 0,
    "start_time": "2022-11-27T15:30:54.622Z"
   },
   {
    "duration": 0,
    "start_time": "2022-11-27T15:30:54.624Z"
   },
   {
    "duration": 0,
    "start_time": "2022-11-27T15:30:54.626Z"
   },
   {
    "duration": 0,
    "start_time": "2022-11-27T15:30:54.627Z"
   },
   {
    "duration": 0,
    "start_time": "2022-11-27T15:30:54.627Z"
   },
   {
    "duration": 0,
    "start_time": "2022-11-27T15:30:54.628Z"
   },
   {
    "duration": 0,
    "start_time": "2022-11-27T15:30:54.628Z"
   },
   {
    "duration": 0,
    "start_time": "2022-11-27T15:30:54.629Z"
   },
   {
    "duration": 0,
    "start_time": "2022-11-27T15:30:54.629Z"
   },
   {
    "duration": 0,
    "start_time": "2022-11-27T15:30:54.712Z"
   },
   {
    "duration": 0,
    "start_time": "2022-11-27T15:30:54.714Z"
   },
   {
    "duration": 0,
    "start_time": "2022-11-27T15:30:54.715Z"
   },
   {
    "duration": 0,
    "start_time": "2022-11-27T15:30:54.716Z"
   },
   {
    "duration": 0,
    "start_time": "2022-11-27T15:30:54.717Z"
   },
   {
    "duration": 0,
    "start_time": "2022-11-27T15:30:54.718Z"
   },
   {
    "duration": 0,
    "start_time": "2022-11-27T15:30:54.719Z"
   },
   {
    "duration": 0,
    "start_time": "2022-11-27T15:30:54.720Z"
   },
   {
    "duration": 0,
    "start_time": "2022-11-27T15:30:54.722Z"
   },
   {
    "duration": 0,
    "start_time": "2022-11-27T15:30:54.723Z"
   },
   {
    "duration": 0,
    "start_time": "2022-11-27T15:30:54.725Z"
   },
   {
    "duration": 0,
    "start_time": "2022-11-27T15:30:54.727Z"
   },
   {
    "duration": 32,
    "start_time": "2022-11-27T15:31:42.890Z"
   },
   {
    "duration": 8,
    "start_time": "2022-11-27T15:33:49.448Z"
   },
   {
    "duration": 46,
    "start_time": "2022-11-27T15:33:49.458Z"
   },
   {
    "duration": 25,
    "start_time": "2022-11-27T15:33:49.506Z"
   },
   {
    "duration": 88,
    "start_time": "2022-11-27T15:33:49.533Z"
   },
   {
    "duration": 17,
    "start_time": "2022-11-27T15:33:49.624Z"
   },
   {
    "duration": 18,
    "start_time": "2022-11-27T15:33:49.644Z"
   },
   {
    "duration": 6,
    "start_time": "2022-11-27T15:33:49.665Z"
   },
   {
    "duration": 45,
    "start_time": "2022-11-27T15:33:49.673Z"
   },
   {
    "duration": 12,
    "start_time": "2022-11-27T15:33:49.721Z"
   },
   {
    "duration": 26,
    "start_time": "2022-11-27T15:33:49.736Z"
   },
   {
    "duration": 34,
    "start_time": "2022-11-27T15:33:49.765Z"
   },
   {
    "duration": 10,
    "start_time": "2022-11-27T15:33:49.812Z"
   },
   {
    "duration": 10,
    "start_time": "2022-11-27T15:33:49.824Z"
   },
   {
    "duration": 14,
    "start_time": "2022-11-27T15:33:49.838Z"
   },
   {
    "duration": 11,
    "start_time": "2022-11-27T15:33:49.854Z"
   },
   {
    "duration": 12,
    "start_time": "2022-11-27T15:33:49.868Z"
   },
   {
    "duration": 32,
    "start_time": "2022-11-27T15:33:49.882Z"
   },
   {
    "duration": 11,
    "start_time": "2022-11-27T15:33:49.916Z"
   },
   {
    "duration": 11,
    "start_time": "2022-11-27T15:33:49.930Z"
   },
   {
    "duration": 15,
    "start_time": "2022-11-27T15:33:49.943Z"
   },
   {
    "duration": 25,
    "start_time": "2022-11-27T15:33:49.961Z"
   },
   {
    "duration": 18,
    "start_time": "2022-11-27T15:33:50.014Z"
   },
   {
    "duration": 24,
    "start_time": "2022-11-27T15:33:50.033Z"
   },
   {
    "duration": 12,
    "start_time": "2022-11-27T15:33:50.060Z"
   },
   {
    "duration": 68,
    "start_time": "2022-11-27T15:33:50.075Z"
   },
   {
    "duration": 70,
    "start_time": "2022-11-27T15:33:50.147Z"
   },
   {
    "duration": 1273,
    "start_time": "2022-11-27T15:33:50.219Z"
   },
   {
    "duration": 2127,
    "start_time": "2022-11-27T15:33:51.495Z"
   },
   {
    "duration": 92,
    "start_time": "2022-11-27T15:33:53.629Z"
   },
   {
    "duration": 95,
    "start_time": "2022-11-27T15:33:53.723Z"
   },
   {
    "duration": 93,
    "start_time": "2022-11-27T15:33:53.820Z"
   },
   {
    "duration": 103,
    "start_time": "2022-11-27T15:33:53.917Z"
   },
   {
    "duration": 16,
    "start_time": "2022-11-27T15:33:54.023Z"
   },
   {
    "duration": 162,
    "start_time": "2022-11-27T15:33:54.041Z"
   },
   {
    "duration": 25,
    "start_time": "2022-11-27T15:33:54.205Z"
   },
   {
    "duration": 111,
    "start_time": "2022-11-27T15:33:54.232Z"
   },
   {
    "duration": 9,
    "start_time": "2022-11-27T15:33:54.345Z"
   },
   {
    "duration": 161,
    "start_time": "2022-11-27T15:33:54.357Z"
   },
   {
    "duration": 10,
    "start_time": "2022-11-27T15:33:54.521Z"
   },
   {
    "duration": 17,
    "start_time": "2022-11-27T15:33:54.533Z"
   },
   {
    "duration": 20,
    "start_time": "2022-11-27T15:33:54.557Z"
   },
   {
    "duration": 38,
    "start_time": "2022-11-27T15:33:54.579Z"
   },
   {
    "duration": 9,
    "start_time": "2022-11-27T15:33:54.620Z"
   },
   {
    "duration": 19,
    "start_time": "2022-11-27T15:33:54.633Z"
   },
   {
    "duration": 30,
    "start_time": "2022-11-27T15:33:54.655Z"
   },
   {
    "duration": 246,
    "start_time": "2022-11-27T15:33:54.688Z"
   },
   {
    "duration": 128,
    "start_time": "2022-11-27T15:33:54.938Z"
   },
   {
    "duration": 82,
    "start_time": "2022-11-27T15:33:55.069Z"
   },
   {
    "duration": 5,
    "start_time": "2022-11-27T15:33:55.153Z"
   },
   {
    "duration": 16,
    "start_time": "2022-11-27T15:33:55.160Z"
   },
   {
    "duration": 436,
    "start_time": "2022-11-27T15:33:55.178Z"
   },
   {
    "duration": 4,
    "start_time": "2022-11-27T15:33:55.616Z"
   },
   {
    "duration": 225,
    "start_time": "2022-11-27T15:33:55.622Z"
   },
   {
    "duration": 369,
    "start_time": "2022-11-27T15:33:55.849Z"
   },
   {
    "duration": 93,
    "start_time": "2022-11-27T15:33:56.220Z"
   },
   {
    "duration": 96,
    "start_time": "2022-11-27T15:33:56.318Z"
   },
   {
    "duration": 20,
    "start_time": "2022-11-27T15:33:56.416Z"
   },
   {
    "duration": 5,
    "start_time": "2022-11-27T15:34:33.238Z"
   },
   {
    "duration": 67,
    "start_time": "2022-11-27T15:34:33.246Z"
   },
   {
    "duration": 15,
    "start_time": "2022-11-27T15:34:33.316Z"
   },
   {
    "duration": 78,
    "start_time": "2022-11-27T15:34:33.334Z"
   },
   {
    "duration": 13,
    "start_time": "2022-11-27T15:34:33.415Z"
   },
   {
    "duration": 42,
    "start_time": "2022-11-27T15:34:33.429Z"
   },
   {
    "duration": 5,
    "start_time": "2022-11-27T15:34:33.473Z"
   },
   {
    "duration": 17,
    "start_time": "2022-11-27T15:34:33.481Z"
   },
   {
    "duration": 27,
    "start_time": "2022-11-27T15:34:33.500Z"
   },
   {
    "duration": 27,
    "start_time": "2022-11-27T15:34:33.529Z"
   },
   {
    "duration": 44,
    "start_time": "2022-11-27T15:34:33.560Z"
   },
   {
    "duration": 17,
    "start_time": "2022-11-27T15:34:33.607Z"
   },
   {
    "duration": 16,
    "start_time": "2022-11-27T15:34:33.627Z"
   },
   {
    "duration": 12,
    "start_time": "2022-11-27T15:34:33.645Z"
   },
   {
    "duration": 16,
    "start_time": "2022-11-27T15:34:33.659Z"
   },
   {
    "duration": 23,
    "start_time": "2022-11-27T15:34:33.677Z"
   },
   {
    "duration": 20,
    "start_time": "2022-11-27T15:34:33.702Z"
   },
   {
    "duration": 26,
    "start_time": "2022-11-27T15:34:33.724Z"
   },
   {
    "duration": 38,
    "start_time": "2022-11-27T15:34:33.751Z"
   },
   {
    "duration": 33,
    "start_time": "2022-11-27T15:34:33.791Z"
   },
   {
    "duration": 50,
    "start_time": "2022-11-27T15:34:33.826Z"
   },
   {
    "duration": 25,
    "start_time": "2022-11-27T15:34:33.878Z"
   },
   {
    "duration": 18,
    "start_time": "2022-11-27T15:34:33.906Z"
   },
   {
    "duration": 12,
    "start_time": "2022-11-27T15:34:33.925Z"
   },
   {
    "duration": 26,
    "start_time": "2022-11-27T15:34:33.939Z"
   },
   {
    "duration": 62,
    "start_time": "2022-11-27T15:34:33.967Z"
   },
   {
    "duration": 898,
    "start_time": "2022-11-27T15:34:34.030Z"
   },
   {
    "duration": 189,
    "start_time": "2022-11-27T15:34:34.931Z"
   },
   {
    "duration": 100,
    "start_time": "2022-11-27T15:34:35.125Z"
   },
   {
    "duration": 170,
    "start_time": "2022-11-27T15:34:35.228Z"
   },
   {
    "duration": 35,
    "start_time": "2022-11-27T15:34:35.400Z"
   },
   {
    "duration": 80,
    "start_time": "2022-11-27T15:34:35.438Z"
   },
   {
    "duration": 94,
    "start_time": "2022-11-27T15:34:35.523Z"
   },
   {
    "duration": 126,
    "start_time": "2022-11-27T15:34:35.619Z"
   },
   {
    "duration": 7,
    "start_time": "2022-11-27T15:34:35.747Z"
   },
   {
    "duration": 167,
    "start_time": "2022-11-27T15:34:35.755Z"
   },
   {
    "duration": 7,
    "start_time": "2022-11-27T15:34:35.925Z"
   },
   {
    "duration": 178,
    "start_time": "2022-11-27T15:34:35.934Z"
   },
   {
    "duration": 8,
    "start_time": "2022-11-27T15:34:36.115Z"
   },
   {
    "duration": 52,
    "start_time": "2022-11-27T15:34:36.125Z"
   },
   {
    "duration": 80,
    "start_time": "2022-11-27T15:34:36.180Z"
   },
   {
    "duration": 47,
    "start_time": "2022-11-27T15:34:36.262Z"
   },
   {
    "duration": 83,
    "start_time": "2022-11-27T15:34:36.311Z"
   },
   {
    "duration": 49,
    "start_time": "2022-11-27T15:34:36.396Z"
   },
   {
    "duration": 84,
    "start_time": "2022-11-27T15:34:36.447Z"
   },
   {
    "duration": 201,
    "start_time": "2022-11-27T15:34:36.533Z"
   },
   {
    "duration": 96,
    "start_time": "2022-11-27T15:34:36.736Z"
   },
   {
    "duration": 49,
    "start_time": "2022-11-27T15:34:36.834Z"
   },
   {
    "duration": 7,
    "start_time": "2022-11-27T15:34:36.885Z"
   },
   {
    "duration": 26,
    "start_time": "2022-11-27T15:34:36.912Z"
   },
   {
    "duration": 355,
    "start_time": "2022-11-27T15:34:36.941Z"
   },
   {
    "duration": 3,
    "start_time": "2022-11-27T15:34:37.298Z"
   },
   {
    "duration": 67,
    "start_time": "2022-11-27T15:34:37.312Z"
   },
   {
    "duration": 232,
    "start_time": "2022-11-27T15:34:37.381Z"
   },
   {
    "duration": 135,
    "start_time": "2022-11-27T15:34:37.614Z"
   },
   {
    "duration": 162,
    "start_time": "2022-11-27T15:34:37.753Z"
   },
   {
    "duration": 19,
    "start_time": "2022-11-27T15:34:37.917Z"
   },
   {
    "duration": 313,
    "start_time": "2022-11-27T15:42:32.312Z"
   },
   {
    "duration": 349,
    "start_time": "2022-11-27T15:43:40.588Z"
   },
   {
    "duration": 347,
    "start_time": "2022-11-27T15:44:52.802Z"
   },
   {
    "duration": 333,
    "start_time": "2022-11-27T15:45:19.618Z"
   },
   {
    "duration": 366,
    "start_time": "2022-11-27T15:45:26.613Z"
   },
   {
    "duration": 353,
    "start_time": "2022-11-27T15:45:29.897Z"
   },
   {
    "duration": 328,
    "start_time": "2022-11-27T15:48:53.395Z"
   },
   {
    "duration": 329,
    "start_time": "2022-11-27T15:49:03.057Z"
   },
   {
    "duration": 34,
    "start_time": "2022-11-27T15:50:38.260Z"
   },
   {
    "duration": 17,
    "start_time": "2022-11-27T15:50:55.932Z"
   },
   {
    "duration": 332,
    "start_time": "2022-11-27T15:51:07.676Z"
   },
   {
    "duration": 18,
    "start_time": "2022-11-27T15:51:09.087Z"
   },
   {
    "duration": 3,
    "start_time": "2022-11-27T15:52:06.904Z"
   },
   {
    "duration": 55,
    "start_time": "2022-11-27T15:53:53.470Z"
   },
   {
    "duration": 5,
    "start_time": "2022-11-27T15:55:00.748Z"
   },
   {
    "duration": 51,
    "start_time": "2022-11-27T15:55:00.756Z"
   },
   {
    "duration": 17,
    "start_time": "2022-11-27T15:55:00.809Z"
   },
   {
    "duration": 62,
    "start_time": "2022-11-27T15:55:00.827Z"
   },
   {
    "duration": 19,
    "start_time": "2022-11-27T15:55:00.893Z"
   },
   {
    "duration": 16,
    "start_time": "2022-11-27T15:55:00.914Z"
   },
   {
    "duration": 7,
    "start_time": "2022-11-27T15:55:00.932Z"
   },
   {
    "duration": 19,
    "start_time": "2022-11-27T15:55:00.941Z"
   },
   {
    "duration": 20,
    "start_time": "2022-11-27T15:55:00.962Z"
   },
   {
    "duration": 30,
    "start_time": "2022-11-27T15:55:00.984Z"
   },
   {
    "duration": 28,
    "start_time": "2022-11-27T15:55:01.016Z"
   },
   {
    "duration": 9,
    "start_time": "2022-11-27T15:55:01.047Z"
   },
   {
    "duration": 20,
    "start_time": "2022-11-27T15:55:01.058Z"
   },
   {
    "duration": 8,
    "start_time": "2022-11-27T15:55:01.084Z"
   },
   {
    "duration": 17,
    "start_time": "2022-11-27T15:55:01.095Z"
   },
   {
    "duration": 7,
    "start_time": "2022-11-27T15:55:01.115Z"
   },
   {
    "duration": 7,
    "start_time": "2022-11-27T15:55:01.124Z"
   },
   {
    "duration": 9,
    "start_time": "2022-11-27T15:55:01.132Z"
   },
   {
    "duration": 12,
    "start_time": "2022-11-27T15:55:01.142Z"
   },
   {
    "duration": 18,
    "start_time": "2022-11-27T15:55:01.156Z"
   },
   {
    "duration": 44,
    "start_time": "2022-11-27T15:55:01.176Z"
   },
   {
    "duration": 13,
    "start_time": "2022-11-27T15:55:01.222Z"
   },
   {
    "duration": 24,
    "start_time": "2022-11-27T15:55:01.236Z"
   },
   {
    "duration": 11,
    "start_time": "2022-11-27T15:55:01.262Z"
   },
   {
    "duration": 48,
    "start_time": "2022-11-27T15:55:01.275Z"
   },
   {
    "duration": 45,
    "start_time": "2022-11-27T15:55:01.324Z"
   },
   {
    "duration": 886,
    "start_time": "2022-11-27T15:55:01.371Z"
   },
   {
    "duration": 365,
    "start_time": "2022-11-27T15:55:02.259Z"
   },
   {
    "duration": 188,
    "start_time": "2022-11-27T15:55:02.626Z"
   },
   {
    "duration": 60,
    "start_time": "2022-11-27T15:55:02.816Z"
   },
   {
    "duration": 39,
    "start_time": "2022-11-27T15:55:02.878Z"
   },
   {
    "duration": 93,
    "start_time": "2022-11-27T15:55:02.919Z"
   },
   {
    "duration": 8,
    "start_time": "2022-11-27T15:55:03.014Z"
   },
   {
    "duration": 128,
    "start_time": "2022-11-27T15:55:03.024Z"
   },
   {
    "duration": 6,
    "start_time": "2022-11-27T15:55:03.155Z"
   },
   {
    "duration": 117,
    "start_time": "2022-11-27T15:55:03.163Z"
   },
   {
    "duration": 6,
    "start_time": "2022-11-27T15:55:03.282Z"
   },
   {
    "duration": 91,
    "start_time": "2022-11-27T15:55:03.290Z"
   },
   {
    "duration": 5,
    "start_time": "2022-11-27T15:55:03.383Z"
   },
   {
    "duration": 22,
    "start_time": "2022-11-27T15:55:03.390Z"
   },
   {
    "duration": 12,
    "start_time": "2022-11-27T15:55:03.417Z"
   },
   {
    "duration": 38,
    "start_time": "2022-11-27T15:55:03.431Z"
   },
   {
    "duration": 8,
    "start_time": "2022-11-27T15:55:03.471Z"
   },
   {
    "duration": 12,
    "start_time": "2022-11-27T15:55:03.481Z"
   },
   {
    "duration": 19,
    "start_time": "2022-11-27T15:55:03.495Z"
   },
   {
    "duration": 103,
    "start_time": "2022-11-27T15:55:03.516Z"
   },
   {
    "duration": 126,
    "start_time": "2022-11-27T15:55:03.622Z"
   },
   {
    "duration": 51,
    "start_time": "2022-11-27T15:55:03.750Z"
   },
   {
    "duration": 3,
    "start_time": "2022-11-27T15:55:03.812Z"
   },
   {
    "duration": 11,
    "start_time": "2022-11-27T15:55:03.817Z"
   },
   {
    "duration": 370,
    "start_time": "2022-11-27T15:55:03.830Z"
   },
   {
    "duration": 5,
    "start_time": "2022-11-27T15:55:04.202Z"
   },
   {
    "duration": 28,
    "start_time": "2022-11-27T15:55:04.213Z"
   },
   {
    "duration": 269,
    "start_time": "2022-11-27T15:55:04.243Z"
   },
   {
    "duration": 98,
    "start_time": "2022-11-27T15:55:04.514Z"
   },
   {
    "duration": 102,
    "start_time": "2022-11-27T15:55:04.614Z"
   },
   {
    "duration": 9,
    "start_time": "2022-11-27T15:55:04.718Z"
   },
   {
    "duration": 373,
    "start_time": "2022-11-27T15:55:04.729Z"
   },
   {
    "duration": 21,
    "start_time": "2022-11-27T15:55:05.104Z"
   },
   {
    "duration": 4,
    "start_time": "2022-11-27T15:55:05.127Z"
   },
   {
    "duration": 12,
    "start_time": "2022-11-27T16:07:06.142Z"
   },
   {
    "duration": 6,
    "start_time": "2022-11-27T16:07:09.719Z"
   },
   {
    "duration": 52,
    "start_time": "2022-11-27T16:07:09.727Z"
   },
   {
    "duration": 14,
    "start_time": "2022-11-27T16:07:09.780Z"
   },
   {
    "duration": 46,
    "start_time": "2022-11-27T16:07:09.796Z"
   },
   {
    "duration": 12,
    "start_time": "2022-11-27T16:07:09.844Z"
   },
   {
    "duration": 15,
    "start_time": "2022-11-27T16:07:09.858Z"
   },
   {
    "duration": 13,
    "start_time": "2022-11-27T16:07:09.875Z"
   },
   {
    "duration": 15,
    "start_time": "2022-11-27T16:07:09.890Z"
   },
   {
    "duration": 9,
    "start_time": "2022-11-27T16:07:09.912Z"
   },
   {
    "duration": 33,
    "start_time": "2022-11-27T16:07:09.922Z"
   },
   {
    "duration": 32,
    "start_time": "2022-11-27T16:07:09.957Z"
   },
   {
    "duration": 18,
    "start_time": "2022-11-27T16:07:09.991Z"
   },
   {
    "duration": 17,
    "start_time": "2022-11-27T16:07:10.011Z"
   },
   {
    "duration": 17,
    "start_time": "2022-11-27T16:07:10.030Z"
   },
   {
    "duration": 24,
    "start_time": "2022-11-27T16:07:10.049Z"
   },
   {
    "duration": 12,
    "start_time": "2022-11-27T16:07:10.075Z"
   },
   {
    "duration": 19,
    "start_time": "2022-11-27T16:07:10.089Z"
   },
   {
    "duration": 24,
    "start_time": "2022-11-27T16:07:10.111Z"
   },
   {
    "duration": 33,
    "start_time": "2022-11-27T16:07:10.137Z"
   },
   {
    "duration": 18,
    "start_time": "2022-11-27T16:07:10.172Z"
   },
   {
    "duration": 38,
    "start_time": "2022-11-27T16:07:10.192Z"
   },
   {
    "duration": 11,
    "start_time": "2022-11-27T16:07:10.232Z"
   },
   {
    "duration": 27,
    "start_time": "2022-11-27T16:07:10.244Z"
   },
   {
    "duration": 24,
    "start_time": "2022-11-27T16:07:10.273Z"
   },
   {
    "duration": 27,
    "start_time": "2022-11-27T16:07:10.299Z"
   },
   {
    "duration": 47,
    "start_time": "2022-11-27T16:07:10.328Z"
   },
   {
    "duration": 863,
    "start_time": "2022-11-27T16:07:10.376Z"
   },
   {
    "duration": 179,
    "start_time": "2022-11-27T16:07:11.241Z"
   },
   {
    "duration": 101,
    "start_time": "2022-11-27T16:07:11.511Z"
   },
   {
    "duration": 57,
    "start_time": "2022-11-27T16:07:11.614Z"
   },
   {
    "duration": 40,
    "start_time": "2022-11-27T16:07:11.673Z"
   },
   {
    "duration": 11,
    "start_time": "2022-11-27T16:07:11.715Z"
   },
   {
    "duration": 6,
    "start_time": "2022-11-27T16:07:11.813Z"
   },
   {
    "duration": 72,
    "start_time": "2022-11-27T16:07:11.820Z"
   },
   {
    "duration": 6,
    "start_time": "2022-11-27T16:07:11.912Z"
   },
   {
    "duration": 79,
    "start_time": "2022-11-27T16:07:11.919Z"
   },
   {
    "duration": 16,
    "start_time": "2022-11-27T16:07:11.999Z"
   },
   {
    "duration": 170,
    "start_time": "2022-11-27T16:07:12.017Z"
   },
   {
    "duration": 6,
    "start_time": "2022-11-27T16:07:12.188Z"
   },
   {
    "duration": 17,
    "start_time": "2022-11-27T16:07:12.196Z"
   },
   {
    "duration": 15,
    "start_time": "2022-11-27T16:07:12.215Z"
   },
   {
    "duration": 14,
    "start_time": "2022-11-27T16:07:12.232Z"
   },
   {
    "duration": 7,
    "start_time": "2022-11-27T16:07:12.247Z"
   },
   {
    "duration": 12,
    "start_time": "2022-11-27T16:07:12.255Z"
   },
   {
    "duration": 11,
    "start_time": "2022-11-27T16:07:12.269Z"
   },
   {
    "duration": 102,
    "start_time": "2022-11-27T16:07:12.311Z"
   },
   {
    "duration": 105,
    "start_time": "2022-11-27T16:07:12.415Z"
   },
   {
    "duration": 49,
    "start_time": "2022-11-27T16:07:12.522Z"
   },
   {
    "duration": 4,
    "start_time": "2022-11-27T16:07:12.572Z"
   },
   {
    "duration": 10,
    "start_time": "2022-11-27T16:07:12.577Z"
   },
   {
    "duration": 348,
    "start_time": "2022-11-27T16:07:12.589Z"
   },
   {
    "duration": 3,
    "start_time": "2022-11-27T16:07:12.939Z"
   },
   {
    "duration": 33,
    "start_time": "2022-11-27T16:07:12.944Z"
   },
   {
    "duration": 236,
    "start_time": "2022-11-27T16:07:12.979Z"
   },
   {
    "duration": 102,
    "start_time": "2022-11-27T16:07:13.217Z"
   },
   {
    "duration": 100,
    "start_time": "2022-11-27T16:07:13.320Z"
   },
   {
    "duration": 8,
    "start_time": "2022-11-27T16:07:13.422Z"
   },
   {
    "duration": 362,
    "start_time": "2022-11-27T16:07:13.432Z"
   },
   {
    "duration": 22,
    "start_time": "2022-11-27T16:07:13.796Z"
   },
   {
    "duration": 4,
    "start_time": "2022-11-27T16:07:13.820Z"
   },
   {
    "duration": 7,
    "start_time": "2022-11-27T16:16:33.639Z"
   },
   {
    "duration": 42,
    "start_time": "2022-11-27T16:16:33.649Z"
   },
   {
    "duration": 15,
    "start_time": "2022-11-27T16:16:33.693Z"
   },
   {
    "duration": 73,
    "start_time": "2022-11-27T16:16:33.710Z"
   },
   {
    "duration": 12,
    "start_time": "2022-11-27T16:16:33.785Z"
   },
   {
    "duration": 20,
    "start_time": "2022-11-27T16:16:33.811Z"
   },
   {
    "duration": 6,
    "start_time": "2022-11-27T16:16:33.833Z"
   },
   {
    "duration": 11,
    "start_time": "2022-11-27T16:16:33.840Z"
   },
   {
    "duration": 9,
    "start_time": "2022-11-27T16:16:33.852Z"
   },
   {
    "duration": 14,
    "start_time": "2022-11-27T16:16:33.862Z"
   },
   {
    "duration": 55,
    "start_time": "2022-11-27T16:16:33.878Z"
   },
   {
    "duration": 10,
    "start_time": "2022-11-27T16:16:33.935Z"
   },
   {
    "duration": 7,
    "start_time": "2022-11-27T16:16:33.947Z"
   },
   {
    "duration": 7,
    "start_time": "2022-11-27T16:16:33.958Z"
   },
   {
    "duration": 29,
    "start_time": "2022-11-27T16:16:33.966Z"
   },
   {
    "duration": 6,
    "start_time": "2022-11-27T16:16:33.997Z"
   },
   {
    "duration": 10,
    "start_time": "2022-11-27T16:16:34.011Z"
   },
   {
    "duration": 10,
    "start_time": "2022-11-27T16:16:34.025Z"
   },
   {
    "duration": 13,
    "start_time": "2022-11-27T16:16:34.037Z"
   },
   {
    "duration": 12,
    "start_time": "2022-11-27T16:16:34.052Z"
   },
   {
    "duration": 25,
    "start_time": "2022-11-27T16:16:34.065Z"
   },
   {
    "duration": 43,
    "start_time": "2022-11-27T16:16:34.091Z"
   },
   {
    "duration": 20,
    "start_time": "2022-11-27T16:16:34.136Z"
   },
   {
    "duration": 13,
    "start_time": "2022-11-27T16:16:34.158Z"
   },
   {
    "duration": 42,
    "start_time": "2022-11-27T16:16:34.173Z"
   },
   {
    "duration": 54,
    "start_time": "2022-11-27T16:16:34.217Z"
   },
   {
    "duration": 970,
    "start_time": "2022-11-27T16:16:34.273Z"
   },
   {
    "duration": 281,
    "start_time": "2022-11-27T16:16:35.245Z"
   },
   {
    "duration": 89,
    "start_time": "2022-11-27T16:16:35.529Z"
   },
   {
    "duration": 97,
    "start_time": "2022-11-27T16:16:35.620Z"
   },
   {
    "duration": 16,
    "start_time": "2022-11-27T16:16:35.722Z"
   },
   {
    "duration": 77,
    "start_time": "2022-11-27T16:16:35.743Z"
   },
   {
    "duration": 100,
    "start_time": "2022-11-27T16:16:35.821Z"
   },
   {
    "duration": 101,
    "start_time": "2022-11-27T16:16:35.923Z"
   },
   {
    "duration": 7,
    "start_time": "2022-11-27T16:16:36.034Z"
   },
   {
    "duration": 90,
    "start_time": "2022-11-27T16:16:36.043Z"
   },
   {
    "duration": 6,
    "start_time": "2022-11-27T16:16:36.135Z"
   },
   {
    "duration": 124,
    "start_time": "2022-11-27T16:16:36.142Z"
   },
   {
    "duration": 5,
    "start_time": "2022-11-27T16:16:36.268Z"
   },
   {
    "duration": 9,
    "start_time": "2022-11-27T16:16:36.275Z"
   },
   {
    "duration": 24,
    "start_time": "2022-11-27T16:16:36.288Z"
   },
   {
    "duration": 26,
    "start_time": "2022-11-27T16:16:36.316Z"
   },
   {
    "duration": 11,
    "start_time": "2022-11-27T16:16:36.344Z"
   },
   {
    "duration": 27,
    "start_time": "2022-11-27T16:16:36.357Z"
   },
   {
    "duration": 39,
    "start_time": "2022-11-27T16:16:36.386Z"
   },
   {
    "duration": 136,
    "start_time": "2022-11-27T16:16:36.427Z"
   },
   {
    "duration": 163,
    "start_time": "2022-11-27T16:16:36.565Z"
   },
   {
    "duration": 53,
    "start_time": "2022-11-27T16:16:36.732Z"
   },
   {
    "duration": 4,
    "start_time": "2022-11-27T16:16:36.787Z"
   },
   {
    "duration": 28,
    "start_time": "2022-11-27T16:16:36.793Z"
   },
   {
    "duration": 376,
    "start_time": "2022-11-27T16:16:36.824Z"
   },
   {
    "duration": 4,
    "start_time": "2022-11-27T16:16:37.202Z"
   },
   {
    "duration": 27,
    "start_time": "2022-11-27T16:16:37.212Z"
   },
   {
    "duration": 375,
    "start_time": "2022-11-27T16:16:37.241Z"
   },
   {
    "duration": 21,
    "start_time": "2022-11-27T16:16:37.618Z"
   },
   {
    "duration": 91,
    "start_time": "2022-11-27T16:16:37.724Z"
   },
   {
    "duration": 18,
    "start_time": "2022-11-27T16:16:37.817Z"
   },
   {
    "duration": 393,
    "start_time": "2022-11-27T16:16:37.837Z"
   },
   {
    "duration": 19,
    "start_time": "2022-11-27T16:16:38.232Z"
   },
   {
    "duration": 4,
    "start_time": "2022-11-27T16:16:38.253Z"
   },
   {
    "duration": 2848,
    "start_time": "2022-11-28T03:17:03.783Z"
   },
   {
    "duration": 74,
    "start_time": "2022-11-28T03:17:06.633Z"
   },
   {
    "duration": 18,
    "start_time": "2022-11-28T03:17:06.709Z"
   },
   {
    "duration": 36,
    "start_time": "2022-11-28T03:17:06.728Z"
   },
   {
    "duration": 10,
    "start_time": "2022-11-28T03:17:06.766Z"
   },
   {
    "duration": 12,
    "start_time": "2022-11-28T03:17:06.777Z"
   },
   {
    "duration": 3,
    "start_time": "2022-11-28T03:17:06.791Z"
   },
   {
    "duration": 5,
    "start_time": "2022-11-28T03:17:06.821Z"
   },
   {
    "duration": 7,
    "start_time": "2022-11-28T03:17:06.827Z"
   },
   {
    "duration": 12,
    "start_time": "2022-11-28T03:17:06.836Z"
   },
   {
    "duration": 17,
    "start_time": "2022-11-28T03:17:06.850Z"
   },
   {
    "duration": 8,
    "start_time": "2022-11-28T03:17:06.868Z"
   },
   {
    "duration": 12,
    "start_time": "2022-11-28T03:17:06.877Z"
   },
   {
    "duration": 32,
    "start_time": "2022-11-28T03:17:06.891Z"
   },
   {
    "duration": 11,
    "start_time": "2022-11-28T03:17:06.925Z"
   },
   {
    "duration": 8,
    "start_time": "2022-11-28T03:17:06.937Z"
   },
   {
    "duration": 7,
    "start_time": "2022-11-28T03:17:06.946Z"
   },
   {
    "duration": 5,
    "start_time": "2022-11-28T03:17:06.955Z"
   },
   {
    "duration": 12,
    "start_time": "2022-11-28T03:17:06.961Z"
   },
   {
    "duration": 10,
    "start_time": "2022-11-28T03:17:06.974Z"
   },
   {
    "duration": 21,
    "start_time": "2022-11-28T03:17:06.985Z"
   },
   {
    "duration": 21,
    "start_time": "2022-11-28T03:17:07.008Z"
   },
   {
    "duration": 15,
    "start_time": "2022-11-28T03:17:07.030Z"
   },
   {
    "duration": 10,
    "start_time": "2022-11-28T03:17:07.047Z"
   },
   {
    "duration": 16,
    "start_time": "2022-11-28T03:17:07.058Z"
   },
   {
    "duration": 70,
    "start_time": "2022-11-28T03:17:07.075Z"
   },
   {
    "duration": 769,
    "start_time": "2022-11-28T03:17:07.146Z"
   },
   {
    "duration": 410,
    "start_time": "2022-11-28T03:17:07.917Z"
   },
   {
    "duration": 102,
    "start_time": "2022-11-28T03:17:08.420Z"
   },
   {
    "duration": 52,
    "start_time": "2022-11-28T03:17:08.524Z"
   },
   {
    "duration": 46,
    "start_time": "2022-11-28T03:17:08.577Z"
   },
   {
    "duration": 5,
    "start_time": "2022-11-28T03:17:08.625Z"
   },
   {
    "duration": 96,
    "start_time": "2022-11-28T03:17:08.632Z"
   },
   {
    "duration": 80,
    "start_time": "2022-11-28T03:17:08.729Z"
   },
   {
    "duration": 12,
    "start_time": "2022-11-28T03:17:08.810Z"
   },
   {
    "duration": 66,
    "start_time": "2022-11-28T03:17:08.824Z"
   },
   {
    "duration": 6,
    "start_time": "2022-11-28T03:17:08.892Z"
   },
   {
    "duration": 69,
    "start_time": "2022-11-28T03:17:08.921Z"
   },
   {
    "duration": 4,
    "start_time": "2022-11-28T03:17:08.992Z"
   },
   {
    "duration": 22,
    "start_time": "2022-11-28T03:17:08.998Z"
   },
   {
    "duration": 10,
    "start_time": "2022-11-28T03:17:09.024Z"
   },
   {
    "duration": 15,
    "start_time": "2022-11-28T03:17:09.035Z"
   },
   {
    "duration": 6,
    "start_time": "2022-11-28T03:17:09.052Z"
   },
   {
    "duration": 10,
    "start_time": "2022-11-28T03:17:09.060Z"
   },
   {
    "duration": 9,
    "start_time": "2022-11-28T03:17:09.071Z"
   },
   {
    "duration": 104,
    "start_time": "2022-11-28T03:17:09.082Z"
   },
   {
    "duration": 147,
    "start_time": "2022-11-28T03:17:09.187Z"
   },
   {
    "duration": 47,
    "start_time": "2022-11-28T03:17:09.335Z"
   },
   {
    "duration": 3,
    "start_time": "2022-11-28T03:17:09.384Z"
   },
   {
    "duration": 11,
    "start_time": "2022-11-28T03:17:09.389Z"
   },
   {
    "duration": 312,
    "start_time": "2022-11-28T03:17:09.401Z"
   },
   {
    "duration": 7,
    "start_time": "2022-11-28T03:17:09.715Z"
   },
   {
    "duration": 23,
    "start_time": "2022-11-28T03:17:09.724Z"
   },
   {
    "duration": 277,
    "start_time": "2022-11-28T03:17:09.748Z"
   },
   {
    "duration": 113,
    "start_time": "2022-11-28T03:17:10.027Z"
   },
   {
    "duration": 180,
    "start_time": "2022-11-28T03:17:10.143Z"
   },
   {
    "duration": 8,
    "start_time": "2022-11-28T03:17:10.325Z"
   },
   {
    "duration": 488,
    "start_time": "2022-11-28T03:17:10.334Z"
   },
   {
    "duration": 15,
    "start_time": "2022-11-28T03:17:10.823Z"
   },
   {
    "duration": 5,
    "start_time": "2022-11-28T03:17:10.839Z"
   },
   {
    "duration": 5,
    "start_time": "2022-11-28T03:21:56.228Z"
   },
   {
    "duration": 1562,
    "start_time": "2022-12-04T12:44:27.966Z"
   },
   {
    "duration": 177,
    "start_time": "2022-12-04T12:44:29.530Z"
   },
   {
    "duration": 18,
    "start_time": "2022-12-04T12:44:29.708Z"
   },
   {
    "duration": 41,
    "start_time": "2022-12-04T12:44:29.728Z"
   },
   {
    "duration": 12,
    "start_time": "2022-12-04T12:44:29.772Z"
   },
   {
    "duration": 14,
    "start_time": "2022-12-04T12:44:29.785Z"
   },
   {
    "duration": 3,
    "start_time": "2022-12-04T12:44:29.801Z"
   },
   {
    "duration": 5,
    "start_time": "2022-12-04T12:44:29.806Z"
   },
   {
    "duration": 7,
    "start_time": "2022-12-04T12:44:29.812Z"
   },
   {
    "duration": 13,
    "start_time": "2022-12-04T12:44:29.820Z"
   },
   {
    "duration": 44,
    "start_time": "2022-12-04T12:44:29.835Z"
   },
   {
    "duration": 8,
    "start_time": "2022-12-04T12:44:29.881Z"
   },
   {
    "duration": 6,
    "start_time": "2022-12-04T12:44:29.891Z"
   },
   {
    "duration": 5,
    "start_time": "2022-12-04T12:44:29.900Z"
   },
   {
    "duration": 5,
    "start_time": "2022-12-04T12:44:29.907Z"
   },
   {
    "duration": 6,
    "start_time": "2022-12-04T12:44:29.914Z"
   },
   {
    "duration": 8,
    "start_time": "2022-12-04T12:44:29.922Z"
   },
   {
    "duration": 5,
    "start_time": "2022-12-04T12:44:29.932Z"
   },
   {
    "duration": 17,
    "start_time": "2022-12-04T12:44:29.939Z"
   },
   {
    "duration": 33,
    "start_time": "2022-12-04T12:44:29.958Z"
   },
   {
    "duration": 27,
    "start_time": "2022-12-04T12:44:29.992Z"
   },
   {
    "duration": 11,
    "start_time": "2022-12-04T12:44:30.021Z"
   },
   {
    "duration": 20,
    "start_time": "2022-12-04T12:44:30.034Z"
   },
   {
    "duration": 33,
    "start_time": "2022-12-04T12:44:30.055Z"
   },
   {
    "duration": 28,
    "start_time": "2022-12-04T12:44:30.090Z"
   },
   {
    "duration": 42,
    "start_time": "2022-12-04T12:44:30.119Z"
   },
   {
    "duration": 848,
    "start_time": "2022-12-04T12:44:30.164Z"
   },
   {
    "duration": 174,
    "start_time": "2022-12-04T12:44:31.014Z"
   },
   {
    "duration": 96,
    "start_time": "2022-12-04T12:44:31.190Z"
   },
   {
    "duration": 139,
    "start_time": "2022-12-04T12:44:31.288Z"
   },
   {
    "duration": 53,
    "start_time": "2022-12-04T12:44:31.428Z"
   },
   {
    "duration": 97,
    "start_time": "2022-12-04T12:44:31.483Z"
   },
   {
    "duration": 12,
    "start_time": "2022-12-04T12:44:31.582Z"
   },
   {
    "duration": 125,
    "start_time": "2022-12-04T12:44:31.596Z"
   },
   {
    "duration": 6,
    "start_time": "2022-12-04T12:44:31.723Z"
   },
   {
    "duration": 92,
    "start_time": "2022-12-04T12:44:31.731Z"
   },
   {
    "duration": 6,
    "start_time": "2022-12-04T12:44:31.825Z"
   },
   {
    "duration": 86,
    "start_time": "2022-12-04T12:44:31.832Z"
   },
   {
    "duration": 5,
    "start_time": "2022-12-04T12:44:31.919Z"
   },
   {
    "duration": 9,
    "start_time": "2022-12-04T12:44:31.926Z"
   },
   {
    "duration": 8,
    "start_time": "2022-12-04T12:44:31.940Z"
   },
   {
    "duration": 29,
    "start_time": "2022-12-04T12:44:31.950Z"
   },
   {
    "duration": 7,
    "start_time": "2022-12-04T12:44:31.980Z"
   },
   {
    "duration": 11,
    "start_time": "2022-12-04T12:44:31.988Z"
   },
   {
    "duration": 13,
    "start_time": "2022-12-04T12:44:32.001Z"
   },
   {
    "duration": 184,
    "start_time": "2022-12-04T12:44:32.016Z"
   },
   {
    "duration": 97,
    "start_time": "2022-12-04T12:44:32.202Z"
   },
   {
    "duration": 48,
    "start_time": "2022-12-04T12:44:32.301Z"
   },
   {
    "duration": 4,
    "start_time": "2022-12-04T12:44:32.351Z"
   },
   {
    "duration": 8,
    "start_time": "2022-12-04T12:44:32.377Z"
   },
   {
    "duration": 322,
    "start_time": "2022-12-04T12:44:32.387Z"
   },
   {
    "duration": 3,
    "start_time": "2022-12-04T12:44:32.711Z"
   },
   {
    "duration": 38,
    "start_time": "2022-12-04T12:44:32.715Z"
   },
   {
    "duration": 228,
    "start_time": "2022-12-04T12:44:32.755Z"
   },
   {
    "duration": 100,
    "start_time": "2022-12-04T12:44:32.985Z"
   },
   {
    "duration": 90,
    "start_time": "2022-12-04T12:44:33.088Z"
   },
   {
    "duration": 6,
    "start_time": "2022-12-04T12:44:33.181Z"
   },
   {
    "duration": 365,
    "start_time": "2022-12-04T12:44:33.189Z"
   },
   {
    "duration": 29,
    "start_time": "2022-12-04T12:44:33.556Z"
   },
   {
    "duration": 4,
    "start_time": "2022-12-04T12:44:33.586Z"
   },
   {
    "duration": 5,
    "start_time": "2022-12-04T12:45:02.308Z"
   },
   {
    "duration": 5,
    "start_time": "2022-12-04T12:45:03.465Z"
   },
   {
    "duration": 4,
    "start_time": "2022-12-04T12:45:05.382Z"
   },
   {
    "duration": 44,
    "start_time": "2022-12-04T12:45:05.387Z"
   },
   {
    "duration": 13,
    "start_time": "2022-12-04T12:45:05.433Z"
   },
   {
    "duration": 42,
    "start_time": "2022-12-04T12:45:05.447Z"
   },
   {
    "duration": 14,
    "start_time": "2022-12-04T12:45:05.491Z"
   },
   {
    "duration": 12,
    "start_time": "2022-12-04T12:45:05.507Z"
   },
   {
    "duration": 3,
    "start_time": "2022-12-04T12:45:05.520Z"
   },
   {
    "duration": 8,
    "start_time": "2022-12-04T12:45:05.524Z"
   },
   {
    "duration": 8,
    "start_time": "2022-12-04T12:45:05.533Z"
   },
   {
    "duration": 45,
    "start_time": "2022-12-04T12:45:05.543Z"
   },
   {
    "duration": 21,
    "start_time": "2022-12-04T12:45:05.590Z"
   },
   {
    "duration": 8,
    "start_time": "2022-12-04T12:45:05.612Z"
   },
   {
    "duration": 6,
    "start_time": "2022-12-04T12:45:05.622Z"
   },
   {
    "duration": 5,
    "start_time": "2022-12-04T12:45:05.629Z"
   },
   {
    "duration": 4,
    "start_time": "2022-12-04T12:45:05.636Z"
   },
   {
    "duration": 37,
    "start_time": "2022-12-04T12:45:05.641Z"
   },
   {
    "duration": 7,
    "start_time": "2022-12-04T12:45:05.680Z"
   },
   {
    "duration": 5,
    "start_time": "2022-12-04T12:45:05.689Z"
   },
   {
    "duration": 13,
    "start_time": "2022-12-04T12:45:05.695Z"
   },
   {
    "duration": 10,
    "start_time": "2022-12-04T12:45:05.709Z"
   },
   {
    "duration": 18,
    "start_time": "2022-12-04T12:45:05.720Z"
   },
   {
    "duration": 10,
    "start_time": "2022-12-04T12:45:05.739Z"
   },
   {
    "duration": 35,
    "start_time": "2022-12-04T12:45:05.750Z"
   },
   {
    "duration": 9,
    "start_time": "2022-12-04T12:45:05.787Z"
   },
   {
    "duration": 20,
    "start_time": "2022-12-04T12:45:05.799Z"
   },
   {
    "duration": 25,
    "start_time": "2022-12-04T12:45:05.820Z"
   },
   {
    "duration": 496,
    "start_time": "2022-12-04T12:45:05.847Z"
   },
   {
    "duration": 142,
    "start_time": "2022-12-04T12:45:06.345Z"
   },
   {
    "duration": 100,
    "start_time": "2022-12-04T12:45:06.582Z"
   },
   {
    "duration": 62,
    "start_time": "2022-12-04T12:45:06.684Z"
   },
   {
    "duration": 37,
    "start_time": "2022-12-04T12:45:06.747Z"
   },
   {
    "duration": 91,
    "start_time": "2022-12-04T12:45:06.786Z"
   },
   {
    "duration": 13,
    "start_time": "2022-12-04T12:45:06.879Z"
   },
   {
    "duration": 121,
    "start_time": "2022-12-04T12:45:06.894Z"
   },
   {
    "duration": 6,
    "start_time": "2022-12-04T12:45:07.017Z"
   },
   {
    "duration": 91,
    "start_time": "2022-12-04T12:45:07.025Z"
   },
   {
    "duration": 7,
    "start_time": "2022-12-04T12:45:07.117Z"
   },
   {
    "duration": 89,
    "start_time": "2022-12-04T12:45:07.125Z"
   },
   {
    "duration": 4,
    "start_time": "2022-12-04T12:45:07.217Z"
   },
   {
    "duration": 13,
    "start_time": "2022-12-04T12:45:07.223Z"
   },
   {
    "duration": 16,
    "start_time": "2022-12-04T12:45:07.237Z"
   },
   {
    "duration": 11,
    "start_time": "2022-12-04T12:45:07.256Z"
   },
   {
    "duration": 6,
    "start_time": "2022-12-04T12:45:07.277Z"
   },
   {
    "duration": 10,
    "start_time": "2022-12-04T12:45:07.284Z"
   },
   {
    "duration": 9,
    "start_time": "2022-12-04T12:45:07.296Z"
   },
   {
    "duration": 102,
    "start_time": "2022-12-04T12:45:07.306Z"
   },
   {
    "duration": 99,
    "start_time": "2022-12-04T12:45:07.410Z"
   },
   {
    "duration": 27,
    "start_time": "2022-12-04T12:45:07.511Z"
   },
   {
    "duration": 3,
    "start_time": "2022-12-04T12:45:07.540Z"
   },
   {
    "duration": 11,
    "start_time": "2022-12-04T12:45:07.545Z"
   },
   {
    "duration": 211,
    "start_time": "2022-12-04T12:45:07.558Z"
   },
   {
    "duration": 8,
    "start_time": "2022-12-04T12:45:07.771Z"
   },
   {
    "duration": 41,
    "start_time": "2022-12-04T12:45:07.780Z"
   },
   {
    "duration": 254,
    "start_time": "2022-12-04T12:45:07.823Z"
   },
   {
    "duration": 102,
    "start_time": "2022-12-04T12:45:08.083Z"
   },
   {
    "duration": 101,
    "start_time": "2022-12-04T12:45:08.187Z"
   },
   {
    "duration": 4,
    "start_time": "2022-12-04T12:45:08.378Z"
   },
   {
    "duration": 231,
    "start_time": "2022-12-04T12:45:08.384Z"
   },
   {
    "duration": 25,
    "start_time": "2022-12-04T12:45:08.617Z"
   },
   {
    "duration": 4,
    "start_time": "2022-12-04T12:45:08.644Z"
   },
   {
    "duration": 94,
    "start_time": "2022-12-04T12:46:08.768Z"
   },
   {
    "duration": 4,
    "start_time": "2022-12-04T12:47:01.070Z"
   },
   {
    "duration": 84,
    "start_time": "2022-12-04T12:47:01.076Z"
   },
   {
    "duration": 15,
    "start_time": "2022-12-04T12:47:01.162Z"
   },
   {
    "duration": 72,
    "start_time": "2022-12-04T12:47:01.179Z"
   },
   {
    "duration": 13,
    "start_time": "2022-12-04T12:47:01.254Z"
   },
   {
    "duration": 26,
    "start_time": "2022-12-04T12:47:01.269Z"
   },
   {
    "duration": 16,
    "start_time": "2022-12-04T12:47:01.296Z"
   },
   {
    "duration": 17,
    "start_time": "2022-12-04T12:47:01.313Z"
   },
   {
    "duration": 20,
    "start_time": "2022-12-04T12:47:01.333Z"
   },
   {
    "duration": 20,
    "start_time": "2022-12-04T12:47:01.355Z"
   },
   {
    "duration": 59,
    "start_time": "2022-12-04T12:47:01.376Z"
   },
   {
    "duration": 13,
    "start_time": "2022-12-04T12:47:01.438Z"
   },
   {
    "duration": 11,
    "start_time": "2022-12-04T12:47:01.452Z"
   },
   {
    "duration": 10,
    "start_time": "2022-12-04T12:47:01.467Z"
   },
   {
    "duration": 26,
    "start_time": "2022-12-04T12:47:01.479Z"
   },
   {
    "duration": 15,
    "start_time": "2022-12-04T12:47:01.507Z"
   },
   {
    "duration": 24,
    "start_time": "2022-12-04T12:47:01.523Z"
   },
   {
    "duration": 11,
    "start_time": "2022-12-04T12:47:01.549Z"
   },
   {
    "duration": 42,
    "start_time": "2022-12-04T12:47:01.562Z"
   },
   {
    "duration": 31,
    "start_time": "2022-12-04T12:47:01.605Z"
   },
   {
    "duration": 27,
    "start_time": "2022-12-04T12:47:01.638Z"
   },
   {
    "duration": 38,
    "start_time": "2022-12-04T12:47:01.667Z"
   },
   {
    "duration": 29,
    "start_time": "2022-12-04T12:47:01.706Z"
   },
   {
    "duration": 10,
    "start_time": "2022-12-04T12:47:01.736Z"
   },
   {
    "duration": 35,
    "start_time": "2022-12-04T12:47:01.748Z"
   },
   {
    "duration": 45,
    "start_time": "2022-12-04T12:47:01.785Z"
   },
   {
    "duration": 525,
    "start_time": "2022-12-04T12:47:01.831Z"
   },
   {
    "duration": 430,
    "start_time": "2022-12-04T12:47:02.358Z"
   },
   {
    "duration": 86,
    "start_time": "2022-12-04T12:47:02.795Z"
   },
   {
    "duration": 104,
    "start_time": "2022-12-04T12:47:02.883Z"
   },
   {
    "duration": 21,
    "start_time": "2022-12-04T12:47:02.989Z"
   },
   {
    "duration": 10,
    "start_time": "2022-12-04T12:47:03.079Z"
   },
   {
    "duration": 107,
    "start_time": "2022-12-04T12:47:03.094Z"
   },
   {
    "duration": 76,
    "start_time": "2022-12-04T12:47:03.204Z"
   },
   {
    "duration": 11,
    "start_time": "2022-12-04T12:47:03.282Z"
   },
   {
    "duration": 85,
    "start_time": "2022-12-04T12:47:03.295Z"
   },
   {
    "duration": 8,
    "start_time": "2022-12-04T12:47:03.382Z"
   },
   {
    "duration": 87,
    "start_time": "2022-12-04T12:47:03.393Z"
   },
   {
    "duration": 8,
    "start_time": "2022-12-04T12:47:03.483Z"
   },
   {
    "duration": 37,
    "start_time": "2022-12-04T12:47:03.493Z"
   },
   {
    "duration": 27,
    "start_time": "2022-12-04T12:47:03.534Z"
   },
   {
    "duration": 31,
    "start_time": "2022-12-04T12:47:03.562Z"
   },
   {
    "duration": 29,
    "start_time": "2022-12-04T12:47:03.595Z"
   },
   {
    "duration": 16,
    "start_time": "2022-12-04T12:47:03.626Z"
   },
   {
    "duration": 10,
    "start_time": "2022-12-04T12:47:03.643Z"
   },
   {
    "duration": 149,
    "start_time": "2022-12-04T12:47:03.654Z"
   },
   {
    "duration": 121,
    "start_time": "2022-12-04T12:47:03.804Z"
   },
   {
    "duration": 37,
    "start_time": "2022-12-04T12:47:03.926Z"
   },
   {
    "duration": 37,
    "start_time": "2022-12-04T12:47:03.965Z"
   },
   {
    "duration": 50,
    "start_time": "2022-12-04T12:47:04.003Z"
   },
   {
    "duration": 256,
    "start_time": "2022-12-04T12:47:04.054Z"
   },
   {
    "duration": 6,
    "start_time": "2022-12-04T12:47:04.312Z"
   },
   {
    "duration": 78,
    "start_time": "2022-12-04T12:47:04.320Z"
   },
   {
    "duration": 278,
    "start_time": "2022-12-04T12:47:04.399Z"
   },
   {
    "duration": 117,
    "start_time": "2022-12-04T12:47:04.680Z"
   },
   {
    "duration": 202,
    "start_time": "2022-12-04T12:47:04.799Z"
   },
   {
    "duration": 41,
    "start_time": "2022-12-04T12:47:05.002Z"
   },
   {
    "duration": 270,
    "start_time": "2022-12-04T12:47:05.045Z"
   },
   {
    "duration": 26,
    "start_time": "2022-12-04T12:47:05.317Z"
   },
   {
    "duration": 6,
    "start_time": "2022-12-04T12:47:05.344Z"
   },
   {
    "duration": 4,
    "start_time": "2022-12-04T12:48:41.197Z"
   },
   {
    "duration": 45,
    "start_time": "2022-12-04T12:48:41.202Z"
   },
   {
    "duration": 13,
    "start_time": "2022-12-04T12:48:41.249Z"
   },
   {
    "duration": 38,
    "start_time": "2022-12-04T12:48:41.264Z"
   },
   {
    "duration": 10,
    "start_time": "2022-12-04T12:48:41.303Z"
   },
   {
    "duration": 13,
    "start_time": "2022-12-04T12:48:41.315Z"
   },
   {
    "duration": 3,
    "start_time": "2022-12-04T12:48:41.329Z"
   },
   {
    "duration": 6,
    "start_time": "2022-12-04T12:48:41.333Z"
   },
   {
    "duration": 8,
    "start_time": "2022-12-04T12:48:41.341Z"
   },
   {
    "duration": 36,
    "start_time": "2022-12-04T12:48:41.351Z"
   },
   {
    "duration": 25,
    "start_time": "2022-12-04T12:48:41.388Z"
   },
   {
    "duration": 8,
    "start_time": "2022-12-04T12:48:41.415Z"
   },
   {
    "duration": 5,
    "start_time": "2022-12-04T12:48:41.424Z"
   },
   {
    "duration": 4,
    "start_time": "2022-12-04T12:48:41.430Z"
   },
   {
    "duration": 4,
    "start_time": "2022-12-04T12:48:41.436Z"
   },
   {
    "duration": 7,
    "start_time": "2022-12-04T12:48:41.442Z"
   },
   {
    "duration": 4,
    "start_time": "2022-12-04T12:48:41.477Z"
   },
   {
    "duration": 5,
    "start_time": "2022-12-04T12:48:41.483Z"
   },
   {
    "duration": 8,
    "start_time": "2022-12-04T12:48:41.490Z"
   },
   {
    "duration": 11,
    "start_time": "2022-12-04T12:48:41.500Z"
   },
   {
    "duration": 20,
    "start_time": "2022-12-04T12:48:41.513Z"
   },
   {
    "duration": 10,
    "start_time": "2022-12-04T12:48:41.534Z"
   },
   {
    "duration": 18,
    "start_time": "2022-12-04T12:48:41.577Z"
   },
   {
    "duration": 10,
    "start_time": "2022-12-04T12:48:41.597Z"
   },
   {
    "duration": 20,
    "start_time": "2022-12-04T12:48:41.609Z"
   },
   {
    "duration": 48,
    "start_time": "2022-12-04T12:48:41.630Z"
   },
   {
    "duration": 491,
    "start_time": "2022-12-04T12:48:41.680Z"
   },
   {
    "duration": 204,
    "start_time": "2022-12-04T12:48:42.173Z"
   },
   {
    "duration": 99,
    "start_time": "2022-12-04T12:48:42.380Z"
   },
   {
    "duration": 62,
    "start_time": "2022-12-04T12:48:42.482Z"
   },
   {
    "duration": 40,
    "start_time": "2022-12-04T12:48:42.545Z"
   },
   {
    "duration": 95,
    "start_time": "2022-12-04T12:48:42.587Z"
   },
   {
    "duration": 9,
    "start_time": "2022-12-04T12:48:42.684Z"
   },
   {
    "duration": 123,
    "start_time": "2022-12-04T12:48:42.694Z"
   },
   {
    "duration": 6,
    "start_time": "2022-12-04T12:48:42.819Z"
   },
   {
    "duration": 89,
    "start_time": "2022-12-04T12:48:42.826Z"
   },
   {
    "duration": 6,
    "start_time": "2022-12-04T12:48:42.916Z"
   },
   {
    "duration": 158,
    "start_time": "2022-12-04T12:48:42.923Z"
   },
   {
    "duration": 5,
    "start_time": "2022-12-04T12:48:43.083Z"
   },
   {
    "duration": 6,
    "start_time": "2022-12-04T12:48:43.089Z"
   },
   {
    "duration": 13,
    "start_time": "2022-12-04T12:48:43.097Z"
   },
   {
    "duration": 11,
    "start_time": "2022-12-04T12:48:43.111Z"
   },
   {
    "duration": 5,
    "start_time": "2022-12-04T12:48:43.124Z"
   },
   {
    "duration": 9,
    "start_time": "2022-12-04T12:48:43.131Z"
   },
   {
    "duration": 40,
    "start_time": "2022-12-04T12:48:43.141Z"
   },
   {
    "duration": 77,
    "start_time": "2022-12-04T12:48:43.182Z"
   },
   {
    "duration": 99,
    "start_time": "2022-12-04T12:48:43.260Z"
   },
   {
    "duration": 37,
    "start_time": "2022-12-04T12:48:43.360Z"
   },
   {
    "duration": 3,
    "start_time": "2022-12-04T12:48:43.398Z"
   },
   {
    "duration": 10,
    "start_time": "2022-12-04T12:48:43.402Z"
   },
   {
    "duration": 203,
    "start_time": "2022-12-04T12:48:43.413Z"
   },
   {
    "duration": 3,
    "start_time": "2022-12-04T12:48:43.618Z"
   },
   {
    "duration": 28,
    "start_time": "2022-12-04T12:48:43.622Z"
   },
   {
    "duration": 231,
    "start_time": "2022-12-04T12:48:43.651Z"
   },
   {
    "duration": 101,
    "start_time": "2022-12-04T12:48:43.884Z"
   },
   {
    "duration": 197,
    "start_time": "2022-12-04T12:48:43.987Z"
   },
   {
    "duration": 17,
    "start_time": "2022-12-04T12:48:44.186Z"
   },
   {
    "duration": 204,
    "start_time": "2022-12-04T12:48:44.205Z"
   },
   {
    "duration": 27,
    "start_time": "2022-12-04T12:48:44.411Z"
   },
   {
    "duration": 4,
    "start_time": "2022-12-04T12:48:44.440Z"
   },
   {
    "duration": 6,
    "start_time": "2022-12-04T12:50:04.403Z"
   },
   {
    "duration": 43,
    "start_time": "2022-12-04T12:50:04.412Z"
   },
   {
    "duration": 13,
    "start_time": "2022-12-04T12:50:04.457Z"
   },
   {
    "duration": 40,
    "start_time": "2022-12-04T12:50:04.472Z"
   },
   {
    "duration": 13,
    "start_time": "2022-12-04T12:50:04.514Z"
   },
   {
    "duration": 13,
    "start_time": "2022-12-04T12:50:04.529Z"
   },
   {
    "duration": 35,
    "start_time": "2022-12-04T12:50:04.543Z"
   },
   {
    "duration": 5,
    "start_time": "2022-12-04T12:50:04.580Z"
   },
   {
    "duration": 10,
    "start_time": "2022-12-04T12:50:04.587Z"
   },
   {
    "duration": 15,
    "start_time": "2022-12-04T12:50:04.599Z"
   },
   {
    "duration": 19,
    "start_time": "2022-12-04T12:50:04.616Z"
   },
   {
    "duration": 10,
    "start_time": "2022-12-04T12:50:04.636Z"
   },
   {
    "duration": 6,
    "start_time": "2022-12-04T12:50:04.677Z"
   },
   {
    "duration": 6,
    "start_time": "2022-12-04T12:50:04.685Z"
   },
   {
    "duration": 5,
    "start_time": "2022-12-04T12:50:04.693Z"
   },
   {
    "duration": 7,
    "start_time": "2022-12-04T12:50:04.700Z"
   },
   {
    "duration": 7,
    "start_time": "2022-12-04T12:50:04.708Z"
   },
   {
    "duration": 7,
    "start_time": "2022-12-04T12:50:04.716Z"
   },
   {
    "duration": 10,
    "start_time": "2022-12-04T12:50:04.724Z"
   },
   {
    "duration": 12,
    "start_time": "2022-12-04T12:50:04.736Z"
   },
   {
    "duration": 38,
    "start_time": "2022-12-04T12:50:04.750Z"
   },
   {
    "duration": 10,
    "start_time": "2022-12-04T12:50:04.790Z"
   },
   {
    "duration": 24,
    "start_time": "2022-12-04T12:50:04.801Z"
   },
   {
    "duration": 10,
    "start_time": "2022-12-04T12:50:04.827Z"
   },
   {
    "duration": 40,
    "start_time": "2022-12-04T12:50:04.839Z"
   },
   {
    "duration": 25,
    "start_time": "2022-12-04T12:50:04.881Z"
   },
   {
    "duration": 505,
    "start_time": "2022-12-04T12:50:04.907Z"
   },
   {
    "duration": 468,
    "start_time": "2022-12-04T12:50:05.413Z"
   },
   {
    "duration": 99,
    "start_time": "2022-12-04T12:50:05.884Z"
   },
   {
    "duration": 71,
    "start_time": "2022-12-04T12:50:05.985Z"
   },
   {
    "duration": 26,
    "start_time": "2022-12-04T12:50:06.057Z"
   },
   {
    "duration": 96,
    "start_time": "2022-12-04T12:50:06.086Z"
   },
   {
    "duration": 95,
    "start_time": "2022-12-04T12:50:06.184Z"
   },
   {
    "duration": 75,
    "start_time": "2022-12-04T12:50:06.281Z"
   },
   {
    "duration": 22,
    "start_time": "2022-12-04T12:50:06.357Z"
   },
   {
    "duration": 69,
    "start_time": "2022-12-04T12:50:06.381Z"
   },
   {
    "duration": 25,
    "start_time": "2022-12-04T12:50:06.454Z"
   },
   {
    "duration": 68,
    "start_time": "2022-12-04T12:50:06.480Z"
   },
   {
    "duration": 5,
    "start_time": "2022-12-04T12:50:06.550Z"
   },
   {
    "duration": 22,
    "start_time": "2022-12-04T12:50:06.556Z"
   },
   {
    "duration": 15,
    "start_time": "2022-12-04T12:50:06.580Z"
   },
   {
    "duration": 13,
    "start_time": "2022-12-04T12:50:06.596Z"
   },
   {
    "duration": 6,
    "start_time": "2022-12-04T12:50:06.611Z"
   },
   {
    "duration": 11,
    "start_time": "2022-12-04T12:50:06.619Z"
   },
   {
    "duration": 10,
    "start_time": "2022-12-04T12:50:06.631Z"
   },
   {
    "duration": 103,
    "start_time": "2022-12-04T12:50:06.678Z"
   },
   {
    "duration": 96,
    "start_time": "2022-12-04T12:50:06.782Z"
   },
   {
    "duration": 28,
    "start_time": "2022-12-04T12:50:06.880Z"
   },
   {
    "duration": 4,
    "start_time": "2022-12-04T12:50:06.910Z"
   },
   {
    "duration": 28,
    "start_time": "2022-12-04T12:50:06.915Z"
   },
   {
    "duration": 218,
    "start_time": "2022-12-04T12:50:06.944Z"
   },
   {
    "duration": 4,
    "start_time": "2022-12-04T12:50:07.163Z"
   },
   {
    "duration": 35,
    "start_time": "2022-12-04T12:50:07.168Z"
   },
   {
    "duration": 180,
    "start_time": "2022-12-04T12:50:07.205Z"
   },
   {
    "duration": 197,
    "start_time": "2022-12-04T12:50:07.387Z"
   },
   {
    "duration": 193,
    "start_time": "2022-12-04T12:50:07.586Z"
   },
   {
    "duration": 13,
    "start_time": "2022-12-04T12:50:07.781Z"
   },
   {
    "duration": 205,
    "start_time": "2022-12-04T12:50:07.795Z"
   },
   {
    "duration": 26,
    "start_time": "2022-12-04T12:50:08.001Z"
   },
   {
    "duration": 3,
    "start_time": "2022-12-04T12:50:08.029Z"
   },
   {
    "duration": 1502,
    "start_time": "2022-12-05T13:15:11.801Z"
   },
   {
    "duration": 90,
    "start_time": "2022-12-05T13:15:13.305Z"
   },
   {
    "duration": 17,
    "start_time": "2022-12-05T13:15:13.397Z"
   },
   {
    "duration": 42,
    "start_time": "2022-12-05T13:15:13.416Z"
   },
   {
    "duration": 17,
    "start_time": "2022-12-05T13:15:13.460Z"
   },
   {
    "duration": 14,
    "start_time": "2022-12-05T13:15:13.480Z"
   },
   {
    "duration": 4,
    "start_time": "2022-12-05T13:15:13.495Z"
   },
   {
    "duration": 6,
    "start_time": "2022-12-05T13:15:13.522Z"
   },
   {
    "duration": 13,
    "start_time": "2022-12-05T13:15:13.530Z"
   },
   {
    "duration": 18,
    "start_time": "2022-12-05T13:15:13.547Z"
   },
   {
    "duration": 29,
    "start_time": "2022-12-05T13:15:13.567Z"
   },
   {
    "duration": 8,
    "start_time": "2022-12-05T13:15:13.598Z"
   },
   {
    "duration": 17,
    "start_time": "2022-12-05T13:15:13.608Z"
   },
   {
    "duration": 27,
    "start_time": "2022-12-05T13:15:13.626Z"
   },
   {
    "duration": 8,
    "start_time": "2022-12-05T13:15:13.656Z"
   },
   {
    "duration": 9,
    "start_time": "2022-12-05T13:15:13.665Z"
   },
   {
    "duration": 9,
    "start_time": "2022-12-05T13:15:13.675Z"
   },
   {
    "duration": 8,
    "start_time": "2022-12-05T13:15:13.686Z"
   },
   {
    "duration": 15,
    "start_time": "2022-12-05T13:15:13.696Z"
   },
   {
    "duration": 12,
    "start_time": "2022-12-05T13:15:13.713Z"
   },
   {
    "duration": 30,
    "start_time": "2022-12-05T13:15:13.726Z"
   },
   {
    "duration": 11,
    "start_time": "2022-12-05T13:15:13.757Z"
   },
   {
    "duration": 28,
    "start_time": "2022-12-05T13:15:13.769Z"
   },
   {
    "duration": 9,
    "start_time": "2022-12-05T13:15:13.799Z"
   },
   {
    "duration": 54,
    "start_time": "2022-12-05T13:15:13.809Z"
   },
   {
    "duration": 36,
    "start_time": "2022-12-05T13:15:13.865Z"
   },
   {
    "duration": 513,
    "start_time": "2022-12-05T13:15:13.903Z"
   },
   {
    "duration": 804,
    "start_time": "2022-12-05T13:15:14.422Z"
   },
   {
    "duration": 18,
    "start_time": "2022-12-05T13:15:15.228Z"
   },
   {
    "duration": 195,
    "start_time": "2022-12-05T13:15:15.248Z"
   },
   {
    "duration": 19,
    "start_time": "2022-12-05T13:15:15.445Z"
   },
   {
    "duration": 107,
    "start_time": "2022-12-05T13:15:15.522Z"
   },
   {
    "duration": 18,
    "start_time": "2022-12-05T13:15:15.631Z"
   },
   {
    "duration": 112,
    "start_time": "2022-12-05T13:15:15.650Z"
   },
   {
    "duration": 6,
    "start_time": "2022-12-05T13:15:15.763Z"
   },
   {
    "duration": 85,
    "start_time": "2022-12-05T13:15:15.770Z"
   },
   {
    "duration": 6,
    "start_time": "2022-12-05T13:15:15.859Z"
   },
   {
    "duration": 84,
    "start_time": "2022-12-05T13:15:15.866Z"
   },
   {
    "duration": 5,
    "start_time": "2022-12-05T13:15:15.952Z"
   },
   {
    "duration": 15,
    "start_time": "2022-12-05T13:15:15.959Z"
   },
   {
    "duration": 14,
    "start_time": "2022-12-05T13:15:15.975Z"
   },
   {
    "duration": 22,
    "start_time": "2022-12-05T13:15:15.991Z"
   },
   {
    "duration": 10,
    "start_time": "2022-12-05T13:15:16.014Z"
   },
   {
    "duration": 23,
    "start_time": "2022-12-05T13:15:16.025Z"
   },
   {
    "duration": 12,
    "start_time": "2022-12-05T13:15:16.049Z"
   },
   {
    "duration": 89,
    "start_time": "2022-12-05T13:15:16.063Z"
   },
   {
    "duration": 158,
    "start_time": "2022-12-05T13:15:16.154Z"
   },
   {
    "duration": 32,
    "start_time": "2022-12-05T13:15:16.320Z"
   },
   {
    "duration": 3,
    "start_time": "2022-12-05T13:15:16.354Z"
   },
   {
    "duration": 14,
    "start_time": "2022-12-05T13:15:16.359Z"
   },
   {
    "duration": 238,
    "start_time": "2022-12-05T13:15:16.374Z"
   },
   {
    "duration": 3,
    "start_time": "2022-12-05T13:15:16.614Z"
   },
   {
    "duration": 27,
    "start_time": "2022-12-05T13:15:16.623Z"
   },
   {
    "duration": 374,
    "start_time": "2022-12-05T13:15:16.653Z"
   },
   {
    "duration": 100,
    "start_time": "2022-12-05T13:15:17.030Z"
   },
   {
    "duration": 97,
    "start_time": "2022-12-05T13:15:17.133Z"
   },
   {
    "duration": 11,
    "start_time": "2022-12-05T13:15:17.233Z"
   },
   {
    "duration": 211,
    "start_time": "2022-12-05T13:15:17.246Z"
   },
   {
    "duration": 24,
    "start_time": "2022-12-05T13:15:17.459Z"
   },
   {
    "duration": 3,
    "start_time": "2022-12-05T13:15:17.485Z"
   },
   {
    "duration": 192,
    "start_time": "2022-12-05T13:17:05.785Z"
   },
   {
    "duration": 5,
    "start_time": "2022-12-05T13:17:13.552Z"
   },
   {
    "duration": 48,
    "start_time": "2022-12-05T13:17:13.560Z"
   },
   {
    "duration": 22,
    "start_time": "2022-12-05T13:17:13.609Z"
   },
   {
    "duration": 53,
    "start_time": "2022-12-05T13:17:13.633Z"
   },
   {
    "duration": 13,
    "start_time": "2022-12-05T13:17:13.688Z"
   },
   {
    "duration": 24,
    "start_time": "2022-12-05T13:17:13.702Z"
   },
   {
    "duration": 4,
    "start_time": "2022-12-05T13:17:13.728Z"
   },
   {
    "duration": 9,
    "start_time": "2022-12-05T13:17:13.734Z"
   },
   {
    "duration": 18,
    "start_time": "2022-12-05T13:17:13.745Z"
   },
   {
    "duration": 16,
    "start_time": "2022-12-05T13:17:13.764Z"
   },
   {
    "duration": 25,
    "start_time": "2022-12-05T13:17:13.781Z"
   },
   {
    "duration": 8,
    "start_time": "2022-12-05T13:17:13.822Z"
   },
   {
    "duration": 11,
    "start_time": "2022-12-05T13:17:13.834Z"
   },
   {
    "duration": 13,
    "start_time": "2022-12-05T13:17:13.846Z"
   },
   {
    "duration": 12,
    "start_time": "2022-12-05T13:17:13.860Z"
   },
   {
    "duration": 12,
    "start_time": "2022-12-05T13:17:13.874Z"
   },
   {
    "duration": 5,
    "start_time": "2022-12-05T13:17:13.888Z"
   },
   {
    "duration": 6,
    "start_time": "2022-12-05T13:17:13.895Z"
   },
   {
    "duration": 9,
    "start_time": "2022-12-05T13:17:13.903Z"
   },
   {
    "duration": 13,
    "start_time": "2022-12-05T13:17:13.913Z"
   },
   {
    "duration": 34,
    "start_time": "2022-12-05T13:17:13.928Z"
   },
   {
    "duration": 23,
    "start_time": "2022-12-05T13:17:13.964Z"
   },
   {
    "duration": 26,
    "start_time": "2022-12-05T13:17:13.989Z"
   },
   {
    "duration": 9,
    "start_time": "2022-12-05T13:17:14.017Z"
   },
   {
    "duration": 28,
    "start_time": "2022-12-05T13:17:14.028Z"
   },
   {
    "duration": 25,
    "start_time": "2022-12-05T13:17:14.057Z"
   },
   {
    "duration": 178,
    "start_time": "2022-12-05T13:17:14.083Z"
   },
   {
    "duration": 175,
    "start_time": "2022-12-05T13:17:14.263Z"
   },
   {
    "duration": 189,
    "start_time": "2022-12-05T13:17:14.440Z"
   },
   {
    "duration": 40,
    "start_time": "2022-12-05T13:17:14.630Z"
   },
   {
    "duration": 50,
    "start_time": "2022-12-05T13:17:14.672Z"
   },
   {
    "duration": 111,
    "start_time": "2022-12-05T13:17:14.724Z"
   },
   {
    "duration": 12,
    "start_time": "2022-12-05T13:17:14.837Z"
   },
   {
    "duration": 84,
    "start_time": "2022-12-05T13:17:14.850Z"
   },
   {
    "duration": 7,
    "start_time": "2022-12-05T13:17:14.937Z"
   },
   {
    "duration": 87,
    "start_time": "2022-12-05T13:17:14.947Z"
   },
   {
    "duration": 9,
    "start_time": "2022-12-05T13:17:15.040Z"
   },
   {
    "duration": 88,
    "start_time": "2022-12-05T13:17:15.050Z"
   },
   {
    "duration": 10,
    "start_time": "2022-12-05T13:17:15.140Z"
   },
   {
    "duration": 11,
    "start_time": "2022-12-05T13:17:15.151Z"
   },
   {
    "duration": 13,
    "start_time": "2022-12-05T13:17:15.163Z"
   },
   {
    "duration": 15,
    "start_time": "2022-12-05T13:17:15.178Z"
   },
   {
    "duration": 7,
    "start_time": "2022-12-05T13:17:15.195Z"
   },
   {
    "duration": 20,
    "start_time": "2022-12-05T13:17:15.221Z"
   },
   {
    "duration": 14,
    "start_time": "2022-12-05T13:17:15.243Z"
   },
   {
    "duration": 145,
    "start_time": "2022-12-05T13:17:15.260Z"
   },
   {
    "duration": 101,
    "start_time": "2022-12-05T13:17:15.407Z"
   },
   {
    "duration": 39,
    "start_time": "2022-12-05T13:17:15.510Z"
   },
   {
    "duration": 3,
    "start_time": "2022-12-05T13:17:15.551Z"
   },
   {
    "duration": 16,
    "start_time": "2022-12-05T13:17:15.556Z"
   },
   {
    "duration": 211,
    "start_time": "2022-12-05T13:17:15.573Z"
   },
   {
    "duration": 3,
    "start_time": "2022-12-05T13:17:15.786Z"
   },
   {
    "duration": 43,
    "start_time": "2022-12-05T13:17:15.791Z"
   },
   {
    "duration": 698,
    "start_time": "2022-12-05T13:17:15.836Z"
   },
   {
    "duration": 81,
    "start_time": "2022-12-05T13:17:16.540Z"
   },
   {
    "duration": 107,
    "start_time": "2022-12-05T13:17:16.625Z"
   },
   {
    "duration": 25,
    "start_time": "2022-12-05T13:17:16.733Z"
   },
   {
    "duration": 217,
    "start_time": "2022-12-05T13:17:16.760Z"
   },
   {
    "duration": 30,
    "start_time": "2022-12-05T13:17:16.979Z"
   },
   {
    "duration": 11,
    "start_time": "2022-12-05T13:17:17.011Z"
   },
   {
    "duration": 5,
    "start_time": "2022-12-05T13:23:48.271Z"
   },
   {
    "duration": 45,
    "start_time": "2022-12-05T13:23:48.278Z"
   },
   {
    "duration": 14,
    "start_time": "2022-12-05T13:23:48.325Z"
   },
   {
    "duration": 47,
    "start_time": "2022-12-05T13:23:48.341Z"
   },
   {
    "duration": 10,
    "start_time": "2022-12-05T13:23:48.390Z"
   },
   {
    "duration": 32,
    "start_time": "2022-12-05T13:23:48.402Z"
   },
   {
    "duration": 4,
    "start_time": "2022-12-05T13:23:48.435Z"
   },
   {
    "duration": 11,
    "start_time": "2022-12-05T13:23:48.440Z"
   },
   {
    "duration": 12,
    "start_time": "2022-12-05T13:23:48.452Z"
   },
   {
    "duration": 12,
    "start_time": "2022-12-05T13:23:48.465Z"
   },
   {
    "duration": 42,
    "start_time": "2022-12-05T13:23:48.480Z"
   },
   {
    "duration": 9,
    "start_time": "2022-12-05T13:23:48.524Z"
   },
   {
    "duration": 7,
    "start_time": "2022-12-05T13:23:48.535Z"
   },
   {
    "duration": 14,
    "start_time": "2022-12-05T13:23:48.544Z"
   },
   {
    "duration": 16,
    "start_time": "2022-12-05T13:23:48.559Z"
   },
   {
    "duration": 12,
    "start_time": "2022-12-05T13:23:48.577Z"
   },
   {
    "duration": 8,
    "start_time": "2022-12-05T13:23:48.590Z"
   },
   {
    "duration": 24,
    "start_time": "2022-12-05T13:23:48.600Z"
   },
   {
    "duration": 14,
    "start_time": "2022-12-05T13:23:48.625Z"
   },
   {
    "duration": 16,
    "start_time": "2022-12-05T13:23:48.641Z"
   },
   {
    "duration": 25,
    "start_time": "2022-12-05T13:23:48.658Z"
   },
   {
    "duration": 9,
    "start_time": "2022-12-05T13:23:48.684Z"
   },
   {
    "duration": 26,
    "start_time": "2022-12-05T13:23:48.696Z"
   },
   {
    "duration": 25,
    "start_time": "2022-12-05T13:23:48.724Z"
   },
   {
    "duration": 38,
    "start_time": "2022-12-05T13:23:48.751Z"
   },
   {
    "duration": 20,
    "start_time": "2022-12-05T13:23:48.791Z"
   },
   {
    "duration": 157,
    "start_time": "2022-12-05T13:23:48.812Z"
   },
   {
    "duration": 262,
    "start_time": "2022-12-05T13:23:48.970Z"
   },
   {
    "duration": 11,
    "start_time": "2022-12-05T13:23:49.321Z"
   },
   {
    "duration": 118,
    "start_time": "2022-12-05T13:23:49.334Z"
   },
   {
    "duration": 11,
    "start_time": "2022-12-05T13:23:49.453Z"
   },
   {
    "duration": 106,
    "start_time": "2022-12-05T13:23:49.522Z"
   },
   {
    "duration": 10,
    "start_time": "2022-12-05T13:23:49.630Z"
   },
   {
    "duration": 81,
    "start_time": "2022-12-05T13:23:49.642Z"
   },
   {
    "duration": 7,
    "start_time": "2022-12-05T13:23:49.725Z"
   },
   {
    "duration": 91,
    "start_time": "2022-12-05T13:23:49.734Z"
   },
   {
    "duration": 5,
    "start_time": "2022-12-05T13:23:49.827Z"
   },
   {
    "duration": 72,
    "start_time": "2022-12-05T13:23:49.834Z"
   },
   {
    "duration": 6,
    "start_time": "2022-12-05T13:23:49.921Z"
   },
   {
    "duration": 13,
    "start_time": "2022-12-05T13:23:49.929Z"
   },
   {
    "duration": 13,
    "start_time": "2022-12-05T13:23:49.944Z"
   },
   {
    "duration": 21,
    "start_time": "2022-12-05T13:23:49.959Z"
   },
   {
    "duration": 6,
    "start_time": "2022-12-05T13:23:49.982Z"
   },
   {
    "duration": 11,
    "start_time": "2022-12-05T13:23:49.989Z"
   },
   {
    "duration": 20,
    "start_time": "2022-12-05T13:23:50.001Z"
   },
   {
    "duration": 86,
    "start_time": "2022-12-05T13:23:50.023Z"
   },
   {
    "duration": 88,
    "start_time": "2022-12-05T13:23:50.121Z"
   },
   {
    "duration": 31,
    "start_time": "2022-12-05T13:23:50.220Z"
   },
   {
    "duration": 5,
    "start_time": "2022-12-05T13:23:50.252Z"
   },
   {
    "duration": 14,
    "start_time": "2022-12-05T13:23:50.258Z"
   },
   {
    "duration": 248,
    "start_time": "2022-12-05T13:23:50.273Z"
   },
   {
    "duration": 4,
    "start_time": "2022-12-05T13:23:50.523Z"
   },
   {
    "duration": 34,
    "start_time": "2022-12-05T13:23:50.528Z"
   },
   {
    "duration": 1657,
    "start_time": "2022-12-05T13:23:50.564Z"
   },
   {
    "duration": 107,
    "start_time": "2022-12-05T13:23:52.224Z"
   },
   {
    "duration": 99,
    "start_time": "2022-12-05T13:23:52.337Z"
   },
   {
    "duration": 25,
    "start_time": "2022-12-05T13:23:52.438Z"
   },
   {
    "duration": 215,
    "start_time": "2022-12-05T13:23:52.465Z"
   },
   {
    "duration": 24,
    "start_time": "2022-12-05T13:23:52.681Z"
   },
   {
    "duration": 15,
    "start_time": "2022-12-05T13:23:52.707Z"
   },
   {
    "duration": 16,
    "start_time": "2022-12-05T13:24:36.798Z"
   },
   {
    "duration": 364,
    "start_time": "2022-12-05T13:24:45.736Z"
   },
   {
    "duration": 6,
    "start_time": "2022-12-05T13:24:49.782Z"
   },
   {
    "duration": 310,
    "start_time": "2022-12-05T13:25:09.528Z"
   },
   {
    "duration": 5,
    "start_time": "2022-12-05T13:25:13.272Z"
   },
   {
    "duration": 410,
    "start_time": "2022-12-05T13:25:23.492Z"
   },
   {
    "duration": 5,
    "start_time": "2022-12-05T13:25:26.994Z"
   },
   {
    "duration": 92,
    "start_time": "2022-12-05T13:25:36.954Z"
   },
   {
    "duration": 6,
    "start_time": "2022-12-05T13:25:40.999Z"
   },
   {
    "duration": 238,
    "start_time": "2022-12-05T13:25:51.984Z"
   },
   {
    "duration": 4,
    "start_time": "2022-12-05T13:25:55.715Z"
   },
   {
    "duration": 250,
    "start_time": "2022-12-05T13:26:26.234Z"
   },
   {
    "duration": 18,
    "start_time": "2022-12-05T13:26:28.159Z"
   },
   {
    "duration": 5,
    "start_time": "2022-12-05T13:26:33.913Z"
   },
   {
    "duration": 4,
    "start_time": "2022-12-05T13:28:18.188Z"
   },
   {
    "duration": 47,
    "start_time": "2022-12-05T13:28:18.194Z"
   },
   {
    "duration": 13,
    "start_time": "2022-12-05T13:28:18.243Z"
   },
   {
    "duration": 46,
    "start_time": "2022-12-05T13:28:18.257Z"
   },
   {
    "duration": 22,
    "start_time": "2022-12-05T13:28:18.304Z"
   },
   {
    "duration": 14,
    "start_time": "2022-12-05T13:28:18.327Z"
   },
   {
    "duration": 4,
    "start_time": "2022-12-05T13:28:18.342Z"
   },
   {
    "duration": 8,
    "start_time": "2022-12-05T13:28:18.348Z"
   },
   {
    "duration": 8,
    "start_time": "2022-12-05T13:28:18.358Z"
   },
   {
    "duration": 12,
    "start_time": "2022-12-05T13:28:18.368Z"
   },
   {
    "duration": 56,
    "start_time": "2022-12-05T13:28:18.382Z"
   },
   {
    "duration": 8,
    "start_time": "2022-12-05T13:28:18.440Z"
   },
   {
    "duration": 10,
    "start_time": "2022-12-05T13:28:18.450Z"
   },
   {
    "duration": 10,
    "start_time": "2022-12-05T13:28:18.461Z"
   },
   {
    "duration": 4,
    "start_time": "2022-12-05T13:28:18.473Z"
   },
   {
    "duration": 7,
    "start_time": "2022-12-05T13:28:18.479Z"
   },
   {
    "duration": 6,
    "start_time": "2022-12-05T13:28:18.487Z"
   },
   {
    "duration": 6,
    "start_time": "2022-12-05T13:28:18.494Z"
   },
   {
    "duration": 10,
    "start_time": "2022-12-05T13:28:18.501Z"
   },
   {
    "duration": 12,
    "start_time": "2022-12-05T13:28:18.521Z"
   },
   {
    "duration": 30,
    "start_time": "2022-12-05T13:28:18.534Z"
   },
   {
    "duration": 13,
    "start_time": "2022-12-05T13:28:18.566Z"
   },
   {
    "duration": 23,
    "start_time": "2022-12-05T13:28:18.581Z"
   },
   {
    "duration": 15,
    "start_time": "2022-12-05T13:28:18.608Z"
   },
   {
    "duration": 33,
    "start_time": "2022-12-05T13:28:18.625Z"
   },
   {
    "duration": 16,
    "start_time": "2022-12-05T13:28:18.660Z"
   },
   {
    "duration": 233,
    "start_time": "2022-12-05T13:28:18.678Z"
   },
   {
    "duration": 611,
    "start_time": "2022-12-05T13:28:18.913Z"
   },
   {
    "duration": 96,
    "start_time": "2022-12-05T13:28:19.526Z"
   },
   {
    "duration": 46,
    "start_time": "2022-12-05T13:28:19.625Z"
   },
   {
    "duration": 50,
    "start_time": "2022-12-05T13:28:19.673Z"
   },
   {
    "duration": 7,
    "start_time": "2022-12-05T13:28:19.725Z"
   },
   {
    "duration": 100,
    "start_time": "2022-12-05T13:28:19.733Z"
   },
   {
    "duration": 77,
    "start_time": "2022-12-05T13:28:19.835Z"
   },
   {
    "duration": 6,
    "start_time": "2022-12-05T13:28:19.913Z"
   },
   {
    "duration": 80,
    "start_time": "2022-12-05T13:28:19.921Z"
   },
   {
    "duration": 6,
    "start_time": "2022-12-05T13:28:20.003Z"
   },
   {
    "duration": 78,
    "start_time": "2022-12-05T13:28:20.010Z"
   },
   {
    "duration": 5,
    "start_time": "2022-12-05T13:28:20.089Z"
   },
   {
    "duration": 6,
    "start_time": "2022-12-05T13:28:20.095Z"
   },
   {
    "duration": 25,
    "start_time": "2022-12-05T13:28:20.102Z"
   },
   {
    "duration": 93,
    "start_time": "2022-12-05T13:28:20.129Z"
   },
   {
    "duration": 8,
    "start_time": "2022-12-05T13:28:20.224Z"
   },
   {
    "duration": 19,
    "start_time": "2022-12-05T13:28:20.233Z"
   },
   {
    "duration": 10,
    "start_time": "2022-12-05T13:28:20.254Z"
   },
   {
    "duration": 105,
    "start_time": "2022-12-05T13:28:20.266Z"
   },
   {
    "duration": 99,
    "start_time": "2022-12-05T13:28:20.373Z"
   },
   {
    "duration": 30,
    "start_time": "2022-12-05T13:28:20.474Z"
   },
   {
    "duration": 16,
    "start_time": "2022-12-05T13:28:20.505Z"
   },
   {
    "duration": 18,
    "start_time": "2022-12-05T13:28:20.523Z"
   },
   {
    "duration": 212,
    "start_time": "2022-12-05T13:28:20.542Z"
   },
   {
    "duration": 4,
    "start_time": "2022-12-05T13:28:20.755Z"
   },
   {
    "duration": 37,
    "start_time": "2022-12-05T13:28:20.761Z"
   },
   {
    "duration": 740,
    "start_time": "2022-12-05T13:28:20.800Z"
   },
   {
    "duration": 13,
    "start_time": "2022-12-05T13:28:21.622Z"
   },
   {
    "duration": 185,
    "start_time": "2022-12-05T13:28:21.637Z"
   },
   {
    "duration": 5,
    "start_time": "2022-12-05T13:28:21.824Z"
   },
   {
    "duration": 216,
    "start_time": "2022-12-05T13:28:21.831Z"
   },
   {
    "duration": 25,
    "start_time": "2022-12-05T13:28:22.048Z"
   },
   {
    "duration": 3,
    "start_time": "2022-12-05T13:28:22.074Z"
   },
   {
    "duration": 4,
    "start_time": "2022-12-05T13:28:47.422Z"
   },
   {
    "duration": 51,
    "start_time": "2022-12-05T13:28:47.428Z"
   },
   {
    "duration": 14,
    "start_time": "2022-12-05T13:28:47.481Z"
   },
   {
    "duration": 43,
    "start_time": "2022-12-05T13:28:47.497Z"
   },
   {
    "duration": 12,
    "start_time": "2022-12-05T13:28:47.542Z"
   },
   {
    "duration": 14,
    "start_time": "2022-12-05T13:28:47.555Z"
   },
   {
    "duration": 11,
    "start_time": "2022-12-05T13:28:47.571Z"
   },
   {
    "duration": 16,
    "start_time": "2022-12-05T13:28:47.584Z"
   },
   {
    "duration": 23,
    "start_time": "2022-12-05T13:28:47.601Z"
   },
   {
    "duration": 23,
    "start_time": "2022-12-05T13:28:47.625Z"
   },
   {
    "duration": 32,
    "start_time": "2022-12-05T13:28:47.651Z"
   },
   {
    "duration": 32,
    "start_time": "2022-12-05T13:28:47.684Z"
   },
   {
    "duration": 19,
    "start_time": "2022-12-05T13:28:47.718Z"
   },
   {
    "duration": 10,
    "start_time": "2022-12-05T13:28:47.738Z"
   },
   {
    "duration": 9,
    "start_time": "2022-12-05T13:28:47.750Z"
   },
   {
    "duration": 9,
    "start_time": "2022-12-05T13:28:47.760Z"
   },
   {
    "duration": 14,
    "start_time": "2022-12-05T13:28:47.770Z"
   },
   {
    "duration": 11,
    "start_time": "2022-12-05T13:28:47.785Z"
   },
   {
    "duration": 11,
    "start_time": "2022-12-05T13:28:47.797Z"
   },
   {
    "duration": 21,
    "start_time": "2022-12-05T13:28:47.809Z"
   },
   {
    "duration": 22,
    "start_time": "2022-12-05T13:28:47.832Z"
   },
   {
    "duration": 10,
    "start_time": "2022-12-05T13:28:47.856Z"
   },
   {
    "duration": 32,
    "start_time": "2022-12-05T13:28:47.867Z"
   },
   {
    "duration": 14,
    "start_time": "2022-12-05T13:28:47.901Z"
   },
   {
    "duration": 28,
    "start_time": "2022-12-05T13:28:47.917Z"
   },
   {
    "duration": 17,
    "start_time": "2022-12-05T13:28:47.946Z"
   },
   {
    "duration": 171,
    "start_time": "2022-12-05T13:28:47.964Z"
   },
   {
    "duration": 189,
    "start_time": "2022-12-05T13:28:48.137Z"
   },
   {
    "duration": 96,
    "start_time": "2022-12-05T13:28:48.331Z"
   },
   {
    "duration": 32,
    "start_time": "2022-12-05T13:28:48.428Z"
   },
   {
    "duration": 10,
    "start_time": "2022-12-05T13:28:48.461Z"
   },
   {
    "duration": 100,
    "start_time": "2022-12-05T13:28:48.522Z"
   },
   {
    "duration": 6,
    "start_time": "2022-12-05T13:28:48.624Z"
   },
   {
    "duration": 92,
    "start_time": "2022-12-05T13:28:48.632Z"
   },
   {
    "duration": 6,
    "start_time": "2022-12-05T13:28:48.725Z"
   },
   {
    "duration": 78,
    "start_time": "2022-12-05T13:28:48.733Z"
   },
   {
    "duration": 12,
    "start_time": "2022-12-05T13:28:48.813Z"
   },
   {
    "duration": 90,
    "start_time": "2022-12-05T13:28:48.826Z"
   },
   {
    "duration": 6,
    "start_time": "2022-12-05T13:28:48.917Z"
   },
   {
    "duration": 10,
    "start_time": "2022-12-05T13:28:48.925Z"
   },
   {
    "duration": 25,
    "start_time": "2022-12-05T13:28:48.936Z"
   },
   {
    "duration": 12,
    "start_time": "2022-12-05T13:28:48.963Z"
   },
   {
    "duration": 6,
    "start_time": "2022-12-05T13:28:48.977Z"
   },
   {
    "duration": 17,
    "start_time": "2022-12-05T13:28:48.985Z"
   },
   {
    "duration": 8,
    "start_time": "2022-12-05T13:28:49.004Z"
   },
   {
    "duration": 114,
    "start_time": "2022-12-05T13:28:49.014Z"
   },
   {
    "duration": 108,
    "start_time": "2022-12-05T13:28:49.130Z"
   },
   {
    "duration": 28,
    "start_time": "2022-12-05T13:28:49.240Z"
   },
   {
    "duration": 3,
    "start_time": "2022-12-05T13:28:49.270Z"
   },
   {
    "duration": 19,
    "start_time": "2022-12-05T13:28:49.274Z"
   },
   {
    "duration": 208,
    "start_time": "2022-12-05T13:28:49.294Z"
   },
   {
    "duration": 3,
    "start_time": "2022-12-05T13:28:49.504Z"
   },
   {
    "duration": 31,
    "start_time": "2022-12-05T13:28:49.509Z"
   },
   {
    "duration": 184,
    "start_time": "2022-12-05T13:28:49.542Z"
   },
   {
    "duration": 98,
    "start_time": "2022-12-05T13:28:49.731Z"
   },
   {
    "duration": 98,
    "start_time": "2022-12-05T13:28:49.831Z"
   },
   {
    "duration": 14,
    "start_time": "2022-12-05T13:28:50.020Z"
   },
   {
    "duration": 209,
    "start_time": "2022-12-05T13:28:50.035Z"
   },
   {
    "duration": 26,
    "start_time": "2022-12-05T13:28:50.245Z"
   },
   {
    "duration": 3,
    "start_time": "2022-12-05T13:28:50.272Z"
   },
   {
    "duration": 4,
    "start_time": "2022-12-05T13:30:05.646Z"
   },
   {
    "duration": 54,
    "start_time": "2022-12-05T13:30:05.651Z"
   },
   {
    "duration": 13,
    "start_time": "2022-12-05T13:30:05.707Z"
   },
   {
    "duration": 47,
    "start_time": "2022-12-05T13:30:05.721Z"
   },
   {
    "duration": 10,
    "start_time": "2022-12-05T13:30:05.770Z"
   },
   {
    "duration": 26,
    "start_time": "2022-12-05T13:30:05.782Z"
   },
   {
    "duration": 3,
    "start_time": "2022-12-05T13:30:05.822Z"
   },
   {
    "duration": 11,
    "start_time": "2022-12-05T13:30:05.827Z"
   },
   {
    "duration": 19,
    "start_time": "2022-12-05T13:30:05.839Z"
   },
   {
    "duration": 28,
    "start_time": "2022-12-05T13:30:05.859Z"
   },
   {
    "duration": 45,
    "start_time": "2022-12-05T13:30:05.890Z"
   },
   {
    "duration": 19,
    "start_time": "2022-12-05T13:30:05.937Z"
   },
   {
    "duration": 13,
    "start_time": "2022-12-05T13:30:05.957Z"
   },
   {
    "duration": 30,
    "start_time": "2022-12-05T13:30:05.971Z"
   },
   {
    "duration": 14,
    "start_time": "2022-12-05T13:30:06.002Z"
   },
   {
    "duration": 25,
    "start_time": "2022-12-05T13:30:06.017Z"
   },
   {
    "duration": 16,
    "start_time": "2022-12-05T13:30:06.044Z"
   },
   {
    "duration": 26,
    "start_time": "2022-12-05T13:30:06.061Z"
   },
   {
    "duration": 28,
    "start_time": "2022-12-05T13:30:06.088Z"
   },
   {
    "duration": 28,
    "start_time": "2022-12-05T13:30:06.117Z"
   },
   {
    "duration": 40,
    "start_time": "2022-12-05T13:30:06.146Z"
   },
   {
    "duration": 18,
    "start_time": "2022-12-05T13:30:06.188Z"
   },
   {
    "duration": 39,
    "start_time": "2022-12-05T13:30:06.208Z"
   },
   {
    "duration": 44,
    "start_time": "2022-12-05T13:30:06.249Z"
   },
   {
    "duration": 40,
    "start_time": "2022-12-05T13:30:06.294Z"
   },
   {
    "duration": 27,
    "start_time": "2022-12-05T13:30:06.335Z"
   },
   {
    "duration": 239,
    "start_time": "2022-12-05T13:30:06.364Z"
   },
   {
    "duration": 127,
    "start_time": "2022-12-05T13:30:06.604Z"
   },
   {
    "duration": 100,
    "start_time": "2022-12-05T13:30:06.826Z"
   },
   {
    "duration": 46,
    "start_time": "2022-12-05T13:30:06.928Z"
   },
   {
    "duration": 51,
    "start_time": "2022-12-05T13:30:06.976Z"
   },
   {
    "duration": 114,
    "start_time": "2022-12-05T13:30:07.030Z"
   },
   {
    "duration": 44,
    "start_time": "2022-12-05T13:30:07.145Z"
   },
   {
    "duration": 81,
    "start_time": "2022-12-05T13:30:07.191Z"
   },
   {
    "duration": 6,
    "start_time": "2022-12-05T13:30:07.274Z"
   },
   {
    "duration": 91,
    "start_time": "2022-12-05T13:30:07.282Z"
   },
   {
    "duration": 6,
    "start_time": "2022-12-05T13:30:07.375Z"
   },
   {
    "duration": 84,
    "start_time": "2022-12-05T13:30:07.383Z"
   },
   {
    "duration": 5,
    "start_time": "2022-12-05T13:30:07.469Z"
   },
   {
    "duration": 11,
    "start_time": "2022-12-05T13:30:07.476Z"
   },
   {
    "duration": 24,
    "start_time": "2022-12-05T13:30:07.488Z"
   },
   {
    "duration": 12,
    "start_time": "2022-12-05T13:30:07.513Z"
   },
   {
    "duration": 5,
    "start_time": "2022-12-05T13:30:07.526Z"
   },
   {
    "duration": 14,
    "start_time": "2022-12-05T13:30:07.533Z"
   },
   {
    "duration": 18,
    "start_time": "2022-12-05T13:30:07.549Z"
   },
   {
    "duration": 81,
    "start_time": "2022-12-05T13:30:07.568Z"
   },
   {
    "duration": 89,
    "start_time": "2022-12-05T13:30:07.650Z"
   },
   {
    "duration": 27,
    "start_time": "2022-12-05T13:30:07.740Z"
   },
   {
    "duration": 3,
    "start_time": "2022-12-05T13:30:07.769Z"
   },
   {
    "duration": 11,
    "start_time": "2022-12-05T13:30:07.773Z"
   },
   {
    "duration": 207,
    "start_time": "2022-12-05T13:30:07.785Z"
   },
   {
    "duration": 2,
    "start_time": "2022-12-05T13:30:07.994Z"
   },
   {
    "duration": 37,
    "start_time": "2022-12-05T13:30:07.998Z"
   },
   {
    "duration": 194,
    "start_time": "2022-12-05T13:30:08.037Z"
   },
   {
    "duration": 101,
    "start_time": "2022-12-05T13:30:08.322Z"
   },
   {
    "duration": 95,
    "start_time": "2022-12-05T13:30:08.427Z"
   },
   {
    "duration": 4,
    "start_time": "2022-12-05T13:30:08.523Z"
   },
   {
    "duration": 206,
    "start_time": "2022-12-05T13:30:08.528Z"
   },
   {
    "duration": 24,
    "start_time": "2022-12-05T13:30:08.736Z"
   },
   {
    "duration": 3,
    "start_time": "2022-12-05T13:30:08.761Z"
   },
   {
    "duration": 109,
    "start_time": "2022-12-05T13:32:35.109Z"
   },
   {
    "duration": 27,
    "start_time": "2022-12-05T13:32:45.525Z"
   },
   {
    "duration": 6,
    "start_time": "2022-12-05T13:33:03.576Z"
   },
   {
    "duration": 76,
    "start_time": "2022-12-05T13:35:19.720Z"
   },
   {
    "duration": 75,
    "start_time": "2022-12-05T13:35:26.192Z"
   },
   {
    "duration": 76,
    "start_time": "2022-12-05T13:35:30.849Z"
   },
   {
    "duration": 70,
    "start_time": "2022-12-05T13:35:36.976Z"
   },
   {
    "duration": 6,
    "start_time": "2022-12-05T13:35:52.773Z"
   },
   {
    "duration": 4,
    "start_time": "2022-12-05T13:35:56.629Z"
   },
   {
    "duration": 48,
    "start_time": "2022-12-05T13:35:56.634Z"
   },
   {
    "duration": 13,
    "start_time": "2022-12-05T13:35:56.683Z"
   },
   {
    "duration": 38,
    "start_time": "2022-12-05T13:35:56.699Z"
   },
   {
    "duration": 11,
    "start_time": "2022-12-05T13:35:56.739Z"
   },
   {
    "duration": 12,
    "start_time": "2022-12-05T13:35:56.752Z"
   },
   {
    "duration": 4,
    "start_time": "2022-12-05T13:35:56.766Z"
   },
   {
    "duration": 6,
    "start_time": "2022-12-05T13:35:56.772Z"
   },
   {
    "duration": 9,
    "start_time": "2022-12-05T13:35:56.781Z"
   },
   {
    "duration": 40,
    "start_time": "2022-12-05T13:35:56.792Z"
   },
   {
    "duration": 19,
    "start_time": "2022-12-05T13:35:56.834Z"
   },
   {
    "duration": 9,
    "start_time": "2022-12-05T13:35:56.855Z"
   },
   {
    "duration": 9,
    "start_time": "2022-12-05T13:35:56.866Z"
   },
   {
    "duration": 45,
    "start_time": "2022-12-05T13:35:56.876Z"
   },
   {
    "duration": 18,
    "start_time": "2022-12-05T13:35:56.923Z"
   },
   {
    "duration": 7,
    "start_time": "2022-12-05T13:35:56.943Z"
   },
   {
    "duration": 15,
    "start_time": "2022-12-05T13:35:56.952Z"
   },
   {
    "duration": 14,
    "start_time": "2022-12-05T13:35:56.968Z"
   },
   {
    "duration": 13,
    "start_time": "2022-12-05T13:35:56.983Z"
   },
   {
    "duration": 13,
    "start_time": "2022-12-05T13:35:56.998Z"
   },
   {
    "duration": 18,
    "start_time": "2022-12-05T13:35:57.014Z"
   },
   {
    "duration": 10,
    "start_time": "2022-12-05T13:35:57.033Z"
   },
   {
    "duration": 22,
    "start_time": "2022-12-05T13:35:57.044Z"
   },
   {
    "duration": 10,
    "start_time": "2022-12-05T13:35:57.067Z"
   },
   {
    "duration": 19,
    "start_time": "2022-12-05T13:35:57.078Z"
   },
   {
    "duration": 35,
    "start_time": "2022-12-05T13:35:57.099Z"
   },
   {
    "duration": 242,
    "start_time": "2022-12-05T13:35:57.136Z"
   },
   {
    "duration": 151,
    "start_time": "2022-12-05T13:35:57.379Z"
   },
   {
    "duration": 103,
    "start_time": "2022-12-05T13:35:57.623Z"
   },
   {
    "duration": 35,
    "start_time": "2022-12-05T13:35:57.727Z"
   },
   {
    "duration": 58,
    "start_time": "2022-12-05T13:35:57.763Z"
   },
   {
    "duration": 97,
    "start_time": "2022-12-05T13:35:57.824Z"
   },
   {
    "duration": 12,
    "start_time": "2022-12-05T13:35:57.923Z"
   },
   {
    "duration": 85,
    "start_time": "2022-12-05T13:35:57.936Z"
   },
   {
    "duration": 6,
    "start_time": "2022-12-05T13:35:58.023Z"
   },
   {
    "duration": 164,
    "start_time": "2022-12-05T13:35:58.030Z"
   },
   {
    "duration": 6,
    "start_time": "2022-12-05T13:35:58.195Z"
   },
   {
    "duration": 85,
    "start_time": "2022-12-05T13:35:58.202Z"
   },
   {
    "duration": 4,
    "start_time": "2022-12-05T13:35:58.289Z"
   },
   {
    "duration": 17,
    "start_time": "2022-12-05T13:35:58.295Z"
   },
   {
    "duration": 12,
    "start_time": "2022-12-05T13:35:58.313Z"
   },
   {
    "duration": 11,
    "start_time": "2022-12-05T13:35:58.326Z"
   },
   {
    "duration": 13,
    "start_time": "2022-12-05T13:35:58.339Z"
   },
   {
    "duration": 0,
    "start_time": "2022-12-05T13:35:58.354Z"
   },
   {
    "duration": 0,
    "start_time": "2022-12-05T13:35:58.354Z"
   },
   {
    "duration": 0,
    "start_time": "2022-12-05T13:35:58.355Z"
   },
   {
    "duration": 0,
    "start_time": "2022-12-05T13:35:58.357Z"
   },
   {
    "duration": 0,
    "start_time": "2022-12-05T13:35:58.358Z"
   },
   {
    "duration": 0,
    "start_time": "2022-12-05T13:35:58.359Z"
   },
   {
    "duration": 0,
    "start_time": "2022-12-05T13:35:58.360Z"
   },
   {
    "duration": 0,
    "start_time": "2022-12-05T13:35:58.361Z"
   },
   {
    "duration": 0,
    "start_time": "2022-12-05T13:35:58.362Z"
   },
   {
    "duration": 0,
    "start_time": "2022-12-05T13:35:58.363Z"
   },
   {
    "duration": 0,
    "start_time": "2022-12-05T13:35:58.364Z"
   },
   {
    "duration": 0,
    "start_time": "2022-12-05T13:35:58.365Z"
   },
   {
    "duration": 0,
    "start_time": "2022-12-05T13:35:58.366Z"
   },
   {
    "duration": 0,
    "start_time": "2022-12-05T13:35:58.367Z"
   },
   {
    "duration": 0,
    "start_time": "2022-12-05T13:35:58.368Z"
   },
   {
    "duration": 0,
    "start_time": "2022-12-05T13:35:58.368Z"
   },
   {
    "duration": 0,
    "start_time": "2022-12-05T13:35:58.369Z"
   },
   {
    "duration": 6,
    "start_time": "2022-12-05T13:38:32.794Z"
   },
   {
    "duration": 4,
    "start_time": "2022-12-05T13:38:37.739Z"
   },
   {
    "duration": 9,
    "start_time": "2022-12-05T13:38:38.513Z"
   },
   {
    "duration": 12,
    "start_time": "2022-12-05T13:38:39.646Z"
   },
   {
    "duration": 7,
    "start_time": "2022-12-05T13:38:40.389Z"
   },
   {
    "duration": 13,
    "start_time": "2022-12-05T13:39:53.802Z"
   },
   {
    "duration": 4,
    "start_time": "2022-12-05T13:40:03.570Z"
   },
   {
    "duration": 63,
    "start_time": "2022-12-05T13:40:03.576Z"
   },
   {
    "duration": 14,
    "start_time": "2022-12-05T13:40:03.642Z"
   },
   {
    "duration": 47,
    "start_time": "2022-12-05T13:40:03.658Z"
   },
   {
    "duration": 23,
    "start_time": "2022-12-05T13:40:03.707Z"
   },
   {
    "duration": 12,
    "start_time": "2022-12-05T13:40:03.732Z"
   },
   {
    "duration": 3,
    "start_time": "2022-12-05T13:40:03.745Z"
   },
   {
    "duration": 7,
    "start_time": "2022-12-05T13:40:03.749Z"
   },
   {
    "duration": 8,
    "start_time": "2022-12-05T13:40:03.758Z"
   },
   {
    "duration": 14,
    "start_time": "2022-12-05T13:40:03.767Z"
   },
   {
    "duration": 53,
    "start_time": "2022-12-05T13:40:03.783Z"
   },
   {
    "duration": 8,
    "start_time": "2022-12-05T13:40:03.837Z"
   },
   {
    "duration": 10,
    "start_time": "2022-12-05T13:40:03.847Z"
   },
   {
    "duration": 10,
    "start_time": "2022-12-05T13:40:03.858Z"
   },
   {
    "duration": 5,
    "start_time": "2022-12-05T13:40:03.869Z"
   },
   {
    "duration": 14,
    "start_time": "2022-12-05T13:40:03.876Z"
   },
   {
    "duration": 11,
    "start_time": "2022-12-05T13:40:03.892Z"
   },
   {
    "duration": 17,
    "start_time": "2022-12-05T13:40:03.904Z"
   },
   {
    "duration": 11,
    "start_time": "2022-12-05T13:40:03.923Z"
   },
   {
    "duration": 15,
    "start_time": "2022-12-05T13:40:03.935Z"
   },
   {
    "duration": 25,
    "start_time": "2022-12-05T13:40:03.952Z"
   },
   {
    "duration": 12,
    "start_time": "2022-12-05T13:40:03.978Z"
   },
   {
    "duration": 35,
    "start_time": "2022-12-05T13:40:03.992Z"
   },
   {
    "duration": 9,
    "start_time": "2022-12-05T13:40:04.029Z"
   },
   {
    "duration": 26,
    "start_time": "2022-12-05T13:40:04.040Z"
   },
   {
    "duration": 23,
    "start_time": "2022-12-05T13:40:04.068Z"
   },
   {
    "duration": 256,
    "start_time": "2022-12-05T13:40:04.093Z"
   },
   {
    "duration": 82,
    "start_time": "2022-12-05T13:40:04.350Z"
   },
   {
    "duration": 97,
    "start_time": "2022-12-05T13:40:04.525Z"
   },
   {
    "duration": 36,
    "start_time": "2022-12-05T13:40:04.624Z"
   },
   {
    "duration": 59,
    "start_time": "2022-12-05T13:40:04.662Z"
   },
   {
    "duration": 7,
    "start_time": "2022-12-05T13:40:04.724Z"
   },
   {
    "duration": 8,
    "start_time": "2022-12-05T13:40:04.822Z"
   },
   {
    "duration": 74,
    "start_time": "2022-12-05T13:40:04.832Z"
   },
   {
    "duration": 6,
    "start_time": "2022-12-05T13:40:04.921Z"
   },
   {
    "duration": 74,
    "start_time": "2022-12-05T13:40:04.929Z"
   },
   {
    "duration": 20,
    "start_time": "2022-12-05T13:40:05.005Z"
   },
   {
    "duration": 78,
    "start_time": "2022-12-05T13:40:05.027Z"
   },
   {
    "duration": 14,
    "start_time": "2022-12-05T13:40:05.107Z"
   },
   {
    "duration": 8,
    "start_time": "2022-12-05T13:40:05.123Z"
   },
   {
    "duration": 21,
    "start_time": "2022-12-05T13:40:05.133Z"
   },
   {
    "duration": 34,
    "start_time": "2022-12-05T13:40:05.156Z"
   },
   {
    "duration": 6,
    "start_time": "2022-12-05T13:40:05.192Z"
   },
   {
    "duration": 16,
    "start_time": "2022-12-05T13:40:05.200Z"
   },
   {
    "duration": 10,
    "start_time": "2022-12-05T13:40:05.217Z"
   },
   {
    "duration": 94,
    "start_time": "2022-12-05T13:40:05.229Z"
   },
   {
    "duration": 106,
    "start_time": "2022-12-05T13:40:05.325Z"
   },
   {
    "duration": 28,
    "start_time": "2022-12-05T13:40:05.432Z"
   },
   {
    "duration": 4,
    "start_time": "2022-12-05T13:40:05.462Z"
   },
   {
    "duration": 24,
    "start_time": "2022-12-05T13:40:05.468Z"
   },
   {
    "duration": 247,
    "start_time": "2022-12-05T13:40:05.494Z"
   },
   {
    "duration": 3,
    "start_time": "2022-12-05T13:40:05.743Z"
   },
   {
    "duration": 27,
    "start_time": "2022-12-05T13:40:05.747Z"
   },
   {
    "duration": 249,
    "start_time": "2022-12-05T13:40:05.776Z"
   },
   {
    "duration": 194,
    "start_time": "2022-12-05T13:40:06.027Z"
   },
   {
    "duration": 4,
    "start_time": "2022-12-05T13:40:06.223Z"
   },
   {
    "duration": 16,
    "start_time": "2022-12-05T13:40:06.228Z"
   },
   {
    "duration": 276,
    "start_time": "2022-12-05T13:40:06.246Z"
   },
   {
    "duration": 25,
    "start_time": "2022-12-05T13:40:06.523Z"
   },
   {
    "duration": 3,
    "start_time": "2022-12-05T13:40:06.549Z"
   },
   {
    "duration": 4,
    "start_time": "2022-12-05T13:40:46.467Z"
   },
   {
    "duration": 50,
    "start_time": "2022-12-05T13:40:46.473Z"
   },
   {
    "duration": 21,
    "start_time": "2022-12-05T13:40:46.525Z"
   },
   {
    "duration": 44,
    "start_time": "2022-12-05T13:40:46.547Z"
   },
   {
    "duration": 37,
    "start_time": "2022-12-05T13:40:46.593Z"
   },
   {
    "duration": 13,
    "start_time": "2022-12-05T13:40:46.632Z"
   },
   {
    "duration": 4,
    "start_time": "2022-12-05T13:40:46.647Z"
   },
   {
    "duration": 11,
    "start_time": "2022-12-05T13:40:46.652Z"
   },
   {
    "duration": 10,
    "start_time": "2022-12-05T13:40:46.664Z"
   },
   {
    "duration": 18,
    "start_time": "2022-12-05T13:40:46.675Z"
   },
   {
    "duration": 44,
    "start_time": "2022-12-05T13:40:46.696Z"
   },
   {
    "duration": 9,
    "start_time": "2022-12-05T13:40:46.741Z"
   },
   {
    "duration": 8,
    "start_time": "2022-12-05T13:40:46.752Z"
   },
   {
    "duration": 9,
    "start_time": "2022-12-05T13:40:46.761Z"
   },
   {
    "duration": 5,
    "start_time": "2022-12-05T13:40:46.771Z"
   },
   {
    "duration": 8,
    "start_time": "2022-12-05T13:40:46.778Z"
   },
   {
    "duration": 10,
    "start_time": "2022-12-05T13:40:46.787Z"
   },
   {
    "duration": 8,
    "start_time": "2022-12-05T13:40:46.798Z"
   },
   {
    "duration": 15,
    "start_time": "2022-12-05T13:40:46.808Z"
   },
   {
    "duration": 9,
    "start_time": "2022-12-05T13:40:46.825Z"
   },
   {
    "duration": 23,
    "start_time": "2022-12-05T13:40:46.835Z"
   },
   {
    "duration": 10,
    "start_time": "2022-12-05T13:40:46.860Z"
   },
   {
    "duration": 27,
    "start_time": "2022-12-05T13:40:46.871Z"
   },
   {
    "duration": 28,
    "start_time": "2022-12-05T13:40:46.900Z"
   },
   {
    "duration": 19,
    "start_time": "2022-12-05T13:40:46.929Z"
   },
   {
    "duration": 21,
    "start_time": "2022-12-05T13:40:46.950Z"
   },
   {
    "duration": 262,
    "start_time": "2022-12-05T13:40:46.973Z"
   },
   {
    "duration": 289,
    "start_time": "2022-12-05T13:40:47.237Z"
   },
   {
    "duration": 96,
    "start_time": "2022-12-05T13:40:47.531Z"
   },
   {
    "duration": 104,
    "start_time": "2022-12-05T13:40:47.629Z"
   },
   {
    "duration": 12,
    "start_time": "2022-12-05T13:40:47.735Z"
   },
   {
    "duration": 83,
    "start_time": "2022-12-05T13:40:47.748Z"
   },
   {
    "duration": 8,
    "start_time": "2022-12-05T13:40:47.922Z"
   },
   {
    "duration": 90,
    "start_time": "2022-12-05T13:40:47.931Z"
   },
   {
    "duration": 5,
    "start_time": "2022-12-05T13:40:48.023Z"
   },
   {
    "duration": 82,
    "start_time": "2022-12-05T13:40:48.029Z"
   },
   {
    "duration": 12,
    "start_time": "2022-12-05T13:40:48.113Z"
   },
   {
    "duration": 84,
    "start_time": "2022-12-05T13:40:48.126Z"
   },
   {
    "duration": 5,
    "start_time": "2022-12-05T13:40:48.212Z"
   },
   {
    "duration": 5,
    "start_time": "2022-12-05T13:40:48.220Z"
   },
   {
    "duration": 15,
    "start_time": "2022-12-05T13:40:48.227Z"
   },
   {
    "duration": 11,
    "start_time": "2022-12-05T13:40:48.244Z"
   },
   {
    "duration": 6,
    "start_time": "2022-12-05T13:40:48.257Z"
   },
   {
    "duration": 10,
    "start_time": "2022-12-05T13:40:48.264Z"
   },
   {
    "duration": 13,
    "start_time": "2022-12-05T13:40:48.275Z"
   },
   {
    "duration": 108,
    "start_time": "2022-12-05T13:40:48.289Z"
   },
   {
    "duration": 94,
    "start_time": "2022-12-05T13:40:48.398Z"
   },
   {
    "duration": 32,
    "start_time": "2022-12-05T13:40:48.494Z"
   },
   {
    "duration": 3,
    "start_time": "2022-12-05T13:40:48.528Z"
   },
   {
    "duration": 12,
    "start_time": "2022-12-05T13:40:48.532Z"
   },
   {
    "duration": 211,
    "start_time": "2022-12-05T13:40:48.545Z"
   },
   {
    "duration": 4,
    "start_time": "2022-12-05T13:40:48.757Z"
   },
   {
    "duration": 32,
    "start_time": "2022-12-05T13:40:48.762Z"
   },
   {
    "duration": 227,
    "start_time": "2022-12-05T13:40:48.795Z"
   },
   {
    "duration": 104,
    "start_time": "2022-12-05T13:40:49.024Z"
   },
   {
    "duration": 109,
    "start_time": "2022-12-05T13:40:49.130Z"
   },
   {
    "duration": 26,
    "start_time": "2022-12-05T13:40:49.241Z"
   },
   {
    "duration": 209,
    "start_time": "2022-12-05T13:40:49.269Z"
   },
   {
    "duration": 25,
    "start_time": "2022-12-05T13:40:49.480Z"
   },
   {
    "duration": 14,
    "start_time": "2022-12-05T13:40:49.507Z"
   },
   {
    "duration": 204,
    "start_time": "2022-12-05T13:44:22.985Z"
   },
   {
    "duration": 4,
    "start_time": "2022-12-05T13:44:23.803Z"
   },
   {
    "duration": 213,
    "start_time": "2022-12-05T13:44:32.467Z"
   },
   {
    "duration": 195,
    "start_time": "2022-12-05T13:44:36.992Z"
   },
   {
    "duration": 206,
    "start_time": "2022-12-05T13:44:43.744Z"
   },
   {
    "duration": 199,
    "start_time": "2022-12-05T13:44:47.804Z"
   },
   {
    "duration": 200,
    "start_time": "2022-12-05T13:44:52.512Z"
   },
   {
    "duration": 4,
    "start_time": "2022-12-05T13:44:55.289Z"
   },
   {
    "duration": 217,
    "start_time": "2022-12-05T13:45:00.864Z"
   },
   {
    "duration": 4,
    "start_time": "2022-12-05T13:45:03.356Z"
   },
   {
    "duration": 200,
    "start_time": "2022-12-05T13:45:09.031Z"
   },
   {
    "duration": 3,
    "start_time": "2022-12-05T13:45:09.884Z"
   },
   {
    "duration": 284,
    "start_time": "2022-12-05T13:45:14.235Z"
   },
   {
    "duration": 3,
    "start_time": "2022-12-05T13:45:16.473Z"
   },
   {
    "duration": 235,
    "start_time": "2022-12-05T13:45:22.288Z"
   },
   {
    "duration": 4,
    "start_time": "2022-12-05T13:45:23.394Z"
   },
   {
    "duration": 5,
    "start_time": "2022-12-05T13:45:56.681Z"
   },
   {
    "duration": 55,
    "start_time": "2022-12-05T13:45:56.689Z"
   },
   {
    "duration": 14,
    "start_time": "2022-12-05T13:45:56.746Z"
   },
   {
    "duration": 43,
    "start_time": "2022-12-05T13:45:56.761Z"
   },
   {
    "duration": 12,
    "start_time": "2022-12-05T13:45:56.820Z"
   },
   {
    "duration": 17,
    "start_time": "2022-12-05T13:45:56.834Z"
   },
   {
    "duration": 3,
    "start_time": "2022-12-05T13:45:56.853Z"
   },
   {
    "duration": 11,
    "start_time": "2022-12-05T13:45:56.858Z"
   },
   {
    "duration": 15,
    "start_time": "2022-12-05T13:45:56.871Z"
   },
   {
    "duration": 42,
    "start_time": "2022-12-05T13:45:56.887Z"
   },
   {
    "duration": 21,
    "start_time": "2022-12-05T13:45:56.931Z"
   },
   {
    "duration": 12,
    "start_time": "2022-12-05T13:45:56.954Z"
   },
   {
    "duration": 39,
    "start_time": "2022-12-05T13:45:56.968Z"
   },
   {
    "duration": 59,
    "start_time": "2022-12-05T13:45:57.009Z"
   },
   {
    "duration": 62,
    "start_time": "2022-12-05T13:45:57.069Z"
   },
   {
    "duration": 12,
    "start_time": "2022-12-05T13:45:57.132Z"
   },
   {
    "duration": 10,
    "start_time": "2022-12-05T13:45:57.146Z"
   },
   {
    "duration": 13,
    "start_time": "2022-12-05T13:45:57.157Z"
   },
   {
    "duration": 15,
    "start_time": "2022-12-05T13:45:57.172Z"
   },
   {
    "duration": 23,
    "start_time": "2022-12-05T13:45:57.188Z"
   },
   {
    "duration": 27,
    "start_time": "2022-12-05T13:45:57.212Z"
   },
   {
    "duration": 9,
    "start_time": "2022-12-05T13:45:57.241Z"
   },
   {
    "duration": 27,
    "start_time": "2022-12-05T13:45:57.252Z"
   },
   {
    "duration": 10,
    "start_time": "2022-12-05T13:45:57.281Z"
   },
   {
    "duration": 37,
    "start_time": "2022-12-05T13:45:57.292Z"
   },
   {
    "duration": 23,
    "start_time": "2022-12-05T13:45:57.331Z"
   },
   {
    "duration": 255,
    "start_time": "2022-12-05T13:45:57.355Z"
   },
   {
    "duration": 113,
    "start_time": "2022-12-05T13:45:57.614Z"
   },
   {
    "duration": 198,
    "start_time": "2022-12-05T13:45:57.732Z"
   },
   {
    "duration": 36,
    "start_time": "2022-12-05T13:45:57.932Z"
   },
   {
    "duration": 51,
    "start_time": "2022-12-05T13:45:57.969Z"
   },
   {
    "duration": 5,
    "start_time": "2022-12-05T13:45:58.120Z"
   },
   {
    "duration": 14,
    "start_time": "2022-12-05T13:45:58.127Z"
   },
   {
    "duration": 86,
    "start_time": "2022-12-05T13:45:58.143Z"
   },
   {
    "duration": 6,
    "start_time": "2022-12-05T13:45:58.231Z"
   },
   {
    "duration": 93,
    "start_time": "2022-12-05T13:45:58.238Z"
   },
   {
    "duration": 6,
    "start_time": "2022-12-05T13:45:58.333Z"
   },
   {
    "duration": 100,
    "start_time": "2022-12-05T13:45:58.340Z"
   },
   {
    "duration": 5,
    "start_time": "2022-12-05T13:45:58.442Z"
   },
   {
    "duration": 12,
    "start_time": "2022-12-05T13:45:58.449Z"
   },
   {
    "duration": 12,
    "start_time": "2022-12-05T13:45:58.463Z"
   },
   {
    "duration": 12,
    "start_time": "2022-12-05T13:45:58.477Z"
   },
   {
    "duration": 12,
    "start_time": "2022-12-05T13:45:58.490Z"
   },
   {
    "duration": 28,
    "start_time": "2022-12-05T13:45:58.504Z"
   },
   {
    "duration": 18,
    "start_time": "2022-12-05T13:45:58.533Z"
   },
   {
    "duration": 101,
    "start_time": "2022-12-05T13:45:58.553Z"
   },
   {
    "duration": 99,
    "start_time": "2022-12-05T13:45:58.656Z"
   },
   {
    "duration": 23,
    "start_time": "2022-12-05T13:45:58.757Z"
   },
   {
    "duration": 4,
    "start_time": "2022-12-05T13:45:58.781Z"
   },
   {
    "duration": 20,
    "start_time": "2022-12-05T13:45:58.787Z"
   },
   {
    "duration": 254,
    "start_time": "2022-12-05T13:45:58.809Z"
   },
   {
    "duration": 4,
    "start_time": "2022-12-05T13:45:59.065Z"
   },
   {
    "duration": 32,
    "start_time": "2022-12-05T13:45:59.071Z"
   },
   {
    "duration": 126,
    "start_time": "2022-12-05T13:45:59.104Z"
   },
   {
    "duration": 94,
    "start_time": "2022-12-05T13:45:59.236Z"
   },
   {
    "duration": 93,
    "start_time": "2022-12-05T13:45:59.335Z"
   },
   {
    "duration": 91,
    "start_time": "2022-12-05T13:45:59.431Z"
   },
   {
    "duration": 215,
    "start_time": "2022-12-05T13:45:59.524Z"
   },
   {
    "duration": 28,
    "start_time": "2022-12-05T13:45:59.741Z"
   },
   {
    "duration": 4,
    "start_time": "2022-12-05T13:45:59.770Z"
   },
   {
    "duration": 71,
    "start_time": "2022-12-05T13:47:47.691Z"
   },
   {
    "duration": 6,
    "start_time": "2022-12-05T13:47:48.698Z"
   },
   {
    "duration": 69,
    "start_time": "2022-12-05T13:47:49.494Z"
   },
   {
    "duration": 6,
    "start_time": "2022-12-05T13:47:50.278Z"
   },
   {
    "duration": 67,
    "start_time": "2022-12-05T13:47:51.058Z"
   },
   {
    "duration": 9,
    "start_time": "2022-12-05T13:53:15.059Z"
   },
   {
    "duration": 8,
    "start_time": "2022-12-05T13:54:48.872Z"
   },
   {
    "duration": 12,
    "start_time": "2022-12-05T13:55:01.021Z"
   },
   {
    "duration": 3,
    "start_time": "2022-12-05T13:56:29.782Z"
   },
   {
    "duration": 7,
    "start_time": "2022-12-05T13:57:09.811Z"
   },
   {
    "duration": 98,
    "start_time": "2022-12-05T13:58:52.432Z"
   },
   {
    "duration": 93,
    "start_time": "2022-12-05T13:59:16.880Z"
   },
   {
    "duration": 112,
    "start_time": "2022-12-05T13:59:40.619Z"
   },
   {
    "duration": 4,
    "start_time": "2022-12-05T14:01:36.592Z"
   },
   {
    "duration": 28,
    "start_time": "2022-12-05T14:03:16.168Z"
   },
   {
    "duration": 40,
    "start_time": "2022-12-05T14:05:21.382Z"
   },
   {
    "duration": 9,
    "start_time": "2022-12-05T14:05:54.421Z"
   },
   {
    "duration": 4,
    "start_time": "2022-12-05T14:06:10.975Z"
   },
   {
    "duration": 6,
    "start_time": "2022-12-05T14:07:30.415Z"
   },
   {
    "duration": 5,
    "start_time": "2022-12-05T14:09:09.057Z"
   },
   {
    "duration": 5,
    "start_time": "2022-12-05T14:10:12.024Z"
   },
   {
    "duration": 20,
    "start_time": "2022-12-05T14:11:03.141Z"
   },
   {
    "duration": 10,
    "start_time": "2022-12-05T14:11:03.847Z"
   },
   {
    "duration": 4,
    "start_time": "2022-12-05T14:11:04.424Z"
   },
   {
    "duration": 7,
    "start_time": "2022-12-05T14:11:05.362Z"
   },
   {
    "duration": 3,
    "start_time": "2022-12-05T14:15:40.892Z"
   },
   {
    "duration": 5,
    "start_time": "2022-12-05T14:16:35.566Z"
   },
   {
    "duration": 4,
    "start_time": "2022-12-05T14:17:10.417Z"
   },
   {
    "duration": 7,
    "start_time": "2022-12-05T14:17:35.468Z"
   },
   {
    "duration": 4,
    "start_time": "2022-12-05T14:23:38.257Z"
   },
   {
    "duration": 43,
    "start_time": "2022-12-05T14:23:38.263Z"
   },
   {
    "duration": 13,
    "start_time": "2022-12-05T14:23:38.307Z"
   },
   {
    "duration": 55,
    "start_time": "2022-12-05T14:23:38.321Z"
   },
   {
    "duration": 10,
    "start_time": "2022-12-05T14:23:38.378Z"
   },
   {
    "duration": 13,
    "start_time": "2022-12-05T14:23:38.390Z"
   },
   {
    "duration": 16,
    "start_time": "2022-12-05T14:23:38.405Z"
   },
   {
    "duration": 12,
    "start_time": "2022-12-05T14:23:38.423Z"
   },
   {
    "duration": 7,
    "start_time": "2022-12-05T14:23:38.437Z"
   },
   {
    "duration": 13,
    "start_time": "2022-12-05T14:23:38.445Z"
   },
   {
    "duration": 18,
    "start_time": "2022-12-05T14:23:38.460Z"
   },
   {
    "duration": 8,
    "start_time": "2022-12-05T14:23:38.479Z"
   },
   {
    "duration": 8,
    "start_time": "2022-12-05T14:23:38.488Z"
   },
   {
    "duration": 27,
    "start_time": "2022-12-05T14:23:38.498Z"
   },
   {
    "duration": 16,
    "start_time": "2022-12-05T14:23:38.527Z"
   },
   {
    "duration": 18,
    "start_time": "2022-12-05T14:23:38.545Z"
   },
   {
    "duration": 23,
    "start_time": "2022-12-05T14:23:38.566Z"
   },
   {
    "duration": 9,
    "start_time": "2022-12-05T14:23:38.591Z"
   },
   {
    "duration": 17,
    "start_time": "2022-12-05T14:23:38.602Z"
   },
   {
    "duration": 12,
    "start_time": "2022-12-05T14:23:38.621Z"
   },
   {
    "duration": 21,
    "start_time": "2022-12-05T14:23:38.634Z"
   },
   {
    "duration": 10,
    "start_time": "2022-12-05T14:23:38.657Z"
   },
   {
    "duration": 27,
    "start_time": "2022-12-05T14:23:38.669Z"
   },
   {
    "duration": 9,
    "start_time": "2022-12-05T14:23:38.698Z"
   },
   {
    "duration": 26,
    "start_time": "2022-12-05T14:23:38.709Z"
   },
   {
    "duration": 21,
    "start_time": "2022-12-05T14:23:38.736Z"
   },
   {
    "duration": 250,
    "start_time": "2022-12-05T14:23:38.759Z"
   },
   {
    "duration": 210,
    "start_time": "2022-12-05T14:23:39.011Z"
   },
   {
    "duration": 97,
    "start_time": "2022-12-05T14:23:39.230Z"
   },
   {
    "duration": 38,
    "start_time": "2022-12-05T14:23:39.328Z"
   },
   {
    "duration": 55,
    "start_time": "2022-12-05T14:23:39.368Z"
   },
   {
    "duration": 97,
    "start_time": "2022-12-05T14:23:39.425Z"
   },
   {
    "duration": 15,
    "start_time": "2022-12-05T14:23:39.523Z"
   },
   {
    "duration": 75,
    "start_time": "2022-12-05T14:23:39.539Z"
   },
   {
    "duration": 6,
    "start_time": "2022-12-05T14:23:39.621Z"
   },
   {
    "duration": 210,
    "start_time": "2022-12-05T14:23:39.628Z"
   },
   {
    "duration": 6,
    "start_time": "2022-12-05T14:23:39.840Z"
   },
   {
    "duration": 92,
    "start_time": "2022-12-05T14:23:39.848Z"
   },
   {
    "duration": 5,
    "start_time": "2022-12-05T14:23:39.942Z"
   },
   {
    "duration": 6,
    "start_time": "2022-12-05T14:23:39.948Z"
   },
   {
    "duration": 23,
    "start_time": "2022-12-05T14:23:39.955Z"
   },
   {
    "duration": 16,
    "start_time": "2022-12-05T14:23:39.979Z"
   },
   {
    "duration": 5,
    "start_time": "2022-12-05T14:23:39.997Z"
   },
   {
    "duration": 28,
    "start_time": "2022-12-05T14:23:40.004Z"
   },
   {
    "duration": 10,
    "start_time": "2022-12-05T14:23:40.033Z"
   },
   {
    "duration": 92,
    "start_time": "2022-12-05T14:23:40.045Z"
   },
   {
    "duration": 87,
    "start_time": "2022-12-05T14:23:40.138Z"
   },
   {
    "duration": 22,
    "start_time": "2022-12-05T14:23:40.226Z"
   },
   {
    "duration": 3,
    "start_time": "2022-12-05T14:23:40.249Z"
   },
   {
    "duration": 12,
    "start_time": "2022-12-05T14:23:40.253Z"
   },
   {
    "duration": 253,
    "start_time": "2022-12-05T14:23:40.266Z"
   },
   {
    "duration": 3,
    "start_time": "2022-12-05T14:23:40.521Z"
   },
   {
    "duration": 34,
    "start_time": "2022-12-05T14:23:40.525Z"
   },
   {
    "duration": 173,
    "start_time": "2022-12-05T14:23:40.560Z"
   },
   {
    "duration": 102,
    "start_time": "2022-12-05T14:23:40.823Z"
   },
   {
    "duration": 93,
    "start_time": "2022-12-05T14:23:40.930Z"
   },
   {
    "duration": 21,
    "start_time": "2022-12-05T14:23:41.025Z"
   },
   {
    "duration": 14,
    "start_time": "2022-12-05T14:23:41.047Z"
   },
   {
    "duration": 15,
    "start_time": "2022-12-05T14:23:41.062Z"
   },
   {
    "duration": 130,
    "start_time": "2022-12-05T14:23:41.079Z"
   },
   {
    "duration": 4,
    "start_time": "2022-12-05T14:23:41.210Z"
   },
   {
    "duration": 33,
    "start_time": "2022-12-05T14:23:41.215Z"
   },
   {
    "duration": 80,
    "start_time": "2022-12-05T14:23:41.250Z"
   },
   {
    "duration": 106,
    "start_time": "2022-12-05T14:23:41.423Z"
   },
   {
    "duration": 102,
    "start_time": "2022-12-05T14:23:41.532Z"
   },
   {
    "duration": 5,
    "start_time": "2022-12-05T14:23:41.722Z"
   },
   {
    "duration": 15,
    "start_time": "2022-12-05T14:23:41.729Z"
   },
   {
    "duration": 208,
    "start_time": "2022-12-05T14:23:41.746Z"
   },
   {
    "duration": 25,
    "start_time": "2022-12-05T14:23:41.955Z"
   },
   {
    "duration": 3,
    "start_time": "2022-12-05T14:23:41.981Z"
   },
   {
    "duration": 11,
    "start_time": "2022-12-05T14:26:00.442Z"
   },
   {
    "duration": 11,
    "start_time": "2022-12-05T14:33:03.056Z"
   },
   {
    "duration": 12,
    "start_time": "2022-12-05T14:33:11.930Z"
   },
   {
    "duration": 13,
    "start_time": "2022-12-05T14:34:16.302Z"
   },
   {
    "duration": 4,
    "start_time": "2022-12-05T14:35:23.907Z"
   },
   {
    "duration": 45,
    "start_time": "2022-12-05T14:35:23.914Z"
   },
   {
    "duration": 17,
    "start_time": "2022-12-05T14:35:23.961Z"
   },
   {
    "duration": 44,
    "start_time": "2022-12-05T14:35:23.979Z"
   },
   {
    "duration": 12,
    "start_time": "2022-12-05T14:35:24.025Z"
   },
   {
    "duration": 17,
    "start_time": "2022-12-05T14:35:24.248Z"
   },
   {
    "duration": 3,
    "start_time": "2022-12-05T14:35:24.267Z"
   },
   {
    "duration": 4,
    "start_time": "2022-12-05T14:35:24.285Z"
   },
   {
    "duration": 12,
    "start_time": "2022-12-05T14:35:24.291Z"
   },
   {
    "duration": 13,
    "start_time": "2022-12-05T14:35:24.304Z"
   },
   {
    "duration": 17,
    "start_time": "2022-12-05T14:35:24.319Z"
   },
   {
    "duration": 9,
    "start_time": "2022-12-05T14:35:24.338Z"
   },
   {
    "duration": 6,
    "start_time": "2022-12-05T14:35:24.348Z"
   },
   {
    "duration": 8,
    "start_time": "2022-12-05T14:35:24.356Z"
   },
   {
    "duration": 12,
    "start_time": "2022-12-05T14:35:24.365Z"
   },
   {
    "duration": 20,
    "start_time": "2022-12-05T14:35:24.378Z"
   },
   {
    "duration": 6,
    "start_time": "2022-12-05T14:35:24.400Z"
   },
   {
    "duration": 3,
    "start_time": "2022-12-05T14:35:24.421Z"
   },
   {
    "duration": 11,
    "start_time": "2022-12-05T14:35:24.425Z"
   },
   {
    "duration": 14,
    "start_time": "2022-12-05T14:35:24.438Z"
   },
   {
    "duration": 22,
    "start_time": "2022-12-05T14:35:24.453Z"
   },
   {
    "duration": 10,
    "start_time": "2022-12-05T14:35:24.476Z"
   },
   {
    "duration": 43,
    "start_time": "2022-12-05T14:35:24.488Z"
   },
   {
    "duration": 15,
    "start_time": "2022-12-05T14:35:24.533Z"
   },
   {
    "duration": 17,
    "start_time": "2022-12-05T14:35:24.549Z"
   },
   {
    "duration": 28,
    "start_time": "2022-12-05T14:35:24.568Z"
   },
   {
    "duration": 246,
    "start_time": "2022-12-05T14:35:24.620Z"
   },
   {
    "duration": 257,
    "start_time": "2022-12-05T14:35:24.868Z"
   },
   {
    "duration": 103,
    "start_time": "2022-12-05T14:35:25.127Z"
   },
   {
    "duration": 50,
    "start_time": "2022-12-05T14:35:25.233Z"
   },
   {
    "duration": 44,
    "start_time": "2022-12-05T14:35:25.285Z"
   },
   {
    "duration": 93,
    "start_time": "2022-12-05T14:35:25.332Z"
   },
   {
    "duration": 35,
    "start_time": "2022-12-05T14:35:25.430Z"
   },
   {
    "duration": 102,
    "start_time": "2022-12-05T14:35:25.467Z"
   },
   {
    "duration": 6,
    "start_time": "2022-12-05T14:35:25.570Z"
   },
   {
    "duration": 109,
    "start_time": "2022-12-05T14:35:25.578Z"
   },
   {
    "duration": 6,
    "start_time": "2022-12-05T14:35:25.688Z"
   },
   {
    "duration": 83,
    "start_time": "2022-12-05T14:35:25.696Z"
   },
   {
    "duration": 5,
    "start_time": "2022-12-05T14:35:25.781Z"
   },
   {
    "duration": 10,
    "start_time": "2022-12-05T14:35:25.788Z"
   },
   {
    "duration": 22,
    "start_time": "2022-12-05T14:35:25.799Z"
   },
   {
    "duration": 13,
    "start_time": "2022-12-05T14:35:25.822Z"
   },
   {
    "duration": 8,
    "start_time": "2022-12-05T14:35:25.836Z"
   },
   {
    "duration": 17,
    "start_time": "2022-12-05T14:35:25.846Z"
   },
   {
    "duration": 13,
    "start_time": "2022-12-05T14:35:25.865Z"
   },
   {
    "duration": 105,
    "start_time": "2022-12-05T14:35:25.879Z"
   },
   {
    "duration": 96,
    "start_time": "2022-12-05T14:35:25.985Z"
   },
   {
    "duration": 23,
    "start_time": "2022-12-05T14:35:26.082Z"
   },
   {
    "duration": 3,
    "start_time": "2022-12-05T14:35:26.120Z"
   },
   {
    "duration": 15,
    "start_time": "2022-12-05T14:35:26.125Z"
   },
   {
    "duration": 247,
    "start_time": "2022-12-05T14:35:26.142Z"
   },
   {
    "duration": 4,
    "start_time": "2022-12-05T14:35:26.391Z"
   },
   {
    "duration": 38,
    "start_time": "2022-12-05T14:35:26.397Z"
   },
   {
    "duration": 1587,
    "start_time": "2022-12-05T14:35:26.436Z"
   },
   {
    "duration": 102,
    "start_time": "2022-12-05T14:35:28.025Z"
   },
   {
    "duration": 7,
    "start_time": "2022-12-05T14:35:28.220Z"
   },
   {
    "duration": 16,
    "start_time": "2022-12-05T14:35:28.228Z"
   },
   {
    "duration": 3,
    "start_time": "2022-12-05T14:35:28.245Z"
   },
   {
    "duration": 12,
    "start_time": "2022-12-05T14:35:28.249Z"
   },
   {
    "duration": 129,
    "start_time": "2022-12-05T14:35:28.263Z"
   },
   {
    "duration": 3,
    "start_time": "2022-12-05T14:35:28.394Z"
   },
   {
    "duration": 36,
    "start_time": "2022-12-05T14:35:28.399Z"
   },
   {
    "duration": 89,
    "start_time": "2022-12-05T14:35:28.436Z"
   },
   {
    "duration": 100,
    "start_time": "2022-12-05T14:35:28.528Z"
   },
   {
    "duration": 5,
    "start_time": "2022-12-05T14:35:28.630Z"
   },
   {
    "duration": 7,
    "start_time": "2022-12-05T14:35:28.722Z"
   },
   {
    "duration": 94,
    "start_time": "2022-12-05T14:35:28.731Z"
   },
   {
    "duration": 13,
    "start_time": "2022-12-05T14:35:28.826Z"
   },
   {
    "duration": 0,
    "start_time": "2022-12-05T14:35:28.841Z"
   },
   {
    "duration": 0,
    "start_time": "2022-12-05T14:35:28.842Z"
   },
   {
    "duration": 0,
    "start_time": "2022-12-05T14:35:28.843Z"
   },
   {
    "duration": 14,
    "start_time": "2022-12-05T14:35:38.730Z"
   },
   {
    "duration": 11,
    "start_time": "2022-12-05T14:38:18.182Z"
   },
   {
    "duration": 261,
    "start_time": "2022-12-05T14:38:53.872Z"
   },
   {
    "duration": 16,
    "start_time": "2022-12-05T14:39:29.372Z"
   },
   {
    "duration": 276,
    "start_time": "2022-12-05T14:39:29.969Z"
   },
   {
    "duration": 33,
    "start_time": "2022-12-05T14:40:39.164Z"
   },
   {
    "duration": 29,
    "start_time": "2022-12-05T14:40:52.886Z"
   },
   {
    "duration": 3,
    "start_time": "2022-12-05T14:41:36.450Z"
   },
   {
    "duration": 31,
    "start_time": "2022-12-05T14:41:40.771Z"
   },
   {
    "duration": 5,
    "start_time": "2022-12-05T14:42:05.505Z"
   },
   {
    "duration": 4,
    "start_time": "2022-12-05T14:45:06.378Z"
   },
   {
    "duration": 54,
    "start_time": "2022-12-05T14:45:06.384Z"
   },
   {
    "duration": 15,
    "start_time": "2022-12-05T14:45:06.439Z"
   },
   {
    "duration": 42,
    "start_time": "2022-12-05T14:45:06.455Z"
   },
   {
    "duration": 25,
    "start_time": "2022-12-05T14:45:06.499Z"
   },
   {
    "duration": 19,
    "start_time": "2022-12-05T14:45:06.526Z"
   },
   {
    "duration": 4,
    "start_time": "2022-12-05T14:45:06.546Z"
   },
   {
    "duration": 25,
    "start_time": "2022-12-05T14:45:06.552Z"
   },
   {
    "duration": 18,
    "start_time": "2022-12-05T14:45:06.579Z"
   },
   {
    "duration": 18,
    "start_time": "2022-12-05T14:45:06.598Z"
   },
   {
    "duration": 42,
    "start_time": "2022-12-05T14:45:06.617Z"
   },
   {
    "duration": 10,
    "start_time": "2022-12-05T14:45:06.661Z"
   },
   {
    "duration": 11,
    "start_time": "2022-12-05T14:45:06.673Z"
   },
   {
    "duration": 34,
    "start_time": "2022-12-05T14:45:06.686Z"
   },
   {
    "duration": 24,
    "start_time": "2022-12-05T14:45:06.722Z"
   },
   {
    "duration": 12,
    "start_time": "2022-12-05T14:45:06.747Z"
   },
   {
    "duration": 19,
    "start_time": "2022-12-05T14:45:06.760Z"
   },
   {
    "duration": 18,
    "start_time": "2022-12-05T14:45:06.780Z"
   },
   {
    "duration": 30,
    "start_time": "2022-12-05T14:45:06.800Z"
   },
   {
    "duration": 16,
    "start_time": "2022-12-05T14:45:06.831Z"
   },
   {
    "duration": 21,
    "start_time": "2022-12-05T14:45:06.848Z"
   },
   {
    "duration": 10,
    "start_time": "2022-12-05T14:45:06.870Z"
   },
   {
    "duration": 17,
    "start_time": "2022-12-05T14:45:06.882Z"
   },
   {
    "duration": 19,
    "start_time": "2022-12-05T14:45:06.902Z"
   },
   {
    "duration": 16,
    "start_time": "2022-12-05T14:45:06.922Z"
   },
   {
    "duration": 22,
    "start_time": "2022-12-05T14:45:06.939Z"
   },
   {
    "duration": 250,
    "start_time": "2022-12-05T14:45:06.962Z"
   },
   {
    "duration": 116,
    "start_time": "2022-12-05T14:45:07.214Z"
   },
   {
    "duration": 100,
    "start_time": "2022-12-05T14:45:07.332Z"
   },
   {
    "duration": 140,
    "start_time": "2022-12-05T14:45:07.435Z"
   },
   {
    "duration": 10,
    "start_time": "2022-12-05T14:45:07.576Z"
   },
   {
    "duration": 102,
    "start_time": "2022-12-05T14:45:07.622Z"
   },
   {
    "duration": 18,
    "start_time": "2022-12-05T14:45:07.726Z"
   },
   {
    "duration": 71,
    "start_time": "2022-12-05T14:45:07.746Z"
   },
   {
    "duration": 6,
    "start_time": "2022-12-05T14:45:07.819Z"
   },
   {
    "duration": 78,
    "start_time": "2022-12-05T14:45:07.826Z"
   },
   {
    "duration": 16,
    "start_time": "2022-12-05T14:45:07.906Z"
   },
   {
    "duration": 71,
    "start_time": "2022-12-05T14:45:07.923Z"
   },
   {
    "duration": 6,
    "start_time": "2022-12-05T14:45:07.995Z"
   },
   {
    "duration": 30,
    "start_time": "2022-12-05T14:45:08.003Z"
   },
   {
    "duration": 26,
    "start_time": "2022-12-05T14:45:08.035Z"
   },
   {
    "duration": 17,
    "start_time": "2022-12-05T14:45:08.062Z"
   },
   {
    "duration": 6,
    "start_time": "2022-12-05T14:45:08.081Z"
   },
   {
    "duration": 11,
    "start_time": "2022-12-05T14:45:08.089Z"
   },
   {
    "duration": 10,
    "start_time": "2022-12-05T14:45:08.101Z"
   },
   {
    "duration": 91,
    "start_time": "2022-12-05T14:45:08.112Z"
   },
   {
    "duration": 103,
    "start_time": "2022-12-05T14:45:08.205Z"
   },
   {
    "duration": 34,
    "start_time": "2022-12-05T14:45:08.309Z"
   },
   {
    "duration": 3,
    "start_time": "2022-12-05T14:45:08.345Z"
   },
   {
    "duration": 11,
    "start_time": "2022-12-05T14:45:08.350Z"
   },
   {
    "duration": 265,
    "start_time": "2022-12-05T14:45:08.362Z"
   },
   {
    "duration": 4,
    "start_time": "2022-12-05T14:45:08.628Z"
   },
   {
    "duration": 46,
    "start_time": "2022-12-05T14:45:08.634Z"
   },
   {
    "duration": 240,
    "start_time": "2022-12-05T14:45:08.681Z"
   },
   {
    "duration": 106,
    "start_time": "2022-12-05T14:45:08.924Z"
   },
   {
    "duration": 92,
    "start_time": "2022-12-05T14:45:09.032Z"
   },
   {
    "duration": 105,
    "start_time": "2022-12-05T14:45:09.126Z"
   },
   {
    "duration": 7,
    "start_time": "2022-12-05T14:45:09.232Z"
   },
   {
    "duration": 11,
    "start_time": "2022-12-05T14:45:09.240Z"
   },
   {
    "duration": 120,
    "start_time": "2022-12-05T14:45:09.253Z"
   },
   {
    "duration": 4,
    "start_time": "2022-12-05T14:45:09.375Z"
   },
   {
    "duration": 42,
    "start_time": "2022-12-05T14:45:09.380Z"
   },
   {
    "duration": 106,
    "start_time": "2022-12-05T14:45:09.424Z"
   },
   {
    "duration": 113,
    "start_time": "2022-12-05T14:45:09.622Z"
   },
   {
    "duration": 96,
    "start_time": "2022-12-05T14:45:09.739Z"
   },
   {
    "duration": 5,
    "start_time": "2022-12-05T14:45:09.921Z"
   },
   {
    "duration": 24,
    "start_time": "2022-12-05T14:45:09.928Z"
   },
   {
    "duration": 21,
    "start_time": "2022-12-05T14:45:09.953Z"
   },
   {
    "duration": 264,
    "start_time": "2022-12-05T14:45:09.978Z"
   },
   {
    "duration": 3,
    "start_time": "2022-12-05T14:45:10.243Z"
   },
   {
    "duration": 48,
    "start_time": "2022-12-05T14:45:10.248Z"
   },
   {
    "duration": 3,
    "start_time": "2022-12-05T14:45:10.297Z"
   },
   {
    "duration": 225,
    "start_time": "2022-12-05T14:45:10.302Z"
   },
   {
    "duration": 27,
    "start_time": "2022-12-05T14:45:10.529Z"
   },
   {
    "duration": 3,
    "start_time": "2022-12-05T14:45:10.558Z"
   },
   {
    "duration": 3,
    "start_time": "2022-12-05T14:46:07.827Z"
   },
   {
    "duration": 198,
    "start_time": "2022-12-05T14:48:16.845Z"
   },
   {
    "duration": 25,
    "start_time": "2022-12-05T14:48:18.898Z"
   },
   {
    "duration": 4,
    "start_time": "2022-12-05T14:48:20.163Z"
   },
   {
    "duration": 205,
    "start_time": "2022-12-05T14:48:42.689Z"
   },
   {
    "duration": 25,
    "start_time": "2022-12-05T14:48:44.015Z"
   },
   {
    "duration": 3,
    "start_time": "2022-12-05T14:48:44.952Z"
   },
   {
    "duration": 52,
    "start_time": "2022-12-05T14:49:16.371Z"
   },
   {
    "duration": 10,
    "start_time": "2022-12-05T14:50:19.410Z"
   },
   {
    "duration": 217,
    "start_time": "2022-12-05T14:50:54.096Z"
   },
   {
    "duration": 14,
    "start_time": "2022-12-05T14:51:30.286Z"
   },
   {
    "duration": 265,
    "start_time": "2022-12-05T14:51:31.141Z"
   },
   {
    "duration": 4,
    "start_time": "2022-12-05T14:52:27.070Z"
   },
   {
    "duration": 43,
    "start_time": "2022-12-05T14:52:27.077Z"
   },
   {
    "duration": 14,
    "start_time": "2022-12-05T14:52:27.122Z"
   },
   {
    "duration": 43,
    "start_time": "2022-12-05T14:52:27.137Z"
   },
   {
    "duration": 11,
    "start_time": "2022-12-05T14:52:27.182Z"
   },
   {
    "duration": 32,
    "start_time": "2022-12-05T14:52:27.194Z"
   },
   {
    "duration": 4,
    "start_time": "2022-12-05T14:52:27.227Z"
   },
   {
    "duration": 8,
    "start_time": "2022-12-05T14:52:27.232Z"
   },
   {
    "duration": 9,
    "start_time": "2022-12-05T14:52:27.241Z"
   },
   {
    "duration": 14,
    "start_time": "2022-12-05T14:52:27.252Z"
   },
   {
    "duration": 19,
    "start_time": "2022-12-05T14:52:27.268Z"
   },
   {
    "duration": 8,
    "start_time": "2022-12-05T14:52:27.321Z"
   },
   {
    "duration": 16,
    "start_time": "2022-12-05T14:52:27.331Z"
   },
   {
    "duration": 5,
    "start_time": "2022-12-05T14:52:27.348Z"
   },
   {
    "duration": 6,
    "start_time": "2022-12-05T14:52:27.355Z"
   },
   {
    "duration": 7,
    "start_time": "2022-12-05T14:52:27.362Z"
   },
   {
    "duration": 5,
    "start_time": "2022-12-05T14:52:27.371Z"
   },
   {
    "duration": 4,
    "start_time": "2022-12-05T14:52:27.378Z"
   },
   {
    "duration": 9,
    "start_time": "2022-12-05T14:52:27.384Z"
   },
   {
    "duration": 11,
    "start_time": "2022-12-05T14:52:27.421Z"
   },
   {
    "duration": 22,
    "start_time": "2022-12-05T14:52:27.434Z"
   },
   {
    "duration": 11,
    "start_time": "2022-12-05T14:52:27.457Z"
   },
   {
    "duration": 52,
    "start_time": "2022-12-05T14:52:27.470Z"
   },
   {
    "duration": 13,
    "start_time": "2022-12-05T14:52:27.524Z"
   },
   {
    "duration": 21,
    "start_time": "2022-12-05T14:52:27.538Z"
   },
   {
    "duration": 24,
    "start_time": "2022-12-05T14:52:27.561Z"
   },
   {
    "duration": 278,
    "start_time": "2022-12-05T14:52:27.587Z"
   },
   {
    "duration": 65,
    "start_time": "2022-12-05T14:52:27.867Z"
   },
   {
    "duration": 93,
    "start_time": "2022-12-05T14:52:27.936Z"
   },
   {
    "duration": 132,
    "start_time": "2022-12-05T14:52:28.031Z"
   },
   {
    "duration": 58,
    "start_time": "2022-12-05T14:52:28.165Z"
   },
   {
    "duration": 102,
    "start_time": "2022-12-05T14:52:28.225Z"
   },
   {
    "duration": 16,
    "start_time": "2022-12-05T14:52:28.329Z"
   },
   {
    "duration": 92,
    "start_time": "2022-12-05T14:52:28.349Z"
   },
   {
    "duration": 6,
    "start_time": "2022-12-05T14:52:28.443Z"
   },
   {
    "duration": 122,
    "start_time": "2022-12-05T14:52:28.451Z"
   },
   {
    "duration": 7,
    "start_time": "2022-12-05T14:52:28.575Z"
   },
   {
    "duration": 94,
    "start_time": "2022-12-05T14:52:28.584Z"
   },
   {
    "duration": 5,
    "start_time": "2022-12-05T14:52:28.680Z"
   },
   {
    "duration": 8,
    "start_time": "2022-12-05T14:52:28.687Z"
   },
   {
    "duration": 14,
    "start_time": "2022-12-05T14:52:28.696Z"
   },
   {
    "duration": 19,
    "start_time": "2022-12-05T14:52:28.711Z"
   },
   {
    "duration": 7,
    "start_time": "2022-12-05T14:52:28.731Z"
   },
   {
    "duration": 10,
    "start_time": "2022-12-05T14:52:28.739Z"
   },
   {
    "duration": 9,
    "start_time": "2022-12-05T14:52:28.751Z"
   },
   {
    "duration": 112,
    "start_time": "2022-12-05T14:52:28.761Z"
   },
   {
    "duration": 99,
    "start_time": "2022-12-05T14:52:28.874Z"
   },
   {
    "duration": 23,
    "start_time": "2022-12-05T14:52:28.974Z"
   },
   {
    "duration": 3,
    "start_time": "2022-12-05T14:52:28.999Z"
   },
   {
    "duration": 9,
    "start_time": "2022-12-05T14:52:29.021Z"
   },
   {
    "duration": 254,
    "start_time": "2022-12-05T14:52:29.032Z"
   },
   {
    "duration": 3,
    "start_time": "2022-12-05T14:52:29.288Z"
   },
   {
    "duration": 36,
    "start_time": "2022-12-05T14:52:29.292Z"
   },
   {
    "duration": 100,
    "start_time": "2022-12-05T14:52:29.330Z"
   },
   {
    "duration": 99,
    "start_time": "2022-12-05T14:52:29.432Z"
   },
   {
    "duration": 90,
    "start_time": "2022-12-05T14:52:29.533Z"
   },
   {
    "duration": 110,
    "start_time": "2022-12-05T14:52:29.625Z"
   },
   {
    "duration": 17,
    "start_time": "2022-12-05T14:52:29.737Z"
   },
   {
    "duration": 17,
    "start_time": "2022-12-05T14:52:29.755Z"
   },
   {
    "duration": 118,
    "start_time": "2022-12-05T14:52:29.773Z"
   },
   {
    "duration": 3,
    "start_time": "2022-12-05T14:52:29.893Z"
   },
   {
    "duration": 36,
    "start_time": "2022-12-05T14:52:29.897Z"
   },
   {
    "duration": 86,
    "start_time": "2022-12-05T14:52:29.935Z"
   },
   {
    "duration": 96,
    "start_time": "2022-12-05T14:52:30.027Z"
   },
   {
    "duration": 97,
    "start_time": "2022-12-05T14:52:30.125Z"
   },
   {
    "duration": 8,
    "start_time": "2022-12-05T14:52:30.224Z"
   },
   {
    "duration": 41,
    "start_time": "2022-12-05T14:52:30.234Z"
   },
   {
    "duration": 26,
    "start_time": "2022-12-05T14:52:30.277Z"
   },
   {
    "duration": 288,
    "start_time": "2022-12-05T14:52:30.305Z"
   },
   {
    "duration": 3,
    "start_time": "2022-12-05T14:52:30.594Z"
   },
   {
    "duration": 51,
    "start_time": "2022-12-05T14:52:30.599Z"
   },
   {
    "duration": 4,
    "start_time": "2022-12-05T14:52:30.651Z"
   },
   {
    "duration": 240,
    "start_time": "2022-12-05T14:52:30.656Z"
   },
   {
    "duration": 40,
    "start_time": "2022-12-05T14:52:30.897Z"
   },
   {
    "duration": 4,
    "start_time": "2022-12-05T14:52:30.939Z"
   },
   {
    "duration": 247,
    "start_time": "2022-12-05T14:52:30.945Z"
   },
   {
    "duration": 32,
    "start_time": "2022-12-05T14:54:28.452Z"
   },
   {
    "duration": 3,
    "start_time": "2022-12-05T14:54:35.091Z"
   },
   {
    "duration": 207,
    "start_time": "2022-12-05T14:54:39.200Z"
   },
   {
    "duration": 225,
    "start_time": "2022-12-05T14:54:45.040Z"
   },
   {
    "duration": 235,
    "start_time": "2022-12-05T14:55:34.122Z"
   },
   {
    "duration": 194,
    "start_time": "2022-12-05T14:57:36.777Z"
   },
   {
    "duration": 25,
    "start_time": "2022-12-05T14:57:38.711Z"
   },
   {
    "duration": 4,
    "start_time": "2022-12-05T14:57:39.520Z"
   },
   {
    "duration": 217,
    "start_time": "2022-12-05T14:57:40.747Z"
   },
   {
    "duration": 552,
    "start_time": "2022-12-05T14:58:30.500Z"
   },
   {
    "duration": 638,
    "start_time": "2022-12-05T14:58:57.899Z"
   },
   {
    "duration": 656,
    "start_time": "2022-12-05T14:59:17.755Z"
   },
   {
    "duration": 265,
    "start_time": "2022-12-05T14:59:40.636Z"
   },
   {
    "duration": 6,
    "start_time": "2022-12-05T15:00:07.432Z"
   },
   {
    "duration": 69,
    "start_time": "2022-12-05T15:00:07.441Z"
   },
   {
    "duration": 14,
    "start_time": "2022-12-05T15:00:07.512Z"
   },
   {
    "duration": 77,
    "start_time": "2022-12-05T15:00:07.528Z"
   },
   {
    "duration": 11,
    "start_time": "2022-12-05T15:00:07.607Z"
   },
   {
    "duration": 22,
    "start_time": "2022-12-05T15:00:07.620Z"
   },
   {
    "duration": 14,
    "start_time": "2022-12-05T15:00:07.644Z"
   },
   {
    "duration": 13,
    "start_time": "2022-12-05T15:00:07.660Z"
   },
   {
    "duration": 33,
    "start_time": "2022-12-05T15:00:07.675Z"
   },
   {
    "duration": 41,
    "start_time": "2022-12-05T15:00:07.709Z"
   },
   {
    "duration": 40,
    "start_time": "2022-12-05T15:00:07.755Z"
   },
   {
    "duration": 20,
    "start_time": "2022-12-05T15:00:07.797Z"
   },
   {
    "duration": 13,
    "start_time": "2022-12-05T15:00:07.819Z"
   },
   {
    "duration": 29,
    "start_time": "2022-12-05T15:00:07.833Z"
   },
   {
    "duration": 15,
    "start_time": "2022-12-05T15:00:07.864Z"
   },
   {
    "duration": 34,
    "start_time": "2022-12-05T15:00:07.881Z"
   },
   {
    "duration": 24,
    "start_time": "2022-12-05T15:00:07.917Z"
   },
   {
    "duration": 28,
    "start_time": "2022-12-05T15:00:07.943Z"
   },
   {
    "duration": 26,
    "start_time": "2022-12-05T15:00:07.973Z"
   },
   {
    "duration": 40,
    "start_time": "2022-12-05T15:00:08.000Z"
   },
   {
    "duration": 34,
    "start_time": "2022-12-05T15:00:08.042Z"
   },
   {
    "duration": 33,
    "start_time": "2022-12-05T15:00:08.077Z"
   },
   {
    "duration": 40,
    "start_time": "2022-12-05T15:00:08.112Z"
   },
   {
    "duration": 14,
    "start_time": "2022-12-05T15:00:08.154Z"
   },
   {
    "duration": 53,
    "start_time": "2022-12-05T15:00:08.170Z"
   },
   {
    "duration": 21,
    "start_time": "2022-12-05T15:00:08.225Z"
   },
   {
    "duration": 273,
    "start_time": "2022-12-05T15:00:08.248Z"
   },
   {
    "duration": 1908,
    "start_time": "2022-12-05T15:00:08.522Z"
   },
   {
    "duration": 174,
    "start_time": "2022-12-05T15:00:10.448Z"
   },
   {
    "duration": 52,
    "start_time": "2022-12-05T15:00:10.624Z"
   },
   {
    "duration": 49,
    "start_time": "2022-12-05T15:00:10.678Z"
   },
   {
    "duration": 128,
    "start_time": "2022-12-05T15:00:10.729Z"
   },
   {
    "duration": 30,
    "start_time": "2022-12-05T15:00:10.859Z"
   },
   {
    "duration": 95,
    "start_time": "2022-12-05T15:00:10.891Z"
   },
   {
    "duration": 5,
    "start_time": "2022-12-05T15:00:10.988Z"
   },
   {
    "duration": 92,
    "start_time": "2022-12-05T15:00:10.995Z"
   },
   {
    "duration": 6,
    "start_time": "2022-12-05T15:00:11.089Z"
   },
   {
    "duration": 88,
    "start_time": "2022-12-05T15:00:11.097Z"
   },
   {
    "duration": 6,
    "start_time": "2022-12-05T15:00:11.187Z"
   },
   {
    "duration": 23,
    "start_time": "2022-12-05T15:00:11.194Z"
   },
   {
    "duration": 44,
    "start_time": "2022-12-05T15:00:11.220Z"
   },
   {
    "duration": 30,
    "start_time": "2022-12-05T15:00:11.266Z"
   },
   {
    "duration": 8,
    "start_time": "2022-12-05T15:00:11.298Z"
   },
   {
    "duration": 22,
    "start_time": "2022-12-05T15:00:11.308Z"
   },
   {
    "duration": 14,
    "start_time": "2022-12-05T15:00:11.332Z"
   },
   {
    "duration": 102,
    "start_time": "2022-12-05T15:00:11.347Z"
   },
   {
    "duration": 134,
    "start_time": "2022-12-05T15:00:11.451Z"
   },
   {
    "duration": 34,
    "start_time": "2022-12-05T15:00:11.587Z"
   },
   {
    "duration": 4,
    "start_time": "2022-12-05T15:00:11.623Z"
   },
   {
    "duration": 44,
    "start_time": "2022-12-05T15:00:11.629Z"
   },
   {
    "duration": 273,
    "start_time": "2022-12-05T15:00:11.675Z"
   },
   {
    "duration": 3,
    "start_time": "2022-12-05T15:00:11.950Z"
   },
   {
    "duration": 47,
    "start_time": "2022-12-05T15:00:11.955Z"
   },
   {
    "duration": 216,
    "start_time": "2022-12-05T15:00:12.005Z"
   },
   {
    "duration": 120,
    "start_time": "2022-12-05T15:00:12.224Z"
   },
   {
    "duration": 184,
    "start_time": "2022-12-05T15:00:12.349Z"
   },
   {
    "duration": 29,
    "start_time": "2022-12-05T15:00:12.535Z"
   },
   {
    "duration": 18,
    "start_time": "2022-12-05T15:00:12.566Z"
   },
   {
    "duration": 42,
    "start_time": "2022-12-05T15:00:12.586Z"
   },
   {
    "duration": 531,
    "start_time": "2022-12-05T15:00:12.630Z"
   },
   {
    "duration": 3,
    "start_time": "2022-12-05T15:00:13.162Z"
   },
   {
    "duration": 49,
    "start_time": "2022-12-05T15:00:13.167Z"
   },
   {
    "duration": 116,
    "start_time": "2022-12-05T15:00:13.218Z"
   },
   {
    "duration": 195,
    "start_time": "2022-12-05T15:00:13.336Z"
   },
   {
    "duration": 93,
    "start_time": "2022-12-05T15:00:13.533Z"
   },
   {
    "duration": 94,
    "start_time": "2022-12-05T15:00:13.630Z"
   },
   {
    "duration": 25,
    "start_time": "2022-12-05T15:00:13.726Z"
   },
   {
    "duration": 34,
    "start_time": "2022-12-05T15:00:13.753Z"
   },
   {
    "duration": 319,
    "start_time": "2022-12-05T15:00:13.789Z"
   },
   {
    "duration": 4,
    "start_time": "2022-12-05T15:00:14.109Z"
   },
   {
    "duration": 54,
    "start_time": "2022-12-05T15:00:14.115Z"
   },
   {
    "duration": 3,
    "start_time": "2022-12-05T15:00:14.171Z"
   },
   {
    "duration": 229,
    "start_time": "2022-12-05T15:00:14.176Z"
   },
   {
    "duration": 30,
    "start_time": "2022-12-05T15:00:14.407Z"
   },
   {
    "duration": 3,
    "start_time": "2022-12-05T15:00:14.439Z"
   },
   {
    "duration": 339,
    "start_time": "2022-12-05T15:00:14.444Z"
   },
   {
    "duration": 660,
    "start_time": "2022-12-05T15:01:59.597Z"
   },
   {
    "duration": 4,
    "start_time": "2022-12-05T15:02:00.723Z"
   },
   {
    "duration": 4,
    "start_time": "2022-12-05T15:02:39.600Z"
   },
   {
    "duration": 206,
    "start_time": "2022-12-05T15:02:43.816Z"
   },
   {
    "duration": 208,
    "start_time": "2022-12-05T15:02:58.040Z"
   },
   {
    "duration": 25,
    "start_time": "2022-12-05T15:03:08.015Z"
   },
   {
    "duration": 4,
    "start_time": "2022-12-05T15:03:08.871Z"
   },
   {
    "duration": 278,
    "start_time": "2022-12-05T15:03:22.336Z"
   },
   {
    "duration": 32,
    "start_time": "2022-12-05T15:03:24.506Z"
   },
   {
    "duration": 4,
    "start_time": "2022-12-05T15:03:30.412Z"
   },
   {
    "duration": 280,
    "start_time": "2022-12-05T15:03:32.388Z"
   },
   {
    "duration": 669,
    "start_time": "2022-12-05T15:03:46.595Z"
   },
   {
    "duration": 32,
    "start_time": "2022-12-05T15:04:23.561Z"
   },
   {
    "duration": 29,
    "start_time": "2022-12-05T15:04:50.016Z"
   },
   {
    "duration": 33,
    "start_time": "2022-12-05T15:05:02.962Z"
   },
   {
    "duration": 29,
    "start_time": "2022-12-05T15:05:14.752Z"
   },
   {
    "duration": 6,
    "start_time": "2022-12-05T15:11:01.482Z"
   },
   {
    "duration": 72,
    "start_time": "2022-12-05T15:11:01.491Z"
   },
   {
    "duration": 13,
    "start_time": "2022-12-05T15:11:01.565Z"
   },
   {
    "duration": 66,
    "start_time": "2022-12-05T15:11:01.580Z"
   },
   {
    "duration": 12,
    "start_time": "2022-12-05T15:11:01.648Z"
   },
   {
    "duration": 38,
    "start_time": "2022-12-05T15:11:01.661Z"
   },
   {
    "duration": 25,
    "start_time": "2022-12-05T15:11:01.701Z"
   },
   {
    "duration": 29,
    "start_time": "2022-12-05T15:11:01.727Z"
   },
   {
    "duration": 28,
    "start_time": "2022-12-05T15:11:01.757Z"
   },
   {
    "duration": 55,
    "start_time": "2022-12-05T15:11:01.786Z"
   },
   {
    "duration": 41,
    "start_time": "2022-12-05T15:11:01.842Z"
   },
   {
    "duration": 16,
    "start_time": "2022-12-05T15:11:01.884Z"
   },
   {
    "duration": 20,
    "start_time": "2022-12-05T15:11:01.901Z"
   },
   {
    "duration": 10,
    "start_time": "2022-12-05T15:11:01.925Z"
   },
   {
    "duration": 9,
    "start_time": "2022-12-05T15:11:01.937Z"
   },
   {
    "duration": 34,
    "start_time": "2022-12-05T15:11:01.947Z"
   },
   {
    "duration": 33,
    "start_time": "2022-12-05T15:11:01.983Z"
   },
   {
    "duration": 32,
    "start_time": "2022-12-05T15:11:02.017Z"
   },
   {
    "duration": 35,
    "start_time": "2022-12-05T15:11:02.051Z"
   },
   {
    "duration": 46,
    "start_time": "2022-12-05T15:11:02.088Z"
   },
   {
    "duration": 50,
    "start_time": "2022-12-05T15:11:02.136Z"
   },
   {
    "duration": 47,
    "start_time": "2022-12-05T15:11:02.188Z"
   },
   {
    "duration": 34,
    "start_time": "2022-12-05T15:11:02.236Z"
   },
   {
    "duration": 25,
    "start_time": "2022-12-05T15:11:02.272Z"
   },
   {
    "duration": 27,
    "start_time": "2022-12-05T15:11:02.299Z"
   },
   {
    "duration": 23,
    "start_time": "2022-12-05T15:11:02.328Z"
   },
   {
    "duration": 259,
    "start_time": "2022-12-05T15:11:02.352Z"
   },
   {
    "duration": 114,
    "start_time": "2022-12-05T15:11:02.612Z"
   },
   {
    "duration": 112,
    "start_time": "2022-12-05T15:11:02.728Z"
   },
   {
    "duration": 41,
    "start_time": "2022-12-05T15:11:02.921Z"
   },
   {
    "duration": 57,
    "start_time": "2022-12-05T15:11:02.963Z"
   },
   {
    "duration": 100,
    "start_time": "2022-12-05T15:11:03.023Z"
   },
   {
    "duration": 10,
    "start_time": "2022-12-05T15:11:03.125Z"
   },
   {
    "duration": 89,
    "start_time": "2022-12-05T15:11:03.137Z"
   },
   {
    "duration": 6,
    "start_time": "2022-12-05T15:11:03.228Z"
   },
   {
    "duration": 74,
    "start_time": "2022-12-05T15:11:03.235Z"
   },
   {
    "duration": 13,
    "start_time": "2022-12-05T15:11:03.311Z"
   },
   {
    "duration": 70,
    "start_time": "2022-12-05T15:11:03.326Z"
   },
   {
    "duration": 4,
    "start_time": "2022-12-05T15:11:03.398Z"
   },
   {
    "duration": 7,
    "start_time": "2022-12-05T15:11:03.404Z"
   },
   {
    "duration": 9,
    "start_time": "2022-12-05T15:11:03.424Z"
   },
   {
    "duration": 12,
    "start_time": "2022-12-05T15:11:03.434Z"
   },
   {
    "duration": 6,
    "start_time": "2022-12-05T15:11:03.447Z"
   },
   {
    "duration": 12,
    "start_time": "2022-12-05T15:11:03.454Z"
   },
   {
    "duration": 9,
    "start_time": "2022-12-05T15:11:03.468Z"
   },
   {
    "duration": 114,
    "start_time": "2022-12-05T15:11:03.478Z"
   },
   {
    "duration": 95,
    "start_time": "2022-12-05T15:11:03.594Z"
   },
   {
    "duration": 32,
    "start_time": "2022-12-05T15:11:03.691Z"
   },
   {
    "duration": 13,
    "start_time": "2022-12-05T15:11:03.724Z"
   },
   {
    "duration": 16,
    "start_time": "2022-12-05T15:11:03.738Z"
   },
   {
    "duration": 237,
    "start_time": "2022-12-05T15:11:03.756Z"
   },
   {
    "duration": 4,
    "start_time": "2022-12-05T15:11:03.994Z"
   },
   {
    "duration": 42,
    "start_time": "2022-12-05T15:11:03.999Z"
   },
   {
    "duration": 277,
    "start_time": "2022-12-05T15:11:04.043Z"
   },
   {
    "duration": 106,
    "start_time": "2022-12-05T15:11:04.323Z"
   },
   {
    "duration": 99,
    "start_time": "2022-12-05T15:11:04.431Z"
   },
   {
    "duration": 21,
    "start_time": "2022-12-05T15:11:04.532Z"
   },
   {
    "duration": 68,
    "start_time": "2022-12-05T15:11:04.554Z"
   },
   {
    "duration": 8,
    "start_time": "2022-12-05T15:11:04.623Z"
   },
   {
    "duration": 123,
    "start_time": "2022-12-05T15:11:04.632Z"
   },
   {
    "duration": 4,
    "start_time": "2022-12-05T15:11:04.756Z"
   },
   {
    "duration": 34,
    "start_time": "2022-12-05T15:11:04.761Z"
   },
   {
    "duration": 40,
    "start_time": "2022-12-05T15:11:04.796Z"
   },
   {
    "duration": 10,
    "start_time": "2022-12-05T15:11:04.922Z"
   },
   {
    "duration": 188,
    "start_time": "2022-12-05T15:11:04.934Z"
   },
   {
    "duration": 11,
    "start_time": "2022-12-05T15:11:05.124Z"
   },
   {
    "duration": 27,
    "start_time": "2022-12-05T15:11:05.136Z"
   },
   {
    "duration": 22,
    "start_time": "2022-12-05T15:11:05.165Z"
   },
   {
    "duration": 675,
    "start_time": "2022-12-05T15:11:05.188Z"
   },
   {
    "duration": 3,
    "start_time": "2022-12-05T15:11:05.865Z"
   },
   {
    "duration": 56,
    "start_time": "2022-12-05T15:11:05.869Z"
   },
   {
    "duration": 3,
    "start_time": "2022-12-05T15:11:05.926Z"
   },
   {
    "duration": 261,
    "start_time": "2022-12-05T15:11:05.931Z"
   },
   {
    "duration": 31,
    "start_time": "2022-12-05T15:11:06.193Z"
   },
   {
    "duration": 3,
    "start_time": "2022-12-05T15:11:06.225Z"
   },
   {
    "duration": 660,
    "start_time": "2022-12-05T15:11:06.230Z"
   },
   {
    "duration": 34,
    "start_time": "2022-12-05T15:11:06.891Z"
   },
   {
    "duration": 3,
    "start_time": "2022-12-05T15:20:37.455Z"
   },
   {
    "duration": 3,
    "start_time": "2022-12-05T15:20:49.328Z"
   },
   {
    "duration": 4,
    "start_time": "2022-12-05T15:21:08.756Z"
   },
   {
    "duration": 44,
    "start_time": "2022-12-05T15:21:08.762Z"
   },
   {
    "duration": 13,
    "start_time": "2022-12-05T15:21:08.807Z"
   },
   {
    "duration": 43,
    "start_time": "2022-12-05T15:21:08.821Z"
   },
   {
    "duration": 11,
    "start_time": "2022-12-05T15:21:08.866Z"
   },
   {
    "duration": 17,
    "start_time": "2022-12-05T15:21:08.879Z"
   },
   {
    "duration": 3,
    "start_time": "2022-12-05T15:21:08.897Z"
   },
   {
    "duration": 5,
    "start_time": "2022-12-05T15:21:08.921Z"
   },
   {
    "duration": 9,
    "start_time": "2022-12-05T15:21:08.927Z"
   },
   {
    "duration": 13,
    "start_time": "2022-12-05T15:21:08.937Z"
   },
   {
    "duration": 22,
    "start_time": "2022-12-05T15:21:08.952Z"
   },
   {
    "duration": 7,
    "start_time": "2022-12-05T15:21:08.976Z"
   },
   {
    "duration": 35,
    "start_time": "2022-12-05T15:21:08.986Z"
   },
   {
    "duration": 5,
    "start_time": "2022-12-05T15:21:09.022Z"
   },
   {
    "duration": 12,
    "start_time": "2022-12-05T15:21:09.028Z"
   },
   {
    "duration": 6,
    "start_time": "2022-12-05T15:21:09.042Z"
   },
   {
    "duration": 9,
    "start_time": "2022-12-05T15:21:09.050Z"
   },
   {
    "duration": 8,
    "start_time": "2022-12-05T15:21:09.060Z"
   },
   {
    "duration": 13,
    "start_time": "2022-12-05T15:21:09.069Z"
   },
   {
    "duration": 13,
    "start_time": "2022-12-05T15:21:09.084Z"
   },
   {
    "duration": 26,
    "start_time": "2022-12-05T15:21:09.099Z"
   },
   {
    "duration": 10,
    "start_time": "2022-12-05T15:21:09.126Z"
   },
   {
    "duration": 22,
    "start_time": "2022-12-05T15:21:09.137Z"
   },
   {
    "duration": 10,
    "start_time": "2022-12-05T15:21:09.160Z"
   },
   {
    "duration": 19,
    "start_time": "2022-12-05T15:21:09.171Z"
   },
   {
    "duration": 44,
    "start_time": "2022-12-05T15:21:09.192Z"
   },
   {
    "duration": 247,
    "start_time": "2022-12-05T15:21:09.237Z"
   },
   {
    "duration": 135,
    "start_time": "2022-12-05T15:21:09.486Z"
   },
   {
    "duration": 100,
    "start_time": "2022-12-05T15:21:09.623Z"
   },
   {
    "duration": 36,
    "start_time": "2022-12-05T15:21:09.725Z"
   },
   {
    "duration": 58,
    "start_time": "2022-12-05T15:21:09.763Z"
   },
   {
    "duration": 99,
    "start_time": "2022-12-05T15:21:09.823Z"
   },
   {
    "duration": 6,
    "start_time": "2022-12-05T15:21:09.924Z"
   },
   {
    "duration": 78,
    "start_time": "2022-12-05T15:21:09.931Z"
   },
   {
    "duration": 6,
    "start_time": "2022-12-05T15:21:10.021Z"
   },
   {
    "duration": 84,
    "start_time": "2022-12-05T15:21:10.028Z"
   },
   {
    "duration": 6,
    "start_time": "2022-12-05T15:21:10.116Z"
   },
   {
    "duration": 76,
    "start_time": "2022-12-05T15:21:10.123Z"
   },
   {
    "duration": 5,
    "start_time": "2022-12-05T15:21:10.200Z"
   },
   {
    "duration": 15,
    "start_time": "2022-12-05T15:21:10.206Z"
   },
   {
    "duration": 14,
    "start_time": "2022-12-05T15:21:10.222Z"
   },
   {
    "duration": 14,
    "start_time": "2022-12-05T15:21:10.237Z"
   },
   {
    "duration": 5,
    "start_time": "2022-12-05T15:21:10.252Z"
   },
   {
    "duration": 9,
    "start_time": "2022-12-05T15:21:10.259Z"
   },
   {
    "duration": 9,
    "start_time": "2022-12-05T15:21:10.269Z"
   },
   {
    "duration": 102,
    "start_time": "2022-12-05T15:21:10.279Z"
   },
   {
    "duration": 97,
    "start_time": "2022-12-05T15:21:10.383Z"
   },
   {
    "duration": 22,
    "start_time": "2022-12-05T15:21:10.481Z"
   },
   {
    "duration": 3,
    "start_time": "2022-12-05T15:21:10.504Z"
   },
   {
    "duration": 8,
    "start_time": "2022-12-05T15:21:10.520Z"
   },
   {
    "duration": 246,
    "start_time": "2022-12-05T15:21:10.530Z"
   },
   {
    "duration": 3,
    "start_time": "2022-12-05T15:21:10.777Z"
   },
   {
    "duration": 31,
    "start_time": "2022-12-05T15:21:10.781Z"
   },
   {
    "duration": 209,
    "start_time": "2022-12-05T15:21:10.813Z"
   },
   {
    "duration": 98,
    "start_time": "2022-12-05T15:21:11.025Z"
   },
   {
    "duration": 5,
    "start_time": "2022-12-05T15:21:11.126Z"
   },
   {
    "duration": 12,
    "start_time": "2022-12-05T15:21:11.222Z"
   },
   {
    "duration": 5,
    "start_time": "2022-12-05T15:21:11.235Z"
   },
   {
    "duration": 12,
    "start_time": "2022-12-05T15:21:11.241Z"
   },
   {
    "duration": 130,
    "start_time": "2022-12-05T15:21:11.254Z"
   },
   {
    "duration": 3,
    "start_time": "2022-12-05T15:21:11.385Z"
   },
   {
    "duration": 57,
    "start_time": "2022-12-05T15:21:11.390Z"
   },
   {
    "duration": 82,
    "start_time": "2022-12-05T15:21:11.448Z"
   },
   {
    "duration": 107,
    "start_time": "2022-12-05T15:21:11.623Z"
   },
   {
    "duration": 92,
    "start_time": "2022-12-05T15:21:11.732Z"
   },
   {
    "duration": 95,
    "start_time": "2022-12-05T15:21:11.829Z"
   },
   {
    "duration": 13,
    "start_time": "2022-12-05T15:21:11.926Z"
   },
   {
    "duration": 18,
    "start_time": "2022-12-05T15:21:11.941Z"
   },
   {
    "duration": 614,
    "start_time": "2022-12-05T15:21:11.961Z"
   },
   {
    "duration": 3,
    "start_time": "2022-12-05T15:21:12.577Z"
   },
   {
    "duration": 40,
    "start_time": "2022-12-05T15:21:12.582Z"
   },
   {
    "duration": 4,
    "start_time": "2022-12-05T15:21:12.623Z"
   },
   {
    "duration": 257,
    "start_time": "2022-12-05T15:21:12.629Z"
   },
   {
    "duration": 36,
    "start_time": "2022-12-05T15:21:12.888Z"
   },
   {
    "duration": 4,
    "start_time": "2022-12-05T15:21:12.925Z"
   },
   {
    "duration": 645,
    "start_time": "2022-12-05T15:21:12.930Z"
   },
   {
    "duration": 28,
    "start_time": "2022-12-05T15:21:13.577Z"
   },
   {
    "duration": 15,
    "start_time": "2022-12-05T15:21:13.607Z"
   },
   {
    "duration": 62,
    "start_time": "2022-12-05T15:21:56.904Z"
   },
   {
    "duration": 81,
    "start_time": "2022-12-05T15:22:49.214Z"
   },
   {
    "duration": 81,
    "start_time": "2022-12-05T15:23:06.572Z"
   },
   {
    "duration": 5,
    "start_time": "2022-12-05T15:23:08.730Z"
   },
   {
    "duration": 43,
    "start_time": "2022-12-05T15:23:08.737Z"
   },
   {
    "duration": 13,
    "start_time": "2022-12-05T15:23:08.781Z"
   },
   {
    "duration": 46,
    "start_time": "2022-12-05T15:23:08.796Z"
   },
   {
    "duration": 14,
    "start_time": "2022-12-05T15:23:08.844Z"
   },
   {
    "duration": 23,
    "start_time": "2022-12-05T15:23:08.860Z"
   },
   {
    "duration": 17,
    "start_time": "2022-12-05T15:23:08.885Z"
   },
   {
    "duration": 15,
    "start_time": "2022-12-05T15:23:08.904Z"
   },
   {
    "duration": 7,
    "start_time": "2022-12-05T15:23:08.921Z"
   },
   {
    "duration": 16,
    "start_time": "2022-12-05T15:23:08.929Z"
   },
   {
    "duration": 35,
    "start_time": "2022-12-05T15:23:08.946Z"
   },
   {
    "duration": 12,
    "start_time": "2022-12-05T15:23:08.982Z"
   },
   {
    "duration": 31,
    "start_time": "2022-12-05T15:23:08.996Z"
   },
   {
    "duration": 32,
    "start_time": "2022-12-05T15:23:09.029Z"
   },
   {
    "duration": 20,
    "start_time": "2022-12-05T15:23:09.062Z"
   },
   {
    "duration": 9,
    "start_time": "2022-12-05T15:23:09.084Z"
   },
   {
    "duration": 11,
    "start_time": "2022-12-05T15:23:09.094Z"
   },
   {
    "duration": 17,
    "start_time": "2022-12-05T15:23:09.106Z"
   },
   {
    "duration": 18,
    "start_time": "2022-12-05T15:23:09.124Z"
   },
   {
    "duration": 19,
    "start_time": "2022-12-05T15:23:09.144Z"
   },
   {
    "duration": 24,
    "start_time": "2022-12-05T15:23:09.164Z"
   },
   {
    "duration": 16,
    "start_time": "2022-12-05T15:23:09.189Z"
   },
   {
    "duration": 19,
    "start_time": "2022-12-05T15:23:09.207Z"
   },
   {
    "duration": 10,
    "start_time": "2022-12-05T15:23:09.228Z"
   },
   {
    "duration": 21,
    "start_time": "2022-12-05T15:23:09.239Z"
   },
   {
    "duration": 23,
    "start_time": "2022-12-05T15:23:09.261Z"
   },
   {
    "duration": 260,
    "start_time": "2022-12-05T15:23:09.286Z"
   },
   {
    "duration": 177,
    "start_time": "2022-12-05T15:23:09.547Z"
   },
   {
    "duration": 100,
    "start_time": "2022-12-05T15:23:09.726Z"
   },
   {
    "duration": 115,
    "start_time": "2022-12-05T15:23:09.827Z"
   },
   {
    "duration": 78,
    "start_time": "2022-12-05T15:23:09.944Z"
   },
   {
    "duration": 104,
    "start_time": "2022-12-05T15:23:10.024Z"
   },
   {
    "duration": 24,
    "start_time": "2022-12-05T15:23:10.130Z"
   },
   {
    "duration": 100,
    "start_time": "2022-12-05T15:23:10.156Z"
   },
   {
    "duration": 5,
    "start_time": "2022-12-05T15:23:10.258Z"
   },
   {
    "duration": 90,
    "start_time": "2022-12-05T15:23:10.264Z"
   },
   {
    "duration": 6,
    "start_time": "2022-12-05T15:23:10.359Z"
   },
   {
    "duration": 90,
    "start_time": "2022-12-05T15:23:10.366Z"
   },
   {
    "duration": 5,
    "start_time": "2022-12-05T15:23:10.457Z"
   },
   {
    "duration": 33,
    "start_time": "2022-12-05T15:23:10.463Z"
   },
   {
    "duration": 35,
    "start_time": "2022-12-05T15:23:10.497Z"
   },
   {
    "duration": 18,
    "start_time": "2022-12-05T15:23:10.534Z"
   },
   {
    "duration": 24,
    "start_time": "2022-12-05T15:23:10.553Z"
   },
   {
    "duration": 28,
    "start_time": "2022-12-05T15:23:10.579Z"
   },
   {
    "duration": 32,
    "start_time": "2022-12-05T15:23:10.609Z"
   },
   {
    "duration": 94,
    "start_time": "2022-12-05T15:23:10.642Z"
   },
   {
    "duration": 89,
    "start_time": "2022-12-05T15:23:10.738Z"
   },
   {
    "duration": 21,
    "start_time": "2022-12-05T15:23:10.829Z"
   },
   {
    "duration": 3,
    "start_time": "2022-12-05T15:23:10.852Z"
   },
   {
    "duration": 15,
    "start_time": "2022-12-05T15:23:10.856Z"
   },
   {
    "duration": 254,
    "start_time": "2022-12-05T15:23:10.873Z"
   },
   {
    "duration": 4,
    "start_time": "2022-12-05T15:23:11.128Z"
   },
   {
    "duration": 37,
    "start_time": "2022-12-05T15:23:11.133Z"
   },
   {
    "duration": 249,
    "start_time": "2022-12-05T15:23:11.172Z"
   },
   {
    "duration": 105,
    "start_time": "2022-12-05T15:23:11.424Z"
   },
   {
    "duration": 96,
    "start_time": "2022-12-05T15:23:11.534Z"
   },
   {
    "duration": 98,
    "start_time": "2022-12-05T15:23:11.632Z"
   },
   {
    "duration": 4,
    "start_time": "2022-12-05T15:23:11.732Z"
   },
   {
    "duration": 24,
    "start_time": "2022-12-05T15:23:11.737Z"
   },
   {
    "duration": 126,
    "start_time": "2022-12-05T15:23:11.762Z"
   },
   {
    "duration": 4,
    "start_time": "2022-12-05T15:23:11.889Z"
   },
   {
    "duration": 35,
    "start_time": "2022-12-05T15:23:11.894Z"
   },
   {
    "duration": 15,
    "start_time": "2022-12-05T15:23:11.931Z"
   },
   {
    "duration": 116,
    "start_time": "2022-12-05T15:23:12.022Z"
   },
   {
    "duration": 82,
    "start_time": "2022-12-05T15:23:12.141Z"
   },
   {
    "duration": 98,
    "start_time": "2022-12-05T15:23:12.226Z"
   },
   {
    "duration": 12,
    "start_time": "2022-12-05T15:23:12.325Z"
   },
   {
    "duration": 20,
    "start_time": "2022-12-05T15:23:12.338Z"
   },
   {
    "duration": 653,
    "start_time": "2022-12-05T15:23:12.359Z"
   },
   {
    "duration": 7,
    "start_time": "2022-12-05T15:23:13.014Z"
   },
   {
    "duration": 53,
    "start_time": "2022-12-05T15:23:13.023Z"
   },
   {
    "duration": 3,
    "start_time": "2022-12-05T15:23:13.077Z"
   },
   {
    "duration": 248,
    "start_time": "2022-12-05T15:23:13.082Z"
   },
   {
    "duration": 28,
    "start_time": "2022-12-05T15:23:13.332Z"
   },
   {
    "duration": 3,
    "start_time": "2022-12-05T15:23:13.361Z"
   },
   {
    "duration": 654,
    "start_time": "2022-12-05T15:23:13.365Z"
   },
   {
    "duration": 27,
    "start_time": "2022-12-05T15:23:14.021Z"
   },
   {
    "duration": 3,
    "start_time": "2022-12-05T15:23:14.050Z"
   },
   {
    "duration": 4,
    "start_time": "2022-12-05T15:25:55.474Z"
   },
   {
    "duration": 43,
    "start_time": "2022-12-05T15:25:55.480Z"
   },
   {
    "duration": 14,
    "start_time": "2022-12-05T15:25:55.524Z"
   },
   {
    "duration": 40,
    "start_time": "2022-12-05T15:25:55.540Z"
   },
   {
    "duration": 11,
    "start_time": "2022-12-05T15:25:55.582Z"
   },
   {
    "duration": 38,
    "start_time": "2022-12-05T15:25:55.594Z"
   },
   {
    "duration": 5,
    "start_time": "2022-12-05T15:25:55.633Z"
   },
   {
    "duration": 5,
    "start_time": "2022-12-05T15:25:55.639Z"
   },
   {
    "duration": 15,
    "start_time": "2022-12-05T15:25:55.646Z"
   },
   {
    "duration": 11,
    "start_time": "2022-12-05T15:25:55.663Z"
   },
   {
    "duration": 45,
    "start_time": "2022-12-05T15:25:55.677Z"
   },
   {
    "duration": 9,
    "start_time": "2022-12-05T15:25:55.724Z"
   },
   {
    "duration": 6,
    "start_time": "2022-12-05T15:25:55.734Z"
   },
   {
    "duration": 5,
    "start_time": "2022-12-05T15:25:55.741Z"
   },
   {
    "duration": 9,
    "start_time": "2022-12-05T15:25:55.747Z"
   },
   {
    "duration": 6,
    "start_time": "2022-12-05T15:25:55.757Z"
   },
   {
    "duration": 7,
    "start_time": "2022-12-05T15:25:55.765Z"
   },
   {
    "duration": 11,
    "start_time": "2022-12-05T15:25:55.774Z"
   },
   {
    "duration": 9,
    "start_time": "2022-12-05T15:25:55.787Z"
   },
   {
    "duration": 32,
    "start_time": "2022-12-05T15:25:55.797Z"
   },
   {
    "duration": 19,
    "start_time": "2022-12-05T15:25:55.831Z"
   },
   {
    "duration": 9,
    "start_time": "2022-12-05T15:25:55.852Z"
   },
   {
    "duration": 19,
    "start_time": "2022-12-05T15:25:55.862Z"
   },
   {
    "duration": 9,
    "start_time": "2022-12-05T15:25:55.882Z"
   },
   {
    "duration": 41,
    "start_time": "2022-12-05T15:25:55.893Z"
   },
   {
    "duration": 22,
    "start_time": "2022-12-05T15:25:55.936Z"
   },
   {
    "duration": 250,
    "start_time": "2022-12-05T15:25:55.960Z"
   },
   {
    "duration": 223,
    "start_time": "2022-12-05T15:25:56.212Z"
   },
   {
    "duration": 92,
    "start_time": "2022-12-05T15:25:56.531Z"
   },
   {
    "duration": 43,
    "start_time": "2022-12-05T15:25:56.625Z"
   },
   {
    "duration": 51,
    "start_time": "2022-12-05T15:25:56.670Z"
   },
   {
    "duration": 98,
    "start_time": "2022-12-05T15:25:56.724Z"
   },
   {
    "duration": 6,
    "start_time": "2022-12-05T15:25:56.824Z"
   },
   {
    "duration": 104,
    "start_time": "2022-12-05T15:25:56.831Z"
   },
   {
    "duration": 7,
    "start_time": "2022-12-05T15:25:56.936Z"
   },
   {
    "duration": 92,
    "start_time": "2022-12-05T15:25:56.944Z"
   },
   {
    "duration": 6,
    "start_time": "2022-12-05T15:25:57.037Z"
   },
   {
    "duration": 94,
    "start_time": "2022-12-05T15:25:57.044Z"
   },
   {
    "duration": 6,
    "start_time": "2022-12-05T15:25:57.140Z"
   },
   {
    "duration": 12,
    "start_time": "2022-12-05T15:25:57.147Z"
   },
   {
    "duration": 14,
    "start_time": "2022-12-05T15:25:57.160Z"
   },
   {
    "duration": 12,
    "start_time": "2022-12-05T15:25:57.175Z"
   },
   {
    "duration": 6,
    "start_time": "2022-12-05T15:25:57.188Z"
   },
   {
    "duration": 26,
    "start_time": "2022-12-05T15:25:57.195Z"
   },
   {
    "duration": 11,
    "start_time": "2022-12-05T15:25:57.222Z"
   },
   {
    "duration": 95,
    "start_time": "2022-12-05T15:25:57.234Z"
   },
   {
    "duration": 93,
    "start_time": "2022-12-05T15:25:57.331Z"
   },
   {
    "duration": 21,
    "start_time": "2022-12-05T15:25:57.426Z"
   },
   {
    "duration": 3,
    "start_time": "2022-12-05T15:25:57.448Z"
   },
   {
    "duration": 11,
    "start_time": "2022-12-05T15:25:57.452Z"
   },
   {
    "duration": 252,
    "start_time": "2022-12-05T15:25:57.464Z"
   },
   {
    "duration": 4,
    "start_time": "2022-12-05T15:25:57.718Z"
   },
   {
    "duration": 30,
    "start_time": "2022-12-05T15:25:57.724Z"
   },
   {
    "duration": 167,
    "start_time": "2022-12-05T15:25:57.755Z"
   },
   {
    "duration": 99,
    "start_time": "2022-12-05T15:25:57.924Z"
   },
   {
    "duration": 5,
    "start_time": "2022-12-05T15:25:58.025Z"
   },
   {
    "duration": 14,
    "start_time": "2022-12-05T15:25:58.121Z"
   },
   {
    "duration": 3,
    "start_time": "2022-12-05T15:25:58.136Z"
   },
   {
    "duration": 10,
    "start_time": "2022-12-05T15:25:58.141Z"
   },
   {
    "duration": 139,
    "start_time": "2022-12-05T15:25:58.153Z"
   },
   {
    "duration": 3,
    "start_time": "2022-12-05T15:25:58.294Z"
   },
   {
    "duration": 40,
    "start_time": "2022-12-05T15:25:58.299Z"
   },
   {
    "duration": 81,
    "start_time": "2022-12-05T15:25:58.340Z"
   },
   {
    "duration": 107,
    "start_time": "2022-12-05T15:25:58.423Z"
   },
   {
    "duration": 92,
    "start_time": "2022-12-05T15:25:58.532Z"
   },
   {
    "duration": 103,
    "start_time": "2022-12-05T15:25:58.626Z"
   },
   {
    "duration": 12,
    "start_time": "2022-12-05T15:25:58.731Z"
   },
   {
    "duration": 16,
    "start_time": "2022-12-05T15:25:58.744Z"
   },
   {
    "duration": 634,
    "start_time": "2022-12-05T15:25:58.762Z"
   },
   {
    "duration": 3,
    "start_time": "2022-12-05T15:25:59.398Z"
   },
   {
    "duration": 42,
    "start_time": "2022-12-05T15:25:59.403Z"
   },
   {
    "duration": 4,
    "start_time": "2022-12-05T15:25:59.446Z"
   },
   {
    "duration": 246,
    "start_time": "2022-12-05T15:25:59.451Z"
   },
   {
    "duration": 34,
    "start_time": "2022-12-05T15:25:59.698Z"
   },
   {
    "duration": 3,
    "start_time": "2022-12-05T15:25:59.733Z"
   },
   {
    "duration": 650,
    "start_time": "2022-12-05T15:25:59.738Z"
   },
   {
    "duration": 34,
    "start_time": "2022-12-05T15:26:00.389Z"
   },
   {
    "duration": 4,
    "start_time": "2022-12-05T15:26:00.425Z"
   },
   {
    "duration": 1471,
    "start_time": "2022-12-06T09:40:05.937Z"
   },
   {
    "duration": 41,
    "start_time": "2022-12-06T09:40:07.410Z"
   },
   {
    "duration": 16,
    "start_time": "2022-12-06T09:40:07.453Z"
   },
   {
    "duration": 40,
    "start_time": "2022-12-06T09:40:07.471Z"
   },
   {
    "duration": 15,
    "start_time": "2022-12-06T09:40:07.513Z"
   },
   {
    "duration": 14,
    "start_time": "2022-12-06T09:40:07.531Z"
   },
   {
    "duration": 4,
    "start_time": "2022-12-06T09:40:07.546Z"
   },
   {
    "duration": 11,
    "start_time": "2022-12-06T09:40:07.551Z"
   },
   {
    "duration": 35,
    "start_time": "2022-12-06T09:40:07.564Z"
   },
   {
    "duration": 12,
    "start_time": "2022-12-06T09:40:07.601Z"
   },
   {
    "duration": 18,
    "start_time": "2022-12-06T09:40:07.614Z"
   },
   {
    "duration": 8,
    "start_time": "2022-12-06T09:40:07.633Z"
   },
   {
    "duration": 6,
    "start_time": "2022-12-06T09:40:07.642Z"
   },
   {
    "duration": 4,
    "start_time": "2022-12-06T09:40:07.649Z"
   },
   {
    "duration": 5,
    "start_time": "2022-12-06T09:40:07.654Z"
   },
   {
    "duration": 39,
    "start_time": "2022-12-06T09:40:07.660Z"
   },
   {
    "duration": 7,
    "start_time": "2022-12-06T09:40:07.701Z"
   },
   {
    "duration": 8,
    "start_time": "2022-12-06T09:40:07.709Z"
   },
   {
    "duration": 13,
    "start_time": "2022-12-06T09:40:07.718Z"
   },
   {
    "duration": 9,
    "start_time": "2022-12-06T09:40:07.733Z"
   },
   {
    "duration": 19,
    "start_time": "2022-12-06T09:40:07.743Z"
   },
   {
    "duration": 37,
    "start_time": "2022-12-06T09:40:07.763Z"
   },
   {
    "duration": 17,
    "start_time": "2022-12-06T09:40:07.802Z"
   },
   {
    "duration": 10,
    "start_time": "2022-12-06T09:40:07.821Z"
   },
   {
    "duration": 20,
    "start_time": "2022-12-06T09:40:07.834Z"
   },
   {
    "duration": 47,
    "start_time": "2022-12-06T09:40:07.855Z"
   },
   {
    "duration": 236,
    "start_time": "2022-12-06T09:40:07.904Z"
   },
   {
    "duration": 62,
    "start_time": "2022-12-06T09:40:08.144Z"
   },
   {
    "duration": 94,
    "start_time": "2022-12-06T09:40:08.208Z"
   },
   {
    "duration": 116,
    "start_time": "2022-12-06T09:40:08.303Z"
   },
   {
    "duration": 78,
    "start_time": "2022-12-06T09:40:08.421Z"
   },
   {
    "duration": 95,
    "start_time": "2022-12-06T09:40:08.502Z"
   },
   {
    "duration": 7,
    "start_time": "2022-12-06T09:40:08.599Z"
   },
   {
    "duration": 102,
    "start_time": "2022-12-06T09:40:08.608Z"
   },
   {
    "duration": 6,
    "start_time": "2022-12-06T09:40:08.712Z"
   },
   {
    "duration": 90,
    "start_time": "2022-12-06T09:40:08.719Z"
   },
   {
    "duration": 6,
    "start_time": "2022-12-06T09:40:08.811Z"
   },
   {
    "duration": 95,
    "start_time": "2022-12-06T09:40:08.818Z"
   },
   {
    "duration": 4,
    "start_time": "2022-12-06T09:40:08.915Z"
   },
   {
    "duration": 9,
    "start_time": "2022-12-06T09:40:08.921Z"
   },
   {
    "duration": 12,
    "start_time": "2022-12-06T09:40:08.931Z"
   },
   {
    "duration": 13,
    "start_time": "2022-12-06T09:40:08.945Z"
   },
   {
    "duration": 7,
    "start_time": "2022-12-06T09:40:08.960Z"
   },
   {
    "duration": 32,
    "start_time": "2022-12-06T09:40:08.969Z"
   },
   {
    "duration": 11,
    "start_time": "2022-12-06T09:40:09.002Z"
   },
   {
    "duration": 94,
    "start_time": "2022-12-06T09:40:09.014Z"
   },
   {
    "duration": 145,
    "start_time": "2022-12-06T09:40:09.110Z"
   },
   {
    "duration": 22,
    "start_time": "2022-12-06T09:40:09.256Z"
   },
   {
    "duration": 19,
    "start_time": "2022-12-06T09:40:09.279Z"
   },
   {
    "duration": 8,
    "start_time": "2022-12-06T09:40:09.299Z"
   },
   {
    "duration": 265,
    "start_time": "2022-12-06T09:40:09.309Z"
   },
   {
    "duration": 3,
    "start_time": "2022-12-06T09:40:09.575Z"
   },
   {
    "duration": 37,
    "start_time": "2022-12-06T09:40:09.580Z"
   },
   {
    "duration": 185,
    "start_time": "2022-12-06T09:40:09.618Z"
   },
   {
    "duration": 102,
    "start_time": "2022-12-06T09:40:09.806Z"
   },
   {
    "duration": 102,
    "start_time": "2022-12-06T09:40:09.998Z"
   },
   {
    "duration": 31,
    "start_time": "2022-12-06T09:40:10.102Z"
   },
   {
    "duration": 3,
    "start_time": "2022-12-06T09:40:10.135Z"
   },
   {
    "duration": 21,
    "start_time": "2022-12-06T09:40:10.140Z"
   },
   {
    "duration": 137,
    "start_time": "2022-12-06T09:40:10.163Z"
   },
   {
    "duration": 3,
    "start_time": "2022-12-06T09:40:10.302Z"
   },
   {
    "duration": 37,
    "start_time": "2022-12-06T09:40:10.307Z"
   },
   {
    "duration": 162,
    "start_time": "2022-12-06T09:40:10.345Z"
   },
   {
    "duration": 99,
    "start_time": "2022-12-06T09:40:10.510Z"
   },
   {
    "duration": 93,
    "start_time": "2022-12-06T09:40:10.611Z"
   },
   {
    "duration": 91,
    "start_time": "2022-12-06T09:40:10.707Z"
   },
   {
    "duration": 5,
    "start_time": "2022-12-06T09:40:10.800Z"
   },
   {
    "duration": 19,
    "start_time": "2022-12-06T09:40:10.806Z"
   },
   {
    "duration": 650,
    "start_time": "2022-12-06T09:40:10.826Z"
   },
   {
    "duration": 3,
    "start_time": "2022-12-06T09:40:11.477Z"
   },
   {
    "duration": 33,
    "start_time": "2022-12-06T09:40:11.481Z"
   },
   {
    "duration": 4,
    "start_time": "2022-12-06T09:40:11.516Z"
   },
   {
    "duration": 253,
    "start_time": "2022-12-06T09:40:11.521Z"
   },
   {
    "duration": 38,
    "start_time": "2022-12-06T09:40:11.776Z"
   },
   {
    "duration": 4,
    "start_time": "2022-12-06T09:40:11.815Z"
   },
   {
    "duration": 652,
    "start_time": "2022-12-06T09:40:11.820Z"
   },
   {
    "duration": 35,
    "start_time": "2022-12-06T09:40:12.473Z"
   },
   {
    "duration": 3,
    "start_time": "2022-12-06T09:40:12.509Z"
   },
   {
    "duration": 1860,
    "start_time": "2022-12-06T13:09:37.535Z"
   },
   {
    "duration": 89,
    "start_time": "2022-12-06T13:09:39.397Z"
   },
   {
    "duration": 21,
    "start_time": "2022-12-06T13:09:39.488Z"
   },
   {
    "duration": 43,
    "start_time": "2022-12-06T13:09:39.511Z"
   },
   {
    "duration": 23,
    "start_time": "2022-12-06T13:09:39.555Z"
   },
   {
    "duration": 13,
    "start_time": "2022-12-06T13:09:39.580Z"
   },
   {
    "duration": 3,
    "start_time": "2022-12-06T13:09:39.595Z"
   },
   {
    "duration": 8,
    "start_time": "2022-12-06T13:09:39.600Z"
   },
   {
    "duration": 6,
    "start_time": "2022-12-06T13:09:39.610Z"
   },
   {
    "duration": 12,
    "start_time": "2022-12-06T13:09:39.619Z"
   },
   {
    "duration": 52,
    "start_time": "2022-12-06T13:09:39.633Z"
   },
   {
    "duration": 9,
    "start_time": "2022-12-06T13:09:39.687Z"
   },
   {
    "duration": 8,
    "start_time": "2022-12-06T13:09:39.698Z"
   },
   {
    "duration": 6,
    "start_time": "2022-12-06T13:09:39.708Z"
   },
   {
    "duration": 22,
    "start_time": "2022-12-06T13:09:39.715Z"
   },
   {
    "duration": 17,
    "start_time": "2022-12-06T13:09:39.739Z"
   },
   {
    "duration": 7,
    "start_time": "2022-12-06T13:09:39.758Z"
   },
   {
    "duration": 5,
    "start_time": "2022-12-06T13:09:39.767Z"
   },
   {
    "duration": 12,
    "start_time": "2022-12-06T13:09:39.774Z"
   },
   {
    "duration": 11,
    "start_time": "2022-12-06T13:09:39.788Z"
   },
   {
    "duration": 22,
    "start_time": "2022-12-06T13:09:39.801Z"
   },
   {
    "duration": 10,
    "start_time": "2022-12-06T13:09:39.825Z"
   },
   {
    "duration": 42,
    "start_time": "2022-12-06T13:09:39.837Z"
   },
   {
    "duration": 13,
    "start_time": "2022-12-06T13:09:39.881Z"
   },
   {
    "duration": 32,
    "start_time": "2022-12-06T13:09:39.896Z"
   },
   {
    "duration": 27,
    "start_time": "2022-12-06T13:09:39.930Z"
   },
   {
    "duration": 276,
    "start_time": "2022-12-06T13:09:39.959Z"
   },
   {
    "duration": 241,
    "start_time": "2022-12-06T13:09:40.241Z"
   },
   {
    "duration": 99,
    "start_time": "2022-12-06T13:09:40.484Z"
   },
   {
    "duration": 116,
    "start_time": "2022-12-06T13:09:40.584Z"
   },
   {
    "duration": 10,
    "start_time": "2022-12-06T13:09:40.702Z"
   },
   {
    "duration": 101,
    "start_time": "2022-12-06T13:09:40.779Z"
   },
   {
    "duration": 7,
    "start_time": "2022-12-06T13:09:40.882Z"
   },
   {
    "duration": 133,
    "start_time": "2022-12-06T13:09:40.890Z"
   },
   {
    "duration": 6,
    "start_time": "2022-12-06T13:09:41.025Z"
   },
   {
    "duration": 109,
    "start_time": "2022-12-06T13:09:41.032Z"
   },
   {
    "duration": 6,
    "start_time": "2022-12-06T13:09:41.143Z"
   },
   {
    "duration": 102,
    "start_time": "2022-12-06T13:09:41.150Z"
   },
   {
    "duration": 6,
    "start_time": "2022-12-06T13:09:41.253Z"
   },
   {
    "duration": 22,
    "start_time": "2022-12-06T13:09:41.261Z"
   },
   {
    "duration": 13,
    "start_time": "2022-12-06T13:09:41.285Z"
   },
   {
    "duration": 14,
    "start_time": "2022-12-06T13:09:41.300Z"
   },
   {
    "duration": 11,
    "start_time": "2022-12-06T13:09:41.316Z"
   },
   {
    "duration": 12,
    "start_time": "2022-12-06T13:09:41.328Z"
   },
   {
    "duration": 11,
    "start_time": "2022-12-06T13:09:41.341Z"
   },
   {
    "duration": 101,
    "start_time": "2022-12-06T13:09:41.378Z"
   },
   {
    "duration": 181,
    "start_time": "2022-12-06T13:09:41.481Z"
   },
   {
    "duration": 33,
    "start_time": "2022-12-06T13:09:41.664Z"
   },
   {
    "duration": 3,
    "start_time": "2022-12-06T13:09:41.699Z"
   },
   {
    "duration": 10,
    "start_time": "2022-12-06T13:09:41.704Z"
   },
   {
    "duration": 285,
    "start_time": "2022-12-06T13:09:41.716Z"
   },
   {
    "duration": 3,
    "start_time": "2022-12-06T13:09:42.003Z"
   },
   {
    "duration": 40,
    "start_time": "2022-12-06T13:09:42.007Z"
   },
   {
    "duration": 229,
    "start_time": "2022-12-06T13:09:42.049Z"
   },
   {
    "duration": 99,
    "start_time": "2022-12-06T13:09:42.280Z"
   },
   {
    "duration": 98,
    "start_time": "2022-12-06T13:09:42.381Z"
   },
   {
    "duration": 16,
    "start_time": "2022-12-06T13:09:42.481Z"
   },
   {
    "duration": 3,
    "start_time": "2022-12-06T13:09:42.499Z"
   },
   {
    "duration": 11,
    "start_time": "2022-12-06T13:09:42.503Z"
   },
   {
    "duration": 145,
    "start_time": "2022-12-06T13:09:42.515Z"
   },
   {
    "duration": 3,
    "start_time": "2022-12-06T13:09:42.662Z"
   },
   {
    "duration": 40,
    "start_time": "2022-12-06T13:09:42.667Z"
   },
   {
    "duration": 169,
    "start_time": "2022-12-06T13:09:42.708Z"
   },
   {
    "duration": 103,
    "start_time": "2022-12-06T13:09:42.881Z"
   },
   {
    "duration": 94,
    "start_time": "2022-12-06T13:09:42.986Z"
   },
   {
    "duration": 13,
    "start_time": "2022-12-06T13:09:43.082Z"
   },
   {
    "duration": 15,
    "start_time": "2022-12-06T13:09:43.097Z"
   },
   {
    "duration": 20,
    "start_time": "2022-12-06T13:09:43.114Z"
   },
   {
    "duration": 727,
    "start_time": "2022-12-06T13:09:43.136Z"
   },
   {
    "duration": 3,
    "start_time": "2022-12-06T13:09:43.865Z"
   },
   {
    "duration": 40,
    "start_time": "2022-12-06T13:09:43.870Z"
   },
   {
    "duration": 4,
    "start_time": "2022-12-06T13:09:43.912Z"
   },
   {
    "duration": 279,
    "start_time": "2022-12-06T13:09:43.918Z"
   },
   {
    "duration": 32,
    "start_time": "2022-12-06T13:09:44.200Z"
   },
   {
    "duration": 4,
    "start_time": "2022-12-06T13:09:44.234Z"
   },
   {
    "duration": 730,
    "start_time": "2022-12-06T13:09:44.240Z"
   },
   {
    "duration": 34,
    "start_time": "2022-12-06T13:09:44.972Z"
   },
   {
    "duration": 4,
    "start_time": "2022-12-06T13:09:45.008Z"
   },
   {
    "duration": 1533,
    "start_time": "2022-12-06T13:10:00.090Z"
   },
   {
    "duration": 42,
    "start_time": "2022-12-06T13:10:01.625Z"
   },
   {
    "duration": 18,
    "start_time": "2022-12-06T13:10:01.669Z"
   },
   {
    "duration": 110,
    "start_time": "2022-12-06T13:10:01.690Z"
   },
   {
    "duration": 68,
    "start_time": "2022-12-06T13:10:01.803Z"
   },
   {
    "duration": 107,
    "start_time": "2022-12-06T13:10:01.873Z"
   },
   {
    "duration": 65,
    "start_time": "2022-12-06T13:10:01.982Z"
   },
   {
    "duration": 226,
    "start_time": "2022-12-06T13:10:02.049Z"
   },
   {
    "duration": 76,
    "start_time": "2022-12-06T13:10:02.277Z"
   },
   {
    "duration": 30,
    "start_time": "2022-12-06T13:10:02.356Z"
   },
   {
    "duration": 37,
    "start_time": "2022-12-06T13:10:02.388Z"
   },
   {
    "duration": 13,
    "start_time": "2022-12-06T13:10:02.426Z"
   },
   {
    "duration": 15,
    "start_time": "2022-12-06T13:10:02.440Z"
   },
   {
    "duration": 26,
    "start_time": "2022-12-06T13:10:02.456Z"
   },
   {
    "duration": 31,
    "start_time": "2022-12-06T13:10:02.483Z"
   },
   {
    "duration": 42,
    "start_time": "2022-12-06T13:10:02.515Z"
   },
   {
    "duration": 30,
    "start_time": "2022-12-06T13:10:02.558Z"
   },
   {
    "duration": 26,
    "start_time": "2022-12-06T13:10:02.590Z"
   },
   {
    "duration": 73,
    "start_time": "2022-12-06T13:10:02.618Z"
   },
   {
    "duration": 47,
    "start_time": "2022-12-06T13:10:02.693Z"
   },
   {
    "duration": 38,
    "start_time": "2022-12-06T13:10:02.742Z"
   },
   {
    "duration": 26,
    "start_time": "2022-12-06T13:10:02.782Z"
   },
   {
    "duration": 40,
    "start_time": "2022-12-06T13:10:02.810Z"
   },
   {
    "duration": 21,
    "start_time": "2022-12-06T13:10:02.852Z"
   },
   {
    "duration": 37,
    "start_time": "2022-12-06T13:10:02.874Z"
   },
   {
    "duration": 42,
    "start_time": "2022-12-06T13:10:02.913Z"
   },
   {
    "duration": 303,
    "start_time": "2022-12-06T13:10:02.957Z"
   },
   {
    "duration": 122,
    "start_time": "2022-12-06T13:10:03.265Z"
   },
   {
    "duration": 101,
    "start_time": "2022-12-06T13:10:03.479Z"
   },
   {
    "duration": 40,
    "start_time": "2022-12-06T13:10:03.582Z"
   },
   {
    "duration": 60,
    "start_time": "2022-12-06T13:10:03.624Z"
   },
   {
    "duration": 103,
    "start_time": "2022-12-06T13:10:03.686Z"
   },
   {
    "duration": 47,
    "start_time": "2022-12-06T13:10:03.791Z"
   },
   {
    "duration": 131,
    "start_time": "2022-12-06T13:10:03.840Z"
   },
   {
    "duration": 9,
    "start_time": "2022-12-06T13:10:03.973Z"
   },
   {
    "duration": 117,
    "start_time": "2022-12-06T13:10:03.983Z"
   },
   {
    "duration": 6,
    "start_time": "2022-12-06T13:10:04.102Z"
   },
   {
    "duration": 104,
    "start_time": "2022-12-06T13:10:04.109Z"
   },
   {
    "duration": 6,
    "start_time": "2022-12-06T13:10:04.215Z"
   },
   {
    "duration": 25,
    "start_time": "2022-12-06T13:10:04.222Z"
   },
   {
    "duration": 74,
    "start_time": "2022-12-06T13:10:04.248Z"
   },
   {
    "duration": 28,
    "start_time": "2022-12-06T13:10:04.324Z"
   },
   {
    "duration": 32,
    "start_time": "2022-12-06T13:10:04.354Z"
   },
   {
    "duration": 17,
    "start_time": "2022-12-06T13:10:04.387Z"
   },
   {
    "duration": 28,
    "start_time": "2022-12-06T13:10:04.405Z"
   },
   {
    "duration": 15,
    "start_time": "2022-12-06T13:10:04.435Z"
   },
   {
    "duration": 95,
    "start_time": "2022-12-06T13:10:04.452Z"
   },
   {
    "duration": 180,
    "start_time": "2022-12-06T13:10:04.548Z"
   },
   {
    "duration": 24,
    "start_time": "2022-12-06T13:10:04.730Z"
   },
   {
    "duration": 18,
    "start_time": "2022-12-06T13:10:04.756Z"
   },
   {
    "duration": 15,
    "start_time": "2022-12-06T13:10:04.775Z"
   },
   {
    "duration": 263,
    "start_time": "2022-12-06T13:10:04.792Z"
   },
   {
    "duration": 6,
    "start_time": "2022-12-06T13:10:05.059Z"
   },
   {
    "duration": 48,
    "start_time": "2022-12-06T13:10:05.066Z"
   },
   {
    "duration": 166,
    "start_time": "2022-12-06T13:10:05.116Z"
   },
   {
    "duration": 102,
    "start_time": "2022-12-06T13:10:05.284Z"
   },
   {
    "duration": 97,
    "start_time": "2022-12-06T13:10:05.482Z"
   },
   {
    "duration": 34,
    "start_time": "2022-12-06T13:10:05.582Z"
   },
   {
    "duration": 27,
    "start_time": "2022-12-06T13:10:05.617Z"
   },
   {
    "duration": 27,
    "start_time": "2022-12-06T13:10:05.646Z"
   },
   {
    "duration": 138,
    "start_time": "2022-12-06T13:10:05.675Z"
   },
   {
    "duration": 4,
    "start_time": "2022-12-06T13:10:05.815Z"
   },
   {
    "duration": 49,
    "start_time": "2022-12-06T13:10:05.820Z"
   },
   {
    "duration": 107,
    "start_time": "2022-12-06T13:10:05.871Z"
   },
   {
    "duration": 105,
    "start_time": "2022-12-06T13:10:05.980Z"
   },
   {
    "duration": 190,
    "start_time": "2022-12-06T13:10:06.087Z"
   },
   {
    "duration": 8,
    "start_time": "2022-12-06T13:10:06.279Z"
   },
   {
    "duration": 9,
    "start_time": "2022-12-06T13:10:06.289Z"
   },
   {
    "duration": 21,
    "start_time": "2022-12-06T13:10:06.300Z"
   },
   {
    "duration": 703,
    "start_time": "2022-12-06T13:10:06.323Z"
   },
   {
    "duration": 3,
    "start_time": "2022-12-06T13:10:07.028Z"
   },
   {
    "duration": 60,
    "start_time": "2022-12-06T13:10:07.033Z"
   },
   {
    "duration": 4,
    "start_time": "2022-12-06T13:10:07.095Z"
   },
   {
    "duration": 274,
    "start_time": "2022-12-06T13:10:07.100Z"
   },
   {
    "duration": 33,
    "start_time": "2022-12-06T13:10:07.377Z"
   },
   {
    "duration": 3,
    "start_time": "2022-12-06T13:10:07.412Z"
   },
   {
    "duration": 707,
    "start_time": "2022-12-06T13:10:07.417Z"
   },
   {
    "duration": 33,
    "start_time": "2022-12-06T13:10:08.125Z"
   },
   {
    "duration": 4,
    "start_time": "2022-12-06T13:10:08.160Z"
   },
   {
    "duration": 1522,
    "start_time": "2022-12-06T13:11:18.206Z"
   },
   {
    "duration": 41,
    "start_time": "2022-12-06T13:11:19.730Z"
   },
   {
    "duration": 19,
    "start_time": "2022-12-06T13:11:19.772Z"
   },
   {
    "duration": 45,
    "start_time": "2022-12-06T13:11:19.792Z"
   },
   {
    "duration": 12,
    "start_time": "2022-12-06T13:11:19.839Z"
   },
   {
    "duration": 36,
    "start_time": "2022-12-06T13:11:19.852Z"
   },
   {
    "duration": 4,
    "start_time": "2022-12-06T13:11:19.890Z"
   },
   {
    "duration": 7,
    "start_time": "2022-12-06T13:11:19.897Z"
   },
   {
    "duration": 11,
    "start_time": "2022-12-06T13:11:19.906Z"
   },
   {
    "duration": 15,
    "start_time": "2022-12-06T13:11:19.918Z"
   },
   {
    "duration": 44,
    "start_time": "2022-12-06T13:11:19.935Z"
   },
   {
    "duration": 9,
    "start_time": "2022-12-06T13:11:19.980Z"
   },
   {
    "duration": 6,
    "start_time": "2022-12-06T13:11:19.991Z"
   },
   {
    "duration": 4,
    "start_time": "2022-12-06T13:11:20.001Z"
   },
   {
    "duration": 7,
    "start_time": "2022-12-06T13:11:20.006Z"
   },
   {
    "duration": 13,
    "start_time": "2022-12-06T13:11:20.014Z"
   },
   {
    "duration": 9,
    "start_time": "2022-12-06T13:11:20.028Z"
   },
   {
    "duration": 6,
    "start_time": "2022-12-06T13:11:20.039Z"
   },
   {
    "duration": 34,
    "start_time": "2022-12-06T13:11:20.047Z"
   },
   {
    "duration": 11,
    "start_time": "2022-12-06T13:11:20.083Z"
   },
   {
    "duration": 23,
    "start_time": "2022-12-06T13:11:20.096Z"
   },
   {
    "duration": 11,
    "start_time": "2022-12-06T13:11:20.120Z"
   },
   {
    "duration": 46,
    "start_time": "2022-12-06T13:11:20.133Z"
   },
   {
    "duration": 11,
    "start_time": "2022-12-06T13:11:20.180Z"
   },
   {
    "duration": 23,
    "start_time": "2022-12-06T13:11:20.193Z"
   },
   {
    "duration": 23,
    "start_time": "2022-12-06T13:11:20.217Z"
   },
   {
    "duration": 271,
    "start_time": "2022-12-06T13:11:20.242Z"
   },
   {
    "duration": 163,
    "start_time": "2022-12-06T13:11:20.515Z"
   },
   {
    "duration": 101,
    "start_time": "2022-12-06T13:11:20.680Z"
   },
   {
    "duration": 43,
    "start_time": "2022-12-06T13:11:20.782Z"
   },
   {
    "duration": 53,
    "start_time": "2022-12-06T13:11:20.827Z"
   },
   {
    "duration": 95,
    "start_time": "2022-12-06T13:11:20.884Z"
   },
   {
    "duration": 20,
    "start_time": "2022-12-06T13:11:20.981Z"
   },
   {
    "duration": 107,
    "start_time": "2022-12-06T13:11:21.004Z"
   },
   {
    "duration": 5,
    "start_time": "2022-12-06T13:11:21.113Z"
   },
   {
    "duration": 103,
    "start_time": "2022-12-06T13:11:21.120Z"
   },
   {
    "duration": 6,
    "start_time": "2022-12-06T13:11:21.225Z"
   },
   {
    "duration": 95,
    "start_time": "2022-12-06T13:11:21.232Z"
   },
   {
    "duration": 5,
    "start_time": "2022-12-06T13:11:21.329Z"
   },
   {
    "duration": 10,
    "start_time": "2022-12-06T13:11:21.336Z"
   },
   {
    "duration": 5,
    "start_time": "2022-12-06T13:11:21.350Z"
   },
   {
    "duration": 28,
    "start_time": "2022-12-06T13:11:21.356Z"
   },
   {
    "duration": 5,
    "start_time": "2022-12-06T13:11:21.385Z"
   },
   {
    "duration": 15,
    "start_time": "2022-12-06T13:11:21.392Z"
   },
   {
    "duration": 6,
    "start_time": "2022-12-06T13:11:21.409Z"
   },
   {
    "duration": 13,
    "start_time": "2022-12-06T13:11:21.417Z"
   },
   {
    "duration": 10,
    "start_time": "2022-12-06T13:11:21.432Z"
   },
   {
    "duration": 113,
    "start_time": "2022-12-06T13:11:21.443Z"
   },
   {
    "duration": 180,
    "start_time": "2022-12-06T13:11:21.558Z"
   },
   {
    "duration": 24,
    "start_time": "2022-12-06T13:11:21.740Z"
   },
   {
    "duration": 15,
    "start_time": "2022-12-06T13:11:21.765Z"
   },
   {
    "duration": 14,
    "start_time": "2022-12-06T13:11:21.782Z"
   },
   {
    "duration": 268,
    "start_time": "2022-12-06T13:11:21.798Z"
   },
   {
    "duration": 3,
    "start_time": "2022-12-06T13:11:22.068Z"
   },
   {
    "duration": 35,
    "start_time": "2022-12-06T13:11:22.076Z"
   },
   {
    "duration": 169,
    "start_time": "2022-12-06T13:11:22.112Z"
   },
   {
    "duration": 101,
    "start_time": "2022-12-06T13:11:22.283Z"
   },
   {
    "duration": 192,
    "start_time": "2022-12-06T13:11:22.386Z"
   },
   {
    "duration": 15,
    "start_time": "2022-12-06T13:11:22.580Z"
   },
   {
    "duration": 4,
    "start_time": "2022-12-06T13:11:22.597Z"
   },
   {
    "duration": 10,
    "start_time": "2022-12-06T13:11:22.603Z"
   },
   {
    "duration": 150,
    "start_time": "2022-12-06T13:11:22.616Z"
   },
   {
    "duration": 10,
    "start_time": "2022-12-06T13:11:22.768Z"
   },
   {
    "duration": 34,
    "start_time": "2022-12-06T13:11:22.781Z"
   },
   {
    "duration": 161,
    "start_time": "2022-12-06T13:11:22.817Z"
   },
   {
    "duration": 106,
    "start_time": "2022-12-06T13:11:22.980Z"
   },
   {
    "duration": 191,
    "start_time": "2022-12-06T13:11:23.088Z"
   },
   {
    "duration": 27,
    "start_time": "2022-12-06T13:11:23.282Z"
   },
   {
    "duration": 40,
    "start_time": "2022-12-06T13:11:23.311Z"
   },
   {
    "duration": 32,
    "start_time": "2022-12-06T13:11:23.352Z"
   },
   {
    "duration": 685,
    "start_time": "2022-12-06T13:11:23.386Z"
   },
   {
    "duration": 5,
    "start_time": "2022-12-06T13:11:24.073Z"
   },
   {
    "duration": 45,
    "start_time": "2022-12-06T13:11:24.079Z"
   },
   {
    "duration": 13,
    "start_time": "2022-12-06T13:11:24.126Z"
   },
   {
    "duration": 288,
    "start_time": "2022-12-06T13:11:24.140Z"
   },
   {
    "duration": 32,
    "start_time": "2022-12-06T13:11:24.429Z"
   },
   {
    "duration": 14,
    "start_time": "2022-12-06T13:11:24.463Z"
   },
   {
    "duration": 704,
    "start_time": "2022-12-06T13:11:24.479Z"
   },
   {
    "duration": 30,
    "start_time": "2022-12-06T13:11:25.185Z"
   },
   {
    "duration": 3,
    "start_time": "2022-12-06T13:11:25.217Z"
   },
   {
    "duration": 5,
    "start_time": "2022-12-06T13:20:54.129Z"
   },
   {
    "duration": 12,
    "start_time": "2022-12-06T13:21:48.825Z"
   },
   {
    "duration": 6,
    "start_time": "2022-12-06T13:21:49.084Z"
   },
   {
    "duration": 16,
    "start_time": "2022-12-06T13:21:55.590Z"
   },
   {
    "duration": 6,
    "start_time": "2022-12-06T13:21:56.050Z"
   },
   {
    "duration": 1657,
    "start_time": "2022-12-07T05:50:45.075Z"
   },
   {
    "duration": 169,
    "start_time": "2022-12-07T05:50:46.735Z"
   },
   {
    "duration": 20,
    "start_time": "2022-12-07T05:50:46.906Z"
   },
   {
    "duration": 66,
    "start_time": "2022-12-07T05:50:46.928Z"
   },
   {
    "duration": 13,
    "start_time": "2022-12-07T05:50:46.996Z"
   },
   {
    "duration": 24,
    "start_time": "2022-12-07T05:50:47.011Z"
   },
   {
    "duration": 8,
    "start_time": "2022-12-07T05:50:47.036Z"
   },
   {
    "duration": 24,
    "start_time": "2022-12-07T05:50:47.050Z"
   },
   {
    "duration": 26,
    "start_time": "2022-12-07T05:50:47.075Z"
   },
   {
    "duration": 18,
    "start_time": "2022-12-07T05:50:47.105Z"
   },
   {
    "duration": 37,
    "start_time": "2022-12-07T05:50:47.125Z"
   },
   {
    "duration": 11,
    "start_time": "2022-12-07T05:50:47.164Z"
   },
   {
    "duration": 20,
    "start_time": "2022-12-07T05:50:47.176Z"
   },
   {
    "duration": 23,
    "start_time": "2022-12-07T05:50:47.197Z"
   },
   {
    "duration": 17,
    "start_time": "2022-12-07T05:50:47.222Z"
   },
   {
    "duration": 23,
    "start_time": "2022-12-07T05:50:47.240Z"
   },
   {
    "duration": 13,
    "start_time": "2022-12-07T05:50:47.265Z"
   },
   {
    "duration": 6,
    "start_time": "2022-12-07T05:50:47.280Z"
   },
   {
    "duration": 20,
    "start_time": "2022-12-07T05:50:47.288Z"
   },
   {
    "duration": 23,
    "start_time": "2022-12-07T05:50:47.309Z"
   },
   {
    "duration": 38,
    "start_time": "2022-12-07T05:50:47.333Z"
   },
   {
    "duration": 21,
    "start_time": "2022-12-07T05:50:47.372Z"
   },
   {
    "duration": 34,
    "start_time": "2022-12-07T05:50:47.395Z"
   },
   {
    "duration": 25,
    "start_time": "2022-12-07T05:50:47.431Z"
   },
   {
    "duration": 38,
    "start_time": "2022-12-07T05:50:47.458Z"
   },
   {
    "duration": 28,
    "start_time": "2022-12-07T05:50:47.498Z"
   },
   {
    "duration": 263,
    "start_time": "2022-12-07T05:50:47.527Z"
   },
   {
    "duration": 259,
    "start_time": "2022-12-07T05:50:47.796Z"
   },
   {
    "duration": 97,
    "start_time": "2022-12-07T05:50:48.057Z"
   },
   {
    "duration": 46,
    "start_time": "2022-12-07T05:50:48.156Z"
   },
   {
    "duration": 56,
    "start_time": "2022-12-07T05:50:48.203Z"
   },
   {
    "duration": 5,
    "start_time": "2022-12-07T05:50:48.261Z"
   },
   {
    "duration": 8,
    "start_time": "2022-12-07T05:50:48.351Z"
   },
   {
    "duration": 151,
    "start_time": "2022-12-07T05:50:48.361Z"
   },
   {
    "duration": 6,
    "start_time": "2022-12-07T05:50:48.514Z"
   },
   {
    "duration": 102,
    "start_time": "2022-12-07T05:50:48.521Z"
   },
   {
    "duration": 6,
    "start_time": "2022-12-07T05:50:48.624Z"
   },
   {
    "duration": 103,
    "start_time": "2022-12-07T05:50:48.632Z"
   },
   {
    "duration": 17,
    "start_time": "2022-12-07T05:50:48.736Z"
   },
   {
    "duration": 10,
    "start_time": "2022-12-07T05:50:48.755Z"
   },
   {
    "duration": 12,
    "start_time": "2022-12-07T05:50:48.767Z"
   },
   {
    "duration": 92,
    "start_time": "2022-12-07T05:50:48.781Z"
   },
   {
    "duration": 7,
    "start_time": "2022-12-07T05:50:48.875Z"
   },
   {
    "duration": 12,
    "start_time": "2022-12-07T05:50:48.884Z"
   },
   {
    "duration": 4,
    "start_time": "2022-12-07T05:50:48.897Z"
   },
   {
    "duration": 122,
    "start_time": "2022-12-07T05:50:48.903Z"
   },
   {
    "duration": 116,
    "start_time": "2022-12-07T05:50:49.027Z"
   },
   {
    "duration": 26,
    "start_time": "2022-12-07T05:50:49.150Z"
   },
   {
    "duration": 4,
    "start_time": "2022-12-07T05:50:49.177Z"
   },
   {
    "duration": 21,
    "start_time": "2022-12-07T05:50:49.183Z"
   },
   {
    "duration": 293,
    "start_time": "2022-12-07T05:50:49.206Z"
   },
   {
    "duration": 4,
    "start_time": "2022-12-07T05:50:49.500Z"
   },
   {
    "duration": 35,
    "start_time": "2022-12-07T05:50:49.506Z"
   },
   {
    "duration": 216,
    "start_time": "2022-12-07T05:50:49.542Z"
   },
   {
    "duration": 196,
    "start_time": "2022-12-07T05:50:49.760Z"
   },
   {
    "duration": 6,
    "start_time": "2022-12-07T05:50:49.958Z"
   },
   {
    "duration": 22,
    "start_time": "2022-12-07T05:50:50.051Z"
   },
   {
    "duration": 4,
    "start_time": "2022-12-07T05:50:50.075Z"
   },
   {
    "duration": 15,
    "start_time": "2022-12-07T05:50:50.080Z"
   },
   {
    "duration": 146,
    "start_time": "2022-12-07T05:50:50.097Z"
   },
   {
    "duration": 4,
    "start_time": "2022-12-07T05:50:50.244Z"
   },
   {
    "duration": 31,
    "start_time": "2022-12-07T05:50:50.251Z"
   },
   {
    "duration": 171,
    "start_time": "2022-12-07T05:50:50.284Z"
   },
   {
    "duration": 210,
    "start_time": "2022-12-07T05:50:50.458Z"
   },
   {
    "duration": 88,
    "start_time": "2022-12-07T05:50:50.670Z"
   },
   {
    "duration": 96,
    "start_time": "2022-12-07T05:50:50.760Z"
   },
   {
    "duration": 13,
    "start_time": "2022-12-07T05:50:50.858Z"
   },
   {
    "duration": 28,
    "start_time": "2022-12-07T05:50:50.873Z"
   },
   {
    "duration": 716,
    "start_time": "2022-12-07T05:50:50.903Z"
   },
   {
    "duration": 4,
    "start_time": "2022-12-07T05:50:51.620Z"
   },
   {
    "duration": 48,
    "start_time": "2022-12-07T05:50:51.625Z"
   },
   {
    "duration": 4,
    "start_time": "2022-12-07T05:50:51.675Z"
   },
   {
    "duration": 270,
    "start_time": "2022-12-07T05:50:51.681Z"
   },
   {
    "duration": 34,
    "start_time": "2022-12-07T05:50:51.954Z"
   },
   {
    "duration": 4,
    "start_time": "2022-12-07T05:50:51.990Z"
   },
   {
    "duration": 723,
    "start_time": "2022-12-07T05:50:51.995Z"
   },
   {
    "duration": 48,
    "start_time": "2022-12-07T05:50:52.720Z"
   },
   {
    "duration": 4,
    "start_time": "2022-12-07T05:50:52.770Z"
   },
   {
    "duration": 5,
    "start_time": "2022-12-07T05:56:13.827Z"
   },
   {
    "duration": 51,
    "start_time": "2022-12-07T05:56:13.835Z"
   },
   {
    "duration": 17,
    "start_time": "2022-12-07T05:56:13.887Z"
   },
   {
    "duration": 59,
    "start_time": "2022-12-07T05:56:13.906Z"
   },
   {
    "duration": 15,
    "start_time": "2022-12-07T05:56:13.967Z"
   },
   {
    "duration": 19,
    "start_time": "2022-12-07T05:56:13.984Z"
   },
   {
    "duration": 17,
    "start_time": "2022-12-07T05:56:14.005Z"
   },
   {
    "duration": 5,
    "start_time": "2022-12-07T05:56:14.050Z"
   },
   {
    "duration": 8,
    "start_time": "2022-12-07T05:56:14.058Z"
   },
   {
    "duration": 16,
    "start_time": "2022-12-07T05:56:14.068Z"
   },
   {
    "duration": 26,
    "start_time": "2022-12-07T05:56:14.086Z"
   },
   {
    "duration": 10,
    "start_time": "2022-12-07T05:56:14.113Z"
   },
   {
    "duration": 8,
    "start_time": "2022-12-07T05:56:14.152Z"
   },
   {
    "duration": 9,
    "start_time": "2022-12-07T05:56:14.162Z"
   },
   {
    "duration": 6,
    "start_time": "2022-12-07T05:56:14.172Z"
   },
   {
    "duration": 8,
    "start_time": "2022-12-07T05:56:14.180Z"
   },
   {
    "duration": 21,
    "start_time": "2022-12-07T05:56:14.190Z"
   },
   {
    "duration": 10,
    "start_time": "2022-12-07T05:56:14.213Z"
   },
   {
    "duration": 15,
    "start_time": "2022-12-07T05:56:14.224Z"
   },
   {
    "duration": 13,
    "start_time": "2022-12-07T05:56:14.251Z"
   },
   {
    "duration": 26,
    "start_time": "2022-12-07T05:56:14.265Z"
   },
   {
    "duration": 11,
    "start_time": "2022-12-07T05:56:14.292Z"
   },
   {
    "duration": 19,
    "start_time": "2022-12-07T05:56:14.304Z"
   },
   {
    "duration": 11,
    "start_time": "2022-12-07T05:56:14.351Z"
   },
   {
    "duration": 28,
    "start_time": "2022-12-07T05:56:14.365Z"
   },
   {
    "duration": 33,
    "start_time": "2022-12-07T05:56:14.394Z"
   },
   {
    "duration": 393,
    "start_time": "2022-12-07T05:56:14.429Z"
   },
   {
    "duration": 232,
    "start_time": "2022-12-07T05:56:14.824Z"
   },
   {
    "duration": 100,
    "start_time": "2022-12-07T05:56:15.059Z"
   },
   {
    "duration": 68,
    "start_time": "2022-12-07T05:56:15.161Z"
   },
   {
    "duration": 28,
    "start_time": "2022-12-07T05:56:15.231Z"
   },
   {
    "duration": 192,
    "start_time": "2022-12-07T05:56:15.262Z"
   },
   {
    "duration": 20,
    "start_time": "2022-12-07T05:56:15.456Z"
   },
   {
    "duration": 111,
    "start_time": "2022-12-07T05:56:15.478Z"
   },
   {
    "duration": 7,
    "start_time": "2022-12-07T05:56:15.590Z"
   },
   {
    "duration": 129,
    "start_time": "2022-12-07T05:56:15.599Z"
   },
   {
    "duration": 6,
    "start_time": "2022-12-07T05:56:15.729Z"
   },
   {
    "duration": 101,
    "start_time": "2022-12-07T05:56:15.751Z"
   },
   {
    "duration": 5,
    "start_time": "2022-12-07T05:56:15.854Z"
   },
   {
    "duration": 8,
    "start_time": "2022-12-07T05:56:15.861Z"
   },
   {
    "duration": 13,
    "start_time": "2022-12-07T05:56:15.870Z"
   },
   {
    "duration": 16,
    "start_time": "2022-12-07T05:56:15.884Z"
   },
   {
    "duration": 6,
    "start_time": "2022-12-07T05:56:15.902Z"
   },
   {
    "duration": 40,
    "start_time": "2022-12-07T05:56:15.910Z"
   },
   {
    "duration": 5,
    "start_time": "2022-12-07T05:56:15.952Z"
   },
   {
    "duration": 104,
    "start_time": "2022-12-07T05:56:15.958Z"
   },
   {
    "duration": 105,
    "start_time": "2022-12-07T05:56:16.064Z"
   },
   {
    "duration": 34,
    "start_time": "2022-12-07T05:56:16.170Z"
   },
   {
    "duration": 3,
    "start_time": "2022-12-07T05:56:16.206Z"
   },
   {
    "duration": 26,
    "start_time": "2022-12-07T05:56:16.211Z"
   },
   {
    "duration": 405,
    "start_time": "2022-12-07T05:56:16.238Z"
   },
   {
    "duration": 6,
    "start_time": "2022-12-07T05:56:16.645Z"
   },
   {
    "duration": 36,
    "start_time": "2022-12-07T05:56:16.653Z"
   },
   {
    "duration": 262,
    "start_time": "2022-12-07T05:56:16.690Z"
   },
   {
    "duration": 102,
    "start_time": "2022-12-07T05:56:16.955Z"
   },
   {
    "duration": 105,
    "start_time": "2022-12-07T05:56:17.060Z"
   },
   {
    "duration": 17,
    "start_time": "2022-12-07T05:56:17.252Z"
   },
   {
    "duration": 3,
    "start_time": "2022-12-07T05:56:17.271Z"
   },
   {
    "duration": 16,
    "start_time": "2022-12-07T05:56:17.276Z"
   },
   {
    "duration": 172,
    "start_time": "2022-12-07T05:56:17.293Z"
   },
   {
    "duration": 3,
    "start_time": "2022-12-07T05:56:17.467Z"
   },
   {
    "duration": 35,
    "start_time": "2022-12-07T05:56:17.472Z"
   },
   {
    "duration": 151,
    "start_time": "2022-12-07T05:56:17.508Z"
   },
   {
    "duration": 205,
    "start_time": "2022-12-07T05:56:17.661Z"
   },
   {
    "duration": 7,
    "start_time": "2022-12-07T05:56:17.952Z"
   },
   {
    "duration": 8,
    "start_time": "2022-12-07T05:56:18.051Z"
   },
   {
    "duration": 8,
    "start_time": "2022-12-07T05:56:18.061Z"
   },
   {
    "duration": 27,
    "start_time": "2022-12-07T05:56:18.070Z"
   },
   {
    "duration": 929,
    "start_time": "2022-12-07T05:56:18.103Z"
   },
   {
    "duration": 4,
    "start_time": "2022-12-07T05:56:19.034Z"
   },
   {
    "duration": 32,
    "start_time": "2022-12-07T05:56:19.051Z"
   },
   {
    "duration": 4,
    "start_time": "2022-12-07T05:56:19.084Z"
   },
   {
    "duration": 377,
    "start_time": "2022-12-07T05:56:19.089Z"
   },
   {
    "duration": 20,
    "start_time": "2022-12-07T05:56:19.468Z"
   },
   {
    "duration": 3,
    "start_time": "2022-12-07T05:56:19.490Z"
   },
   {
    "duration": 950,
    "start_time": "2022-12-07T05:56:19.495Z"
   },
   {
    "duration": 24,
    "start_time": "2022-12-07T05:56:20.446Z"
   },
   {
    "duration": 13,
    "start_time": "2022-12-07T05:56:20.471Z"
   },
   {
    "duration": 6,
    "start_time": "2022-12-07T06:04:14.719Z"
   },
   {
    "duration": 47,
    "start_time": "2022-12-07T06:04:14.727Z"
   },
   {
    "duration": 15,
    "start_time": "2022-12-07T06:04:14.776Z"
   },
   {
    "duration": 45,
    "start_time": "2022-12-07T06:04:14.792Z"
   },
   {
    "duration": 22,
    "start_time": "2022-12-07T06:04:14.839Z"
   },
   {
    "duration": 14,
    "start_time": "2022-12-07T06:04:14.863Z"
   },
   {
    "duration": 4,
    "start_time": "2022-12-07T06:04:14.879Z"
   },
   {
    "duration": 20,
    "start_time": "2022-12-07T06:04:14.884Z"
   },
   {
    "duration": 8,
    "start_time": "2022-12-07T06:04:14.905Z"
   },
   {
    "duration": 48,
    "start_time": "2022-12-07T06:04:14.915Z"
   },
   {
    "duration": 19,
    "start_time": "2022-12-07T06:04:14.966Z"
   },
   {
    "duration": 11,
    "start_time": "2022-12-07T06:04:14.987Z"
   },
   {
    "duration": 10,
    "start_time": "2022-12-07T06:04:15.000Z"
   },
   {
    "duration": 38,
    "start_time": "2022-12-07T06:04:15.012Z"
   },
   {
    "duration": 8,
    "start_time": "2022-12-07T06:04:15.051Z"
   },
   {
    "duration": 11,
    "start_time": "2022-12-07T06:04:15.061Z"
   },
   {
    "duration": 10,
    "start_time": "2022-12-07T06:04:15.073Z"
   },
   {
    "duration": 8,
    "start_time": "2022-12-07T06:04:15.084Z"
   },
   {
    "duration": 13,
    "start_time": "2022-12-07T06:04:15.093Z"
   },
   {
    "duration": 16,
    "start_time": "2022-12-07T06:04:15.108Z"
   },
   {
    "duration": 28,
    "start_time": "2022-12-07T06:04:15.126Z"
   },
   {
    "duration": 12,
    "start_time": "2022-12-07T06:04:15.155Z"
   },
   {
    "duration": 21,
    "start_time": "2022-12-07T06:04:15.168Z"
   },
   {
    "duration": 16,
    "start_time": "2022-12-07T06:04:15.191Z"
   },
   {
    "duration": 47,
    "start_time": "2022-12-07T06:04:15.209Z"
   },
   {
    "duration": 32,
    "start_time": "2022-12-07T06:04:15.258Z"
   },
   {
    "duration": 365,
    "start_time": "2022-12-07T06:04:15.291Z"
   },
   {
    "duration": 293,
    "start_time": "2022-12-07T06:04:15.658Z"
   },
   {
    "duration": 100,
    "start_time": "2022-12-07T06:04:15.960Z"
   },
   {
    "duration": 39,
    "start_time": "2022-12-07T06:04:16.061Z"
   },
   {
    "duration": 50,
    "start_time": "2022-12-07T06:04:16.102Z"
   },
   {
    "duration": 102,
    "start_time": "2022-12-07T06:04:16.154Z"
   },
   {
    "duration": 10,
    "start_time": "2022-12-07T06:04:16.258Z"
   },
   {
    "duration": 103,
    "start_time": "2022-12-07T06:04:16.269Z"
   },
   {
    "duration": 7,
    "start_time": "2022-12-07T06:04:16.374Z"
   },
   {
    "duration": 129,
    "start_time": "2022-12-07T06:04:16.383Z"
   },
   {
    "duration": 7,
    "start_time": "2022-12-07T06:04:16.514Z"
   },
   {
    "duration": 125,
    "start_time": "2022-12-07T06:04:16.522Z"
   },
   {
    "duration": 6,
    "start_time": "2022-12-07T06:04:16.650Z"
   },
   {
    "duration": 11,
    "start_time": "2022-12-07T06:04:16.658Z"
   },
   {
    "duration": 13,
    "start_time": "2022-12-07T06:04:16.671Z"
   },
   {
    "duration": 19,
    "start_time": "2022-12-07T06:04:16.686Z"
   },
   {
    "duration": 9,
    "start_time": "2022-12-07T06:04:16.708Z"
   },
   {
    "duration": 46,
    "start_time": "2022-12-07T06:04:16.719Z"
   },
   {
    "duration": 12,
    "start_time": "2022-12-07T06:04:16.767Z"
   },
   {
    "duration": 112,
    "start_time": "2022-12-07T06:04:16.781Z"
   },
   {
    "duration": 103,
    "start_time": "2022-12-07T06:04:16.896Z"
   },
   {
    "duration": 32,
    "start_time": "2022-12-07T06:04:17.001Z"
   },
   {
    "duration": 4,
    "start_time": "2022-12-07T06:04:17.051Z"
   },
   {
    "duration": 15,
    "start_time": "2022-12-07T06:04:17.057Z"
   },
   {
    "duration": 372,
    "start_time": "2022-12-07T06:04:17.074Z"
   },
   {
    "duration": 3,
    "start_time": "2022-12-07T06:04:17.448Z"
   },
   {
    "duration": 39,
    "start_time": "2022-12-07T06:04:17.452Z"
   },
   {
    "duration": 258,
    "start_time": "2022-12-07T06:04:17.493Z"
   },
   {
    "duration": 102,
    "start_time": "2022-12-07T06:04:17.754Z"
   },
   {
    "duration": 96,
    "start_time": "2022-12-07T06:04:17.861Z"
   },
   {
    "duration": 17,
    "start_time": "2022-12-07T06:04:17.959Z"
   },
   {
    "duration": 3,
    "start_time": "2022-12-07T06:04:17.978Z"
   },
   {
    "duration": 17,
    "start_time": "2022-12-07T06:04:17.982Z"
   },
   {
    "duration": 155,
    "start_time": "2022-12-07T06:04:18.000Z"
   },
   {
    "duration": 4,
    "start_time": "2022-12-07T06:04:18.157Z"
   },
   {
    "duration": 38,
    "start_time": "2022-12-07T06:04:18.163Z"
   },
   {
    "duration": 156,
    "start_time": "2022-12-07T06:04:18.203Z"
   },
   {
    "duration": 104,
    "start_time": "2022-12-07T06:04:18.454Z"
   },
   {
    "duration": 96,
    "start_time": "2022-12-07T06:04:18.560Z"
   },
   {
    "duration": 94,
    "start_time": "2022-12-07T06:04:18.658Z"
   },
   {
    "duration": 29,
    "start_time": "2022-12-07T06:04:18.754Z"
   },
   {
    "duration": 44,
    "start_time": "2022-12-07T06:04:18.785Z"
   },
   {
    "duration": 959,
    "start_time": "2022-12-07T06:04:18.831Z"
   },
   {
    "duration": 5,
    "start_time": "2022-12-07T06:04:19.792Z"
   },
   {
    "duration": 37,
    "start_time": "2022-12-07T06:04:19.799Z"
   },
   {
    "duration": 14,
    "start_time": "2022-12-07T06:04:19.838Z"
   },
   {
    "duration": 337,
    "start_time": "2022-12-07T06:04:19.854Z"
   },
   {
    "duration": 24,
    "start_time": "2022-12-07T06:04:20.193Z"
   },
   {
    "duration": 3,
    "start_time": "2022-12-07T06:04:20.220Z"
   },
   {
    "duration": 894,
    "start_time": "2022-12-07T06:04:20.224Z"
   },
   {
    "duration": 20,
    "start_time": "2022-12-07T06:04:21.120Z"
   },
   {
    "duration": 4,
    "start_time": "2022-12-07T06:04:21.150Z"
   },
   {
    "duration": 11,
    "start_time": "2022-12-07T06:07:01.468Z"
   },
   {
    "duration": 4,
    "start_time": "2022-12-07T06:07:22.515Z"
   },
   {
    "duration": 52,
    "start_time": "2022-12-07T06:07:22.521Z"
   },
   {
    "duration": 14,
    "start_time": "2022-12-07T06:07:22.575Z"
   },
   {
    "duration": 41,
    "start_time": "2022-12-07T06:07:22.591Z"
   },
   {
    "duration": 28,
    "start_time": "2022-12-07T06:07:22.634Z"
   },
   {
    "duration": 15,
    "start_time": "2022-12-07T06:07:22.664Z"
   },
   {
    "duration": 3,
    "start_time": "2022-12-07T06:07:22.681Z"
   },
   {
    "duration": 10,
    "start_time": "2022-12-07T06:07:22.686Z"
   },
   {
    "duration": 13,
    "start_time": "2022-12-07T06:07:22.700Z"
   },
   {
    "duration": 43,
    "start_time": "2022-12-07T06:07:22.714Z"
   },
   {
    "duration": 23,
    "start_time": "2022-12-07T06:07:22.759Z"
   },
   {
    "duration": 9,
    "start_time": "2022-12-07T06:07:22.783Z"
   },
   {
    "duration": 9,
    "start_time": "2022-12-07T06:07:22.793Z"
   },
   {
    "duration": 10,
    "start_time": "2022-12-07T06:07:22.803Z"
   },
   {
    "duration": 9,
    "start_time": "2022-12-07T06:07:22.814Z"
   },
   {
    "duration": 35,
    "start_time": "2022-12-07T06:07:22.825Z"
   },
   {
    "duration": 7,
    "start_time": "2022-12-07T06:07:22.862Z"
   },
   {
    "duration": 21,
    "start_time": "2022-12-07T06:07:22.871Z"
   },
   {
    "duration": 16,
    "start_time": "2022-12-07T06:07:22.893Z"
   },
   {
    "duration": 25,
    "start_time": "2022-12-07T06:07:22.910Z"
   },
   {
    "duration": 45,
    "start_time": "2022-12-07T06:07:22.937Z"
   },
   {
    "duration": 10,
    "start_time": "2022-12-07T06:07:22.984Z"
   },
   {
    "duration": 30,
    "start_time": "2022-12-07T06:07:22.996Z"
   },
   {
    "duration": 12,
    "start_time": "2022-12-07T06:07:23.030Z"
   },
   {
    "duration": 28,
    "start_time": "2022-12-07T06:07:23.043Z"
   },
   {
    "duration": 32,
    "start_time": "2022-12-07T06:07:23.072Z"
   },
   {
    "duration": 343,
    "start_time": "2022-12-07T06:07:23.106Z"
   },
   {
    "duration": 205,
    "start_time": "2022-12-07T06:07:23.450Z"
   },
   {
    "duration": 98,
    "start_time": "2022-12-07T06:07:23.658Z"
   },
   {
    "duration": 39,
    "start_time": "2022-12-07T06:07:23.758Z"
   },
   {
    "duration": 54,
    "start_time": "2022-12-07T06:07:23.799Z"
   },
   {
    "duration": 96,
    "start_time": "2022-12-07T06:07:23.858Z"
   },
   {
    "duration": 18,
    "start_time": "2022-12-07T06:07:23.955Z"
   },
   {
    "duration": 94,
    "start_time": "2022-12-07T06:07:23.974Z"
   },
   {
    "duration": 5,
    "start_time": "2022-12-07T06:07:24.070Z"
   },
   {
    "duration": 195,
    "start_time": "2022-12-07T06:07:24.077Z"
   },
   {
    "duration": 5,
    "start_time": "2022-12-07T06:07:24.274Z"
   },
   {
    "duration": 95,
    "start_time": "2022-12-07T06:07:24.281Z"
   },
   {
    "duration": 5,
    "start_time": "2022-12-07T06:07:24.378Z"
   },
   {
    "duration": 12,
    "start_time": "2022-12-07T06:07:24.385Z"
   },
   {
    "duration": 12,
    "start_time": "2022-12-07T06:07:24.399Z"
   },
   {
    "duration": 14,
    "start_time": "2022-12-07T06:07:24.412Z"
   },
   {
    "duration": 10,
    "start_time": "2022-12-07T06:07:24.427Z"
   },
   {
    "duration": 12,
    "start_time": "2022-12-07T06:07:24.450Z"
   },
   {
    "duration": 98,
    "start_time": "2022-12-07T06:07:24.464Z"
   },
   {
    "duration": 89,
    "start_time": "2022-12-07T06:07:24.564Z"
   },
   {
    "duration": 31,
    "start_time": "2022-12-07T06:07:24.655Z"
   },
   {
    "duration": 4,
    "start_time": "2022-12-07T06:07:24.687Z"
   },
   {
    "duration": 10,
    "start_time": "2022-12-07T06:07:24.693Z"
   },
   {
    "duration": 376,
    "start_time": "2022-12-07T06:07:24.705Z"
   },
   {
    "duration": 4,
    "start_time": "2022-12-07T06:07:25.082Z"
   },
   {
    "duration": 62,
    "start_time": "2022-12-07T06:07:25.087Z"
   },
   {
    "duration": 108,
    "start_time": "2022-12-07T06:07:25.151Z"
   },
   {
    "duration": 100,
    "start_time": "2022-12-07T06:07:25.352Z"
   },
   {
    "duration": 4,
    "start_time": "2022-12-07T06:07:25.455Z"
   },
   {
    "duration": 18,
    "start_time": "2022-12-07T06:07:25.551Z"
   },
   {
    "duration": 3,
    "start_time": "2022-12-07T06:07:25.571Z"
   },
   {
    "duration": 11,
    "start_time": "2022-12-07T06:07:25.576Z"
   },
   {
    "duration": 159,
    "start_time": "2022-12-07T06:07:25.589Z"
   },
   {
    "duration": 3,
    "start_time": "2022-12-07T06:07:25.749Z"
   },
   {
    "duration": 44,
    "start_time": "2022-12-07T06:07:25.753Z"
   },
   {
    "duration": 61,
    "start_time": "2022-12-07T06:07:25.799Z"
   },
   {
    "duration": 97,
    "start_time": "2022-12-07T06:07:25.862Z"
   },
   {
    "duration": 4,
    "start_time": "2022-12-07T06:07:26.051Z"
   },
   {
    "duration": 115,
    "start_time": "2022-12-07T06:07:26.057Z"
   },
   {
    "duration": 14,
    "start_time": "2022-12-07T06:07:26.174Z"
   },
   {
    "duration": 31,
    "start_time": "2022-12-07T06:07:26.190Z"
   },
   {
    "duration": 848,
    "start_time": "2022-12-07T06:07:26.223Z"
   },
   {
    "duration": 3,
    "start_time": "2022-12-07T06:07:27.075Z"
   },
   {
    "duration": 35,
    "start_time": "2022-12-07T06:07:27.079Z"
   },
   {
    "duration": 4,
    "start_time": "2022-12-07T06:07:27.115Z"
   },
   {
    "duration": 345,
    "start_time": "2022-12-07T06:07:27.120Z"
   },
   {
    "duration": 19,
    "start_time": "2022-12-07T06:07:27.466Z"
   },
   {
    "duration": 3,
    "start_time": "2022-12-07T06:07:27.487Z"
   },
   {
    "duration": 876,
    "start_time": "2022-12-07T06:07:27.491Z"
   },
   {
    "duration": 20,
    "start_time": "2022-12-07T06:07:28.369Z"
   },
   {
    "duration": 3,
    "start_time": "2022-12-07T06:07:28.391Z"
   },
   {
    "duration": 72,
    "start_time": "2022-12-07T06:11:20.198Z"
   },
   {
    "duration": 3,
    "start_time": "2022-12-07T06:16:36.974Z"
   },
   {
    "duration": 126,
    "start_time": "2022-12-07T06:17:39.451Z"
   },
   {
    "duration": 11,
    "start_time": "2022-12-07T06:17:47.807Z"
   },
   {
    "duration": 338,
    "start_time": "2022-12-07T06:18:11.849Z"
   },
   {
    "duration": 13,
    "start_time": "2022-12-07T06:19:10.148Z"
   },
   {
    "duration": 9,
    "start_time": "2022-12-07T06:19:34.839Z"
   },
   {
    "duration": 6,
    "start_time": "2022-12-07T06:19:38.717Z"
   },
   {
    "duration": 53,
    "start_time": "2022-12-07T06:19:38.726Z"
   },
   {
    "duration": 16,
    "start_time": "2022-12-07T06:19:38.781Z"
   },
   {
    "duration": 56,
    "start_time": "2022-12-07T06:19:38.799Z"
   },
   {
    "duration": 16,
    "start_time": "2022-12-07T06:19:38.857Z"
   },
   {
    "duration": 24,
    "start_time": "2022-12-07T06:19:38.876Z"
   },
   {
    "duration": 5,
    "start_time": "2022-12-07T06:19:38.902Z"
   },
   {
    "duration": 12,
    "start_time": "2022-12-07T06:19:38.909Z"
   },
   {
    "duration": 38,
    "start_time": "2022-12-07T06:19:38.924Z"
   },
   {
    "duration": 18,
    "start_time": "2022-12-07T06:19:38.963Z"
   },
   {
    "duration": 27,
    "start_time": "2022-12-07T06:19:38.983Z"
   },
   {
    "duration": 11,
    "start_time": "2022-12-07T06:19:39.012Z"
   },
   {
    "duration": 32,
    "start_time": "2022-12-07T06:19:39.025Z"
   },
   {
    "duration": 8,
    "start_time": "2022-12-07T06:19:39.059Z"
   },
   {
    "duration": 6,
    "start_time": "2022-12-07T06:19:39.069Z"
   },
   {
    "duration": 8,
    "start_time": "2022-12-07T06:19:39.076Z"
   },
   {
    "duration": 7,
    "start_time": "2022-12-07T06:19:39.086Z"
   },
   {
    "duration": 6,
    "start_time": "2022-12-07T06:19:39.095Z"
   },
   {
    "duration": 18,
    "start_time": "2022-12-07T06:19:39.103Z"
   },
   {
    "duration": 14,
    "start_time": "2022-12-07T06:19:39.150Z"
   },
   {
    "duration": 28,
    "start_time": "2022-12-07T06:19:39.165Z"
   },
   {
    "duration": 14,
    "start_time": "2022-12-07T06:19:39.194Z"
   },
   {
    "duration": 58,
    "start_time": "2022-12-07T06:19:39.210Z"
   },
   {
    "duration": 13,
    "start_time": "2022-12-07T06:19:39.270Z"
   },
   {
    "duration": 26,
    "start_time": "2022-12-07T06:19:39.284Z"
   },
   {
    "duration": 3,
    "start_time": "2022-12-07T06:19:39.312Z"
   },
   {
    "duration": 369,
    "start_time": "2022-12-07T06:19:39.316Z"
   },
   {
    "duration": 13,
    "start_time": "2022-12-07T06:19:39.687Z"
   },
   {
    "duration": 414,
    "start_time": "2022-12-07T06:19:39.702Z"
   },
   {
    "duration": 339,
    "start_time": "2022-12-07T06:19:40.117Z"
   },
   {
    "duration": 194,
    "start_time": "2022-12-07T06:19:40.458Z"
   },
   {
    "duration": 0,
    "start_time": "2022-12-07T06:19:40.657Z"
   },
   {
    "duration": 0,
    "start_time": "2022-12-07T06:19:40.659Z"
   },
   {
    "duration": 0,
    "start_time": "2022-12-07T06:19:40.660Z"
   },
   {
    "duration": 0,
    "start_time": "2022-12-07T06:19:40.661Z"
   },
   {
    "duration": 0,
    "start_time": "2022-12-07T06:19:40.663Z"
   },
   {
    "duration": 0,
    "start_time": "2022-12-07T06:19:40.664Z"
   },
   {
    "duration": 0,
    "start_time": "2022-12-07T06:19:40.665Z"
   },
   {
    "duration": 0,
    "start_time": "2022-12-07T06:19:40.666Z"
   },
   {
    "duration": 0,
    "start_time": "2022-12-07T06:19:40.667Z"
   },
   {
    "duration": 0,
    "start_time": "2022-12-07T06:19:40.669Z"
   },
   {
    "duration": 0,
    "start_time": "2022-12-07T06:19:40.671Z"
   },
   {
    "duration": 0,
    "start_time": "2022-12-07T06:19:40.672Z"
   },
   {
    "duration": 0,
    "start_time": "2022-12-07T06:19:40.673Z"
   },
   {
    "duration": 0,
    "start_time": "2022-12-07T06:19:40.675Z"
   },
   {
    "duration": 0,
    "start_time": "2022-12-07T06:19:40.676Z"
   },
   {
    "duration": 0,
    "start_time": "2022-12-07T06:19:40.678Z"
   },
   {
    "duration": 0,
    "start_time": "2022-12-07T06:19:40.680Z"
   },
   {
    "duration": 0,
    "start_time": "2022-12-07T06:19:40.681Z"
   },
   {
    "duration": 0,
    "start_time": "2022-12-07T06:19:40.683Z"
   },
   {
    "duration": 0,
    "start_time": "2022-12-07T06:19:40.684Z"
   },
   {
    "duration": 0,
    "start_time": "2022-12-07T06:19:40.685Z"
   },
   {
    "duration": 0,
    "start_time": "2022-12-07T06:19:40.686Z"
   },
   {
    "duration": 0,
    "start_time": "2022-12-07T06:19:40.687Z"
   },
   {
    "duration": 0,
    "start_time": "2022-12-07T06:19:40.688Z"
   },
   {
    "duration": 0,
    "start_time": "2022-12-07T06:19:40.689Z"
   },
   {
    "duration": 0,
    "start_time": "2022-12-07T06:19:40.691Z"
   },
   {
    "duration": 0,
    "start_time": "2022-12-07T06:19:40.692Z"
   },
   {
    "duration": 0,
    "start_time": "2022-12-07T06:19:40.693Z"
   },
   {
    "duration": 0,
    "start_time": "2022-12-07T06:19:40.693Z"
   },
   {
    "duration": 0,
    "start_time": "2022-12-07T06:19:40.694Z"
   },
   {
    "duration": 0,
    "start_time": "2022-12-07T06:19:40.694Z"
   },
   {
    "duration": 0,
    "start_time": "2022-12-07T06:19:40.751Z"
   },
   {
    "duration": 0,
    "start_time": "2022-12-07T06:19:40.753Z"
   },
   {
    "duration": 0,
    "start_time": "2022-12-07T06:19:40.754Z"
   },
   {
    "duration": 0,
    "start_time": "2022-12-07T06:19:40.756Z"
   },
   {
    "duration": 0,
    "start_time": "2022-12-07T06:19:40.757Z"
   },
   {
    "duration": 0,
    "start_time": "2022-12-07T06:19:40.758Z"
   },
   {
    "duration": 0,
    "start_time": "2022-12-07T06:19:40.759Z"
   },
   {
    "duration": 0,
    "start_time": "2022-12-07T06:19:40.761Z"
   },
   {
    "duration": 0,
    "start_time": "2022-12-07T06:19:40.762Z"
   },
   {
    "duration": 0,
    "start_time": "2022-12-07T06:19:40.764Z"
   },
   {
    "duration": 0,
    "start_time": "2022-12-07T06:19:40.765Z"
   },
   {
    "duration": 0,
    "start_time": "2022-12-07T06:19:40.766Z"
   },
   {
    "duration": 0,
    "start_time": "2022-12-07T06:19:40.768Z"
   },
   {
    "duration": 0,
    "start_time": "2022-12-07T06:19:40.769Z"
   },
   {
    "duration": 0,
    "start_time": "2022-12-07T06:19:40.770Z"
   },
   {
    "duration": 0,
    "start_time": "2022-12-07T06:19:40.772Z"
   },
   {
    "duration": 0,
    "start_time": "2022-12-07T06:19:40.773Z"
   },
   {
    "duration": 9,
    "start_time": "2022-12-07T06:20:09.367Z"
   },
   {
    "duration": 7,
    "start_time": "2022-12-07T06:22:24.460Z"
   },
   {
    "duration": 94,
    "start_time": "2022-12-07T06:22:26.080Z"
   },
   {
    "duration": 6,
    "start_time": "2022-12-07T06:22:26.677Z"
   },
   {
    "duration": 131,
    "start_time": "2022-12-07T06:22:29.203Z"
   },
   {
    "duration": 6,
    "start_time": "2022-12-07T06:22:34.162Z"
   },
   {
    "duration": 117,
    "start_time": "2022-12-07T06:22:34.995Z"
   },
   {
    "duration": 4,
    "start_time": "2022-12-07T06:22:52.347Z"
   },
   {
    "duration": 375,
    "start_time": "2022-12-07T06:22:53.223Z"
   },
   {
    "duration": 10,
    "start_time": "2022-12-07T06:22:54.607Z"
   },
   {
    "duration": 13,
    "start_time": "2022-12-07T06:23:41.771Z"
   },
   {
    "duration": 13,
    "start_time": "2022-12-07T06:24:03.448Z"
   },
   {
    "duration": 9,
    "start_time": "2022-12-07T06:28:50.526Z"
   },
   {
    "duration": 6,
    "start_time": "2022-12-07T06:30:05.018Z"
   },
   {
    "duration": 53,
    "start_time": "2022-12-07T06:30:05.026Z"
   },
   {
    "duration": 15,
    "start_time": "2022-12-07T06:30:05.082Z"
   },
   {
    "duration": 69,
    "start_time": "2022-12-07T06:30:05.100Z"
   },
   {
    "duration": 15,
    "start_time": "2022-12-07T06:30:05.172Z"
   },
   {
    "duration": 25,
    "start_time": "2022-12-07T06:30:05.191Z"
   },
   {
    "duration": 4,
    "start_time": "2022-12-07T06:30:05.217Z"
   },
   {
    "duration": 30,
    "start_time": "2022-12-07T06:30:05.223Z"
   },
   {
    "duration": 9,
    "start_time": "2022-12-07T06:30:05.255Z"
   },
   {
    "duration": 14,
    "start_time": "2022-12-07T06:30:05.266Z"
   },
   {
    "duration": 27,
    "start_time": "2022-12-07T06:30:05.283Z"
   },
   {
    "duration": 48,
    "start_time": "2022-12-07T06:30:05.313Z"
   },
   {
    "duration": 8,
    "start_time": "2022-12-07T06:30:05.363Z"
   },
   {
    "duration": 6,
    "start_time": "2022-12-07T06:30:05.373Z"
   },
   {
    "duration": 5,
    "start_time": "2022-12-07T06:30:05.381Z"
   },
   {
    "duration": 5,
    "start_time": "2022-12-07T06:30:05.388Z"
   },
   {
    "duration": 8,
    "start_time": "2022-12-07T06:30:05.395Z"
   },
   {
    "duration": 8,
    "start_time": "2022-12-07T06:30:05.405Z"
   },
   {
    "duration": 42,
    "start_time": "2022-12-07T06:30:05.414Z"
   },
   {
    "duration": 12,
    "start_time": "2022-12-07T06:30:05.457Z"
   },
   {
    "duration": 27,
    "start_time": "2022-12-07T06:30:05.470Z"
   },
   {
    "duration": 12,
    "start_time": "2022-12-07T06:30:05.498Z"
   },
   {
    "duration": 41,
    "start_time": "2022-12-07T06:30:05.512Z"
   },
   {
    "duration": 12,
    "start_time": "2022-12-07T06:30:05.555Z"
   },
   {
    "duration": 22,
    "start_time": "2022-12-07T06:30:05.569Z"
   },
   {
    "duration": 3,
    "start_time": "2022-12-07T06:30:05.593Z"
   },
   {
    "duration": 324,
    "start_time": "2022-12-07T06:30:05.598Z"
   },
   {
    "duration": 8,
    "start_time": "2022-12-07T06:30:05.925Z"
   },
   {
    "duration": 358,
    "start_time": "2022-12-07T06:30:05.937Z"
   },
   {
    "duration": 158,
    "start_time": "2022-12-07T06:30:06.297Z"
   },
   {
    "duration": 102,
    "start_time": "2022-12-07T06:30:06.458Z"
   },
   {
    "duration": 131,
    "start_time": "2022-12-07T06:30:06.562Z"
   },
   {
    "duration": 57,
    "start_time": "2022-12-07T06:30:06.695Z"
   },
   {
    "duration": 101,
    "start_time": "2022-12-07T06:30:06.754Z"
   },
   {
    "duration": 13,
    "start_time": "2022-12-07T06:30:06.857Z"
   },
   {
    "duration": 125,
    "start_time": "2022-12-07T06:30:06.872Z"
   },
   {
    "duration": 6,
    "start_time": "2022-12-07T06:30:06.999Z"
   },
   {
    "duration": 103,
    "start_time": "2022-12-07T06:30:07.007Z"
   },
   {
    "duration": 7,
    "start_time": "2022-12-07T06:30:07.112Z"
   },
   {
    "duration": 106,
    "start_time": "2022-12-07T06:30:07.121Z"
   },
   {
    "duration": 8,
    "start_time": "2022-12-07T06:30:07.229Z"
   },
   {
    "duration": 5,
    "start_time": "2022-12-07T06:30:07.251Z"
   },
   {
    "duration": 18,
    "start_time": "2022-12-07T06:30:07.258Z"
   },
   {
    "duration": 19,
    "start_time": "2022-12-07T06:30:07.277Z"
   },
   {
    "duration": 8,
    "start_time": "2022-12-07T06:30:07.298Z"
   },
   {
    "duration": 15,
    "start_time": "2022-12-07T06:30:07.307Z"
   },
   {
    "duration": 108,
    "start_time": "2022-12-07T06:30:07.324Z"
   },
   {
    "duration": 104,
    "start_time": "2022-12-07T06:30:07.433Z"
   },
   {
    "duration": 47,
    "start_time": "2022-12-07T06:30:07.538Z"
   },
   {
    "duration": 4,
    "start_time": "2022-12-07T06:30:07.587Z"
   },
   {
    "duration": 15,
    "start_time": "2022-12-07T06:30:07.592Z"
   },
   {
    "duration": 393,
    "start_time": "2022-12-07T06:30:07.609Z"
   },
   {
    "duration": 4,
    "start_time": "2022-12-07T06:30:08.003Z"
   },
   {
    "duration": 45,
    "start_time": "2022-12-07T06:30:08.009Z"
   },
   {
    "duration": 204,
    "start_time": "2022-12-07T06:30:08.056Z"
   },
   {
    "duration": 100,
    "start_time": "2022-12-07T06:30:08.352Z"
   },
   {
    "duration": 97,
    "start_time": "2022-12-07T06:30:08.454Z"
   },
   {
    "duration": 17,
    "start_time": "2022-12-07T06:30:08.553Z"
   },
   {
    "duration": 3,
    "start_time": "2022-12-07T06:30:08.571Z"
   },
   {
    "duration": 12,
    "start_time": "2022-12-07T06:30:08.576Z"
   },
   {
    "duration": 182,
    "start_time": "2022-12-07T06:30:08.590Z"
   },
   {
    "duration": 4,
    "start_time": "2022-12-07T06:30:08.773Z"
   },
   {
    "duration": 67,
    "start_time": "2022-12-07T06:30:08.779Z"
   },
   {
    "duration": 303,
    "start_time": "2022-12-07T06:30:08.848Z"
   },
   {
    "duration": 109,
    "start_time": "2022-12-07T06:30:09.154Z"
   },
   {
    "duration": 195,
    "start_time": "2022-12-07T06:30:09.265Z"
   },
   {
    "duration": 22,
    "start_time": "2022-12-07T06:30:09.461Z"
   },
   {
    "duration": 24,
    "start_time": "2022-12-07T06:30:09.485Z"
   },
   {
    "duration": 44,
    "start_time": "2022-12-07T06:30:09.511Z"
   },
   {
    "duration": 1042,
    "start_time": "2022-12-07T06:30:09.556Z"
   },
   {
    "duration": 4,
    "start_time": "2022-12-07T06:30:10.600Z"
   },
   {
    "duration": 53,
    "start_time": "2022-12-07T06:30:10.606Z"
   },
   {
    "duration": 5,
    "start_time": "2022-12-07T06:30:10.661Z"
   },
   {
    "duration": 372,
    "start_time": "2022-12-07T06:30:10.668Z"
   },
   {
    "duration": 27,
    "start_time": "2022-12-07T06:30:11.042Z"
   },
   {
    "duration": 4,
    "start_time": "2022-12-07T06:30:11.070Z"
   },
   {
    "duration": 965,
    "start_time": "2022-12-07T06:30:11.075Z"
   },
   {
    "duration": 28,
    "start_time": "2022-12-07T06:30:12.042Z"
   },
   {
    "duration": 5,
    "start_time": "2022-12-07T06:30:12.072Z"
   },
   {
    "duration": 5,
    "start_time": "2022-12-07T06:34:24.140Z"
   },
   {
    "duration": 53,
    "start_time": "2022-12-07T06:34:24.146Z"
   },
   {
    "duration": 15,
    "start_time": "2022-12-07T06:34:24.201Z"
   },
   {
    "duration": 43,
    "start_time": "2022-12-07T06:34:24.218Z"
   },
   {
    "duration": 12,
    "start_time": "2022-12-07T06:34:24.262Z"
   },
   {
    "duration": 16,
    "start_time": "2022-12-07T06:34:24.276Z"
   },
   {
    "duration": 3,
    "start_time": "2022-12-07T06:34:24.294Z"
   },
   {
    "duration": 11,
    "start_time": "2022-12-07T06:34:24.299Z"
   },
   {
    "duration": 10,
    "start_time": "2022-12-07T06:34:24.312Z"
   },
   {
    "duration": 13,
    "start_time": "2022-12-07T06:34:24.351Z"
   },
   {
    "duration": 19,
    "start_time": "2022-12-07T06:34:24.366Z"
   },
   {
    "duration": 9,
    "start_time": "2022-12-07T06:34:24.387Z"
   },
   {
    "duration": 6,
    "start_time": "2022-12-07T06:34:24.397Z"
   },
   {
    "duration": 7,
    "start_time": "2022-12-07T06:34:24.405Z"
   },
   {
    "duration": 40,
    "start_time": "2022-12-07T06:34:24.413Z"
   },
   {
    "duration": 14,
    "start_time": "2022-12-07T06:34:24.454Z"
   },
   {
    "duration": 6,
    "start_time": "2022-12-07T06:34:24.470Z"
   },
   {
    "duration": 5,
    "start_time": "2022-12-07T06:34:24.477Z"
   },
   {
    "duration": 10,
    "start_time": "2022-12-07T06:34:24.483Z"
   },
   {
    "duration": 11,
    "start_time": "2022-12-07T06:34:24.495Z"
   },
   {
    "duration": 22,
    "start_time": "2022-12-07T06:34:24.508Z"
   },
   {
    "duration": 29,
    "start_time": "2022-12-07T06:34:24.531Z"
   },
   {
    "duration": 17,
    "start_time": "2022-12-07T06:34:24.561Z"
   },
   {
    "duration": 11,
    "start_time": "2022-12-07T06:34:24.582Z"
   },
   {
    "duration": 20,
    "start_time": "2022-12-07T06:34:24.594Z"
   },
   {
    "duration": 35,
    "start_time": "2022-12-07T06:34:24.616Z"
   },
   {
    "duration": 300,
    "start_time": "2022-12-07T06:34:24.653Z"
   },
   {
    "duration": 7,
    "start_time": "2022-12-07T06:34:24.955Z"
   },
   {
    "duration": 347,
    "start_time": "2022-12-07T06:34:24.963Z"
   },
   {
    "duration": 240,
    "start_time": "2022-12-07T06:34:25.311Z"
   },
   {
    "duration": 99,
    "start_time": "2022-12-07T06:34:25.553Z"
   },
   {
    "duration": 42,
    "start_time": "2022-12-07T06:34:25.654Z"
   },
   {
    "duration": 55,
    "start_time": "2022-12-07T06:34:25.698Z"
   },
   {
    "duration": 96,
    "start_time": "2022-12-07T06:34:25.756Z"
   },
   {
    "duration": 6,
    "start_time": "2022-12-07T06:34:25.854Z"
   },
   {
    "duration": 102,
    "start_time": "2022-12-07T06:34:25.862Z"
   },
   {
    "duration": 5,
    "start_time": "2022-12-07T06:34:25.966Z"
   },
   {
    "duration": 107,
    "start_time": "2022-12-07T06:34:25.973Z"
   },
   {
    "duration": 5,
    "start_time": "2022-12-07T06:34:26.082Z"
   },
   {
    "duration": 102,
    "start_time": "2022-12-07T06:34:26.088Z"
   },
   {
    "duration": 6,
    "start_time": "2022-12-07T06:34:26.191Z"
   },
   {
    "duration": 13,
    "start_time": "2022-12-07T06:34:26.198Z"
   },
   {
    "duration": 24,
    "start_time": "2022-12-07T06:34:26.212Z"
   },
   {
    "duration": 17,
    "start_time": "2022-12-07T06:34:26.237Z"
   },
   {
    "duration": 6,
    "start_time": "2022-12-07T06:34:26.256Z"
   },
   {
    "duration": 10,
    "start_time": "2022-12-07T06:34:26.264Z"
   },
   {
    "duration": 100,
    "start_time": "2022-12-07T06:34:26.275Z"
   },
   {
    "duration": 207,
    "start_time": "2022-12-07T06:34:26.377Z"
   },
   {
    "duration": 32,
    "start_time": "2022-12-07T06:34:26.586Z"
   },
   {
    "duration": 3,
    "start_time": "2022-12-07T06:34:26.620Z"
   },
   {
    "duration": 31,
    "start_time": "2022-12-07T06:34:26.625Z"
   },
   {
    "duration": 360,
    "start_time": "2022-12-07T06:34:26.658Z"
   },
   {
    "duration": 4,
    "start_time": "2022-12-07T06:34:27.020Z"
   },
   {
    "duration": 40,
    "start_time": "2022-12-07T06:34:27.025Z"
   },
   {
    "duration": 286,
    "start_time": "2022-12-07T06:34:27.067Z"
   },
   {
    "duration": 105,
    "start_time": "2022-12-07T06:34:27.356Z"
   },
   {
    "duration": 101,
    "start_time": "2022-12-07T06:34:27.557Z"
   },
   {
    "duration": 21,
    "start_time": "2022-12-07T06:34:27.660Z"
   },
   {
    "duration": 4,
    "start_time": "2022-12-07T06:34:27.682Z"
   },
   {
    "duration": 15,
    "start_time": "2022-12-07T06:34:27.687Z"
   },
   {
    "duration": 181,
    "start_time": "2022-12-07T06:34:27.704Z"
   },
   {
    "duration": 4,
    "start_time": "2022-12-07T06:34:27.886Z"
   },
   {
    "duration": 42,
    "start_time": "2022-12-07T06:34:27.891Z"
   },
   {
    "duration": 225,
    "start_time": "2022-12-07T06:34:27.935Z"
   },
   {
    "duration": 13,
    "start_time": "2022-12-07T06:34:28.251Z"
   },
   {
    "duration": 100,
    "start_time": "2022-12-07T06:34:28.352Z"
   },
   {
    "duration": 12,
    "start_time": "2022-12-07T06:34:28.454Z"
   },
   {
    "duration": 9,
    "start_time": "2022-12-07T06:34:28.467Z"
   },
   {
    "duration": 20,
    "start_time": "2022-12-07T06:34:28.481Z"
   },
   {
    "duration": 885,
    "start_time": "2022-12-07T06:34:28.503Z"
   },
   {
    "duration": 3,
    "start_time": "2022-12-07T06:34:29.390Z"
   },
   {
    "duration": 33,
    "start_time": "2022-12-07T06:34:29.394Z"
   },
   {
    "duration": 3,
    "start_time": "2022-12-07T06:34:29.429Z"
   },
   {
    "duration": 415,
    "start_time": "2022-12-07T06:34:29.434Z"
   },
   {
    "duration": 27,
    "start_time": "2022-12-07T06:34:29.851Z"
   },
   {
    "duration": 4,
    "start_time": "2022-12-07T06:34:29.880Z"
   },
   {
    "duration": 922,
    "start_time": "2022-12-07T06:34:29.886Z"
   },
   {
    "duration": 19,
    "start_time": "2022-12-07T06:34:30.810Z"
   },
   {
    "duration": 3,
    "start_time": "2022-12-07T06:34:30.831Z"
   },
   {
    "duration": 8,
    "start_time": "2022-12-07T10:21:19.552Z"
   },
   {
    "duration": 70,
    "start_time": "2022-12-07T10:21:19.563Z"
   },
   {
    "duration": 23,
    "start_time": "2022-12-07T10:21:19.635Z"
   },
   {
    "duration": 68,
    "start_time": "2022-12-07T10:21:19.661Z"
   },
   {
    "duration": 33,
    "start_time": "2022-12-07T10:21:19.733Z"
   },
   {
    "duration": 16,
    "start_time": "2022-12-07T10:21:19.768Z"
   },
   {
    "duration": 4,
    "start_time": "2022-12-07T10:21:19.787Z"
   },
   {
    "duration": 9,
    "start_time": "2022-12-07T10:21:19.793Z"
   },
   {
    "duration": 51,
    "start_time": "2022-12-07T10:21:19.804Z"
   },
   {
    "duration": 29,
    "start_time": "2022-12-07T10:21:19.858Z"
   },
   {
    "duration": 47,
    "start_time": "2022-12-07T10:21:19.891Z"
   },
   {
    "duration": 11,
    "start_time": "2022-12-07T10:21:19.940Z"
   },
   {
    "duration": 27,
    "start_time": "2022-12-07T10:21:19.959Z"
   },
   {
    "duration": 8,
    "start_time": "2022-12-07T10:21:19.987Z"
   },
   {
    "duration": 10,
    "start_time": "2022-12-07T10:21:19.997Z"
   },
   {
    "duration": 7,
    "start_time": "2022-12-07T10:21:20.009Z"
   },
   {
    "duration": 24,
    "start_time": "2022-12-07T10:21:20.018Z"
   },
   {
    "duration": 25,
    "start_time": "2022-12-07T10:21:20.044Z"
   },
   {
    "duration": 20,
    "start_time": "2022-12-07T10:21:20.072Z"
   },
   {
    "duration": 12,
    "start_time": "2022-12-07T10:21:20.094Z"
   },
   {
    "duration": 32,
    "start_time": "2022-12-07T10:21:20.108Z"
   },
   {
    "duration": 18,
    "start_time": "2022-12-07T10:21:20.142Z"
   },
   {
    "duration": 50,
    "start_time": "2022-12-07T10:21:20.162Z"
   },
   {
    "duration": 12,
    "start_time": "2022-12-07T10:21:20.215Z"
   },
   {
    "duration": 32,
    "start_time": "2022-12-07T10:21:20.229Z"
   },
   {
    "duration": 4,
    "start_time": "2022-12-07T10:21:20.263Z"
   },
   {
    "duration": 360,
    "start_time": "2022-12-07T10:21:20.269Z"
   },
   {
    "duration": 9,
    "start_time": "2022-12-07T10:21:20.631Z"
   },
   {
    "duration": 390,
    "start_time": "2022-12-07T10:21:20.653Z"
   },
   {
    "duration": 228,
    "start_time": "2022-12-07T10:21:21.044Z"
   },
   {
    "duration": 19,
    "start_time": "2022-12-07T10:21:21.353Z"
   },
   {
    "duration": 57,
    "start_time": "2022-12-07T10:21:21.452Z"
   },
   {
    "duration": 44,
    "start_time": "2022-12-07T10:21:21.510Z"
   },
   {
    "duration": 10,
    "start_time": "2022-12-07T10:21:21.557Z"
   },
   {
    "duration": 106,
    "start_time": "2022-12-07T10:21:21.569Z"
   },
   {
    "duration": 105,
    "start_time": "2022-12-07T10:21:21.677Z"
   },
   {
    "duration": 6,
    "start_time": "2022-12-07T10:21:21.784Z"
   },
   {
    "duration": 126,
    "start_time": "2022-12-07T10:21:21.792Z"
   },
   {
    "duration": 6,
    "start_time": "2022-12-07T10:21:21.920Z"
   },
   {
    "duration": 107,
    "start_time": "2022-12-07T10:21:21.928Z"
   },
   {
    "duration": 5,
    "start_time": "2022-12-07T10:21:22.036Z"
   },
   {
    "duration": 29,
    "start_time": "2022-12-07T10:21:22.051Z"
   },
   {
    "duration": 19,
    "start_time": "2022-12-07T10:21:22.082Z"
   },
   {
    "duration": 18,
    "start_time": "2022-12-07T10:21:22.104Z"
   },
   {
    "duration": 8,
    "start_time": "2022-12-07T10:21:22.123Z"
   },
   {
    "duration": 12,
    "start_time": "2022-12-07T10:21:22.132Z"
   },
   {
    "duration": 127,
    "start_time": "2022-12-07T10:21:22.145Z"
   },
   {
    "duration": 125,
    "start_time": "2022-12-07T10:21:22.273Z"
   },
   {
    "duration": 30,
    "start_time": "2022-12-07T10:21:22.400Z"
   },
   {
    "duration": 3,
    "start_time": "2022-12-07T10:21:22.432Z"
   },
   {
    "duration": 24,
    "start_time": "2022-12-07T10:21:22.451Z"
   },
   {
    "duration": 394,
    "start_time": "2022-12-07T10:21:22.477Z"
   },
   {
    "duration": 3,
    "start_time": "2022-12-07T10:21:22.873Z"
   },
   {
    "duration": 38,
    "start_time": "2022-12-07T10:21:22.878Z"
   },
   {
    "duration": 249,
    "start_time": "2022-12-07T10:21:22.918Z"
   },
   {
    "duration": 98,
    "start_time": "2022-12-07T10:21:23.171Z"
   },
   {
    "duration": 85,
    "start_time": "2022-12-07T10:21:23.273Z"
   },
   {
    "duration": 106,
    "start_time": "2022-12-07T10:21:23.361Z"
   },
   {
    "duration": 4,
    "start_time": "2022-12-07T10:21:23.469Z"
   },
   {
    "duration": 11,
    "start_time": "2022-12-07T10:21:23.475Z"
   },
   {
    "duration": 183,
    "start_time": "2022-12-07T10:21:23.488Z"
   },
   {
    "duration": 4,
    "start_time": "2022-12-07T10:21:23.673Z"
   },
   {
    "duration": 38,
    "start_time": "2022-12-07T10:21:23.679Z"
   },
   {
    "duration": 334,
    "start_time": "2022-12-07T10:21:23.718Z"
   },
   {
    "duration": 111,
    "start_time": "2022-12-07T10:21:24.056Z"
   },
   {
    "duration": 84,
    "start_time": "2022-12-07T10:21:24.169Z"
   },
   {
    "duration": 21,
    "start_time": "2022-12-07T10:21:24.256Z"
   },
   {
    "duration": 12,
    "start_time": "2022-12-07T10:21:24.278Z"
   },
   {
    "duration": 20,
    "start_time": "2022-12-07T10:21:24.292Z"
   },
   {
    "duration": 981,
    "start_time": "2022-12-07T10:21:24.313Z"
   },
   {
    "duration": 4,
    "start_time": "2022-12-07T10:21:25.296Z"
   },
   {
    "duration": 49,
    "start_time": "2022-12-07T10:21:25.303Z"
   },
   {
    "duration": 5,
    "start_time": "2022-12-07T10:21:25.355Z"
   },
   {
    "duration": 406,
    "start_time": "2022-12-07T10:21:25.363Z"
   },
   {
    "duration": 21,
    "start_time": "2022-12-07T10:21:25.770Z"
   },
   {
    "duration": 4,
    "start_time": "2022-12-07T10:21:25.792Z"
   },
   {
    "duration": 1011,
    "start_time": "2022-12-07T10:21:25.798Z"
   },
   {
    "duration": 21,
    "start_time": "2022-12-07T10:21:26.811Z"
   },
   {
    "duration": 20,
    "start_time": "2022-12-07T10:21:26.834Z"
   },
   {
    "duration": 366,
    "start_time": "2022-12-07T10:21:47.276Z"
   },
   {
    "duration": 4,
    "start_time": "2022-12-07T10:22:03.386Z"
   },
   {
    "duration": 46,
    "start_time": "2022-12-07T10:22:03.393Z"
   },
   {
    "duration": 17,
    "start_time": "2022-12-07T10:22:03.440Z"
   },
   {
    "duration": 46,
    "start_time": "2022-12-07T10:22:03.459Z"
   },
   {
    "duration": 12,
    "start_time": "2022-12-07T10:22:03.507Z"
   },
   {
    "duration": 37,
    "start_time": "2022-12-07T10:22:03.521Z"
   },
   {
    "duration": 5,
    "start_time": "2022-12-07T10:22:03.560Z"
   },
   {
    "duration": 6,
    "start_time": "2022-12-07T10:22:03.567Z"
   },
   {
    "duration": 10,
    "start_time": "2022-12-07T10:22:03.576Z"
   },
   {
    "duration": 13,
    "start_time": "2022-12-07T10:22:03.588Z"
   },
   {
    "duration": 63,
    "start_time": "2022-12-07T10:22:03.602Z"
   },
   {
    "duration": 10,
    "start_time": "2022-12-07T10:22:03.667Z"
   },
   {
    "duration": 6,
    "start_time": "2022-12-07T10:22:03.679Z"
   },
   {
    "duration": 5,
    "start_time": "2022-12-07T10:22:03.687Z"
   },
   {
    "duration": 8,
    "start_time": "2022-12-07T10:22:03.694Z"
   },
   {
    "duration": 11,
    "start_time": "2022-12-07T10:22:03.704Z"
   },
   {
    "duration": 35,
    "start_time": "2022-12-07T10:22:03.717Z"
   },
   {
    "duration": 3,
    "start_time": "2022-12-07T10:22:03.754Z"
   },
   {
    "duration": 14,
    "start_time": "2022-12-07T10:22:03.758Z"
   },
   {
    "duration": 12,
    "start_time": "2022-12-07T10:22:03.773Z"
   },
   {
    "duration": 26,
    "start_time": "2022-12-07T10:22:03.787Z"
   },
   {
    "duration": 42,
    "start_time": "2022-12-07T10:22:03.815Z"
   },
   {
    "duration": 43,
    "start_time": "2022-12-07T10:22:03.859Z"
   },
   {
    "duration": 11,
    "start_time": "2022-12-07T10:22:03.906Z"
   },
   {
    "duration": 48,
    "start_time": "2022-12-07T10:22:03.918Z"
   },
   {
    "duration": 320,
    "start_time": "2022-12-07T10:22:03.967Z"
   },
   {
    "duration": 2,
    "start_time": "2022-12-07T10:22:04.288Z"
   },
   {
    "duration": 21,
    "start_time": "2022-12-07T10:22:04.292Z"
   },
   {
    "duration": 358,
    "start_time": "2022-12-07T10:22:04.315Z"
   },
   {
    "duration": 286,
    "start_time": "2022-12-07T10:22:04.674Z"
   },
   {
    "duration": 99,
    "start_time": "2022-12-07T10:22:05.053Z"
   },
   {
    "duration": 42,
    "start_time": "2022-12-07T10:22:05.154Z"
   },
   {
    "duration": 57,
    "start_time": "2022-12-07T10:22:05.198Z"
   },
   {
    "duration": 97,
    "start_time": "2022-12-07T10:22:05.257Z"
   },
   {
    "duration": 12,
    "start_time": "2022-12-07T10:22:05.356Z"
   },
   {
    "duration": 98,
    "start_time": "2022-12-07T10:22:05.370Z"
   },
   {
    "duration": 6,
    "start_time": "2022-12-07T10:22:05.470Z"
   },
   {
    "duration": 119,
    "start_time": "2022-12-07T10:22:05.478Z"
   },
   {
    "duration": 6,
    "start_time": "2022-12-07T10:22:05.598Z"
   },
   {
    "duration": 102,
    "start_time": "2022-12-07T10:22:05.605Z"
   },
   {
    "duration": 5,
    "start_time": "2022-12-07T10:22:05.709Z"
   },
   {
    "duration": 23,
    "start_time": "2022-12-07T10:22:05.716Z"
   },
   {
    "duration": 27,
    "start_time": "2022-12-07T10:22:05.740Z"
   },
   {
    "duration": 15,
    "start_time": "2022-12-07T10:22:05.769Z"
   },
   {
    "duration": 8,
    "start_time": "2022-12-07T10:22:05.785Z"
   },
   {
    "duration": 18,
    "start_time": "2022-12-07T10:22:05.795Z"
   },
   {
    "duration": 105,
    "start_time": "2022-12-07T10:22:05.815Z"
   },
   {
    "duration": 102,
    "start_time": "2022-12-07T10:22:05.922Z"
   },
   {
    "duration": 43,
    "start_time": "2022-12-07T10:22:06.026Z"
   },
   {
    "duration": 4,
    "start_time": "2022-12-07T10:22:06.070Z"
   },
   {
    "duration": 13,
    "start_time": "2022-12-07T10:22:06.076Z"
   },
   {
    "duration": 383,
    "start_time": "2022-12-07T10:22:06.091Z"
   },
   {
    "duration": 4,
    "start_time": "2022-12-07T10:22:06.476Z"
   },
   {
    "duration": 37,
    "start_time": "2022-12-07T10:22:06.481Z"
   },
   {
    "duration": 443,
    "start_time": "2022-12-07T10:22:06.520Z"
   },
   {
    "duration": 92,
    "start_time": "2022-12-07T10:22:06.965Z"
   },
   {
    "duration": 5,
    "start_time": "2022-12-07T10:22:07.059Z"
   },
   {
    "duration": 106,
    "start_time": "2022-12-07T10:22:07.151Z"
   },
   {
    "duration": 4,
    "start_time": "2022-12-07T10:22:07.258Z"
   },
   {
    "duration": 21,
    "start_time": "2022-12-07T10:22:07.263Z"
   },
   {
    "duration": 156,
    "start_time": "2022-12-07T10:22:07.286Z"
   },
   {
    "duration": 4,
    "start_time": "2022-12-07T10:22:07.444Z"
   },
   {
    "duration": 37,
    "start_time": "2022-12-07T10:22:07.451Z"
   },
   {
    "duration": 72,
    "start_time": "2022-12-07T10:22:07.490Z"
   },
   {
    "duration": 111,
    "start_time": "2022-12-07T10:22:07.651Z"
   },
   {
    "duration": 7,
    "start_time": "2022-12-07T10:22:07.764Z"
   },
   {
    "duration": 89,
    "start_time": "2022-12-07T10:22:07.772Z"
   },
   {
    "duration": 92,
    "start_time": "2022-12-07T10:22:07.863Z"
   },
   {
    "duration": 20,
    "start_time": "2022-12-07T10:22:07.960Z"
   },
   {
    "duration": 1103,
    "start_time": "2022-12-07T10:22:07.981Z"
   },
   {
    "duration": 4,
    "start_time": "2022-12-07T10:22:09.086Z"
   },
   {
    "duration": 44,
    "start_time": "2022-12-07T10:22:09.091Z"
   },
   {
    "duration": 4,
    "start_time": "2022-12-07T10:22:09.138Z"
   },
   {
    "duration": 398,
    "start_time": "2022-12-07T10:22:09.144Z"
   },
   {
    "duration": 25,
    "start_time": "2022-12-07T10:22:09.544Z"
   },
   {
    "duration": 9,
    "start_time": "2022-12-07T10:22:09.570Z"
   },
   {
    "duration": 1001,
    "start_time": "2022-12-07T10:22:09.581Z"
   },
   {
    "duration": 22,
    "start_time": "2022-12-07T10:22:10.584Z"
   },
   {
    "duration": 3,
    "start_time": "2022-12-07T10:22:10.608Z"
   },
   {
    "duration": 15,
    "start_time": "2022-12-07T10:28:12.735Z"
   },
   {
    "duration": 5,
    "start_time": "2022-12-07T10:29:50.972Z"
   },
   {
    "duration": 48,
    "start_time": "2022-12-07T10:29:50.978Z"
   },
   {
    "duration": 15,
    "start_time": "2022-12-07T10:29:51.028Z"
   },
   {
    "duration": 46,
    "start_time": "2022-12-07T10:29:51.046Z"
   },
   {
    "duration": 13,
    "start_time": "2022-12-07T10:29:51.094Z"
   },
   {
    "duration": 24,
    "start_time": "2022-12-07T10:29:51.108Z"
   },
   {
    "duration": 8,
    "start_time": "2022-12-07T10:29:51.133Z"
   },
   {
    "duration": 6,
    "start_time": "2022-12-07T10:29:51.151Z"
   },
   {
    "duration": 10,
    "start_time": "2022-12-07T10:29:51.159Z"
   },
   {
    "duration": 13,
    "start_time": "2022-12-07T10:29:51.171Z"
   },
   {
    "duration": 31,
    "start_time": "2022-12-07T10:29:51.186Z"
   },
   {
    "duration": 31,
    "start_time": "2022-12-07T10:29:51.220Z"
   },
   {
    "duration": 7,
    "start_time": "2022-12-07T10:29:51.253Z"
   },
   {
    "duration": 12,
    "start_time": "2022-12-07T10:29:51.262Z"
   },
   {
    "duration": 7,
    "start_time": "2022-12-07T10:29:51.276Z"
   },
   {
    "duration": 19,
    "start_time": "2022-12-07T10:29:51.285Z"
   },
   {
    "duration": 6,
    "start_time": "2022-12-07T10:29:51.306Z"
   },
   {
    "duration": 11,
    "start_time": "2022-12-07T10:29:51.314Z"
   },
   {
    "duration": 13,
    "start_time": "2022-12-07T10:29:51.326Z"
   },
   {
    "duration": 22,
    "start_time": "2022-12-07T10:29:51.341Z"
   },
   {
    "duration": 28,
    "start_time": "2022-12-07T10:29:51.364Z"
   },
   {
    "duration": 12,
    "start_time": "2022-12-07T10:29:51.393Z"
   },
   {
    "duration": 23,
    "start_time": "2022-12-07T10:29:51.406Z"
   },
   {
    "duration": 33,
    "start_time": "2022-12-07T10:29:51.431Z"
   },
   {
    "duration": 30,
    "start_time": "2022-12-07T10:29:51.466Z"
   },
   {
    "duration": 332,
    "start_time": "2022-12-07T10:29:51.497Z"
   },
   {
    "duration": 3,
    "start_time": "2022-12-07T10:29:51.833Z"
   },
   {
    "duration": 9,
    "start_time": "2022-12-07T10:29:51.837Z"
   },
   {
    "duration": 0,
    "start_time": "2022-12-07T10:30:39.056Z"
   },
   {
    "duration": 0,
    "start_time": "2022-12-07T10:30:39.057Z"
   },
   {
    "duration": 0,
    "start_time": "2022-12-07T10:30:39.059Z"
   },
   {
    "duration": 0,
    "start_time": "2022-12-07T10:30:39.059Z"
   },
   {
    "duration": 0,
    "start_time": "2022-12-07T10:30:39.061Z"
   },
   {
    "duration": 0,
    "start_time": "2022-12-07T10:30:39.062Z"
   },
   {
    "duration": 0,
    "start_time": "2022-12-07T10:30:39.063Z"
   },
   {
    "duration": 0,
    "start_time": "2022-12-07T10:30:39.065Z"
   },
   {
    "duration": 0,
    "start_time": "2022-12-07T10:30:39.066Z"
   },
   {
    "duration": 0,
    "start_time": "2022-12-07T10:30:39.067Z"
   },
   {
    "duration": 0,
    "start_time": "2022-12-07T10:30:39.069Z"
   },
   {
    "duration": 0,
    "start_time": "2022-12-07T10:30:39.070Z"
   },
   {
    "duration": 0,
    "start_time": "2022-12-07T10:30:39.072Z"
   },
   {
    "duration": 0,
    "start_time": "2022-12-07T10:30:39.073Z"
   },
   {
    "duration": 0,
    "start_time": "2022-12-07T10:30:39.074Z"
   },
   {
    "duration": 0,
    "start_time": "2022-12-07T10:30:39.075Z"
   },
   {
    "duration": 0,
    "start_time": "2022-12-07T10:30:39.076Z"
   },
   {
    "duration": 0,
    "start_time": "2022-12-07T10:30:39.077Z"
   },
   {
    "duration": 0,
    "start_time": "2022-12-07T10:30:39.078Z"
   },
   {
    "duration": 0,
    "start_time": "2022-12-07T10:30:39.080Z"
   },
   {
    "duration": 0,
    "start_time": "2022-12-07T10:30:39.081Z"
   },
   {
    "duration": 0,
    "start_time": "2022-12-07T10:30:39.083Z"
   },
   {
    "duration": 0,
    "start_time": "2022-12-07T10:30:39.084Z"
   },
   {
    "duration": 0,
    "start_time": "2022-12-07T10:30:39.086Z"
   },
   {
    "duration": 0,
    "start_time": "2022-12-07T10:30:39.087Z"
   },
   {
    "duration": 0,
    "start_time": "2022-12-07T10:30:39.089Z"
   },
   {
    "duration": 0,
    "start_time": "2022-12-07T10:30:39.151Z"
   },
   {
    "duration": 0,
    "start_time": "2022-12-07T10:30:39.152Z"
   },
   {
    "duration": 0,
    "start_time": "2022-12-07T10:30:39.154Z"
   },
   {
    "duration": 0,
    "start_time": "2022-12-07T10:30:39.156Z"
   },
   {
    "duration": 0,
    "start_time": "2022-12-07T10:30:39.157Z"
   },
   {
    "duration": 0,
    "start_time": "2022-12-07T10:30:39.159Z"
   },
   {
    "duration": 0,
    "start_time": "2022-12-07T10:30:39.161Z"
   },
   {
    "duration": 0,
    "start_time": "2022-12-07T10:30:39.162Z"
   },
   {
    "duration": 0,
    "start_time": "2022-12-07T10:30:39.164Z"
   },
   {
    "duration": 0,
    "start_time": "2022-12-07T10:30:39.165Z"
   },
   {
    "duration": 0,
    "start_time": "2022-12-07T10:30:39.168Z"
   },
   {
    "duration": 0,
    "start_time": "2022-12-07T10:30:39.169Z"
   },
   {
    "duration": 0,
    "start_time": "2022-12-07T10:30:39.171Z"
   },
   {
    "duration": 0,
    "start_time": "2022-12-07T10:30:39.172Z"
   },
   {
    "duration": 0,
    "start_time": "2022-12-07T10:30:39.174Z"
   },
   {
    "duration": 0,
    "start_time": "2022-12-07T10:30:39.176Z"
   },
   {
    "duration": 0,
    "start_time": "2022-12-07T10:30:39.178Z"
   },
   {
    "duration": 0,
    "start_time": "2022-12-07T10:30:39.180Z"
   },
   {
    "duration": 0,
    "start_time": "2022-12-07T10:30:39.181Z"
   },
   {
    "duration": 0,
    "start_time": "2022-12-07T10:30:39.183Z"
   },
   {
    "duration": 1,
    "start_time": "2022-12-07T10:30:39.189Z"
   },
   {
    "duration": 0,
    "start_time": "2022-12-07T10:30:39.252Z"
   },
   {
    "duration": 0,
    "start_time": "2022-12-07T10:30:39.253Z"
   },
   {
    "duration": 0,
    "start_time": "2022-12-07T10:30:39.255Z"
   },
   {
    "duration": 0,
    "start_time": "2022-12-07T10:30:39.256Z"
   },
   {
    "duration": 0,
    "start_time": "2022-12-07T10:30:39.257Z"
   },
   {
    "duration": 0,
    "start_time": "2022-12-07T10:30:39.258Z"
   },
   {
    "duration": 0,
    "start_time": "2022-12-07T10:30:39.259Z"
   },
   {
    "duration": 0,
    "start_time": "2022-12-07T10:30:39.260Z"
   },
   {
    "duration": 0,
    "start_time": "2022-12-07T10:30:39.261Z"
   },
   {
    "duration": 0,
    "start_time": "2022-12-07T10:30:39.263Z"
   },
   {
    "duration": 0,
    "start_time": "2022-12-07T10:30:39.264Z"
   },
   {
    "duration": 0,
    "start_time": "2022-12-07T10:30:39.265Z"
   },
   {
    "duration": 0,
    "start_time": "2022-12-07T10:30:39.266Z"
   },
   {
    "duration": 0,
    "start_time": "2022-12-07T10:30:39.267Z"
   },
   {
    "duration": 0,
    "start_time": "2022-12-07T10:30:39.268Z"
   },
   {
    "duration": 0,
    "start_time": "2022-12-07T10:30:39.269Z"
   },
   {
    "duration": 0,
    "start_time": "2022-12-07T10:30:39.270Z"
   },
   {
    "duration": 0,
    "start_time": "2022-12-07T10:30:39.270Z"
   },
   {
    "duration": 0,
    "start_time": "2022-12-07T10:30:39.272Z"
   },
   {
    "duration": 0,
    "start_time": "2022-12-07T10:30:39.273Z"
   },
   {
    "duration": 0,
    "start_time": "2022-12-07T10:30:39.275Z"
   },
   {
    "duration": 0,
    "start_time": "2022-12-07T10:30:39.276Z"
   },
   {
    "duration": 0,
    "start_time": "2022-12-07T10:30:39.277Z"
   },
   {
    "duration": 0,
    "start_time": "2022-12-07T10:30:39.278Z"
   },
   {
    "duration": 0,
    "start_time": "2022-12-07T10:30:39.280Z"
   },
   {
    "duration": 0,
    "start_time": "2022-12-07T10:30:39.280Z"
   },
   {
    "duration": 0,
    "start_time": "2022-12-07T10:30:39.282Z"
   },
   {
    "duration": 0,
    "start_time": "2022-12-07T10:30:39.283Z"
   },
   {
    "duration": 0,
    "start_time": "2022-12-07T10:30:39.284Z"
   },
   {
    "duration": 0,
    "start_time": "2022-12-07T10:30:39.286Z"
   },
   {
    "duration": 0,
    "start_time": "2022-12-07T10:30:39.287Z"
   },
   {
    "duration": 0,
    "start_time": "2022-12-07T10:30:39.288Z"
   },
   {
    "duration": 5,
    "start_time": "2022-12-07T10:32:20.231Z"
   },
   {
    "duration": 45,
    "start_time": "2022-12-07T10:32:20.238Z"
   },
   {
    "duration": 15,
    "start_time": "2022-12-07T10:32:20.285Z"
   },
   {
    "duration": 56,
    "start_time": "2022-12-07T10:32:20.302Z"
   },
   {
    "duration": 13,
    "start_time": "2022-12-07T10:32:20.360Z"
   },
   {
    "duration": 16,
    "start_time": "2022-12-07T10:32:20.374Z"
   },
   {
    "duration": 3,
    "start_time": "2022-12-07T10:32:20.392Z"
   },
   {
    "duration": 8,
    "start_time": "2022-12-07T10:32:20.397Z"
   },
   {
    "duration": 46,
    "start_time": "2022-12-07T10:32:20.407Z"
   },
   {
    "duration": 15,
    "start_time": "2022-12-07T10:32:20.456Z"
   },
   {
    "duration": 22,
    "start_time": "2022-12-07T10:32:20.473Z"
   },
   {
    "duration": 9,
    "start_time": "2022-12-07T10:32:20.497Z"
   },
   {
    "duration": 45,
    "start_time": "2022-12-07T10:32:20.508Z"
   },
   {
    "duration": 5,
    "start_time": "2022-12-07T10:32:20.555Z"
   },
   {
    "duration": 7,
    "start_time": "2022-12-07T10:32:20.562Z"
   },
   {
    "duration": 11,
    "start_time": "2022-12-07T10:32:20.571Z"
   },
   {
    "duration": 16,
    "start_time": "2022-12-07T10:32:20.584Z"
   },
   {
    "duration": 9,
    "start_time": "2022-12-07T10:32:20.602Z"
   },
   {
    "duration": 17,
    "start_time": "2022-12-07T10:32:20.613Z"
   },
   {
    "duration": 23,
    "start_time": "2022-12-07T10:32:20.632Z"
   },
   {
    "duration": 27,
    "start_time": "2022-12-07T10:32:20.658Z"
   },
   {
    "duration": 12,
    "start_time": "2022-12-07T10:32:20.687Z"
   },
   {
    "duration": 21,
    "start_time": "2022-12-07T10:32:20.701Z"
   },
   {
    "duration": 31,
    "start_time": "2022-12-07T10:32:20.726Z"
   },
   {
    "duration": 26,
    "start_time": "2022-12-07T10:32:20.758Z"
   },
   {
    "duration": 325,
    "start_time": "2022-12-07T10:32:20.786Z"
   },
   {
    "duration": 2,
    "start_time": "2022-12-07T10:32:21.113Z"
   },
   {
    "duration": 7,
    "start_time": "2022-12-07T10:32:21.117Z"
   },
   {
    "duration": 187,
    "start_time": "2022-12-07T10:33:07.463Z"
   },
   {
    "duration": 106,
    "start_time": "2022-12-07T10:33:07.652Z"
   },
   {
    "duration": 13,
    "start_time": "2022-12-07T10:33:07.760Z"
   },
   {
    "duration": 0,
    "start_time": "2022-12-07T10:33:07.776Z"
   },
   {
    "duration": 0,
    "start_time": "2022-12-07T10:33:07.777Z"
   },
   {
    "duration": 0,
    "start_time": "2022-12-07T10:33:07.778Z"
   },
   {
    "duration": 0,
    "start_time": "2022-12-07T10:33:07.780Z"
   },
   {
    "duration": 0,
    "start_time": "2022-12-07T10:33:07.781Z"
   },
   {
    "duration": 0,
    "start_time": "2022-12-07T10:33:07.783Z"
   },
   {
    "duration": 0,
    "start_time": "2022-12-07T10:33:07.784Z"
   },
   {
    "duration": 0,
    "start_time": "2022-12-07T10:33:07.785Z"
   },
   {
    "duration": 0,
    "start_time": "2022-12-07T10:33:07.786Z"
   },
   {
    "duration": 0,
    "start_time": "2022-12-07T10:33:07.787Z"
   },
   {
    "duration": 0,
    "start_time": "2022-12-07T10:33:07.788Z"
   },
   {
    "duration": 0,
    "start_time": "2022-12-07T10:33:07.789Z"
   },
   {
    "duration": 0,
    "start_time": "2022-12-07T10:33:07.790Z"
   },
   {
    "duration": 0,
    "start_time": "2022-12-07T10:33:07.791Z"
   },
   {
    "duration": 0,
    "start_time": "2022-12-07T10:33:07.793Z"
   },
   {
    "duration": 0,
    "start_time": "2022-12-07T10:33:07.795Z"
   },
   {
    "duration": 0,
    "start_time": "2022-12-07T10:33:07.796Z"
   },
   {
    "duration": 0,
    "start_time": "2022-12-07T10:33:07.798Z"
   },
   {
    "duration": 0,
    "start_time": "2022-12-07T10:33:07.799Z"
   },
   {
    "duration": 0,
    "start_time": "2022-12-07T10:33:07.853Z"
   },
   {
    "duration": 0,
    "start_time": "2022-12-07T10:33:07.854Z"
   },
   {
    "duration": 0,
    "start_time": "2022-12-07T10:33:07.856Z"
   },
   {
    "duration": 0,
    "start_time": "2022-12-07T10:33:07.858Z"
   },
   {
    "duration": 0,
    "start_time": "2022-12-07T10:33:07.860Z"
   },
   {
    "duration": 0,
    "start_time": "2022-12-07T10:33:07.864Z"
   },
   {
    "duration": 0,
    "start_time": "2022-12-07T10:33:07.865Z"
   },
   {
    "duration": 0,
    "start_time": "2022-12-07T10:33:07.867Z"
   },
   {
    "duration": 0,
    "start_time": "2022-12-07T10:33:07.868Z"
   },
   {
    "duration": 0,
    "start_time": "2022-12-07T10:33:07.871Z"
   },
   {
    "duration": 0,
    "start_time": "2022-12-07T10:33:07.872Z"
   },
   {
    "duration": 0,
    "start_time": "2022-12-07T10:33:07.875Z"
   },
   {
    "duration": 0,
    "start_time": "2022-12-07T10:33:07.876Z"
   },
   {
    "duration": 0,
    "start_time": "2022-12-07T10:33:07.878Z"
   },
   {
    "duration": 0,
    "start_time": "2022-12-07T10:33:07.880Z"
   },
   {
    "duration": 0,
    "start_time": "2022-12-07T10:33:07.882Z"
   },
   {
    "duration": 0,
    "start_time": "2022-12-07T10:33:07.884Z"
   },
   {
    "duration": 0,
    "start_time": "2022-12-07T10:33:07.886Z"
   },
   {
    "duration": 0,
    "start_time": "2022-12-07T10:33:07.888Z"
   },
   {
    "duration": 0,
    "start_time": "2022-12-07T10:33:07.890Z"
   },
   {
    "duration": 0,
    "start_time": "2022-12-07T10:33:07.952Z"
   },
   {
    "duration": 0,
    "start_time": "2022-12-07T10:33:07.954Z"
   },
   {
    "duration": 0,
    "start_time": "2022-12-07T10:33:07.955Z"
   },
   {
    "duration": 0,
    "start_time": "2022-12-07T10:33:07.957Z"
   },
   {
    "duration": 0,
    "start_time": "2022-12-07T10:33:07.958Z"
   },
   {
    "duration": 0,
    "start_time": "2022-12-07T10:33:07.959Z"
   },
   {
    "duration": 0,
    "start_time": "2022-12-07T10:33:07.959Z"
   },
   {
    "duration": 0,
    "start_time": "2022-12-07T10:33:07.960Z"
   },
   {
    "duration": 0,
    "start_time": "2022-12-07T10:33:07.962Z"
   },
   {
    "duration": 8,
    "start_time": "2022-12-07T10:33:52.728Z"
   },
   {
    "duration": 42,
    "start_time": "2022-12-07T10:33:52.738Z"
   },
   {
    "duration": 16,
    "start_time": "2022-12-07T10:33:52.781Z"
   },
   {
    "duration": 45,
    "start_time": "2022-12-07T10:33:52.799Z"
   },
   {
    "duration": 14,
    "start_time": "2022-12-07T10:33:52.846Z"
   },
   {
    "duration": 14,
    "start_time": "2022-12-07T10:33:52.862Z"
   },
   {
    "duration": 4,
    "start_time": "2022-12-07T10:33:52.877Z"
   },
   {
    "duration": 5,
    "start_time": "2022-12-07T10:33:52.884Z"
   },
   {
    "duration": 14,
    "start_time": "2022-12-07T10:33:52.890Z"
   },
   {
    "duration": 25,
    "start_time": "2022-12-07T10:33:52.906Z"
   },
   {
    "duration": 33,
    "start_time": "2022-12-07T10:33:52.932Z"
   },
   {
    "duration": 9,
    "start_time": "2022-12-07T10:33:52.967Z"
   },
   {
    "duration": 6,
    "start_time": "2022-12-07T10:33:52.977Z"
   },
   {
    "duration": 5,
    "start_time": "2022-12-07T10:33:52.985Z"
   },
   {
    "duration": 5,
    "start_time": "2022-12-07T10:33:52.992Z"
   },
   {
    "duration": 7,
    "start_time": "2022-12-07T10:33:52.998Z"
   },
   {
    "duration": 7,
    "start_time": "2022-12-07T10:33:53.006Z"
   },
   {
    "duration": 5,
    "start_time": "2022-12-07T10:33:53.014Z"
   },
   {
    "duration": 9,
    "start_time": "2022-12-07T10:33:53.051Z"
   },
   {
    "duration": 12,
    "start_time": "2022-12-07T10:33:53.062Z"
   },
   {
    "duration": 24,
    "start_time": "2022-12-07T10:33:53.075Z"
   },
   {
    "duration": 11,
    "start_time": "2022-12-07T10:33:53.101Z"
   },
   {
    "duration": 49,
    "start_time": "2022-12-07T10:33:53.113Z"
   },
   {
    "duration": 10,
    "start_time": "2022-12-07T10:33:53.163Z"
   },
   {
    "duration": 20,
    "start_time": "2022-12-07T10:33:53.175Z"
   },
   {
    "duration": 324,
    "start_time": "2022-12-07T10:33:53.199Z"
   },
   {
    "duration": 2,
    "start_time": "2022-12-07T10:33:53.525Z"
   },
   {
    "duration": 7,
    "start_time": "2022-12-07T10:33:53.529Z"
   },
   {
    "duration": 5,
    "start_time": "2022-12-07T10:33:53.537Z"
   },
   {
    "duration": 204,
    "start_time": "2022-12-07T10:33:53.551Z"
   },
   {
    "duration": 94,
    "start_time": "2022-12-07T10:33:53.759Z"
   },
   {
    "duration": 15,
    "start_time": "2022-12-07T10:33:53.855Z"
   },
   {
    "duration": 0,
    "start_time": "2022-12-07T10:33:53.872Z"
   },
   {
    "duration": 0,
    "start_time": "2022-12-07T10:33:53.874Z"
   },
   {
    "duration": 0,
    "start_time": "2022-12-07T10:33:53.875Z"
   },
   {
    "duration": 0,
    "start_time": "2022-12-07T10:33:53.876Z"
   },
   {
    "duration": 0,
    "start_time": "2022-12-07T10:33:53.877Z"
   },
   {
    "duration": 1,
    "start_time": "2022-12-07T10:33:53.878Z"
   },
   {
    "duration": 0,
    "start_time": "2022-12-07T10:33:53.880Z"
   },
   {
    "duration": 0,
    "start_time": "2022-12-07T10:33:53.881Z"
   },
   {
    "duration": 0,
    "start_time": "2022-12-07T10:33:53.883Z"
   },
   {
    "duration": 0,
    "start_time": "2022-12-07T10:33:53.884Z"
   },
   {
    "duration": 0,
    "start_time": "2022-12-07T10:33:53.886Z"
   },
   {
    "duration": 0,
    "start_time": "2022-12-07T10:33:53.887Z"
   },
   {
    "duration": 0,
    "start_time": "2022-12-07T10:33:53.889Z"
   },
   {
    "duration": 0,
    "start_time": "2022-12-07T10:33:53.890Z"
   },
   {
    "duration": 0,
    "start_time": "2022-12-07T10:33:53.891Z"
   },
   {
    "duration": 0,
    "start_time": "2022-12-07T10:33:53.894Z"
   },
   {
    "duration": 0,
    "start_time": "2022-12-07T10:33:53.895Z"
   },
   {
    "duration": 0,
    "start_time": "2022-12-07T10:33:53.896Z"
   },
   {
    "duration": 0,
    "start_time": "2022-12-07T10:33:53.897Z"
   },
   {
    "duration": 0,
    "start_time": "2022-12-07T10:33:53.899Z"
   },
   {
    "duration": 0,
    "start_time": "2022-12-07T10:33:53.900Z"
   },
   {
    "duration": 0,
    "start_time": "2022-12-07T10:33:53.901Z"
   },
   {
    "duration": 0,
    "start_time": "2022-12-07T10:33:53.902Z"
   },
   {
    "duration": 0,
    "start_time": "2022-12-07T10:33:53.902Z"
   },
   {
    "duration": 0,
    "start_time": "2022-12-07T10:33:53.952Z"
   },
   {
    "duration": 0,
    "start_time": "2022-12-07T10:33:53.953Z"
   },
   {
    "duration": 0,
    "start_time": "2022-12-07T10:33:53.955Z"
   },
   {
    "duration": 0,
    "start_time": "2022-12-07T10:33:53.956Z"
   },
   {
    "duration": 0,
    "start_time": "2022-12-07T10:33:53.958Z"
   },
   {
    "duration": 0,
    "start_time": "2022-12-07T10:33:53.959Z"
   },
   {
    "duration": 0,
    "start_time": "2022-12-07T10:33:53.960Z"
   },
   {
    "duration": 0,
    "start_time": "2022-12-07T10:33:53.962Z"
   },
   {
    "duration": 0,
    "start_time": "2022-12-07T10:33:53.963Z"
   },
   {
    "duration": 0,
    "start_time": "2022-12-07T10:33:53.964Z"
   },
   {
    "duration": 0,
    "start_time": "2022-12-07T10:33:53.965Z"
   },
   {
    "duration": 0,
    "start_time": "2022-12-07T10:33:53.966Z"
   },
   {
    "duration": 0,
    "start_time": "2022-12-07T10:33:53.967Z"
   },
   {
    "duration": 0,
    "start_time": "2022-12-07T10:33:53.968Z"
   },
   {
    "duration": 0,
    "start_time": "2022-12-07T10:33:53.969Z"
   },
   {
    "duration": 0,
    "start_time": "2022-12-07T10:33:53.970Z"
   },
   {
    "duration": 0,
    "start_time": "2022-12-07T10:33:53.972Z"
   },
   {
    "duration": 0,
    "start_time": "2022-12-07T10:33:53.973Z"
   },
   {
    "duration": 0,
    "start_time": "2022-12-07T10:33:53.974Z"
   },
   {
    "duration": 0,
    "start_time": "2022-12-07T10:33:53.976Z"
   },
   {
    "duration": 0,
    "start_time": "2022-12-07T10:33:53.977Z"
   },
   {
    "duration": 0,
    "start_time": "2022-12-07T10:33:53.978Z"
   },
   {
    "duration": 0,
    "start_time": "2022-12-07T10:33:53.980Z"
   },
   {
    "duration": 40432,
    "start_time": "2022-12-07T10:34:04.711Z"
   },
   {
    "duration": 40069,
    "start_time": "2022-12-07T10:34:55.863Z"
   },
   {
    "duration": 40,
    "start_time": "2022-12-07T10:40:16.440Z"
   },
   {
    "duration": 28,
    "start_time": "2022-12-07T10:40:19.533Z"
   },
   {
    "duration": 6,
    "start_time": "2022-12-07T10:40:24.120Z"
   },
   {
    "duration": 40124,
    "start_time": "2022-12-07T10:41:30.380Z"
   },
   {
    "duration": 333,
    "start_time": "2022-12-07T10:42:10.506Z"
   },
   {
    "duration": 316,
    "start_time": "2022-12-07T10:42:19.209Z"
   },
   {
    "duration": 2,
    "start_time": "2022-12-07T10:42:21.184Z"
   },
   {
    "duration": 2,
    "start_time": "2022-12-07T10:42:21.864Z"
   },
   {
    "duration": 40473,
    "start_time": "2022-12-07T10:42:23.097Z"
   },
   {
    "duration": 5,
    "start_time": "2022-12-07T10:43:03.572Z"
   },
   {
    "duration": 6,
    "start_time": "2022-12-07T10:43:09.904Z"
   },
   {
    "duration": 329,
    "start_time": "2022-12-07T10:44:38.995Z"
   },
   {
    "duration": 40250,
    "start_time": "2022-12-07T10:44:45.236Z"
   },
   {
    "duration": 5,
    "start_time": "2022-12-07T10:45:25.488Z"
   },
   {
    "duration": 10,
    "start_time": "2022-12-07T10:46:35.454Z"
   },
   {
    "duration": 47,
    "start_time": "2022-12-07T10:46:35.467Z"
   },
   {
    "duration": 14,
    "start_time": "2022-12-07T10:46:35.516Z"
   },
   {
    "duration": 52,
    "start_time": "2022-12-07T10:46:35.533Z"
   },
   {
    "duration": 14,
    "start_time": "2022-12-07T10:46:35.587Z"
   },
   {
    "duration": 18,
    "start_time": "2022-12-07T10:46:35.602Z"
   },
   {
    "duration": 4,
    "start_time": "2022-12-07T10:46:35.622Z"
   },
   {
    "duration": 20,
    "start_time": "2022-12-07T10:46:35.653Z"
   },
   {
    "duration": 13,
    "start_time": "2022-12-07T10:46:35.676Z"
   },
   {
    "duration": 19,
    "start_time": "2022-12-07T10:46:35.691Z"
   },
   {
    "duration": 23,
    "start_time": "2022-12-07T10:46:35.712Z"
   },
   {
    "duration": 16,
    "start_time": "2022-12-07T10:46:35.754Z"
   },
   {
    "duration": 11,
    "start_time": "2022-12-07T10:46:35.772Z"
   },
   {
    "duration": 7,
    "start_time": "2022-12-07T10:46:35.785Z"
   },
   {
    "duration": 13,
    "start_time": "2022-12-07T10:46:35.794Z"
   },
   {
    "duration": 10,
    "start_time": "2022-12-07T10:46:35.808Z"
   },
   {
    "duration": 8,
    "start_time": "2022-12-07T10:46:35.820Z"
   },
   {
    "duration": 28,
    "start_time": "2022-12-07T10:46:35.830Z"
   },
   {
    "duration": 19,
    "start_time": "2022-12-07T10:46:35.861Z"
   },
   {
    "duration": 11,
    "start_time": "2022-12-07T10:46:35.881Z"
   },
   {
    "duration": 25,
    "start_time": "2022-12-07T10:46:35.894Z"
   },
   {
    "duration": 10,
    "start_time": "2022-12-07T10:46:35.921Z"
   },
   {
    "duration": 38,
    "start_time": "2022-12-07T10:46:35.933Z"
   },
   {
    "duration": 13,
    "start_time": "2022-12-07T10:46:35.974Z"
   },
   {
    "duration": 31,
    "start_time": "2022-12-07T10:46:35.988Z"
   },
   {
    "duration": 360,
    "start_time": "2022-12-07T10:46:36.020Z"
   },
   {
    "duration": 2,
    "start_time": "2022-12-07T10:46:36.382Z"
   },
   {
    "duration": 10,
    "start_time": "2022-12-07T10:46:36.385Z"
   },
   {
    "duration": 43343,
    "start_time": "2022-12-07T10:46:36.396Z"
   },
   {
    "duration": 433,
    "start_time": "2022-12-07T10:47:19.741Z"
   },
   {
    "duration": 181,
    "start_time": "2022-12-07T10:47:20.176Z"
   },
   {
    "duration": 48,
    "start_time": "2022-12-07T10:47:20.361Z"
   },
   {
    "duration": 49,
    "start_time": "2022-12-07T10:47:20.411Z"
   },
   {
    "duration": 111,
    "start_time": "2022-12-07T10:47:20.464Z"
   },
   {
    "duration": 31,
    "start_time": "2022-12-07T10:47:20.577Z"
   },
   {
    "duration": 119,
    "start_time": "2022-12-07T10:47:20.611Z"
   },
   {
    "duration": 6,
    "start_time": "2022-12-07T10:47:20.732Z"
   },
   {
    "duration": 131,
    "start_time": "2022-12-07T10:47:20.750Z"
   },
   {
    "duration": 6,
    "start_time": "2022-12-07T10:47:20.882Z"
   },
   {
    "duration": 110,
    "start_time": "2022-12-07T10:47:20.890Z"
   },
   {
    "duration": 5,
    "start_time": "2022-12-07T10:47:21.002Z"
   },
   {
    "duration": 27,
    "start_time": "2022-12-07T10:47:21.008Z"
   },
   {
    "duration": 45,
    "start_time": "2022-12-07T10:47:21.036Z"
   },
   {
    "duration": 35,
    "start_time": "2022-12-07T10:47:21.082Z"
   },
   {
    "duration": 15,
    "start_time": "2022-12-07T10:47:21.119Z"
   },
   {
    "duration": 38,
    "start_time": "2022-12-07T10:47:21.135Z"
   },
   {
    "duration": 106,
    "start_time": "2022-12-07T10:47:21.175Z"
   },
   {
    "duration": 106,
    "start_time": "2022-12-07T10:47:21.282Z"
   },
   {
    "duration": 30,
    "start_time": "2022-12-07T10:47:21.389Z"
   },
   {
    "duration": 6,
    "start_time": "2022-12-07T10:47:21.421Z"
   },
   {
    "duration": 34,
    "start_time": "2022-12-07T10:47:21.429Z"
   },
   {
    "duration": 401,
    "start_time": "2022-12-07T10:47:21.465Z"
   },
   {
    "duration": 4,
    "start_time": "2022-12-07T10:47:21.868Z"
   },
   {
    "duration": 68,
    "start_time": "2022-12-07T10:47:21.873Z"
   },
   {
    "duration": 128,
    "start_time": "2022-12-07T10:47:21.943Z"
   },
   {
    "duration": 103,
    "start_time": "2022-12-07T10:47:22.164Z"
   },
   {
    "duration": 206,
    "start_time": "2022-12-07T10:47:22.269Z"
   },
   {
    "duration": 58,
    "start_time": "2022-12-07T10:47:22.477Z"
   },
   {
    "duration": 46,
    "start_time": "2022-12-07T10:47:22.536Z"
   },
   {
    "duration": 50,
    "start_time": "2022-12-07T10:47:22.584Z"
   },
   {
    "duration": 194,
    "start_time": "2022-12-07T10:47:22.636Z"
   },
   {
    "duration": 4,
    "start_time": "2022-12-07T10:47:22.832Z"
   },
   {
    "duration": 71,
    "start_time": "2022-12-07T10:47:22.837Z"
   },
   {
    "duration": 162,
    "start_time": "2022-12-07T10:47:22.910Z"
   },
   {
    "duration": 121,
    "start_time": "2022-12-07T10:47:23.154Z"
   },
   {
    "duration": 202,
    "start_time": "2022-12-07T10:47:23.277Z"
   },
   {
    "duration": 28,
    "start_time": "2022-12-07T10:47:23.481Z"
   },
   {
    "duration": 21,
    "start_time": "2022-12-07T10:47:23.511Z"
   },
   {
    "duration": 53,
    "start_time": "2022-12-07T10:47:23.537Z"
   },
   {
    "duration": 941,
    "start_time": "2022-12-07T10:47:23.592Z"
   },
   {
    "duration": 3,
    "start_time": "2022-12-07T10:47:24.535Z"
   },
   {
    "duration": 45,
    "start_time": "2022-12-07T10:47:24.539Z"
   },
   {
    "duration": 4,
    "start_time": "2022-12-07T10:47:24.585Z"
   },
   {
    "duration": 386,
    "start_time": "2022-12-07T10:47:24.590Z"
   },
   {
    "duration": 20,
    "start_time": "2022-12-07T10:47:24.978Z"
   },
   {
    "duration": 4,
    "start_time": "2022-12-07T10:47:24.999Z"
   },
   {
    "duration": 960,
    "start_time": "2022-12-07T10:47:25.004Z"
   },
   {
    "duration": 23,
    "start_time": "2022-12-07T10:47:25.966Z"
   },
   {
    "duration": 4,
    "start_time": "2022-12-07T10:47:25.990Z"
   },
   {
    "duration": 324,
    "start_time": "2022-12-07T10:50:23.496Z"
   },
   {
    "duration": 4,
    "start_time": "2022-12-07T10:51:06.412Z"
   },
   {
    "duration": 54,
    "start_time": "2022-12-07T10:51:06.418Z"
   },
   {
    "duration": 16,
    "start_time": "2022-12-07T10:51:06.474Z"
   },
   {
    "duration": 46,
    "start_time": "2022-12-07T10:51:06.492Z"
   },
   {
    "duration": 21,
    "start_time": "2022-12-07T10:51:06.540Z"
   },
   {
    "duration": 15,
    "start_time": "2022-12-07T10:51:06.563Z"
   },
   {
    "duration": 4,
    "start_time": "2022-12-07T10:51:06.580Z"
   },
   {
    "duration": 6,
    "start_time": "2022-12-07T10:51:06.587Z"
   },
   {
    "duration": 8,
    "start_time": "2022-12-07T10:51:06.596Z"
   },
   {
    "duration": 50,
    "start_time": "2022-12-07T10:51:06.606Z"
   },
   {
    "duration": 25,
    "start_time": "2022-12-07T10:51:06.658Z"
   },
   {
    "duration": 9,
    "start_time": "2022-12-07T10:51:06.685Z"
   },
   {
    "duration": 5,
    "start_time": "2022-12-07T10:51:06.696Z"
   },
   {
    "duration": 4,
    "start_time": "2022-12-07T10:51:06.703Z"
   },
   {
    "duration": 6,
    "start_time": "2022-12-07T10:51:06.709Z"
   },
   {
    "duration": 34,
    "start_time": "2022-12-07T10:51:06.717Z"
   },
   {
    "duration": 7,
    "start_time": "2022-12-07T10:51:06.753Z"
   },
   {
    "duration": 7,
    "start_time": "2022-12-07T10:51:06.762Z"
   },
   {
    "duration": 11,
    "start_time": "2022-12-07T10:51:06.770Z"
   },
   {
    "duration": 14,
    "start_time": "2022-12-07T10:51:06.783Z"
   },
   {
    "duration": 23,
    "start_time": "2022-12-07T10:51:06.799Z"
   },
   {
    "duration": 28,
    "start_time": "2022-12-07T10:51:06.824Z"
   },
   {
    "duration": 21,
    "start_time": "2022-12-07T10:51:06.854Z"
   },
   {
    "duration": 13,
    "start_time": "2022-12-07T10:51:06.878Z"
   },
   {
    "duration": 30,
    "start_time": "2022-12-07T10:51:06.893Z"
   },
   {
    "duration": 349,
    "start_time": "2022-12-07T10:51:06.925Z"
   },
   {
    "duration": 2,
    "start_time": "2022-12-07T10:51:07.279Z"
   },
   {
    "duration": 9,
    "start_time": "2022-12-07T10:51:07.283Z"
   },
   {
    "duration": 42186,
    "start_time": "2022-12-07T10:51:07.294Z"
   },
   {
    "duration": 276,
    "start_time": "2022-12-07T10:51:49.482Z"
   },
   {
    "duration": 95,
    "start_time": "2022-12-07T10:51:49.760Z"
   },
   {
    "duration": 135,
    "start_time": "2022-12-07T10:51:49.857Z"
   },
   {
    "duration": 59,
    "start_time": "2022-12-07T10:51:49.993Z"
   },
   {
    "duration": 115,
    "start_time": "2022-12-07T10:51:50.054Z"
   },
   {
    "duration": 18,
    "start_time": "2022-12-07T10:51:50.171Z"
   },
   {
    "duration": 97,
    "start_time": "2022-12-07T10:51:50.191Z"
   },
   {
    "duration": 6,
    "start_time": "2022-12-07T10:51:50.290Z"
   },
   {
    "duration": 123,
    "start_time": "2022-12-07T10:51:50.298Z"
   },
   {
    "duration": 6,
    "start_time": "2022-12-07T10:51:50.422Z"
   },
   {
    "duration": 108,
    "start_time": "2022-12-07T10:51:50.430Z"
   },
   {
    "duration": 13,
    "start_time": "2022-12-07T10:51:50.540Z"
   },
   {
    "duration": 17,
    "start_time": "2022-12-07T10:51:50.554Z"
   },
   {
    "duration": 21,
    "start_time": "2022-12-07T10:51:50.573Z"
   },
   {
    "duration": 22,
    "start_time": "2022-12-07T10:51:50.596Z"
   },
   {
    "duration": 8,
    "start_time": "2022-12-07T10:51:50.620Z"
   },
   {
    "duration": 24,
    "start_time": "2022-12-07T10:51:50.630Z"
   },
   {
    "duration": 109,
    "start_time": "2022-12-07T10:51:50.656Z"
   },
   {
    "duration": 101,
    "start_time": "2022-12-07T10:51:50.766Z"
   },
   {
    "duration": 34,
    "start_time": "2022-12-07T10:51:50.869Z"
   },
   {
    "duration": 4,
    "start_time": "2022-12-07T10:51:50.905Z"
   },
   {
    "duration": 12,
    "start_time": "2022-12-07T10:51:50.911Z"
   },
   {
    "duration": 387,
    "start_time": "2022-12-07T10:51:50.925Z"
   },
   {
    "duration": 3,
    "start_time": "2022-12-07T10:51:51.314Z"
   },
   {
    "duration": 45,
    "start_time": "2022-12-07T10:51:51.319Z"
   },
   {
    "duration": 197,
    "start_time": "2022-12-07T10:51:51.366Z"
   },
   {
    "duration": 101,
    "start_time": "2022-12-07T10:51:51.652Z"
   },
   {
    "duration": 102,
    "start_time": "2022-12-07T10:51:51.755Z"
   },
   {
    "duration": 26,
    "start_time": "2022-12-07T10:51:51.859Z"
   },
   {
    "duration": 4,
    "start_time": "2022-12-07T10:51:51.887Z"
   },
   {
    "duration": 11,
    "start_time": "2022-12-07T10:51:51.894Z"
   },
   {
    "duration": 181,
    "start_time": "2022-12-07T10:51:51.907Z"
   },
   {
    "duration": 3,
    "start_time": "2022-12-07T10:51:52.090Z"
   },
   {
    "duration": 45,
    "start_time": "2022-12-07T10:51:52.095Z"
   },
   {
    "duration": 110,
    "start_time": "2022-12-07T10:51:52.152Z"
   },
   {
    "duration": 14,
    "start_time": "2022-12-07T10:51:52.350Z"
   },
   {
    "duration": 5,
    "start_time": "2022-12-07T10:51:52.452Z"
   },
   {
    "duration": 102,
    "start_time": "2022-12-07T10:51:52.459Z"
   },
   {
    "duration": 12,
    "start_time": "2022-12-07T10:51:52.563Z"
   },
   {
    "duration": 27,
    "start_time": "2022-12-07T10:51:52.577Z"
   },
   {
    "duration": 944,
    "start_time": "2022-12-07T10:51:52.606Z"
   },
   {
    "duration": 4,
    "start_time": "2022-12-07T10:51:53.552Z"
   },
   {
    "duration": 39,
    "start_time": "2022-12-07T10:51:53.558Z"
   },
   {
    "duration": 4,
    "start_time": "2022-12-07T10:51:53.599Z"
   },
   {
    "duration": 397,
    "start_time": "2022-12-07T10:51:53.605Z"
   },
   {
    "duration": 21,
    "start_time": "2022-12-07T10:51:54.004Z"
   },
   {
    "duration": 4,
    "start_time": "2022-12-07T10:51:54.027Z"
   },
   {
    "duration": 965,
    "start_time": "2022-12-07T10:51:54.050Z"
   },
   {
    "duration": 22,
    "start_time": "2022-12-07T10:51:55.018Z"
   },
   {
    "duration": 4,
    "start_time": "2022-12-07T10:51:55.052Z"
   },
   {
    "duration": 41778,
    "start_time": "2022-12-07T10:52:25.822Z"
   },
   {
    "duration": 70,
    "start_time": "2022-12-07T10:59:24.811Z"
   },
   {
    "duration": 86,
    "start_time": "2022-12-07T11:00:19.919Z"
   },
   {
    "duration": 358,
    "start_time": "2022-12-07T11:00:28.779Z"
   },
   {
    "duration": 5,
    "start_time": "2022-12-07T11:00:38.641Z"
   },
   {
    "duration": 40657,
    "start_time": "2022-12-07T11:00:58.603Z"
   },
   {
    "duration": 5,
    "start_time": "2022-12-07T11:03:59.210Z"
   },
   {
    "duration": 5,
    "start_time": "2022-12-07T11:04:39.381Z"
   },
   {
    "duration": 66,
    "start_time": "2022-12-07T11:04:39.388Z"
   },
   {
    "duration": 19,
    "start_time": "2022-12-07T11:04:39.456Z"
   },
   {
    "duration": 49,
    "start_time": "2022-12-07T11:04:39.477Z"
   },
   {
    "duration": 15,
    "start_time": "2022-12-07T11:04:39.550Z"
   },
   {
    "duration": 13,
    "start_time": "2022-12-07T11:04:39.567Z"
   },
   {
    "duration": 4,
    "start_time": "2022-12-07T11:04:39.582Z"
   },
   {
    "duration": 11,
    "start_time": "2022-12-07T11:04:39.589Z"
   },
   {
    "duration": 51,
    "start_time": "2022-12-07T11:04:39.604Z"
   },
   {
    "duration": 25,
    "start_time": "2022-12-07T11:04:39.657Z"
   },
   {
    "duration": 30,
    "start_time": "2022-12-07T11:04:39.684Z"
   },
   {
    "duration": 9,
    "start_time": "2022-12-07T11:04:39.717Z"
   },
   {
    "duration": 28,
    "start_time": "2022-12-07T11:04:39.728Z"
   },
   {
    "duration": 13,
    "start_time": "2022-12-07T11:04:39.758Z"
   },
   {
    "duration": 15,
    "start_time": "2022-12-07T11:04:39.774Z"
   },
   {
    "duration": 13,
    "start_time": "2022-12-07T11:04:39.791Z"
   },
   {
    "duration": 27,
    "start_time": "2022-12-07T11:04:39.808Z"
   },
   {
    "duration": 8,
    "start_time": "2022-12-07T11:04:39.837Z"
   },
   {
    "duration": 13,
    "start_time": "2022-12-07T11:04:39.849Z"
   },
   {
    "duration": 15,
    "start_time": "2022-12-07T11:04:39.864Z"
   },
   {
    "duration": 31,
    "start_time": "2022-12-07T11:04:39.882Z"
   },
   {
    "duration": 14,
    "start_time": "2022-12-07T11:04:39.915Z"
   },
   {
    "duration": 39,
    "start_time": "2022-12-07T11:04:39.930Z"
   },
   {
    "duration": 13,
    "start_time": "2022-12-07T11:04:39.974Z"
   },
   {
    "duration": 23,
    "start_time": "2022-12-07T11:04:39.990Z"
   },
   {
    "duration": 381,
    "start_time": "2022-12-07T11:04:40.016Z"
   },
   {
    "duration": 3,
    "start_time": "2022-12-07T11:04:40.399Z"
   },
   {
    "duration": 7,
    "start_time": "2022-12-07T11:04:40.403Z"
   },
   {
    "duration": 41333,
    "start_time": "2022-12-07T11:04:40.411Z"
   },
   {
    "duration": 207,
    "start_time": "2022-12-07T11:05:21.746Z"
   },
   {
    "duration": 96,
    "start_time": "2022-12-07T11:05:21.958Z"
   },
   {
    "duration": 34,
    "start_time": "2022-12-07T11:05:22.056Z"
   },
   {
    "duration": 10,
    "start_time": "2022-12-07T11:05:22.092Z"
   },
   {
    "duration": 97,
    "start_time": "2022-12-07T11:05:22.154Z"
   },
   {
    "duration": 12,
    "start_time": "2022-12-07T11:05:22.253Z"
   },
   {
    "duration": 112,
    "start_time": "2022-12-07T11:05:22.267Z"
   },
   {
    "duration": 6,
    "start_time": "2022-12-07T11:05:22.381Z"
   },
   {
    "duration": 108,
    "start_time": "2022-12-07T11:05:22.388Z"
   },
   {
    "duration": 6,
    "start_time": "2022-12-07T11:05:22.498Z"
   },
   {
    "duration": 98,
    "start_time": "2022-12-07T11:05:22.505Z"
   },
   {
    "duration": 5,
    "start_time": "2022-12-07T11:05:22.604Z"
   },
   {
    "duration": 9,
    "start_time": "2022-12-07T11:05:22.611Z"
   },
   {
    "duration": 16,
    "start_time": "2022-12-07T11:05:22.621Z"
   },
   {
    "duration": 25,
    "start_time": "2022-12-07T11:05:22.638Z"
   },
   {
    "duration": 18,
    "start_time": "2022-12-07T11:05:22.664Z"
   },
   {
    "duration": 19,
    "start_time": "2022-12-07T11:05:22.684Z"
   },
   {
    "duration": 95,
    "start_time": "2022-12-07T11:05:22.705Z"
   },
   {
    "duration": 96,
    "start_time": "2022-12-07T11:05:22.802Z"
   },
   {
    "duration": 32,
    "start_time": "2022-12-07T11:05:22.900Z"
   },
   {
    "duration": 18,
    "start_time": "2022-12-07T11:05:22.934Z"
   },
   {
    "duration": 18,
    "start_time": "2022-12-07T11:05:22.954Z"
   },
   {
    "duration": 356,
    "start_time": "2022-12-07T11:05:22.974Z"
   },
   {
    "duration": 3,
    "start_time": "2022-12-07T11:05:23.332Z"
   },
   {
    "duration": 42,
    "start_time": "2022-12-07T11:05:23.337Z"
   },
   {
    "duration": 370,
    "start_time": "2022-12-07T11:05:23.381Z"
   },
   {
    "duration": 99,
    "start_time": "2022-12-07T11:05:23.753Z"
   },
   {
    "duration": 110,
    "start_time": "2022-12-07T11:05:23.854Z"
   },
   {
    "duration": 37,
    "start_time": "2022-12-07T11:05:23.967Z"
   },
   {
    "duration": 23,
    "start_time": "2022-12-07T11:05:24.006Z"
   },
   {
    "duration": 11,
    "start_time": "2022-12-07T11:05:24.031Z"
   },
   {
    "duration": 298,
    "start_time": "2022-12-07T11:05:24.044Z"
   },
   {
    "duration": 4,
    "start_time": "2022-12-07T11:05:24.343Z"
   },
   {
    "duration": 33,
    "start_time": "2022-12-07T11:05:24.351Z"
   },
   {
    "duration": 265,
    "start_time": "2022-12-07T11:05:24.386Z"
   },
   {
    "duration": 101,
    "start_time": "2022-12-07T11:05:24.657Z"
   },
   {
    "duration": 99,
    "start_time": "2022-12-07T11:05:24.760Z"
   },
   {
    "duration": 90,
    "start_time": "2022-12-07T11:05:24.864Z"
   },
   {
    "duration": 13,
    "start_time": "2022-12-07T11:05:24.955Z"
   },
   {
    "duration": 18,
    "start_time": "2022-12-07T11:05:24.972Z"
   },
   {
    "duration": 920,
    "start_time": "2022-12-07T11:05:24.992Z"
   },
   {
    "duration": 3,
    "start_time": "2022-12-07T11:05:25.914Z"
   },
   {
    "duration": 43,
    "start_time": "2022-12-07T11:05:25.919Z"
   },
   {
    "duration": 4,
    "start_time": "2022-12-07T11:05:25.964Z"
   },
   {
    "duration": 349,
    "start_time": "2022-12-07T11:05:25.970Z"
   },
   {
    "duration": 30,
    "start_time": "2022-12-07T11:05:26.321Z"
   },
   {
    "duration": 4,
    "start_time": "2022-12-07T11:05:26.353Z"
   },
   {
    "duration": 890,
    "start_time": "2022-12-07T11:05:26.358Z"
   },
   {
    "duration": 20,
    "start_time": "2022-12-07T11:05:27.251Z"
   },
   {
    "duration": 4,
    "start_time": "2022-12-07T11:05:27.272Z"
   },
   {
    "duration": 31,
    "start_time": "2022-12-07T11:11:44.267Z"
   },
   {
    "duration": 35,
    "start_time": "2022-12-07T11:12:22.175Z"
   },
   {
    "duration": 29,
    "start_time": "2022-12-07T11:13:05.585Z"
   },
   {
    "duration": 12,
    "start_time": "2022-12-07T11:13:33.909Z"
   },
   {
    "duration": 45,
    "start_time": "2022-12-07T11:13:51.700Z"
   },
   {
    "duration": 3,
    "start_time": "2022-12-07T11:13:55.794Z"
   },
   {
    "duration": 12,
    "start_time": "2022-12-07T11:15:52.794Z"
   },
   {
    "duration": 26,
    "start_time": "2022-12-07T11:17:24.896Z"
   },
   {
    "duration": 25,
    "start_time": "2022-12-07T11:18:03.642Z"
   },
   {
    "duration": 3,
    "start_time": "2022-12-07T11:18:12.394Z"
   },
   {
    "duration": 27,
    "start_time": "2022-12-07T11:18:31.986Z"
   },
   {
    "duration": 52,
    "start_time": "2022-12-07T11:18:59.645Z"
   },
   {
    "duration": 41257,
    "start_time": "2022-12-07T11:19:24.532Z"
   },
   {
    "duration": 335,
    "start_time": "2022-12-07T11:20:05.791Z"
   },
   {
    "duration": 4,
    "start_time": "2022-12-07T11:23:08.932Z"
   },
   {
    "duration": 50,
    "start_time": "2022-12-07T11:23:08.939Z"
   },
   {
    "duration": 21,
    "start_time": "2022-12-07T11:23:08.990Z"
   },
   {
    "duration": 53,
    "start_time": "2022-12-07T11:23:09.014Z"
   },
   {
    "duration": 14,
    "start_time": "2022-12-07T11:23:09.069Z"
   },
   {
    "duration": 16,
    "start_time": "2022-12-07T11:23:09.085Z"
   },
   {
    "duration": 6,
    "start_time": "2022-12-07T11:23:09.103Z"
   },
   {
    "duration": 6,
    "start_time": "2022-12-07T11:23:09.151Z"
   },
   {
    "duration": 21,
    "start_time": "2022-12-07T11:23:09.161Z"
   },
   {
    "duration": 18,
    "start_time": "2022-12-07T11:23:09.184Z"
   },
   {
    "duration": 54,
    "start_time": "2022-12-07T11:23:09.205Z"
   },
   {
    "duration": 12,
    "start_time": "2022-12-07T11:23:09.261Z"
   },
   {
    "duration": 10,
    "start_time": "2022-12-07T11:23:09.275Z"
   },
   {
    "duration": 13,
    "start_time": "2022-12-07T11:23:09.287Z"
   },
   {
    "duration": 6,
    "start_time": "2022-12-07T11:23:09.302Z"
   },
   {
    "duration": 7,
    "start_time": "2022-12-07T11:23:09.310Z"
   },
   {
    "duration": 7,
    "start_time": "2022-12-07T11:23:09.318Z"
   },
   {
    "duration": 3,
    "start_time": "2022-12-07T11:23:09.351Z"
   },
   {
    "duration": 23,
    "start_time": "2022-12-07T11:23:09.356Z"
   },
   {
    "duration": 21,
    "start_time": "2022-12-07T11:23:09.381Z"
   },
   {
    "duration": 29,
    "start_time": "2022-12-07T11:23:09.403Z"
   },
   {
    "duration": 12,
    "start_time": "2022-12-07T11:23:09.434Z"
   },
   {
    "duration": 22,
    "start_time": "2022-12-07T11:23:09.447Z"
   },
   {
    "duration": 12,
    "start_time": "2022-12-07T11:23:09.474Z"
   },
   {
    "duration": 26,
    "start_time": "2022-12-07T11:23:09.488Z"
   },
   {
    "duration": 448,
    "start_time": "2022-12-07T11:23:09.516Z"
   },
   {
    "duration": 3,
    "start_time": "2022-12-07T11:23:09.967Z"
   },
   {
    "duration": 14,
    "start_time": "2022-12-07T11:23:09.972Z"
   },
   {
    "duration": 41942,
    "start_time": "2022-12-07T11:23:09.988Z"
   },
   {
    "duration": 522,
    "start_time": "2022-12-07T11:23:51.932Z"
   },
   {
    "duration": 99,
    "start_time": "2022-12-07T11:23:52.457Z"
   },
   {
    "duration": 41,
    "start_time": "2022-12-07T11:23:52.560Z"
   },
   {
    "duration": 56,
    "start_time": "2022-12-07T11:23:52.604Z"
   },
   {
    "duration": 91,
    "start_time": "2022-12-07T11:23:52.663Z"
   },
   {
    "duration": 9,
    "start_time": "2022-12-07T11:23:52.757Z"
   },
   {
    "duration": 111,
    "start_time": "2022-12-07T11:23:52.768Z"
   },
   {
    "duration": 7,
    "start_time": "2022-12-07T11:23:52.881Z"
   },
   {
    "duration": 122,
    "start_time": "2022-12-07T11:23:52.889Z"
   },
   {
    "duration": 7,
    "start_time": "2022-12-07T11:23:53.013Z"
   },
   {
    "duration": 113,
    "start_time": "2022-12-07T11:23:53.022Z"
   },
   {
    "duration": 14,
    "start_time": "2022-12-07T11:23:53.137Z"
   },
   {
    "duration": 4,
    "start_time": "2022-12-07T11:23:53.153Z"
   },
   {
    "duration": 18,
    "start_time": "2022-12-07T11:23:53.159Z"
   },
   {
    "duration": 18,
    "start_time": "2022-12-07T11:23:53.178Z"
   },
   {
    "duration": 8,
    "start_time": "2022-12-07T11:23:53.197Z"
   },
   {
    "duration": 48,
    "start_time": "2022-12-07T11:23:53.207Z"
   },
   {
    "duration": 97,
    "start_time": "2022-12-07T11:23:53.256Z"
   },
   {
    "duration": 109,
    "start_time": "2022-12-07T11:23:53.354Z"
   },
   {
    "duration": 42,
    "start_time": "2022-12-07T11:23:53.466Z"
   },
   {
    "duration": 4,
    "start_time": "2022-12-07T11:23:53.510Z"
   },
   {
    "duration": 17,
    "start_time": "2022-12-07T11:23:53.516Z"
   },
   {
    "duration": 365,
    "start_time": "2022-12-07T11:23:53.551Z"
   },
   {
    "duration": 4,
    "start_time": "2022-12-07T11:23:53.918Z"
   },
   {
    "duration": 50,
    "start_time": "2022-12-07T11:23:53.924Z"
   },
   {
    "duration": 89,
    "start_time": "2022-12-07T11:23:53.976Z"
   },
   {
    "duration": 100,
    "start_time": "2022-12-07T11:23:54.068Z"
   },
   {
    "duration": 183,
    "start_time": "2022-12-07T11:23:54.170Z"
   },
   {
    "duration": 24,
    "start_time": "2022-12-07T11:23:54.355Z"
   },
   {
    "duration": 4,
    "start_time": "2022-12-07T11:23:54.381Z"
   },
   {
    "duration": 11,
    "start_time": "2022-12-07T11:23:54.387Z"
   },
   {
    "duration": 182,
    "start_time": "2022-12-07T11:23:54.400Z"
   },
   {
    "duration": 4,
    "start_time": "2022-12-07T11:23:54.583Z"
   },
   {
    "duration": 38,
    "start_time": "2022-12-07T11:23:54.589Z"
   },
   {
    "duration": 129,
    "start_time": "2022-12-07T11:23:54.628Z"
   },
   {
    "duration": 191,
    "start_time": "2022-12-07T11:23:54.760Z"
   },
   {
    "duration": 93,
    "start_time": "2022-12-07T11:23:54.958Z"
   },
   {
    "duration": 9,
    "start_time": "2022-12-07T11:23:55.053Z"
   },
   {
    "duration": 11,
    "start_time": "2022-12-07T11:23:55.064Z"
   },
   {
    "duration": 37,
    "start_time": "2022-12-07T11:23:55.080Z"
   },
   {
    "duration": 943,
    "start_time": "2022-12-07T11:23:55.120Z"
   },
   {
    "duration": 4,
    "start_time": "2022-12-07T11:23:56.065Z"
   },
   {
    "duration": 36,
    "start_time": "2022-12-07T11:23:56.070Z"
   },
   {
    "duration": 4,
    "start_time": "2022-12-07T11:23:56.108Z"
   },
   {
    "duration": 416,
    "start_time": "2022-12-07T11:23:56.113Z"
   },
   {
    "duration": 29,
    "start_time": "2022-12-07T11:23:56.531Z"
   },
   {
    "duration": 4,
    "start_time": "2022-12-07T11:23:56.562Z"
   },
   {
    "duration": 911,
    "start_time": "2022-12-07T11:23:56.567Z"
   },
   {
    "duration": 21,
    "start_time": "2022-12-07T11:23:57.480Z"
   },
   {
    "duration": 5,
    "start_time": "2022-12-07T11:23:57.503Z"
   },
   {
    "duration": 494,
    "start_time": "2022-12-07T11:27:08.911Z"
   },
   {
    "duration": 3,
    "start_time": "2022-12-07T11:27:12.667Z"
   },
   {
    "duration": 11,
    "start_time": "2022-12-07T11:27:46.004Z"
   },
   {
    "duration": 12,
    "start_time": "2022-12-07T11:27:49.159Z"
   },
   {
    "duration": 72,
    "start_time": "2022-12-07T11:29:24.854Z"
   },
   {
    "duration": 1535,
    "start_time": "2022-12-07T11:29:30.411Z"
   },
   {
    "duration": 4,
    "start_time": "2022-12-07T11:29:34.526Z"
   },
   {
    "duration": 788,
    "start_time": "2022-12-07T11:29:49.179Z"
   },
   {
    "duration": 5,
    "start_time": "2022-12-07T11:29:50.412Z"
   },
   {
    "duration": 623,
    "start_time": "2022-12-07T11:30:40.312Z"
   },
   {
    "duration": 5,
    "start_time": "2022-12-07T11:30:42.772Z"
   },
   {
    "duration": 617,
    "start_time": "2022-12-07T11:31:15.461Z"
   },
   {
    "duration": 4,
    "start_time": "2022-12-07T11:31:17.013Z"
   },
   {
    "duration": 652,
    "start_time": "2022-12-07T11:31:41.907Z"
   },
   {
    "duration": 4,
    "start_time": "2022-12-07T11:31:43.530Z"
   },
   {
    "duration": 382,
    "start_time": "2022-12-07T11:32:07.149Z"
   },
   {
    "duration": 5,
    "start_time": "2022-12-07T11:32:14.464Z"
   },
   {
    "duration": 46,
    "start_time": "2022-12-07T11:32:14.473Z"
   },
   {
    "duration": 18,
    "start_time": "2022-12-07T11:32:14.521Z"
   },
   {
    "duration": 51,
    "start_time": "2022-12-07T11:32:14.541Z"
   },
   {
    "duration": 17,
    "start_time": "2022-12-07T11:32:14.595Z"
   },
   {
    "duration": 54,
    "start_time": "2022-12-07T11:32:14.614Z"
   },
   {
    "duration": 5,
    "start_time": "2022-12-07T11:32:14.670Z"
   },
   {
    "duration": 11,
    "start_time": "2022-12-07T11:32:14.676Z"
   },
   {
    "duration": 12,
    "start_time": "2022-12-07T11:32:14.689Z"
   },
   {
    "duration": 56,
    "start_time": "2022-12-07T11:32:14.704Z"
   },
   {
    "duration": 28,
    "start_time": "2022-12-07T11:32:14.763Z"
   },
   {
    "duration": 13,
    "start_time": "2022-12-07T11:32:14.794Z"
   },
   {
    "duration": 43,
    "start_time": "2022-12-07T11:32:14.812Z"
   },
   {
    "duration": 8,
    "start_time": "2022-12-07T11:32:14.857Z"
   },
   {
    "duration": 6,
    "start_time": "2022-12-07T11:32:14.867Z"
   },
   {
    "duration": 9,
    "start_time": "2022-12-07T11:32:14.875Z"
   },
   {
    "duration": 7,
    "start_time": "2022-12-07T11:32:14.886Z"
   },
   {
    "duration": 6,
    "start_time": "2022-12-07T11:32:14.895Z"
   },
   {
    "duration": 10,
    "start_time": "2022-12-07T11:32:14.903Z"
   },
   {
    "duration": 48,
    "start_time": "2022-12-07T11:32:14.915Z"
   },
   {
    "duration": 30,
    "start_time": "2022-12-07T11:32:14.965Z"
   },
   {
    "duration": 12,
    "start_time": "2022-12-07T11:32:14.997Z"
   },
   {
    "duration": 54,
    "start_time": "2022-12-07T11:32:15.011Z"
   },
   {
    "duration": 13,
    "start_time": "2022-12-07T11:32:15.068Z"
   },
   {
    "duration": 28,
    "start_time": "2022-12-07T11:32:15.083Z"
   },
   {
    "duration": 478,
    "start_time": "2022-12-07T11:32:15.113Z"
   },
   {
    "duration": 2,
    "start_time": "2022-12-07T11:32:15.593Z"
   },
   {
    "duration": 8,
    "start_time": "2022-12-07T11:32:15.597Z"
   },
   {
    "duration": 44484,
    "start_time": "2022-12-07T11:32:15.607Z"
   },
   {
    "duration": 167,
    "start_time": "2022-12-07T11:33:00.093Z"
   },
   {
    "duration": 197,
    "start_time": "2022-12-07T11:33:00.262Z"
   },
   {
    "duration": 52,
    "start_time": "2022-12-07T11:33:00.461Z"
   },
   {
    "duration": 43,
    "start_time": "2022-12-07T11:33:00.514Z"
   },
   {
    "duration": 107,
    "start_time": "2022-12-07T11:33:00.560Z"
   },
   {
    "duration": 35,
    "start_time": "2022-12-07T11:33:00.669Z"
   },
   {
    "duration": 105,
    "start_time": "2022-12-07T11:33:00.705Z"
   },
   {
    "duration": 7,
    "start_time": "2022-12-07T11:33:00.815Z"
   },
   {
    "duration": 130,
    "start_time": "2022-12-07T11:33:00.824Z"
   },
   {
    "duration": 8,
    "start_time": "2022-12-07T11:33:00.956Z"
   },
   {
    "duration": 116,
    "start_time": "2022-12-07T11:33:00.966Z"
   },
   {
    "duration": 6,
    "start_time": "2022-12-07T11:33:01.084Z"
   },
   {
    "duration": 22,
    "start_time": "2022-12-07T11:33:01.092Z"
   },
   {
    "duration": 50,
    "start_time": "2022-12-07T11:33:01.116Z"
   },
   {
    "duration": 32,
    "start_time": "2022-12-07T11:33:01.169Z"
   },
   {
    "duration": 6,
    "start_time": "2022-12-07T11:33:01.203Z"
   },
   {
    "duration": 23,
    "start_time": "2022-12-07T11:33:01.211Z"
   },
   {
    "duration": 101,
    "start_time": "2022-12-07T11:33:01.236Z"
   },
   {
    "duration": 112,
    "start_time": "2022-12-07T11:33:01.339Z"
   },
   {
    "duration": 649,
    "start_time": "2022-12-07T11:33:01.453Z"
   },
   {
    "duration": 4,
    "start_time": "2022-12-07T11:33:02.104Z"
   },
   {
    "duration": 13,
    "start_time": "2022-12-07T11:33:02.109Z"
   },
   {
    "duration": 428,
    "start_time": "2022-12-07T11:33:02.124Z"
   },
   {
    "duration": 4,
    "start_time": "2022-12-07T11:33:02.555Z"
   },
   {
    "duration": 85,
    "start_time": "2022-12-07T11:33:02.561Z"
   },
   {
    "duration": 202,
    "start_time": "2022-12-07T11:33:02.649Z"
   },
   {
    "duration": 105,
    "start_time": "2022-12-07T11:33:02.854Z"
   },
   {
    "duration": 92,
    "start_time": "2022-12-07T11:33:02.962Z"
   },
   {
    "duration": 31,
    "start_time": "2022-12-07T11:33:03.056Z"
   },
   {
    "duration": 10,
    "start_time": "2022-12-07T11:33:03.090Z"
   },
   {
    "duration": 50,
    "start_time": "2022-12-07T11:33:03.102Z"
   },
   {
    "duration": 188,
    "start_time": "2022-12-07T11:33:03.155Z"
   },
   {
    "duration": 8,
    "start_time": "2022-12-07T11:33:03.345Z"
   },
   {
    "duration": 39,
    "start_time": "2022-12-07T11:33:03.354Z"
   },
   {
    "duration": 257,
    "start_time": "2022-12-07T11:33:03.394Z"
   },
   {
    "duration": 107,
    "start_time": "2022-12-07T11:33:03.653Z"
   },
   {
    "duration": 91,
    "start_time": "2022-12-07T11:33:03.765Z"
   },
   {
    "duration": 13,
    "start_time": "2022-12-07T11:33:03.858Z"
   },
   {
    "duration": 9,
    "start_time": "2022-12-07T11:33:03.872Z"
   },
   {
    "duration": 70,
    "start_time": "2022-12-07T11:33:03.883Z"
   },
   {
    "duration": 976,
    "start_time": "2022-12-07T11:33:03.955Z"
   },
   {
    "duration": 4,
    "start_time": "2022-12-07T11:33:04.934Z"
   },
   {
    "duration": 45,
    "start_time": "2022-12-07T11:33:04.940Z"
   },
   {
    "duration": 3,
    "start_time": "2022-12-07T11:33:04.987Z"
   },
   {
    "duration": 400,
    "start_time": "2022-12-07T11:33:04.992Z"
   },
   {
    "duration": 23,
    "start_time": "2022-12-07T11:33:05.395Z"
   },
   {
    "duration": 4,
    "start_time": "2022-12-07T11:33:05.419Z"
   },
   {
    "duration": 960,
    "start_time": "2022-12-07T11:33:05.424Z"
   },
   {
    "duration": 23,
    "start_time": "2022-12-07T11:33:06.385Z"
   },
   {
    "duration": 4,
    "start_time": "2022-12-07T11:33:06.410Z"
   },
   {
    "duration": 1086,
    "start_time": "2022-12-07T11:33:38.064Z"
   },
   {
    "duration": 4,
    "start_time": "2022-12-07T11:33:39.153Z"
   },
   {
    "duration": 1382,
    "start_time": "2022-12-07T11:33:45.055Z"
   },
   {
    "duration": 5,
    "start_time": "2022-12-07T11:33:46.440Z"
   },
   {
    "duration": 2203,
    "start_time": "2022-12-07T11:33:55.808Z"
   },
   {
    "duration": 3,
    "start_time": "2022-12-07T11:33:58.013Z"
   },
   {
    "duration": 1290,
    "start_time": "2022-12-07T11:34:16.860Z"
   },
   {
    "duration": 4,
    "start_time": "2022-12-07T11:34:18.152Z"
   },
   {
    "duration": 3201,
    "start_time": "2022-12-07T11:34:24.155Z"
   },
   {
    "duration": 3,
    "start_time": "2022-12-07T11:34:27.358Z"
   },
   {
    "duration": 10,
    "start_time": "2022-12-07T11:34:27.905Z"
   },
   {
    "duration": 2153,
    "start_time": "2022-12-07T11:34:33.654Z"
   },
   {
    "duration": 4,
    "start_time": "2022-12-07T11:34:38.344Z"
   },
   {
    "duration": 3,
    "start_time": "2022-12-07T11:34:41.495Z"
   },
   {
    "duration": 1736,
    "start_time": "2022-12-07T11:34:47.133Z"
   },
   {
    "duration": 4,
    "start_time": "2022-12-07T11:34:48.872Z"
   },
   {
    "duration": 10,
    "start_time": "2022-12-07T11:34:53.933Z"
   },
   {
    "duration": 1711,
    "start_time": "2022-12-07T11:34:57.324Z"
   },
   {
    "duration": 4,
    "start_time": "2022-12-07T11:35:00.772Z"
   },
   {
    "duration": 41937,
    "start_time": "2022-12-07T11:36:53.099Z"
   },
   {
    "duration": 4,
    "start_time": "2022-12-07T11:37:56.159Z"
   },
   {
    "duration": 933,
    "start_time": "2022-12-07T11:40:37.130Z"
   },
   {
    "duration": 4,
    "start_time": "2022-12-07T11:40:39.159Z"
   },
   {
    "duration": 28,
    "start_time": "2022-12-07T11:41:33.797Z"
   },
   {
    "duration": 1198,
    "start_time": "2022-12-07T11:42:38.669Z"
   },
   {
    "duration": 4,
    "start_time": "2022-12-07T11:42:42.253Z"
   },
   {
    "duration": 754,
    "start_time": "2022-12-07T11:42:52.286Z"
   },
   {
    "duration": 4,
    "start_time": "2022-12-07T11:42:53.698Z"
   },
   {
    "duration": 619,
    "start_time": "2022-12-07T11:43:00.467Z"
   },
   {
    "duration": 4,
    "start_time": "2022-12-07T11:43:01.810Z"
   },
   {
    "duration": 860,
    "start_time": "2022-12-07T11:43:09.681Z"
   },
   {
    "duration": 4,
    "start_time": "2022-12-07T11:43:10.803Z"
   },
   {
    "duration": 58780,
    "start_time": "2022-12-07T11:44:59.785Z"
   },
   {
    "duration": 4,
    "start_time": "2022-12-07T11:46:01.563Z"
   },
   {
    "duration": 24198,
    "start_time": "2022-12-07T11:46:52.772Z"
   },
   {
    "duration": 41,
    "start_time": "2022-12-07T11:47:22.960Z"
   },
   {
    "duration": 392,
    "start_time": "2022-12-07T11:47:24.067Z"
   },
   {
    "duration": 20,
    "start_time": "2022-12-07T11:47:25.538Z"
   },
   {
    "duration": 4,
    "start_time": "2022-12-07T11:47:30.732Z"
   },
   {
    "duration": 7,
    "start_time": "2022-12-07T11:47:33.330Z"
   },
   {
    "duration": 14,
    "start_time": "2022-12-07T11:56:07.790Z"
   },
   {
    "duration": 10,
    "start_time": "2022-12-07T11:56:50.745Z"
   },
   {
    "duration": 14,
    "start_time": "2022-12-07T11:58:06.542Z"
   },
   {
    "duration": 491,
    "start_time": "2022-12-07T11:58:15.480Z"
   },
   {
    "duration": 4,
    "start_time": "2022-12-07T11:58:18.769Z"
   },
   {
    "duration": 11,
    "start_time": "2022-12-07T12:00:55.596Z"
   },
   {
    "duration": 79134,
    "start_time": "2022-12-07T12:02:10.029Z"
   },
   {
    "duration": 4,
    "start_time": "2022-12-07T12:03:29.165Z"
   },
   {
    "duration": 3,
    "start_time": "2022-12-07T12:04:17.354Z"
   },
   {
    "duration": 32,
    "start_time": "2022-12-07T12:04:39.074Z"
   },
   {
    "duration": 48,
    "start_time": "2022-12-07T12:04:53.392Z"
   },
   {
    "duration": 21,
    "start_time": "2022-12-07T12:05:19.961Z"
   },
   {
    "duration": 3,
    "start_time": "2022-12-07T12:05:41.868Z"
   },
   {
    "duration": 3,
    "start_time": "2022-12-07T12:05:54.390Z"
   },
   {
    "duration": 4,
    "start_time": "2022-12-07T12:07:04.676Z"
   },
   {
    "duration": 21,
    "start_time": "2022-12-07T12:07:06.355Z"
   },
   {
    "duration": 80033,
    "start_time": "2022-12-07T12:12:05.162Z"
   },
   {
    "duration": 31,
    "start_time": "2022-12-07T12:13:30.869Z"
   },
   {
    "duration": 4,
    "start_time": "2022-12-07T12:13:35.830Z"
   },
   {
    "duration": 81317,
    "start_time": "2022-12-07T12:15:10.075Z"
   },
   {
    "duration": 13,
    "start_time": "2022-12-07T12:17:37.554Z"
   },
   {
    "duration": 11,
    "start_time": "2022-12-07T12:18:04.477Z"
   },
   {
    "duration": 58875,
    "start_time": "2022-12-07T12:18:09.885Z"
   },
   {
    "duration": 27,
    "start_time": "2022-12-07T12:19:08.762Z"
   },
   {
    "duration": 6,
    "start_time": "2022-12-07T12:21:00.163Z"
   },
   {
    "duration": 84,
    "start_time": "2022-12-07T12:21:00.171Z"
   },
   {
    "duration": 21,
    "start_time": "2022-12-07T12:21:00.258Z"
   },
   {
    "duration": 81,
    "start_time": "2022-12-07T12:21:00.281Z"
   },
   {
    "duration": 22,
    "start_time": "2022-12-07T12:21:00.365Z"
   },
   {
    "duration": 31,
    "start_time": "2022-12-07T12:21:00.389Z"
   },
   {
    "duration": 20,
    "start_time": "2022-12-07T12:21:00.422Z"
   },
   {
    "duration": 19,
    "start_time": "2022-12-07T12:21:00.444Z"
   },
   {
    "duration": 22,
    "start_time": "2022-12-07T12:21:00.466Z"
   },
   {
    "duration": 26,
    "start_time": "2022-12-07T12:21:00.490Z"
   },
   {
    "duration": 34,
    "start_time": "2022-12-07T12:21:00.519Z"
   },
   {
    "duration": 33,
    "start_time": "2022-12-07T12:21:00.555Z"
   },
   {
    "duration": 17,
    "start_time": "2022-12-07T12:21:00.589Z"
   },
   {
    "duration": 37,
    "start_time": "2022-12-07T12:21:00.608Z"
   },
   {
    "duration": 30,
    "start_time": "2022-12-07T12:21:00.646Z"
   },
   {
    "duration": 29,
    "start_time": "2022-12-07T12:21:00.678Z"
   },
   {
    "duration": 20,
    "start_time": "2022-12-07T12:21:00.709Z"
   },
   {
    "duration": 14,
    "start_time": "2022-12-07T12:21:00.731Z"
   },
   {
    "duration": 15,
    "start_time": "2022-12-07T12:21:00.747Z"
   },
   {
    "duration": 16,
    "start_time": "2022-12-07T12:21:00.764Z"
   },
   {
    "duration": 38,
    "start_time": "2022-12-07T12:21:00.782Z"
   },
   {
    "duration": 11,
    "start_time": "2022-12-07T12:21:00.822Z"
   },
   {
    "duration": 28,
    "start_time": "2022-12-07T12:21:00.835Z"
   },
   {
    "duration": 12,
    "start_time": "2022-12-07T12:21:00.865Z"
   },
   {
    "duration": 30,
    "start_time": "2022-12-07T12:21:00.879Z"
   },
   {
    "duration": 390,
    "start_time": "2022-12-07T12:21:00.911Z"
   },
   {
    "duration": 3,
    "start_time": "2022-12-07T12:21:01.305Z"
   },
   {
    "duration": 12,
    "start_time": "2022-12-07T12:21:01.309Z"
   },
   {
    "duration": 43884,
    "start_time": "2022-12-07T12:21:01.323Z"
   },
   {
    "duration": 541,
    "start_time": "2022-12-07T12:21:45.210Z"
   },
   {
    "duration": 13,
    "start_time": "2022-12-07T12:21:45.753Z"
   },
   {
    "duration": 140,
    "start_time": "2022-12-07T12:21:45.769Z"
   },
   {
    "duration": 41,
    "start_time": "2022-12-07T12:21:45.911Z"
   },
   {
    "duration": 109,
    "start_time": "2022-12-07T12:21:45.955Z"
   },
   {
    "duration": 10,
    "start_time": "2022-12-07T12:21:46.067Z"
   },
   {
    "duration": 111,
    "start_time": "2022-12-07T12:21:46.079Z"
   },
   {
    "duration": 7,
    "start_time": "2022-12-07T12:21:46.192Z"
   },
   {
    "duration": 119,
    "start_time": "2022-12-07T12:21:46.201Z"
   },
   {
    "duration": 6,
    "start_time": "2022-12-07T12:21:46.322Z"
   },
   {
    "duration": 105,
    "start_time": "2022-12-07T12:21:46.329Z"
   },
   {
    "duration": 16,
    "start_time": "2022-12-07T12:21:46.435Z"
   },
   {
    "duration": 9,
    "start_time": "2022-12-07T12:21:46.453Z"
   },
   {
    "duration": 14,
    "start_time": "2022-12-07T12:21:46.464Z"
   },
   {
    "duration": 16,
    "start_time": "2022-12-07T12:21:46.480Z"
   },
   {
    "duration": 8,
    "start_time": "2022-12-07T12:21:46.498Z"
   },
   {
    "duration": 44,
    "start_time": "2022-12-07T12:21:46.508Z"
   },
   {
    "duration": 105,
    "start_time": "2022-12-07T12:21:46.554Z"
   },
   {
    "duration": 110,
    "start_time": "2022-12-07T12:21:46.661Z"
   },
   {
    "duration": 1780,
    "start_time": "2022-12-07T12:21:46.772Z"
   },
   {
    "duration": 3,
    "start_time": "2022-12-07T12:21:48.554Z"
   },
   {
    "duration": 17,
    "start_time": "2022-12-07T12:21:48.559Z"
   },
   {
    "duration": 59120,
    "start_time": "2022-12-07T12:21:48.578Z"
   },
   {
    "duration": 3,
    "start_time": "2022-12-07T12:22:47.700Z"
   },
   {
    "duration": 20,
    "start_time": "2022-12-07T12:22:47.704Z"
   },
   {
    "duration": 0,
    "start_time": "2022-12-07T12:22:47.726Z"
   },
   {
    "duration": 0,
    "start_time": "2022-12-07T12:22:47.727Z"
   },
   {
    "duration": 0,
    "start_time": "2022-12-07T12:22:47.729Z"
   },
   {
    "duration": 0,
    "start_time": "2022-12-07T12:22:47.730Z"
   },
   {
    "duration": 0,
    "start_time": "2022-12-07T12:22:47.750Z"
   },
   {
    "duration": 0,
    "start_time": "2022-12-07T12:22:47.752Z"
   },
   {
    "duration": 0,
    "start_time": "2022-12-07T12:22:47.753Z"
   },
   {
    "duration": 0,
    "start_time": "2022-12-07T12:22:47.755Z"
   },
   {
    "duration": 0,
    "start_time": "2022-12-07T12:22:47.756Z"
   },
   {
    "duration": 0,
    "start_time": "2022-12-07T12:22:47.757Z"
   },
   {
    "duration": 0,
    "start_time": "2022-12-07T12:22:47.758Z"
   },
   {
    "duration": 0,
    "start_time": "2022-12-07T12:22:47.759Z"
   },
   {
    "duration": 0,
    "start_time": "2022-12-07T12:22:47.760Z"
   },
   {
    "duration": 0,
    "start_time": "2022-12-07T12:22:47.761Z"
   },
   {
    "duration": 0,
    "start_time": "2022-12-07T12:22:47.763Z"
   },
   {
    "duration": 0,
    "start_time": "2022-12-07T12:22:47.764Z"
   },
   {
    "duration": 0,
    "start_time": "2022-12-07T12:22:47.765Z"
   },
   {
    "duration": 0,
    "start_time": "2022-12-07T12:22:47.766Z"
   },
   {
    "duration": 0,
    "start_time": "2022-12-07T12:22:47.767Z"
   },
   {
    "duration": 0,
    "start_time": "2022-12-07T12:22:47.768Z"
   },
   {
    "duration": 0,
    "start_time": "2022-12-07T12:22:47.769Z"
   },
   {
    "duration": 0,
    "start_time": "2022-12-07T12:22:47.770Z"
   },
   {
    "duration": 0,
    "start_time": "2022-12-07T12:22:47.771Z"
   },
   {
    "duration": 0,
    "start_time": "2022-12-07T12:22:47.772Z"
   },
   {
    "duration": 48,
    "start_time": "2022-12-07T12:25:42.103Z"
   },
   {
    "duration": 350,
    "start_time": "2022-12-07T12:25:49.306Z"
   },
   {
    "duration": 15,
    "start_time": "2022-12-07T12:25:51.064Z"
   },
   {
    "duration": 3,
    "start_time": "2022-12-07T12:25:54.496Z"
   },
   {
    "duration": 804,
    "start_time": "2022-12-07T12:26:01.385Z"
   },
   {
    "duration": 3,
    "start_time": "2022-12-07T12:26:04.366Z"
   },
   {
    "duration": 13,
    "start_time": "2022-12-07T12:26:10.982Z"
   },
   {
    "duration": 11,
    "start_time": "2022-12-07T12:26:17.824Z"
   },
   {
    "duration": 3,
    "start_time": "2022-12-07T12:26:32.772Z"
   },
   {
    "duration": 4,
    "start_time": "2022-12-07T12:29:26.532Z"
   },
   {
    "duration": 32,
    "start_time": "2022-12-07T12:29:30.205Z"
   },
   {
    "duration": 94,
    "start_time": "2022-12-07T12:29:31.068Z"
   },
   {
    "duration": 11,
    "start_time": "2022-12-07T12:29:32.973Z"
   },
   {
    "duration": 3,
    "start_time": "2022-12-07T12:29:35.862Z"
   },
   {
    "duration": 7,
    "start_time": "2022-12-07T12:29:38.182Z"
   },
   {
    "duration": 6,
    "start_time": "2022-12-07T12:29:43.287Z"
   },
   {
    "duration": 15,
    "start_time": "2022-12-07T12:29:51.528Z"
   },
   {
    "duration": 85373,
    "start_time": "2022-12-07T12:29:55.217Z"
   },
   {
    "duration": 4,
    "start_time": "2022-12-07T12:32:18.979Z"
   },
   {
    "duration": 30,
    "start_time": "2022-12-07T12:32:31.276Z"
   },
   {
    "duration": 60627,
    "start_time": "2022-12-07T12:32:35.880Z"
   },
   {
    "duration": 28,
    "start_time": "2022-12-07T12:36:49.318Z"
   },
   {
    "duration": 5,
    "start_time": "2022-12-07T12:36:52.194Z"
   },
   {
    "duration": 83783,
    "start_time": "2022-12-07T12:36:56.130Z"
   },
   {
    "duration": 27,
    "start_time": "2022-12-07T12:39:33.479Z"
   },
   {
    "duration": 4,
    "start_time": "2022-12-07T12:39:34.364Z"
   },
   {
    "duration": 1598,
    "start_time": "2022-12-08T03:09:11.455Z"
   },
   {
    "duration": 91,
    "start_time": "2022-12-08T03:09:13.055Z"
   },
   {
    "duration": 19,
    "start_time": "2022-12-08T03:09:13.148Z"
   },
   {
    "duration": 38,
    "start_time": "2022-12-08T03:09:13.169Z"
   },
   {
    "duration": 12,
    "start_time": "2022-12-08T03:09:13.209Z"
   },
   {
    "duration": 13,
    "start_time": "2022-12-08T03:09:13.223Z"
   },
   {
    "duration": 4,
    "start_time": "2022-12-08T03:09:13.237Z"
   },
   {
    "duration": 8,
    "start_time": "2022-12-08T03:09:13.242Z"
   },
   {
    "duration": 7,
    "start_time": "2022-12-08T03:09:13.251Z"
   },
   {
    "duration": 53,
    "start_time": "2022-12-08T03:09:13.260Z"
   },
   {
    "duration": 19,
    "start_time": "2022-12-08T03:09:13.314Z"
   },
   {
    "duration": 8,
    "start_time": "2022-12-08T03:09:13.335Z"
   },
   {
    "duration": 6,
    "start_time": "2022-12-08T03:09:13.344Z"
   },
   {
    "duration": 5,
    "start_time": "2022-12-08T03:09:13.351Z"
   },
   {
    "duration": 7,
    "start_time": "2022-12-08T03:09:13.358Z"
   },
   {
    "duration": 6,
    "start_time": "2022-12-08T03:09:13.367Z"
   },
   {
    "duration": 6,
    "start_time": "2022-12-08T03:09:13.374Z"
   },
   {
    "duration": 33,
    "start_time": "2022-12-08T03:09:13.381Z"
   },
   {
    "duration": 14,
    "start_time": "2022-12-08T03:09:13.415Z"
   },
   {
    "duration": 10,
    "start_time": "2022-12-08T03:09:13.430Z"
   },
   {
    "duration": 21,
    "start_time": "2022-12-08T03:09:13.442Z"
   },
   {
    "duration": 9,
    "start_time": "2022-12-08T03:09:13.464Z"
   },
   {
    "duration": 41,
    "start_time": "2022-12-08T03:09:13.475Z"
   },
   {
    "duration": 11,
    "start_time": "2022-12-08T03:09:13.517Z"
   },
   {
    "duration": 20,
    "start_time": "2022-12-08T03:09:13.529Z"
   },
   {
    "duration": 332,
    "start_time": "2022-12-08T03:09:13.550Z"
   },
   {
    "duration": 3,
    "start_time": "2022-12-08T03:09:13.883Z"
   },
   {
    "duration": 4,
    "start_time": "2022-12-08T03:09:13.890Z"
   },
   {
    "duration": 1527,
    "start_time": "2022-12-08T03:09:50.246Z"
   },
   {
    "duration": 41,
    "start_time": "2022-12-08T03:09:51.775Z"
   },
   {
    "duration": 21,
    "start_time": "2022-12-08T03:09:51.818Z"
   },
   {
    "duration": 44,
    "start_time": "2022-12-08T03:09:51.841Z"
   },
   {
    "duration": 30,
    "start_time": "2022-12-08T03:09:51.887Z"
   },
   {
    "duration": 15,
    "start_time": "2022-12-08T03:09:51.919Z"
   },
   {
    "duration": 4,
    "start_time": "2022-12-08T03:09:51.936Z"
   },
   {
    "duration": 7,
    "start_time": "2022-12-08T03:09:51.942Z"
   },
   {
    "duration": 10,
    "start_time": "2022-12-08T03:09:51.950Z"
   },
   {
    "duration": 15,
    "start_time": "2022-12-08T03:09:51.962Z"
   },
   {
    "duration": 21,
    "start_time": "2022-12-08T03:09:52.013Z"
   },
   {
    "duration": 10,
    "start_time": "2022-12-08T03:09:52.037Z"
   },
   {
    "duration": 8,
    "start_time": "2022-12-08T03:09:52.049Z"
   },
   {
    "duration": 6,
    "start_time": "2022-12-08T03:09:52.061Z"
   },
   {
    "duration": 44,
    "start_time": "2022-12-08T03:09:52.068Z"
   },
   {
    "duration": 5,
    "start_time": "2022-12-08T03:09:52.114Z"
   },
   {
    "duration": 9,
    "start_time": "2022-12-08T03:09:52.121Z"
   },
   {
    "duration": 13,
    "start_time": "2022-12-08T03:09:52.131Z"
   },
   {
    "duration": 10,
    "start_time": "2022-12-08T03:09:52.146Z"
   },
   {
    "duration": 22,
    "start_time": "2022-12-08T03:09:52.158Z"
   },
   {
    "duration": 51,
    "start_time": "2022-12-08T03:09:52.182Z"
   },
   {
    "duration": 13,
    "start_time": "2022-12-08T03:09:52.235Z"
   },
   {
    "duration": 19,
    "start_time": "2022-12-08T03:09:52.250Z"
   },
   {
    "duration": 11,
    "start_time": "2022-12-08T03:09:52.271Z"
   },
   {
    "duration": 38,
    "start_time": "2022-12-08T03:09:52.284Z"
   },
   {
    "duration": 336,
    "start_time": "2022-12-08T03:09:52.323Z"
   },
   {
    "duration": 3,
    "start_time": "2022-12-08T03:09:52.661Z"
   },
   {
    "duration": 12,
    "start_time": "2022-12-08T03:09:52.665Z"
   },
   {
    "duration": 38633,
    "start_time": "2022-12-08T03:09:52.679Z"
   },
   {
    "duration": 198,
    "start_time": "2022-12-08T03:10:31.314Z"
   },
   {
    "duration": 103,
    "start_time": "2022-12-08T03:10:31.514Z"
   },
   {
    "duration": 33,
    "start_time": "2022-12-08T03:10:31.619Z"
   },
   {
    "duration": 59,
    "start_time": "2022-12-08T03:10:31.654Z"
   },
   {
    "duration": 99,
    "start_time": "2022-12-08T03:10:31.715Z"
   },
   {
    "duration": 11,
    "start_time": "2022-12-08T03:10:31.816Z"
   },
   {
    "duration": 118,
    "start_time": "2022-12-08T03:10:31.828Z"
   },
   {
    "duration": 6,
    "start_time": "2022-12-08T03:10:31.947Z"
   },
   {
    "duration": 113,
    "start_time": "2022-12-08T03:10:31.955Z"
   },
   {
    "duration": 6,
    "start_time": "2022-12-08T03:10:32.069Z"
   },
   {
    "duration": 111,
    "start_time": "2022-12-08T03:10:32.077Z"
   },
   {
    "duration": 19,
    "start_time": "2022-12-08T03:10:32.194Z"
   },
   {
    "duration": 9,
    "start_time": "2022-12-08T03:10:32.215Z"
   },
   {
    "duration": 13,
    "start_time": "2022-12-08T03:10:32.228Z"
   },
   {
    "duration": 19,
    "start_time": "2022-12-08T03:10:32.243Z"
   },
   {
    "duration": 8,
    "start_time": "2022-12-08T03:10:32.263Z"
   },
   {
    "duration": 109,
    "start_time": "2022-12-08T03:10:32.272Z"
   },
   {
    "duration": 97,
    "start_time": "2022-12-08T03:10:32.383Z"
   },
   {
    "duration": 97,
    "start_time": "2022-12-08T03:10:32.482Z"
   },
   {
    "duration": 1555,
    "start_time": "2022-12-08T03:10:32.581Z"
   },
   {
    "duration": 3,
    "start_time": "2022-12-08T03:10:34.137Z"
   },
   {
    "duration": 11,
    "start_time": "2022-12-08T03:10:34.142Z"
   },
   {
    "duration": 50750,
    "start_time": "2022-12-08T03:10:34.154Z"
   },
   {
    "duration": 3,
    "start_time": "2022-12-08T03:11:24.906Z"
   },
   {
    "duration": 56,
    "start_time": "2022-12-08T03:11:24.912Z"
   },
   {
    "duration": 148,
    "start_time": "2022-12-08T03:11:24.969Z"
   },
   {
    "duration": 192,
    "start_time": "2022-12-08T03:11:25.120Z"
   },
   {
    "duration": 6,
    "start_time": "2022-12-08T03:11:25.315Z"
   },
   {
    "duration": 666,
    "start_time": "2022-12-08T03:11:25.413Z"
   },
   {
    "duration": 4,
    "start_time": "2022-12-08T03:11:26.080Z"
   },
   {
    "duration": 9,
    "start_time": "2022-12-08T03:11:26.086Z"
   },
   {
    "duration": 22030,
    "start_time": "2022-12-08T03:11:26.096Z"
   },
   {
    "duration": 3,
    "start_time": "2022-12-08T03:11:48.128Z"
   },
   {
    "duration": 29,
    "start_time": "2022-12-08T03:11:48.133Z"
   },
   {
    "duration": 153,
    "start_time": "2022-12-08T03:11:48.164Z"
   },
   {
    "duration": 97,
    "start_time": "2022-12-08T03:11:48.319Z"
   },
   {
    "duration": 97,
    "start_time": "2022-12-08T03:11:48.418Z"
   },
   {
    "duration": 7,
    "start_time": "2022-12-08T03:11:48.517Z"
   },
   {
    "duration": 6,
    "start_time": "2022-12-08T03:11:48.526Z"
   },
   {
    "duration": 16,
    "start_time": "2022-12-08T03:11:48.533Z"
   },
   {
    "duration": 68345,
    "start_time": "2022-12-08T03:11:48.551Z"
   },
   {
    "duration": 4,
    "start_time": "2022-12-08T03:12:56.898Z"
   },
   {
    "duration": 39,
    "start_time": "2022-12-08T03:12:56.913Z"
   },
   {
    "duration": 53909,
    "start_time": "2022-12-08T03:12:56.954Z"
   },
   {
    "duration": 35,
    "start_time": "2022-12-08T03:13:50.865Z"
   },
   {
    "duration": 13,
    "start_time": "2022-12-08T03:13:50.901Z"
   },
   {
    "duration": 69248,
    "start_time": "2022-12-08T03:13:50.916Z"
   },
   {
    "duration": 47,
    "start_time": "2022-12-08T03:15:00.166Z"
   },
   {
    "duration": 3,
    "start_time": "2022-12-08T03:15:00.216Z"
   },
   {
    "duration": 1688,
    "start_time": "2022-12-08T04:37:15.934Z"
   },
   {
    "duration": 103,
    "start_time": "2022-12-08T04:37:17.624Z"
   },
   {
    "duration": 21,
    "start_time": "2022-12-08T04:37:17.729Z"
   },
   {
    "duration": 42,
    "start_time": "2022-12-08T04:37:17.752Z"
   },
   {
    "duration": 27,
    "start_time": "2022-12-08T04:37:17.795Z"
   },
   {
    "duration": 15,
    "start_time": "2022-12-08T04:37:17.828Z"
   },
   {
    "duration": 18,
    "start_time": "2022-12-08T04:37:17.845Z"
   },
   {
    "duration": 26,
    "start_time": "2022-12-08T04:37:17.865Z"
   },
   {
    "duration": 32,
    "start_time": "2022-12-08T04:37:17.896Z"
   },
   {
    "duration": 18,
    "start_time": "2022-12-08T04:37:17.932Z"
   },
   {
    "duration": 23,
    "start_time": "2022-12-08T04:37:17.952Z"
   },
   {
    "duration": 10,
    "start_time": "2022-12-08T04:37:17.977Z"
   },
   {
    "duration": 19,
    "start_time": "2022-12-08T04:37:17.988Z"
   },
   {
    "duration": 28,
    "start_time": "2022-12-08T04:37:18.009Z"
   },
   {
    "duration": 10,
    "start_time": "2022-12-08T04:37:18.039Z"
   },
   {
    "duration": 8,
    "start_time": "2022-12-08T04:37:18.051Z"
   },
   {
    "duration": 14,
    "start_time": "2022-12-08T04:37:18.061Z"
   },
   {
    "duration": 13,
    "start_time": "2022-12-08T04:37:18.077Z"
   },
   {
    "duration": 39,
    "start_time": "2022-12-08T04:37:18.092Z"
   },
   {
    "duration": 19,
    "start_time": "2022-12-08T04:37:18.133Z"
   },
   {
    "duration": 29,
    "start_time": "2022-12-08T04:37:18.153Z"
   },
   {
    "duration": 23,
    "start_time": "2022-12-08T04:37:18.184Z"
   },
   {
    "duration": 37,
    "start_time": "2022-12-08T04:37:18.209Z"
   },
   {
    "duration": 11,
    "start_time": "2022-12-08T04:37:18.248Z"
   },
   {
    "duration": 29,
    "start_time": "2022-12-08T04:37:18.261Z"
   },
   {
    "duration": 359,
    "start_time": "2022-12-08T04:37:18.292Z"
   },
   {
    "duration": 3,
    "start_time": "2022-12-08T04:37:18.653Z"
   },
   {
    "duration": 9,
    "start_time": "2022-12-08T04:37:18.660Z"
   },
   {
    "duration": 42026,
    "start_time": "2022-12-08T04:37:18.670Z"
   },
   {
    "duration": 343,
    "start_time": "2022-12-08T04:38:00.698Z"
   },
   {
    "duration": 15,
    "start_time": "2022-12-08T04:38:01.112Z"
   },
   {
    "duration": 131,
    "start_time": "2022-12-08T04:38:01.129Z"
   },
   {
    "duration": 16,
    "start_time": "2022-12-08T04:38:01.262Z"
   },
   {
    "duration": 99,
    "start_time": "2022-12-08T04:38:01.318Z"
   },
   {
    "duration": 27,
    "start_time": "2022-12-08T04:38:01.420Z"
   },
   {
    "duration": 136,
    "start_time": "2022-12-08T04:38:01.449Z"
   },
   {
    "duration": 7,
    "start_time": "2022-12-08T04:38:01.587Z"
   },
   {
    "duration": 107,
    "start_time": "2022-12-08T04:38:01.596Z"
   },
   {
    "duration": 10,
    "start_time": "2022-12-08T04:38:01.712Z"
   },
   {
    "duration": 197,
    "start_time": "2022-12-08T04:38:01.727Z"
   },
   {
    "duration": 7,
    "start_time": "2022-12-08T04:38:01.926Z"
   },
   {
    "duration": 12,
    "start_time": "2022-12-08T04:38:01.935Z"
   },
   {
    "duration": 17,
    "start_time": "2022-12-08T04:38:01.949Z"
   },
   {
    "duration": 16,
    "start_time": "2022-12-08T04:38:01.968Z"
   },
   {
    "duration": 7,
    "start_time": "2022-12-08T04:38:01.986Z"
   },
   {
    "duration": 32,
    "start_time": "2022-12-08T04:38:01.995Z"
   },
   {
    "duration": 107,
    "start_time": "2022-12-08T04:38:02.029Z"
   },
   {
    "duration": 110,
    "start_time": "2022-12-08T04:38:02.138Z"
   },
   {
    "duration": 1703,
    "start_time": "2022-12-08T04:38:02.249Z"
   },
   {
    "duration": 4,
    "start_time": "2022-12-08T04:38:03.954Z"
   },
   {
    "duration": 18,
    "start_time": "2022-12-08T04:38:03.960Z"
   },
   {
    "duration": 56504,
    "start_time": "2022-12-08T04:38:03.980Z"
   },
   {
    "duration": 3,
    "start_time": "2022-12-08T04:39:00.486Z"
   },
   {
    "duration": 42,
    "start_time": "2022-12-08T04:39:00.491Z"
   },
   {
    "duration": 487,
    "start_time": "2022-12-08T04:39:00.535Z"
   },
   {
    "duration": 94,
    "start_time": "2022-12-08T04:39:01.028Z"
   },
   {
    "duration": 127,
    "start_time": "2022-12-08T04:39:01.125Z"
   },
   {
    "duration": 768,
    "start_time": "2022-12-08T04:39:01.254Z"
   },
   {
    "duration": 4,
    "start_time": "2022-12-08T04:39:02.027Z"
   },
   {
    "duration": 26,
    "start_time": "2022-12-08T04:39:02.033Z"
   },
   {
    "duration": 23616,
    "start_time": "2022-12-08T04:39:02.061Z"
   },
   {
    "duration": 3,
    "start_time": "2022-12-08T04:39:25.679Z"
   },
   {
    "duration": 42,
    "start_time": "2022-12-08T04:39:25.684Z"
   },
   {
    "duration": 89,
    "start_time": "2022-12-08T04:39:25.730Z"
   },
   {
    "duration": 214,
    "start_time": "2022-12-08T04:39:25.823Z"
   },
   {
    "duration": 117,
    "start_time": "2022-12-08T04:39:26.113Z"
   },
   {
    "duration": 6,
    "start_time": "2022-12-08T04:39:26.232Z"
   },
   {
    "duration": 13,
    "start_time": "2022-12-08T04:39:26.240Z"
   },
   {
    "duration": 17,
    "start_time": "2022-12-08T04:39:26.255Z"
   },
   {
    "duration": 72297,
    "start_time": "2022-12-08T04:39:26.276Z"
   },
   {
    "duration": 3,
    "start_time": "2022-12-08T04:40:38.575Z"
   },
   {
    "duration": 51,
    "start_time": "2022-12-08T04:40:38.580Z"
   },
   {
    "duration": 56158,
    "start_time": "2022-12-08T04:40:38.633Z"
   },
   {
    "duration": 47,
    "start_time": "2022-12-08T04:41:34.793Z"
   },
   {
    "duration": 5,
    "start_time": "2022-12-08T04:41:34.842Z"
   },
   {
    "duration": 72348,
    "start_time": "2022-12-08T04:41:34.849Z"
   },
   {
    "duration": 41,
    "start_time": "2022-12-08T04:42:47.199Z"
   },
   {
    "duration": 4,
    "start_time": "2022-12-08T04:42:47.242Z"
   },
   {
    "duration": 71577,
    "start_time": "2022-12-08T04:50:07.281Z"
   },
   {
    "duration": 4,
    "start_time": "2022-12-08T04:51:26.947Z"
   },
   {
    "duration": 6,
    "start_time": "2022-12-08T04:56:33.610Z"
   },
   {
    "duration": 4,
    "start_time": "2022-12-08T04:56:58.889Z"
   },
   {
    "duration": 636,
    "start_time": "2022-12-08T04:57:39.112Z"
   },
   {
    "duration": 3,
    "start_time": "2022-12-08T04:57:43.207Z"
   },
   {
    "duration": 600,
    "start_time": "2022-12-08T04:57:50.224Z"
   },
   {
    "duration": 4,
    "start_time": "2022-12-08T04:58:44.694Z"
   },
   {
    "duration": 643,
    "start_time": "2022-12-08T04:58:52.426Z"
   },
   {
    "duration": 4,
    "start_time": "2022-12-08T04:58:54.588Z"
   },
   {
    "duration": 29,
    "start_time": "2022-12-08T04:58:56.093Z"
   },
   {
    "duration": 34,
    "start_time": "2022-12-08T04:59:03.529Z"
   },
   {
    "duration": 519,
    "start_time": "2022-12-08T05:00:27.708Z"
   },
   {
    "duration": 40,
    "start_time": "2022-12-08T05:00:29.771Z"
   },
   {
    "duration": 3,
    "start_time": "2022-12-08T05:00:33.125Z"
   },
   {
    "duration": 36,
    "start_time": "2022-12-08T05:01:03.196Z"
   },
   {
    "duration": 645,
    "start_time": "2022-12-08T05:02:24.146Z"
   },
   {
    "duration": 38,
    "start_time": "2022-12-08T05:02:26.393Z"
   },
   {
    "duration": 4,
    "start_time": "2022-12-08T05:02:27.274Z"
   },
   {
    "duration": 8,
    "start_time": "2022-12-08T05:02:54.310Z"
   },
   {
    "duration": 55,
    "start_time": "2022-12-08T05:02:54.321Z"
   },
   {
    "duration": 13,
    "start_time": "2022-12-08T05:02:54.378Z"
   },
   {
    "duration": 51,
    "start_time": "2022-12-08T05:02:54.393Z"
   },
   {
    "duration": 13,
    "start_time": "2022-12-08T05:02:54.446Z"
   },
   {
    "duration": 13,
    "start_time": "2022-12-08T05:02:54.460Z"
   },
   {
    "duration": 4,
    "start_time": "2022-12-08T05:02:54.475Z"
   },
   {
    "duration": 32,
    "start_time": "2022-12-08T05:02:54.481Z"
   },
   {
    "duration": 17,
    "start_time": "2022-12-08T05:02:54.515Z"
   },
   {
    "duration": 17,
    "start_time": "2022-12-08T05:02:54.534Z"
   },
   {
    "duration": 19,
    "start_time": "2022-12-08T05:02:54.554Z"
   },
   {
    "duration": 8,
    "start_time": "2022-12-08T05:02:54.575Z"
   },
   {
    "duration": 14,
    "start_time": "2022-12-08T05:02:54.612Z"
   },
   {
    "duration": 10,
    "start_time": "2022-12-08T05:02:54.628Z"
   },
   {
    "duration": 7,
    "start_time": "2022-12-08T05:02:54.639Z"
   },
   {
    "duration": 6,
    "start_time": "2022-12-08T05:02:54.648Z"
   },
   {
    "duration": 5,
    "start_time": "2022-12-08T05:02:54.655Z"
   },
   {
    "duration": 8,
    "start_time": "2022-12-08T05:02:54.662Z"
   },
   {
    "duration": 12,
    "start_time": "2022-12-08T05:02:54.672Z"
   },
   {
    "duration": 32,
    "start_time": "2022-12-08T05:02:54.686Z"
   },
   {
    "duration": 30,
    "start_time": "2022-12-08T05:02:54.720Z"
   },
   {
    "duration": 11,
    "start_time": "2022-12-08T05:02:54.752Z"
   },
   {
    "duration": 22,
    "start_time": "2022-12-08T05:02:54.764Z"
   },
   {
    "duration": 11,
    "start_time": "2022-12-08T05:02:54.788Z"
   },
   {
    "duration": 26,
    "start_time": "2022-12-08T05:02:54.816Z"
   },
   {
    "duration": 395,
    "start_time": "2022-12-08T05:02:54.843Z"
   },
   {
    "duration": 2,
    "start_time": "2022-12-08T05:02:55.240Z"
   },
   {
    "duration": 11,
    "start_time": "2022-12-08T05:02:55.244Z"
   },
   {
    "duration": 40964,
    "start_time": "2022-12-08T05:02:55.260Z"
   },
   {
    "duration": 310,
    "start_time": "2022-12-08T05:03:36.226Z"
   },
   {
    "duration": 85,
    "start_time": "2022-12-08T05:03:36.538Z"
   },
   {
    "duration": 135,
    "start_time": "2022-12-08T05:03:36.628Z"
   },
   {
    "duration": 54,
    "start_time": "2022-12-08T05:03:36.765Z"
   },
   {
    "duration": 109,
    "start_time": "2022-12-08T05:03:36.821Z"
   },
   {
    "duration": 16,
    "start_time": "2022-12-08T05:03:36.932Z"
   },
   {
    "duration": 106,
    "start_time": "2022-12-08T05:03:36.949Z"
   },
   {
    "duration": 6,
    "start_time": "2022-12-08T05:03:37.057Z"
   },
   {
    "duration": 109,
    "start_time": "2022-12-08T05:03:37.064Z"
   },
   {
    "duration": 6,
    "start_time": "2022-12-08T05:03:37.174Z"
   },
   {
    "duration": 105,
    "start_time": "2022-12-08T05:03:37.182Z"
   },
   {
    "duration": 5,
    "start_time": "2022-12-08T05:03:37.289Z"
   },
   {
    "duration": 43,
    "start_time": "2022-12-08T05:03:37.296Z"
   },
   {
    "duration": 26,
    "start_time": "2022-12-08T05:03:37.341Z"
   },
   {
    "duration": 34,
    "start_time": "2022-12-08T05:03:37.368Z"
   },
   {
    "duration": 34,
    "start_time": "2022-12-08T05:03:37.404Z"
   },
   {
    "duration": 34,
    "start_time": "2022-12-08T05:03:37.440Z"
   },
   {
    "duration": 106,
    "start_time": "2022-12-08T05:03:37.476Z"
   },
   {
    "duration": 96,
    "start_time": "2022-12-08T05:03:37.584Z"
   },
   {
    "duration": 1626,
    "start_time": "2022-12-08T05:03:37.682Z"
   },
   {
    "duration": 14,
    "start_time": "2022-12-08T05:03:39.310Z"
   },
   {
    "duration": 46,
    "start_time": "2022-12-08T05:03:39.326Z"
   },
   {
    "duration": 55590,
    "start_time": "2022-12-08T05:03:39.374Z"
   },
   {
    "duration": 4,
    "start_time": "2022-12-08T05:04:34.966Z"
   },
   {
    "duration": 54,
    "start_time": "2022-12-08T05:04:34.971Z"
   },
   {
    "duration": 390,
    "start_time": "2022-12-08T05:04:35.028Z"
   },
   {
    "duration": 96,
    "start_time": "2022-12-08T05:04:35.422Z"
   },
   {
    "duration": 111,
    "start_time": "2022-12-08T05:04:35.520Z"
   },
   {
    "duration": 811,
    "start_time": "2022-12-08T05:04:35.633Z"
   },
   {
    "duration": 4,
    "start_time": "2022-12-08T05:04:36.447Z"
   },
   {
    "duration": 38,
    "start_time": "2022-12-08T05:04:36.452Z"
   },
   {
    "duration": 23633,
    "start_time": "2022-12-08T05:04:36.492Z"
   },
   {
    "duration": 4,
    "start_time": "2022-12-08T05:05:00.128Z"
   },
   {
    "duration": 40,
    "start_time": "2022-12-08T05:05:00.134Z"
   },
   {
    "duration": 260,
    "start_time": "2022-12-08T05:05:00.175Z"
   },
   {
    "duration": 106,
    "start_time": "2022-12-08T05:05:00.519Z"
   },
   {
    "duration": 205,
    "start_time": "2022-12-08T05:05:00.627Z"
   },
   {
    "duration": 29,
    "start_time": "2022-12-08T05:05:00.833Z"
   },
   {
    "duration": 28,
    "start_time": "2022-12-08T05:05:00.864Z"
   },
   {
    "duration": 29,
    "start_time": "2022-12-08T05:05:00.893Z"
   },
   {
    "duration": 8,
    "start_time": "2022-12-08T05:05:00.925Z"
   },
   {
    "duration": 659,
    "start_time": "2022-12-08T05:05:00.935Z"
   },
   {
    "duration": 4,
    "start_time": "2022-12-08T05:05:01.596Z"
   },
   {
    "duration": 62,
    "start_time": "2022-12-08T05:05:01.602Z"
   },
   {
    "duration": 59,
    "start_time": "2022-12-08T05:05:01.667Z"
   },
   {
    "duration": 0,
    "start_time": "2022-12-08T05:05:01.727Z"
   },
   {
    "duration": 0,
    "start_time": "2022-12-08T05:05:01.729Z"
   },
   {
    "duration": 0,
    "start_time": "2022-12-08T05:05:01.732Z"
   },
   {
    "duration": 0,
    "start_time": "2022-12-08T05:05:01.734Z"
   },
   {
    "duration": 0,
    "start_time": "2022-12-08T05:05:01.735Z"
   },
   {
    "duration": 0,
    "start_time": "2022-12-08T05:05:01.736Z"
   },
   {
    "duration": 0,
    "start_time": "2022-12-08T05:05:01.737Z"
   },
   {
    "duration": 140,
    "start_time": "2022-12-08T05:05:26.455Z"
   },
   {
    "duration": 5,
    "start_time": "2022-12-08T05:05:33.494Z"
   },
   {
    "duration": 3,
    "start_time": "2022-12-08T05:07:48.781Z"
   },
   {
    "duration": 500,
    "start_time": "2022-12-08T05:07:50.349Z"
   },
   {
    "duration": 35,
    "start_time": "2022-12-08T05:07:56.835Z"
   },
   {
    "duration": 4,
    "start_time": "2022-12-08T05:07:58.995Z"
   },
   {
    "duration": 654,
    "start_time": "2022-12-08T05:08:05.876Z"
   },
   {
    "duration": 32,
    "start_time": "2022-12-08T05:08:07.233Z"
   },
   {
    "duration": 3,
    "start_time": "2022-12-08T05:08:09.101Z"
   },
   {
    "duration": 1589,
    "start_time": "2022-12-09T03:09:41.365Z"
   },
   {
    "duration": 161,
    "start_time": "2022-12-09T03:09:42.955Z"
   },
   {
    "duration": 18,
    "start_time": "2022-12-09T03:09:43.118Z"
   },
   {
    "duration": 48,
    "start_time": "2022-12-09T03:09:43.137Z"
   },
   {
    "duration": 11,
    "start_time": "2022-12-09T03:09:43.187Z"
   },
   {
    "duration": 26,
    "start_time": "2022-12-09T03:09:43.199Z"
   },
   {
    "duration": 3,
    "start_time": "2022-12-09T03:09:43.227Z"
   },
   {
    "duration": 17,
    "start_time": "2022-12-09T03:09:43.232Z"
   },
   {
    "duration": 13,
    "start_time": "2022-12-09T03:09:43.251Z"
   },
   {
    "duration": 22,
    "start_time": "2022-12-09T03:09:43.266Z"
   },
   {
    "duration": 25,
    "start_time": "2022-12-09T03:09:43.289Z"
   },
   {
    "duration": 9,
    "start_time": "2022-12-09T03:09:43.315Z"
   },
   {
    "duration": 10,
    "start_time": "2022-12-09T03:09:43.326Z"
   },
   {
    "duration": 34,
    "start_time": "2022-12-09T03:09:43.338Z"
   },
   {
    "duration": 21,
    "start_time": "2022-12-09T03:09:43.373Z"
   },
   {
    "duration": 22,
    "start_time": "2022-12-09T03:09:43.395Z"
   },
   {
    "duration": 15,
    "start_time": "2022-12-09T03:09:43.419Z"
   },
   {
    "duration": 16,
    "start_time": "2022-12-09T03:09:43.436Z"
   },
   {
    "duration": 15,
    "start_time": "2022-12-09T03:09:43.453Z"
   },
   {
    "duration": 25,
    "start_time": "2022-12-09T03:09:43.469Z"
   },
   {
    "duration": 27,
    "start_time": "2022-12-09T03:09:43.495Z"
   },
   {
    "duration": 10,
    "start_time": "2022-12-09T03:09:43.523Z"
   },
   {
    "duration": 26,
    "start_time": "2022-12-09T03:09:43.534Z"
   },
   {
    "duration": 13,
    "start_time": "2022-12-09T03:09:43.561Z"
   },
   {
    "duration": 21,
    "start_time": "2022-12-09T03:09:43.575Z"
   },
   {
    "duration": 303,
    "start_time": "2022-12-09T03:09:43.597Z"
   },
   {
    "duration": 2,
    "start_time": "2022-12-09T03:09:43.901Z"
   },
   {
    "duration": 5,
    "start_time": "2022-12-09T03:09:43.905Z"
   },
   {
    "duration": 35005,
    "start_time": "2022-12-09T03:09:43.912Z"
   },
   {
    "duration": 113,
    "start_time": "2022-12-09T03:10:18.918Z"
   },
   {
    "duration": 12,
    "start_time": "2022-12-09T03:10:19.122Z"
   },
   {
    "duration": 25,
    "start_time": "2022-12-09T03:10:19.222Z"
   },
   {
    "duration": 73,
    "start_time": "2022-12-09T03:10:19.249Z"
   },
   {
    "duration": 101,
    "start_time": "2022-12-09T03:10:19.324Z"
   },
   {
    "duration": 10,
    "start_time": "2022-12-09T03:10:19.426Z"
   },
   {
    "duration": 109,
    "start_time": "2022-12-09T03:10:19.438Z"
   },
   {
    "duration": 6,
    "start_time": "2022-12-09T03:10:19.549Z"
   },
   {
    "duration": 100,
    "start_time": "2022-12-09T03:10:19.556Z"
   },
   {
    "duration": 6,
    "start_time": "2022-12-09T03:10:19.658Z"
   },
   {
    "duration": 167,
    "start_time": "2022-12-09T03:10:19.666Z"
   },
   {
    "duration": 5,
    "start_time": "2022-12-09T03:10:19.838Z"
   },
   {
    "duration": 12,
    "start_time": "2022-12-09T03:10:19.845Z"
   },
   {
    "duration": 17,
    "start_time": "2022-12-09T03:10:19.858Z"
   },
   {
    "duration": 14,
    "start_time": "2022-12-09T03:10:19.876Z"
   },
   {
    "duration": 7,
    "start_time": "2022-12-09T03:10:19.892Z"
   },
   {
    "duration": 34,
    "start_time": "2022-12-09T03:10:19.900Z"
   },
   {
    "duration": 90,
    "start_time": "2022-12-09T03:10:19.935Z"
   },
   {
    "duration": 98,
    "start_time": "2022-12-09T03:10:20.026Z"
   },
   {
    "duration": 1415,
    "start_time": "2022-12-09T03:10:20.125Z"
   },
   {
    "duration": 3,
    "start_time": "2022-12-09T03:10:21.541Z"
   },
   {
    "duration": 10,
    "start_time": "2022-12-09T03:10:21.546Z"
   },
   {
    "duration": 49594,
    "start_time": "2022-12-09T03:10:21.558Z"
   },
   {
    "duration": 3,
    "start_time": "2022-12-09T03:11:11.153Z"
   },
   {
    "duration": 109,
    "start_time": "2022-12-09T03:11:11.157Z"
   },
   {
    "duration": 0,
    "start_time": "2022-12-09T03:11:11.268Z"
   },
   {
    "duration": 0,
    "start_time": "2022-12-09T03:11:11.269Z"
   },
   {
    "duration": 0,
    "start_time": "2022-12-09T03:11:11.270Z"
   },
   {
    "duration": 0,
    "start_time": "2022-12-09T03:11:11.271Z"
   },
   {
    "duration": 0,
    "start_time": "2022-12-09T03:11:11.272Z"
   },
   {
    "duration": 0,
    "start_time": "2022-12-09T03:11:11.273Z"
   },
   {
    "duration": 0,
    "start_time": "2022-12-09T03:11:11.274Z"
   },
   {
    "duration": 0,
    "start_time": "2022-12-09T03:11:11.275Z"
   },
   {
    "duration": 0,
    "start_time": "2022-12-09T03:11:11.276Z"
   },
   {
    "duration": 0,
    "start_time": "2022-12-09T03:11:11.277Z"
   },
   {
    "duration": 0,
    "start_time": "2022-12-09T03:11:11.278Z"
   },
   {
    "duration": 0,
    "start_time": "2022-12-09T03:11:11.279Z"
   },
   {
    "duration": 0,
    "start_time": "2022-12-09T03:11:11.280Z"
   },
   {
    "duration": 0,
    "start_time": "2022-12-09T03:11:11.281Z"
   },
   {
    "duration": 0,
    "start_time": "2022-12-09T03:11:11.282Z"
   },
   {
    "duration": 0,
    "start_time": "2022-12-09T03:11:11.283Z"
   },
   {
    "duration": 0,
    "start_time": "2022-12-09T03:11:11.284Z"
   },
   {
    "duration": 0,
    "start_time": "2022-12-09T03:11:11.285Z"
   },
   {
    "duration": 0,
    "start_time": "2022-12-09T03:11:11.286Z"
   },
   {
    "duration": 0,
    "start_time": "2022-12-09T03:11:11.323Z"
   },
   {
    "duration": 0,
    "start_time": "2022-12-09T03:11:11.324Z"
   },
   {
    "duration": 0,
    "start_time": "2022-12-09T03:11:11.325Z"
   },
   {
    "duration": 0,
    "start_time": "2022-12-09T03:11:11.327Z"
   },
   {
    "duration": 0,
    "start_time": "2022-12-09T03:11:11.328Z"
   },
   {
    "duration": 0,
    "start_time": "2022-12-09T03:11:11.329Z"
   },
   {
    "duration": 0,
    "start_time": "2022-12-09T03:11:11.330Z"
   },
   {
    "duration": 0,
    "start_time": "2022-12-09T03:11:11.331Z"
   },
   {
    "duration": 0,
    "start_time": "2022-12-09T03:11:11.332Z"
   },
   {
    "duration": 3,
    "start_time": "2022-12-09T03:12:47.770Z"
   },
   {
    "duration": 1167,
    "start_time": "2022-12-09T03:13:09.518Z"
   },
   {
    "duration": 38,
    "start_time": "2022-12-09T03:13:10.687Z"
   },
   {
    "duration": 17,
    "start_time": "2022-12-09T03:13:10.726Z"
   },
   {
    "duration": 41,
    "start_time": "2022-12-09T03:13:10.744Z"
   },
   {
    "duration": 11,
    "start_time": "2022-12-09T03:13:10.787Z"
   },
   {
    "duration": 29,
    "start_time": "2022-12-09T03:13:10.799Z"
   },
   {
    "duration": 4,
    "start_time": "2022-12-09T03:13:10.829Z"
   },
   {
    "duration": 6,
    "start_time": "2022-12-09T03:13:10.834Z"
   },
   {
    "duration": 8,
    "start_time": "2022-12-09T03:13:10.841Z"
   },
   {
    "duration": 14,
    "start_time": "2022-12-09T03:13:10.850Z"
   },
   {
    "duration": 25,
    "start_time": "2022-12-09T03:13:10.865Z"
   },
   {
    "duration": 32,
    "start_time": "2022-12-09T03:13:10.892Z"
   },
   {
    "duration": 6,
    "start_time": "2022-12-09T03:13:10.925Z"
   },
   {
    "duration": 4,
    "start_time": "2022-12-09T03:13:10.934Z"
   },
   {
    "duration": 4,
    "start_time": "2022-12-09T03:13:10.939Z"
   },
   {
    "duration": 8,
    "start_time": "2022-12-09T03:13:10.944Z"
   },
   {
    "duration": 8,
    "start_time": "2022-12-09T03:13:10.953Z"
   },
   {
    "duration": 15,
    "start_time": "2022-12-09T03:13:10.963Z"
   },
   {
    "duration": 13,
    "start_time": "2022-12-09T03:13:10.980Z"
   },
   {
    "duration": 17,
    "start_time": "2022-12-09T03:13:10.995Z"
   },
   {
    "duration": 28,
    "start_time": "2022-12-09T03:13:11.014Z"
   },
   {
    "duration": 10,
    "start_time": "2022-12-09T03:13:11.043Z"
   },
   {
    "duration": 26,
    "start_time": "2022-12-09T03:13:11.054Z"
   },
   {
    "duration": 10,
    "start_time": "2022-12-09T03:13:11.081Z"
   },
   {
    "duration": 31,
    "start_time": "2022-12-09T03:13:11.093Z"
   },
   {
    "duration": 313,
    "start_time": "2022-12-09T03:13:11.125Z"
   },
   {
    "duration": 2,
    "start_time": "2022-12-09T03:13:11.440Z"
   },
   {
    "duration": 9,
    "start_time": "2022-12-09T03:13:11.444Z"
   },
   {
    "duration": 40430,
    "start_time": "2022-12-09T03:13:11.455Z"
   },
   {
    "duration": 140,
    "start_time": "2022-12-09T03:13:51.886Z"
   },
   {
    "duration": 99,
    "start_time": "2022-12-09T03:13:52.028Z"
   },
   {
    "duration": 19,
    "start_time": "2022-12-09T03:13:52.129Z"
   },
   {
    "duration": 75,
    "start_time": "2022-12-09T03:13:52.150Z"
   },
   {
    "duration": 101,
    "start_time": "2022-12-09T03:13:52.226Z"
   },
   {
    "duration": 9,
    "start_time": "2022-12-09T03:13:52.328Z"
   },
   {
    "duration": 100,
    "start_time": "2022-12-09T03:13:52.339Z"
   },
   {
    "duration": 5,
    "start_time": "2022-12-09T03:13:52.441Z"
   },
   {
    "duration": 98,
    "start_time": "2022-12-09T03:13:52.447Z"
   },
   {
    "duration": 5,
    "start_time": "2022-12-09T03:13:52.547Z"
   },
   {
    "duration": 96,
    "start_time": "2022-12-09T03:13:52.553Z"
   },
   {
    "duration": 5,
    "start_time": "2022-12-09T03:13:52.653Z"
   },
   {
    "duration": 7,
    "start_time": "2022-12-09T03:13:52.660Z"
   },
   {
    "duration": 17,
    "start_time": "2022-12-09T03:13:52.669Z"
   },
   {
    "duration": 15,
    "start_time": "2022-12-09T03:13:52.687Z"
   },
   {
    "duration": 23,
    "start_time": "2022-12-09T03:13:52.704Z"
   },
   {
    "duration": 11,
    "start_time": "2022-12-09T03:13:52.729Z"
   },
   {
    "duration": 99,
    "start_time": "2022-12-09T03:13:52.742Z"
   },
   {
    "duration": 86,
    "start_time": "2022-12-09T03:13:52.842Z"
   },
   {
    "duration": 2314,
    "start_time": "2022-12-09T03:13:52.930Z"
   },
   {
    "duration": 4,
    "start_time": "2022-12-09T03:13:55.245Z"
   },
   {
    "duration": 9,
    "start_time": "2022-12-09T03:13:55.251Z"
   },
   {
    "duration": 57810,
    "start_time": "2022-12-09T03:13:55.262Z"
   },
   {
    "duration": 3,
    "start_time": "2022-12-09T03:14:53.074Z"
   },
   {
    "duration": 8,
    "start_time": "2022-12-09T03:14:53.078Z"
   },
   {
    "duration": 42,
    "start_time": "2022-12-09T03:14:53.087Z"
   },
   {
    "duration": 102,
    "start_time": "2022-12-09T03:14:53.130Z"
   },
   {
    "duration": 11,
    "start_time": "2022-12-09T03:14:53.322Z"
   },
   {
    "duration": 8,
    "start_time": "2022-12-09T03:14:53.423Z"
   },
   {
    "duration": 805,
    "start_time": "2022-12-09T03:14:53.432Z"
   },
   {
    "duration": 4,
    "start_time": "2022-12-09T03:14:54.238Z"
   },
   {
    "duration": 14,
    "start_time": "2022-12-09T03:14:54.243Z"
   },
   {
    "duration": 22219,
    "start_time": "2022-12-09T03:14:54.258Z"
   },
   {
    "duration": 3,
    "start_time": "2022-12-09T03:15:16.479Z"
   },
   {
    "duration": 32,
    "start_time": "2022-12-09T03:15:16.484Z"
   },
   {
    "duration": 102,
    "start_time": "2022-12-09T03:15:16.521Z"
   },
   {
    "duration": 108,
    "start_time": "2022-12-09T03:15:16.625Z"
   },
   {
    "duration": 187,
    "start_time": "2022-12-09T03:15:16.735Z"
   },
   {
    "duration": 25,
    "start_time": "2022-12-09T03:15:16.924Z"
   },
   {
    "duration": 37,
    "start_time": "2022-12-09T03:15:16.951Z"
   },
   {
    "duration": 42,
    "start_time": "2022-12-09T03:15:16.990Z"
   },
   {
    "duration": 18,
    "start_time": "2022-12-09T03:15:17.034Z"
   },
   {
    "duration": 568,
    "start_time": "2022-12-09T03:15:17.054Z"
   },
   {
    "duration": 3,
    "start_time": "2022-12-09T03:15:17.623Z"
   },
   {
    "duration": 38,
    "start_time": "2022-12-09T03:15:17.628Z"
   },
   {
    "duration": 2,
    "start_time": "2022-12-09T03:15:17.668Z"
   },
   {
    "duration": 462,
    "start_time": "2022-12-09T03:15:17.672Z"
   },
   {
    "duration": 30,
    "start_time": "2022-12-09T03:15:18.136Z"
   },
   {
    "duration": 3,
    "start_time": "2022-12-09T03:15:18.167Z"
   },
   {
    "duration": 10,
    "start_time": "2022-12-09T03:15:18.171Z"
   },
   {
    "duration": 585,
    "start_time": "2022-12-09T03:15:18.183Z"
   },
   {
    "duration": 114,
    "start_time": "2022-12-09T03:15:18.770Z"
   },
   {
    "duration": 0,
    "start_time": "2022-12-09T03:15:18.885Z"
   },
   {
    "duration": 19,
    "start_time": "2022-12-09T03:16:50.106Z"
   },
   {
    "duration": 32,
    "start_time": "2022-12-09T03:23:26.504Z"
   },
   {
    "duration": 3,
    "start_time": "2022-12-09T03:23:45.288Z"
   }
  ],
  "interpreter": {
   "hash": "aee8b7b246df8f9039afb4144a1f6fd8d2ca17a180786b69acc140d282b71a49"
  },
  "kernelspec": {
   "display_name": "Python 3.10.4 64-bit",
   "language": "python",
   "name": "python3"
  },
  "language_info": {
   "codemirror_mode": {
    "name": "ipython",
    "version": 3
   },
   "file_extension": ".py",
   "mimetype": "text/x-python",
   "name": "python",
   "nbconvert_exporter": "python",
   "pygments_lexer": "ipython3",
   "version": "3.10.4"
  },
  "toc": {
   "base_numbering": 1,
   "nav_menu": {},
   "number_sections": true,
   "sideBar": true,
   "skip_h1_title": true,
   "title_cell": "Содержание",
   "title_sidebar": "Contents",
   "toc_cell": true,
   "toc_position": {
    "height": "calc(100% - 180px)",
    "left": "10px",
    "top": "150px",
    "width": "366.396px"
   },
   "toc_section_display": true,
   "toc_window_display": true
  }
 },
 "nbformat": 4,
 "nbformat_minor": 2
}
